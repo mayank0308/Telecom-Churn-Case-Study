{
  "nbformat": 4,
  "nbformat_minor": 0,
  "metadata": {
    "kernelspec": {
      "display_name": "Python 3",
      "language": "python",
      "name": "python3"
    },
    "language_info": {
      "codemirror_mode": {
        "name": "ipython",
        "version": 3
      },
      "file_extension": ".py",
      "mimetype": "text/x-python",
      "name": "python",
      "nbconvert_exporter": "python",
      "pygments_lexer": "ipython3",
      "version": "3.6.3"
    },
    "colab": {
      "name": "Telecom_churn_CS.ipynb",
      "provenance": [],
      "collapsed_sections": []
    }
  },
  "cells": [
    {
      "cell_type": "code",
      "metadata": {
        "colab": {
          "base_uri": "https://localhost:8080/"
        },
        "id": "ZygKp0NDr_3v",
        "outputId": "5ef1024f-0e0e-4720-ea18-881df88ac6ec"
      },
      "source": [
        "#from google.colab import drive\n",
        "#drive.mount('/content/gdrive')"
      ],
      "execution_count": 2,
      "outputs": [
        {
          "output_type": "stream",
          "text": [
            "Drive already mounted at /content/gdrive; to attempt to forcibly remount, call drive.mount(\"/content/gdrive\", force_remount=True).\n"
          ],
          "name": "stdout"
        }
      ]
    },
    {
      "cell_type": "code",
      "metadata": {
        "colab": {
          "base_uri": "https://localhost:8080/"
        },
        "id": "Jzb3AoKRsDDL",
        "outputId": "e075b12d-c8eb-4523-fe97-07a2f20416b8"
      },
      "source": [
        "import pandas as pd\r\n",
        "import numpy as np\r\n",
        "import matplotlib.pyplot as plt\r\n",
        "import seaborn as sn\r\n",
        "from sklearn.metrics import r2_score\r\n",
        "from sklearn.feature_selection import RFE\r\n",
        "from sklearn.preprocessing import StandardScaler\r\n",
        "from scipy import stats\r\n",
        "from sklearn.metrics import mean_squared_error, mean_absolute_error,  r2_score\r\n",
        "from sklearn.feature_selection import SelectKBest\r\n",
        "from sklearn.model_selection import cross_val_score\r\n",
        "from sklearn.linear_model import LogisticRegression\r\n",
        "from sklearn.ensemble import RandomForestClassifier\r\n",
        "from statsmodels.stats.outliers_influence import variance_inflation_factor\r\n",
        "from sklearn.model_selection import RandomizedSearchCV\r\n",
        "from sklearn.ensemble import RandomForestClassifier\r\n",
        "from sklearn.ensemble import GradientBoostingClassifier   \r\n",
        "from sklearn.ensemble import GradientBoostingClassifier\r\n",
        "from sklearn.metrics import confusion_matrix \r\n",
        "from sklearn.tree import DecisionTreeClassifier \r\n",
        "from sklearn.metrics import accuracy_score \r\n",
        "from sklearn.metrics import classification_report \r\n",
        "from sklearn.model_selection import KFold\r\n",
        "from sklearn.model_selection import GridSearchCV\r\n",
        "from sklearn.model_selection import cross_val_score\r\n",
        "from sklearn.preprocessing import LabelEncoder\r\n",
        "from sklearn.tree import DecisionTreeClassifier\r\n",
        "from sklearn.ensemble import AdaBoostClassifier\r\n",
        "from sklearn.ensemble import GradientBoostingClassifier\r\n",
        "from sklearn import metrics\r\n",
        "\r\n",
        "import xgboost as xgb\r\n",
        "from xgboost import XGBClassifier\r\n",
        "from xgboost import plot_importance\r\n",
        "import gc # for deleting unused variables\r\n",
        "%matplotlib inline\r\n",
        "\r\n",
        "import os\r\n",
        "import warnings\r\n",
        "warnings.filterwarnings('ignore')"
      ],
      "execution_count": 3,
      "outputs": [
        {
          "output_type": "stream",
          "text": [
            "/usr/local/lib/python3.6/dist-packages/statsmodels/tools/_testing.py:19: FutureWarning: pandas.util.testing is deprecated. Use the functions in the public API at pandas.testing instead.\n",
            "  import pandas.util.testing as tm\n"
          ],
          "name": "stderr"
        }
      ]
    },
    {
      "cell_type": "code",
      "metadata": {
        "collapsed": true,
        "id": "xlndeXmZr_38"
      },
      "source": [
        "pd.pandas.set_option('display.max_columns', None)"
      ],
      "execution_count": 4,
      "outputs": []
    },
    {
      "cell_type": "code",
      "metadata": {
        "colab": {
          "base_uri": "https://localhost:8080/",
          "height": 35
        },
        "id": "iTM7Ndy_r_39",
        "outputId": "899c51b2-1927-4f5a-f439-e17dee0b4f91"
      },
      "source": [
        "import os\n",
        "os.getcwd()"
      ],
      "execution_count": 5,
      "outputs": [
        {
          "output_type": "execute_result",
          "data": {
            "application/vnd.google.colaboratory.intrinsic+json": {
              "type": "string"
            },
            "text/plain": [
              "'/content'"
            ]
          },
          "metadata": {
            "tags": []
          },
          "execution_count": 5
        }
      ]
    },
    {
      "cell_type": "code",
      "metadata": {
        "id": "hWpFm82wr_3_"
      },
      "source": [
        "#df = pd.read_csv(\"/content/gdrive/MyDrive/upGrad/telecom_churn_data.csv\")\r\n",
        "df = pd.read_csv(\"telecom_churn_data.csv\")"
      ],
      "execution_count": 6,
      "outputs": []
    },
    {
      "cell_type": "code",
      "metadata": {
        "colab": {
          "base_uri": "https://localhost:8080/",
          "height": 224
        },
        "id": "Hc7Wphz4r_3_",
        "outputId": "28295643-46a5-49b9-c899-2d08d9df4b6a"
      },
      "source": [
        "df.head()"
      ],
      "execution_count": 7,
      "outputs": [
        {
          "output_type": "execute_result",
          "data": {
            "text/html": [
              "<div>\n",
              "<style scoped>\n",
              "    .dataframe tbody tr th:only-of-type {\n",
              "        vertical-align: middle;\n",
              "    }\n",
              "\n",
              "    .dataframe tbody tr th {\n",
              "        vertical-align: top;\n",
              "    }\n",
              "\n",
              "    .dataframe thead th {\n",
              "        text-align: right;\n",
              "    }\n",
              "</style>\n",
              "<table border=\"1\" class=\"dataframe\">\n",
              "  <thead>\n",
              "    <tr style=\"text-align: right;\">\n",
              "      <th></th>\n",
              "      <th>mobile_number</th>\n",
              "      <th>circle_id</th>\n",
              "      <th>loc_og_t2o_mou</th>\n",
              "      <th>std_og_t2o_mou</th>\n",
              "      <th>loc_ic_t2o_mou</th>\n",
              "      <th>last_date_of_month_6</th>\n",
              "      <th>last_date_of_month_7</th>\n",
              "      <th>last_date_of_month_8</th>\n",
              "      <th>last_date_of_month_9</th>\n",
              "      <th>arpu_6</th>\n",
              "      <th>arpu_7</th>\n",
              "      <th>arpu_8</th>\n",
              "      <th>arpu_9</th>\n",
              "      <th>onnet_mou_6</th>\n",
              "      <th>onnet_mou_7</th>\n",
              "      <th>onnet_mou_8</th>\n",
              "      <th>onnet_mou_9</th>\n",
              "      <th>offnet_mou_6</th>\n",
              "      <th>offnet_mou_7</th>\n",
              "      <th>offnet_mou_8</th>\n",
              "      <th>offnet_mou_9</th>\n",
              "      <th>roam_ic_mou_6</th>\n",
              "      <th>roam_ic_mou_7</th>\n",
              "      <th>roam_ic_mou_8</th>\n",
              "      <th>roam_ic_mou_9</th>\n",
              "      <th>roam_og_mou_6</th>\n",
              "      <th>roam_og_mou_7</th>\n",
              "      <th>roam_og_mou_8</th>\n",
              "      <th>roam_og_mou_9</th>\n",
              "      <th>loc_og_t2t_mou_6</th>\n",
              "      <th>loc_og_t2t_mou_7</th>\n",
              "      <th>loc_og_t2t_mou_8</th>\n",
              "      <th>loc_og_t2t_mou_9</th>\n",
              "      <th>loc_og_t2m_mou_6</th>\n",
              "      <th>loc_og_t2m_mou_7</th>\n",
              "      <th>loc_og_t2m_mou_8</th>\n",
              "      <th>loc_og_t2m_mou_9</th>\n",
              "      <th>loc_og_t2f_mou_6</th>\n",
              "      <th>loc_og_t2f_mou_7</th>\n",
              "      <th>loc_og_t2f_mou_8</th>\n",
              "      <th>loc_og_t2f_mou_9</th>\n",
              "      <th>loc_og_t2c_mou_6</th>\n",
              "      <th>loc_og_t2c_mou_7</th>\n",
              "      <th>loc_og_t2c_mou_8</th>\n",
              "      <th>loc_og_t2c_mou_9</th>\n",
              "      <th>loc_og_mou_6</th>\n",
              "      <th>loc_og_mou_7</th>\n",
              "      <th>loc_og_mou_8</th>\n",
              "      <th>loc_og_mou_9</th>\n",
              "      <th>std_og_t2t_mou_6</th>\n",
              "      <th>std_og_t2t_mou_7</th>\n",
              "      <th>std_og_t2t_mou_8</th>\n",
              "      <th>std_og_t2t_mou_9</th>\n",
              "      <th>std_og_t2m_mou_6</th>\n",
              "      <th>std_og_t2m_mou_7</th>\n",
              "      <th>std_og_t2m_mou_8</th>\n",
              "      <th>std_og_t2m_mou_9</th>\n",
              "      <th>std_og_t2f_mou_6</th>\n",
              "      <th>std_og_t2f_mou_7</th>\n",
              "      <th>std_og_t2f_mou_8</th>\n",
              "      <th>std_og_t2f_mou_9</th>\n",
              "      <th>std_og_t2c_mou_6</th>\n",
              "      <th>std_og_t2c_mou_7</th>\n",
              "      <th>std_og_t2c_mou_8</th>\n",
              "      <th>std_og_t2c_mou_9</th>\n",
              "      <th>std_og_mou_6</th>\n",
              "      <th>std_og_mou_7</th>\n",
              "      <th>std_og_mou_8</th>\n",
              "      <th>std_og_mou_9</th>\n",
              "      <th>isd_og_mou_6</th>\n",
              "      <th>isd_og_mou_7</th>\n",
              "      <th>isd_og_mou_8</th>\n",
              "      <th>isd_og_mou_9</th>\n",
              "      <th>spl_og_mou_6</th>\n",
              "      <th>spl_og_mou_7</th>\n",
              "      <th>spl_og_mou_8</th>\n",
              "      <th>spl_og_mou_9</th>\n",
              "      <th>og_others_6</th>\n",
              "      <th>og_others_7</th>\n",
              "      <th>og_others_8</th>\n",
              "      <th>og_others_9</th>\n",
              "      <th>total_og_mou_6</th>\n",
              "      <th>total_og_mou_7</th>\n",
              "      <th>total_og_mou_8</th>\n",
              "      <th>total_og_mou_9</th>\n",
              "      <th>loc_ic_t2t_mou_6</th>\n",
              "      <th>loc_ic_t2t_mou_7</th>\n",
              "      <th>loc_ic_t2t_mou_8</th>\n",
              "      <th>loc_ic_t2t_mou_9</th>\n",
              "      <th>loc_ic_t2m_mou_6</th>\n",
              "      <th>loc_ic_t2m_mou_7</th>\n",
              "      <th>loc_ic_t2m_mou_8</th>\n",
              "      <th>loc_ic_t2m_mou_9</th>\n",
              "      <th>loc_ic_t2f_mou_6</th>\n",
              "      <th>loc_ic_t2f_mou_7</th>\n",
              "      <th>loc_ic_t2f_mou_8</th>\n",
              "      <th>loc_ic_t2f_mou_9</th>\n",
              "      <th>loc_ic_mou_6</th>\n",
              "      <th>loc_ic_mou_7</th>\n",
              "      <th>loc_ic_mou_8</th>\n",
              "      <th>loc_ic_mou_9</th>\n",
              "      <th>std_ic_t2t_mou_6</th>\n",
              "      <th>std_ic_t2t_mou_7</th>\n",
              "      <th>std_ic_t2t_mou_8</th>\n",
              "      <th>std_ic_t2t_mou_9</th>\n",
              "      <th>std_ic_t2m_mou_6</th>\n",
              "      <th>std_ic_t2m_mou_7</th>\n",
              "      <th>std_ic_t2m_mou_8</th>\n",
              "      <th>std_ic_t2m_mou_9</th>\n",
              "      <th>std_ic_t2f_mou_6</th>\n",
              "      <th>std_ic_t2f_mou_7</th>\n",
              "      <th>std_ic_t2f_mou_8</th>\n",
              "      <th>std_ic_t2f_mou_9</th>\n",
              "      <th>std_ic_t2o_mou_6</th>\n",
              "      <th>std_ic_t2o_mou_7</th>\n",
              "      <th>std_ic_t2o_mou_8</th>\n",
              "      <th>std_ic_t2o_mou_9</th>\n",
              "      <th>std_ic_mou_6</th>\n",
              "      <th>std_ic_mou_7</th>\n",
              "      <th>std_ic_mou_8</th>\n",
              "      <th>std_ic_mou_9</th>\n",
              "      <th>total_ic_mou_6</th>\n",
              "      <th>total_ic_mou_7</th>\n",
              "      <th>total_ic_mou_8</th>\n",
              "      <th>total_ic_mou_9</th>\n",
              "      <th>spl_ic_mou_6</th>\n",
              "      <th>spl_ic_mou_7</th>\n",
              "      <th>spl_ic_mou_8</th>\n",
              "      <th>spl_ic_mou_9</th>\n",
              "      <th>isd_ic_mou_6</th>\n",
              "      <th>isd_ic_mou_7</th>\n",
              "      <th>isd_ic_mou_8</th>\n",
              "      <th>isd_ic_mou_9</th>\n",
              "      <th>ic_others_6</th>\n",
              "      <th>ic_others_7</th>\n",
              "      <th>ic_others_8</th>\n",
              "      <th>ic_others_9</th>\n",
              "      <th>total_rech_num_6</th>\n",
              "      <th>total_rech_num_7</th>\n",
              "      <th>total_rech_num_8</th>\n",
              "      <th>total_rech_num_9</th>\n",
              "      <th>total_rech_amt_6</th>\n",
              "      <th>total_rech_amt_7</th>\n",
              "      <th>total_rech_amt_8</th>\n",
              "      <th>total_rech_amt_9</th>\n",
              "      <th>max_rech_amt_6</th>\n",
              "      <th>max_rech_amt_7</th>\n",
              "      <th>max_rech_amt_8</th>\n",
              "      <th>max_rech_amt_9</th>\n",
              "      <th>date_of_last_rech_6</th>\n",
              "      <th>date_of_last_rech_7</th>\n",
              "      <th>date_of_last_rech_8</th>\n",
              "      <th>date_of_last_rech_9</th>\n",
              "      <th>last_day_rch_amt_6</th>\n",
              "      <th>last_day_rch_amt_7</th>\n",
              "      <th>last_day_rch_amt_8</th>\n",
              "      <th>last_day_rch_amt_9</th>\n",
              "      <th>date_of_last_rech_data_6</th>\n",
              "      <th>date_of_last_rech_data_7</th>\n",
              "      <th>date_of_last_rech_data_8</th>\n",
              "      <th>date_of_last_rech_data_9</th>\n",
              "      <th>total_rech_data_6</th>\n",
              "      <th>total_rech_data_7</th>\n",
              "      <th>total_rech_data_8</th>\n",
              "      <th>total_rech_data_9</th>\n",
              "      <th>max_rech_data_6</th>\n",
              "      <th>max_rech_data_7</th>\n",
              "      <th>max_rech_data_8</th>\n",
              "      <th>max_rech_data_9</th>\n",
              "      <th>count_rech_2g_6</th>\n",
              "      <th>count_rech_2g_7</th>\n",
              "      <th>count_rech_2g_8</th>\n",
              "      <th>count_rech_2g_9</th>\n",
              "      <th>count_rech_3g_6</th>\n",
              "      <th>count_rech_3g_7</th>\n",
              "      <th>count_rech_3g_8</th>\n",
              "      <th>count_rech_3g_9</th>\n",
              "      <th>av_rech_amt_data_6</th>\n",
              "      <th>av_rech_amt_data_7</th>\n",
              "      <th>av_rech_amt_data_8</th>\n",
              "      <th>av_rech_amt_data_9</th>\n",
              "      <th>vol_2g_mb_6</th>\n",
              "      <th>vol_2g_mb_7</th>\n",
              "      <th>vol_2g_mb_8</th>\n",
              "      <th>vol_2g_mb_9</th>\n",
              "      <th>vol_3g_mb_6</th>\n",
              "      <th>vol_3g_mb_7</th>\n",
              "      <th>vol_3g_mb_8</th>\n",
              "      <th>vol_3g_mb_9</th>\n",
              "      <th>arpu_3g_6</th>\n",
              "      <th>arpu_3g_7</th>\n",
              "      <th>arpu_3g_8</th>\n",
              "      <th>arpu_3g_9</th>\n",
              "      <th>arpu_2g_6</th>\n",
              "      <th>arpu_2g_7</th>\n",
              "      <th>arpu_2g_8</th>\n",
              "      <th>arpu_2g_9</th>\n",
              "      <th>night_pck_user_6</th>\n",
              "      <th>night_pck_user_7</th>\n",
              "      <th>night_pck_user_8</th>\n",
              "      <th>night_pck_user_9</th>\n",
              "      <th>monthly_2g_6</th>\n",
              "      <th>monthly_2g_7</th>\n",
              "      <th>monthly_2g_8</th>\n",
              "      <th>monthly_2g_9</th>\n",
              "      <th>sachet_2g_6</th>\n",
              "      <th>sachet_2g_7</th>\n",
              "      <th>sachet_2g_8</th>\n",
              "      <th>sachet_2g_9</th>\n",
              "      <th>monthly_3g_6</th>\n",
              "      <th>monthly_3g_7</th>\n",
              "      <th>monthly_3g_8</th>\n",
              "      <th>monthly_3g_9</th>\n",
              "      <th>sachet_3g_6</th>\n",
              "      <th>sachet_3g_7</th>\n",
              "      <th>sachet_3g_8</th>\n",
              "      <th>sachet_3g_9</th>\n",
              "      <th>fb_user_6</th>\n",
              "      <th>fb_user_7</th>\n",
              "      <th>fb_user_8</th>\n",
              "      <th>fb_user_9</th>\n",
              "      <th>aon</th>\n",
              "      <th>aug_vbc_3g</th>\n",
              "      <th>jul_vbc_3g</th>\n",
              "      <th>jun_vbc_3g</th>\n",
              "      <th>sep_vbc_3g</th>\n",
              "    </tr>\n",
              "  </thead>\n",
              "  <tbody>\n",
              "    <tr>\n",
              "      <th>0</th>\n",
              "      <td>7000842753</td>\n",
              "      <td>109</td>\n",
              "      <td>0.0</td>\n",
              "      <td>0.0</td>\n",
              "      <td>0.0</td>\n",
              "      <td>6/30/2014</td>\n",
              "      <td>7/31/2014</td>\n",
              "      <td>8/31/2014</td>\n",
              "      <td>9/30/2014</td>\n",
              "      <td>197.385</td>\n",
              "      <td>214.816</td>\n",
              "      <td>213.803</td>\n",
              "      <td>21.100</td>\n",
              "      <td>NaN</td>\n",
              "      <td>NaN</td>\n",
              "      <td>0.00</td>\n",
              "      <td>NaN</td>\n",
              "      <td>NaN</td>\n",
              "      <td>NaN</td>\n",
              "      <td>0.00</td>\n",
              "      <td>NaN</td>\n",
              "      <td>NaN</td>\n",
              "      <td>NaN</td>\n",
              "      <td>0.00</td>\n",
              "      <td>NaN</td>\n",
              "      <td>NaN</td>\n",
              "      <td>NaN</td>\n",
              "      <td>0.00</td>\n",
              "      <td>NaN</td>\n",
              "      <td>NaN</td>\n",
              "      <td>NaN</td>\n",
              "      <td>0.00</td>\n",
              "      <td>NaN</td>\n",
              "      <td>NaN</td>\n",
              "      <td>NaN</td>\n",
              "      <td>0.00</td>\n",
              "      <td>NaN</td>\n",
              "      <td>NaN</td>\n",
              "      <td>NaN</td>\n",
              "      <td>0.00</td>\n",
              "      <td>NaN</td>\n",
              "      <td>NaN</td>\n",
              "      <td>NaN</td>\n",
              "      <td>0.00</td>\n",
              "      <td>NaN</td>\n",
              "      <td>NaN</td>\n",
              "      <td>NaN</td>\n",
              "      <td>0.00</td>\n",
              "      <td>NaN</td>\n",
              "      <td>NaN</td>\n",
              "      <td>NaN</td>\n",
              "      <td>0.00</td>\n",
              "      <td>NaN</td>\n",
              "      <td>NaN</td>\n",
              "      <td>NaN</td>\n",
              "      <td>0.00</td>\n",
              "      <td>NaN</td>\n",
              "      <td>NaN</td>\n",
              "      <td>NaN</td>\n",
              "      <td>0.00</td>\n",
              "      <td>NaN</td>\n",
              "      <td>NaN</td>\n",
              "      <td>NaN</td>\n",
              "      <td>0.0</td>\n",
              "      <td>NaN</td>\n",
              "      <td>NaN</td>\n",
              "      <td>NaN</td>\n",
              "      <td>0.00</td>\n",
              "      <td>NaN</td>\n",
              "      <td>NaN</td>\n",
              "      <td>NaN</td>\n",
              "      <td>0.0</td>\n",
              "      <td>NaN</td>\n",
              "      <td>NaN</td>\n",
              "      <td>NaN</td>\n",
              "      <td>0.00</td>\n",
              "      <td>NaN</td>\n",
              "      <td>NaN</td>\n",
              "      <td>NaN</td>\n",
              "      <td>0.0</td>\n",
              "      <td>NaN</td>\n",
              "      <td>0.00</td>\n",
              "      <td>0.00</td>\n",
              "      <td>0.00</td>\n",
              "      <td>0.00</td>\n",
              "      <td>NaN</td>\n",
              "      <td>NaN</td>\n",
              "      <td>0.16</td>\n",
              "      <td>NaN</td>\n",
              "      <td>NaN</td>\n",
              "      <td>NaN</td>\n",
              "      <td>4.13</td>\n",
              "      <td>NaN</td>\n",
              "      <td>NaN</td>\n",
              "      <td>NaN</td>\n",
              "      <td>1.15</td>\n",
              "      <td>NaN</td>\n",
              "      <td>NaN</td>\n",
              "      <td>NaN</td>\n",
              "      <td>5.44</td>\n",
              "      <td>NaN</td>\n",
              "      <td>NaN</td>\n",
              "      <td>NaN</td>\n",
              "      <td>0.00</td>\n",
              "      <td>NaN</td>\n",
              "      <td>NaN</td>\n",
              "      <td>NaN</td>\n",
              "      <td>0.00</td>\n",
              "      <td>NaN</td>\n",
              "      <td>NaN</td>\n",
              "      <td>NaN</td>\n",
              "      <td>0.00</td>\n",
              "      <td>NaN</td>\n",
              "      <td>NaN</td>\n",
              "      <td>NaN</td>\n",
              "      <td>0.0</td>\n",
              "      <td>NaN</td>\n",
              "      <td>NaN</td>\n",
              "      <td>NaN</td>\n",
              "      <td>0.00</td>\n",
              "      <td>NaN</td>\n",
              "      <td>0.00</td>\n",
              "      <td>0.00</td>\n",
              "      <td>5.44</td>\n",
              "      <td>0.00</td>\n",
              "      <td>NaN</td>\n",
              "      <td>NaN</td>\n",
              "      <td>0.0</td>\n",
              "      <td>NaN</td>\n",
              "      <td>NaN</td>\n",
              "      <td>NaN</td>\n",
              "      <td>0.0</td>\n",
              "      <td>NaN</td>\n",
              "      <td>NaN</td>\n",
              "      <td>NaN</td>\n",
              "      <td>0.0</td>\n",
              "      <td>NaN</td>\n",
              "      <td>4</td>\n",
              "      <td>3</td>\n",
              "      <td>2</td>\n",
              "      <td>6</td>\n",
              "      <td>362</td>\n",
              "      <td>252</td>\n",
              "      <td>252</td>\n",
              "      <td>0</td>\n",
              "      <td>252</td>\n",
              "      <td>252</td>\n",
              "      <td>252</td>\n",
              "      <td>0</td>\n",
              "      <td>6/21/2014</td>\n",
              "      <td>7/16/2014</td>\n",
              "      <td>8/8/2014</td>\n",
              "      <td>9/28/2014</td>\n",
              "      <td>252</td>\n",
              "      <td>252</td>\n",
              "      <td>252</td>\n",
              "      <td>0</td>\n",
              "      <td>6/21/2014</td>\n",
              "      <td>7/16/2014</td>\n",
              "      <td>8/8/2014</td>\n",
              "      <td>NaN</td>\n",
              "      <td>1.0</td>\n",
              "      <td>1.0</td>\n",
              "      <td>1.0</td>\n",
              "      <td>NaN</td>\n",
              "      <td>252.0</td>\n",
              "      <td>252.0</td>\n",
              "      <td>252.0</td>\n",
              "      <td>NaN</td>\n",
              "      <td>0.0</td>\n",
              "      <td>0.0</td>\n",
              "      <td>0.0</td>\n",
              "      <td>NaN</td>\n",
              "      <td>1.0</td>\n",
              "      <td>1.0</td>\n",
              "      <td>1.0</td>\n",
              "      <td>NaN</td>\n",
              "      <td>252.0</td>\n",
              "      <td>252.0</td>\n",
              "      <td>252.0</td>\n",
              "      <td>NaN</td>\n",
              "      <td>30.13</td>\n",
              "      <td>1.32</td>\n",
              "      <td>5.75</td>\n",
              "      <td>0.0</td>\n",
              "      <td>83.57</td>\n",
              "      <td>150.76</td>\n",
              "      <td>109.61</td>\n",
              "      <td>0.00</td>\n",
              "      <td>212.17</td>\n",
              "      <td>212.17</td>\n",
              "      <td>212.17</td>\n",
              "      <td>NaN</td>\n",
              "      <td>212.17</td>\n",
              "      <td>212.17</td>\n",
              "      <td>212.17</td>\n",
              "      <td>NaN</td>\n",
              "      <td>0.0</td>\n",
              "      <td>0.0</td>\n",
              "      <td>0.0</td>\n",
              "      <td>NaN</td>\n",
              "      <td>0</td>\n",
              "      <td>0</td>\n",
              "      <td>0</td>\n",
              "      <td>0</td>\n",
              "      <td>0</td>\n",
              "      <td>0</td>\n",
              "      <td>0</td>\n",
              "      <td>0</td>\n",
              "      <td>1</td>\n",
              "      <td>1</td>\n",
              "      <td>1</td>\n",
              "      <td>0</td>\n",
              "      <td>0</td>\n",
              "      <td>0</td>\n",
              "      <td>0</td>\n",
              "      <td>0</td>\n",
              "      <td>1.0</td>\n",
              "      <td>1.0</td>\n",
              "      <td>1.0</td>\n",
              "      <td>NaN</td>\n",
              "      <td>968</td>\n",
              "      <td>30.4</td>\n",
              "      <td>0.0</td>\n",
              "      <td>101.20</td>\n",
              "      <td>3.58</td>\n",
              "    </tr>\n",
              "    <tr>\n",
              "      <th>1</th>\n",
              "      <td>7001865778</td>\n",
              "      <td>109</td>\n",
              "      <td>0.0</td>\n",
              "      <td>0.0</td>\n",
              "      <td>0.0</td>\n",
              "      <td>6/30/2014</td>\n",
              "      <td>7/31/2014</td>\n",
              "      <td>8/31/2014</td>\n",
              "      <td>9/30/2014</td>\n",
              "      <td>34.047</td>\n",
              "      <td>355.074</td>\n",
              "      <td>268.321</td>\n",
              "      <td>86.285</td>\n",
              "      <td>24.11</td>\n",
              "      <td>78.68</td>\n",
              "      <td>7.68</td>\n",
              "      <td>18.34</td>\n",
              "      <td>15.74</td>\n",
              "      <td>99.84</td>\n",
              "      <td>304.76</td>\n",
              "      <td>53.76</td>\n",
              "      <td>0.0</td>\n",
              "      <td>0.00</td>\n",
              "      <td>0.00</td>\n",
              "      <td>0.00</td>\n",
              "      <td>0.0</td>\n",
              "      <td>0.00</td>\n",
              "      <td>0.00</td>\n",
              "      <td>0.00</td>\n",
              "      <td>23.88</td>\n",
              "      <td>74.56</td>\n",
              "      <td>7.68</td>\n",
              "      <td>18.34</td>\n",
              "      <td>11.51</td>\n",
              "      <td>75.94</td>\n",
              "      <td>291.86</td>\n",
              "      <td>53.76</td>\n",
              "      <td>0.00</td>\n",
              "      <td>0.00</td>\n",
              "      <td>0.00</td>\n",
              "      <td>0.00</td>\n",
              "      <td>0.0</td>\n",
              "      <td>2.91</td>\n",
              "      <td>0.00</td>\n",
              "      <td>0.00</td>\n",
              "      <td>35.39</td>\n",
              "      <td>150.51</td>\n",
              "      <td>299.54</td>\n",
              "      <td>72.11</td>\n",
              "      <td>0.23</td>\n",
              "      <td>4.11</td>\n",
              "      <td>0.00</td>\n",
              "      <td>0.00</td>\n",
              "      <td>0.00</td>\n",
              "      <td>0.46</td>\n",
              "      <td>0.13</td>\n",
              "      <td>0.00</td>\n",
              "      <td>0.00</td>\n",
              "      <td>0.00</td>\n",
              "      <td>0.00</td>\n",
              "      <td>0.0</td>\n",
              "      <td>0.0</td>\n",
              "      <td>0.0</td>\n",
              "      <td>0.0</td>\n",
              "      <td>0.0</td>\n",
              "      <td>0.23</td>\n",
              "      <td>4.58</td>\n",
              "      <td>0.13</td>\n",
              "      <td>0.00</td>\n",
              "      <td>0.0</td>\n",
              "      <td>0.0</td>\n",
              "      <td>0.0</td>\n",
              "      <td>0.0</td>\n",
              "      <td>4.68</td>\n",
              "      <td>23.43</td>\n",
              "      <td>12.76</td>\n",
              "      <td>0.00</td>\n",
              "      <td>0.00</td>\n",
              "      <td>0.0</td>\n",
              "      <td>0.0</td>\n",
              "      <td>0.0</td>\n",
              "      <td>40.31</td>\n",
              "      <td>178.53</td>\n",
              "      <td>312.44</td>\n",
              "      <td>72.11</td>\n",
              "      <td>1.61</td>\n",
              "      <td>29.91</td>\n",
              "      <td>29.23</td>\n",
              "      <td>116.09</td>\n",
              "      <td>17.48</td>\n",
              "      <td>65.38</td>\n",
              "      <td>375.58</td>\n",
              "      <td>56.93</td>\n",
              "      <td>0.00</td>\n",
              "      <td>8.93</td>\n",
              "      <td>3.61</td>\n",
              "      <td>0.00</td>\n",
              "      <td>19.09</td>\n",
              "      <td>104.23</td>\n",
              "      <td>408.43</td>\n",
              "      <td>173.03</td>\n",
              "      <td>0.00</td>\n",
              "      <td>0.00</td>\n",
              "      <td>2.35</td>\n",
              "      <td>0.00</td>\n",
              "      <td>5.90</td>\n",
              "      <td>0.00</td>\n",
              "      <td>12.49</td>\n",
              "      <td>15.01</td>\n",
              "      <td>0.00</td>\n",
              "      <td>0.00</td>\n",
              "      <td>0.00</td>\n",
              "      <td>0.00</td>\n",
              "      <td>0.0</td>\n",
              "      <td>0.0</td>\n",
              "      <td>0.0</td>\n",
              "      <td>0.0</td>\n",
              "      <td>5.90</td>\n",
              "      <td>0.00</td>\n",
              "      <td>14.84</td>\n",
              "      <td>15.01</td>\n",
              "      <td>26.83</td>\n",
              "      <td>104.23</td>\n",
              "      <td>423.28</td>\n",
              "      <td>188.04</td>\n",
              "      <td>0.00</td>\n",
              "      <td>0.0</td>\n",
              "      <td>0.0</td>\n",
              "      <td>0.00</td>\n",
              "      <td>1.83</td>\n",
              "      <td>0.00</td>\n",
              "      <td>0.0</td>\n",
              "      <td>0.00</td>\n",
              "      <td>0.00</td>\n",
              "      <td>0.00</td>\n",
              "      <td>0.0</td>\n",
              "      <td>0.00</td>\n",
              "      <td>4</td>\n",
              "      <td>9</td>\n",
              "      <td>11</td>\n",
              "      <td>5</td>\n",
              "      <td>74</td>\n",
              "      <td>384</td>\n",
              "      <td>283</td>\n",
              "      <td>121</td>\n",
              "      <td>44</td>\n",
              "      <td>154</td>\n",
              "      <td>65</td>\n",
              "      <td>50</td>\n",
              "      <td>6/29/2014</td>\n",
              "      <td>7/31/2014</td>\n",
              "      <td>8/28/2014</td>\n",
              "      <td>9/30/2014</td>\n",
              "      <td>44</td>\n",
              "      <td>23</td>\n",
              "      <td>30</td>\n",
              "      <td>0</td>\n",
              "      <td>NaN</td>\n",
              "      <td>7/25/2014</td>\n",
              "      <td>8/10/2014</td>\n",
              "      <td>NaN</td>\n",
              "      <td>NaN</td>\n",
              "      <td>1.0</td>\n",
              "      <td>2.0</td>\n",
              "      <td>NaN</td>\n",
              "      <td>NaN</td>\n",
              "      <td>154.0</td>\n",
              "      <td>25.0</td>\n",
              "      <td>NaN</td>\n",
              "      <td>NaN</td>\n",
              "      <td>1.0</td>\n",
              "      <td>2.0</td>\n",
              "      <td>NaN</td>\n",
              "      <td>NaN</td>\n",
              "      <td>0.0</td>\n",
              "      <td>0.0</td>\n",
              "      <td>NaN</td>\n",
              "      <td>NaN</td>\n",
              "      <td>154.0</td>\n",
              "      <td>50.0</td>\n",
              "      <td>NaN</td>\n",
              "      <td>0.00</td>\n",
              "      <td>108.07</td>\n",
              "      <td>365.47</td>\n",
              "      <td>0.0</td>\n",
              "      <td>0.00</td>\n",
              "      <td>0.00</td>\n",
              "      <td>0.00</td>\n",
              "      <td>0.00</td>\n",
              "      <td>NaN</td>\n",
              "      <td>0.00</td>\n",
              "      <td>0.00</td>\n",
              "      <td>NaN</td>\n",
              "      <td>NaN</td>\n",
              "      <td>28.61</td>\n",
              "      <td>7.60</td>\n",
              "      <td>NaN</td>\n",
              "      <td>NaN</td>\n",
              "      <td>0.0</td>\n",
              "      <td>0.0</td>\n",
              "      <td>NaN</td>\n",
              "      <td>0</td>\n",
              "      <td>1</td>\n",
              "      <td>0</td>\n",
              "      <td>0</td>\n",
              "      <td>0</td>\n",
              "      <td>0</td>\n",
              "      <td>2</td>\n",
              "      <td>0</td>\n",
              "      <td>0</td>\n",
              "      <td>0</td>\n",
              "      <td>0</td>\n",
              "      <td>0</td>\n",
              "      <td>0</td>\n",
              "      <td>0</td>\n",
              "      <td>0</td>\n",
              "      <td>0</td>\n",
              "      <td>NaN</td>\n",
              "      <td>1.0</td>\n",
              "      <td>1.0</td>\n",
              "      <td>NaN</td>\n",
              "      <td>1006</td>\n",
              "      <td>0.0</td>\n",
              "      <td>0.0</td>\n",
              "      <td>0.00</td>\n",
              "      <td>0.00</td>\n",
              "    </tr>\n",
              "    <tr>\n",
              "      <th>2</th>\n",
              "      <td>7001625959</td>\n",
              "      <td>109</td>\n",
              "      <td>0.0</td>\n",
              "      <td>0.0</td>\n",
              "      <td>0.0</td>\n",
              "      <td>6/30/2014</td>\n",
              "      <td>7/31/2014</td>\n",
              "      <td>8/31/2014</td>\n",
              "      <td>9/30/2014</td>\n",
              "      <td>167.690</td>\n",
              "      <td>189.058</td>\n",
              "      <td>210.226</td>\n",
              "      <td>290.714</td>\n",
              "      <td>11.54</td>\n",
              "      <td>55.24</td>\n",
              "      <td>37.26</td>\n",
              "      <td>74.81</td>\n",
              "      <td>143.33</td>\n",
              "      <td>220.59</td>\n",
              "      <td>208.36</td>\n",
              "      <td>118.91</td>\n",
              "      <td>0.0</td>\n",
              "      <td>0.00</td>\n",
              "      <td>0.00</td>\n",
              "      <td>38.49</td>\n",
              "      <td>0.0</td>\n",
              "      <td>0.00</td>\n",
              "      <td>0.00</td>\n",
              "      <td>70.94</td>\n",
              "      <td>7.19</td>\n",
              "      <td>28.74</td>\n",
              "      <td>13.58</td>\n",
              "      <td>14.39</td>\n",
              "      <td>29.34</td>\n",
              "      <td>16.86</td>\n",
              "      <td>38.46</td>\n",
              "      <td>28.16</td>\n",
              "      <td>24.11</td>\n",
              "      <td>21.79</td>\n",
              "      <td>15.61</td>\n",
              "      <td>22.24</td>\n",
              "      <td>0.0</td>\n",
              "      <td>135.54</td>\n",
              "      <td>45.76</td>\n",
              "      <td>0.48</td>\n",
              "      <td>60.66</td>\n",
              "      <td>67.41</td>\n",
              "      <td>67.66</td>\n",
              "      <td>64.81</td>\n",
              "      <td>4.34</td>\n",
              "      <td>26.49</td>\n",
              "      <td>22.58</td>\n",
              "      <td>8.76</td>\n",
              "      <td>41.81</td>\n",
              "      <td>67.41</td>\n",
              "      <td>75.53</td>\n",
              "      <td>9.28</td>\n",
              "      <td>1.48</td>\n",
              "      <td>14.76</td>\n",
              "      <td>22.83</td>\n",
              "      <td>0.0</td>\n",
              "      <td>0.0</td>\n",
              "      <td>0.0</td>\n",
              "      <td>0.0</td>\n",
              "      <td>0.0</td>\n",
              "      <td>47.64</td>\n",
              "      <td>108.68</td>\n",
              "      <td>120.94</td>\n",
              "      <td>18.04</td>\n",
              "      <td>0.0</td>\n",
              "      <td>0.0</td>\n",
              "      <td>0.0</td>\n",
              "      <td>0.0</td>\n",
              "      <td>46.56</td>\n",
              "      <td>236.84</td>\n",
              "      <td>96.84</td>\n",
              "      <td>42.08</td>\n",
              "      <td>0.45</td>\n",
              "      <td>0.0</td>\n",
              "      <td>0.0</td>\n",
              "      <td>0.0</td>\n",
              "      <td>155.33</td>\n",
              "      <td>412.94</td>\n",
              "      <td>285.46</td>\n",
              "      <td>124.94</td>\n",
              "      <td>115.69</td>\n",
              "      <td>71.11</td>\n",
              "      <td>67.46</td>\n",
              "      <td>148.23</td>\n",
              "      <td>14.38</td>\n",
              "      <td>15.44</td>\n",
              "      <td>38.89</td>\n",
              "      <td>38.98</td>\n",
              "      <td>99.48</td>\n",
              "      <td>122.29</td>\n",
              "      <td>49.63</td>\n",
              "      <td>158.19</td>\n",
              "      <td>229.56</td>\n",
              "      <td>208.86</td>\n",
              "      <td>155.99</td>\n",
              "      <td>345.41</td>\n",
              "      <td>72.41</td>\n",
              "      <td>71.29</td>\n",
              "      <td>28.69</td>\n",
              "      <td>49.44</td>\n",
              "      <td>45.18</td>\n",
              "      <td>177.01</td>\n",
              "      <td>167.09</td>\n",
              "      <td>118.18</td>\n",
              "      <td>21.73</td>\n",
              "      <td>58.34</td>\n",
              "      <td>43.23</td>\n",
              "      <td>3.86</td>\n",
              "      <td>0.0</td>\n",
              "      <td>0.0</td>\n",
              "      <td>0.0</td>\n",
              "      <td>0.0</td>\n",
              "      <td>139.33</td>\n",
              "      <td>306.66</td>\n",
              "      <td>239.03</td>\n",
              "      <td>171.49</td>\n",
              "      <td>370.04</td>\n",
              "      <td>519.53</td>\n",
              "      <td>395.03</td>\n",
              "      <td>517.74</td>\n",
              "      <td>0.21</td>\n",
              "      <td>0.0</td>\n",
              "      <td>0.0</td>\n",
              "      <td>0.45</td>\n",
              "      <td>0.00</td>\n",
              "      <td>0.85</td>\n",
              "      <td>0.0</td>\n",
              "      <td>0.01</td>\n",
              "      <td>0.93</td>\n",
              "      <td>3.14</td>\n",
              "      <td>0.0</td>\n",
              "      <td>0.36</td>\n",
              "      <td>5</td>\n",
              "      <td>4</td>\n",
              "      <td>2</td>\n",
              "      <td>7</td>\n",
              "      <td>168</td>\n",
              "      <td>315</td>\n",
              "      <td>116</td>\n",
              "      <td>358</td>\n",
              "      <td>86</td>\n",
              "      <td>200</td>\n",
              "      <td>86</td>\n",
              "      <td>100</td>\n",
              "      <td>6/17/2014</td>\n",
              "      <td>7/24/2014</td>\n",
              "      <td>8/14/2014</td>\n",
              "      <td>9/29/2014</td>\n",
              "      <td>0</td>\n",
              "      <td>200</td>\n",
              "      <td>86</td>\n",
              "      <td>0</td>\n",
              "      <td>NaN</td>\n",
              "      <td>NaN</td>\n",
              "      <td>NaN</td>\n",
              "      <td>9/17/2014</td>\n",
              "      <td>NaN</td>\n",
              "      <td>NaN</td>\n",
              "      <td>NaN</td>\n",
              "      <td>1.0</td>\n",
              "      <td>NaN</td>\n",
              "      <td>NaN</td>\n",
              "      <td>NaN</td>\n",
              "      <td>46.0</td>\n",
              "      <td>NaN</td>\n",
              "      <td>NaN</td>\n",
              "      <td>NaN</td>\n",
              "      <td>1.0</td>\n",
              "      <td>NaN</td>\n",
              "      <td>NaN</td>\n",
              "      <td>NaN</td>\n",
              "      <td>0.0</td>\n",
              "      <td>NaN</td>\n",
              "      <td>NaN</td>\n",
              "      <td>NaN</td>\n",
              "      <td>46.0</td>\n",
              "      <td>0.00</td>\n",
              "      <td>0.00</td>\n",
              "      <td>0.00</td>\n",
              "      <td>0.0</td>\n",
              "      <td>0.00</td>\n",
              "      <td>0.00</td>\n",
              "      <td>0.00</td>\n",
              "      <td>8.42</td>\n",
              "      <td>NaN</td>\n",
              "      <td>NaN</td>\n",
              "      <td>NaN</td>\n",
              "      <td>2.84</td>\n",
              "      <td>NaN</td>\n",
              "      <td>NaN</td>\n",
              "      <td>NaN</td>\n",
              "      <td>0.0</td>\n",
              "      <td>NaN</td>\n",
              "      <td>NaN</td>\n",
              "      <td>NaN</td>\n",
              "      <td>0.0</td>\n",
              "      <td>0</td>\n",
              "      <td>0</td>\n",
              "      <td>0</td>\n",
              "      <td>0</td>\n",
              "      <td>0</td>\n",
              "      <td>0</td>\n",
              "      <td>0</td>\n",
              "      <td>1</td>\n",
              "      <td>0</td>\n",
              "      <td>0</td>\n",
              "      <td>0</td>\n",
              "      <td>0</td>\n",
              "      <td>0</td>\n",
              "      <td>0</td>\n",
              "      <td>0</td>\n",
              "      <td>0</td>\n",
              "      <td>NaN</td>\n",
              "      <td>NaN</td>\n",
              "      <td>NaN</td>\n",
              "      <td>1.0</td>\n",
              "      <td>1103</td>\n",
              "      <td>0.0</td>\n",
              "      <td>0.0</td>\n",
              "      <td>4.17</td>\n",
              "      <td>0.00</td>\n",
              "    </tr>\n",
              "    <tr>\n",
              "      <th>3</th>\n",
              "      <td>7001204172</td>\n",
              "      <td>109</td>\n",
              "      <td>0.0</td>\n",
              "      <td>0.0</td>\n",
              "      <td>0.0</td>\n",
              "      <td>6/30/2014</td>\n",
              "      <td>7/31/2014</td>\n",
              "      <td>8/31/2014</td>\n",
              "      <td>9/30/2014</td>\n",
              "      <td>221.338</td>\n",
              "      <td>251.102</td>\n",
              "      <td>508.054</td>\n",
              "      <td>389.500</td>\n",
              "      <td>99.91</td>\n",
              "      <td>54.39</td>\n",
              "      <td>310.98</td>\n",
              "      <td>241.71</td>\n",
              "      <td>123.31</td>\n",
              "      <td>109.01</td>\n",
              "      <td>71.68</td>\n",
              "      <td>113.54</td>\n",
              "      <td>0.0</td>\n",
              "      <td>54.86</td>\n",
              "      <td>44.38</td>\n",
              "      <td>0.00</td>\n",
              "      <td>0.0</td>\n",
              "      <td>28.09</td>\n",
              "      <td>39.04</td>\n",
              "      <td>0.00</td>\n",
              "      <td>73.68</td>\n",
              "      <td>34.81</td>\n",
              "      <td>10.61</td>\n",
              "      <td>15.49</td>\n",
              "      <td>107.43</td>\n",
              "      <td>83.21</td>\n",
              "      <td>22.46</td>\n",
              "      <td>65.46</td>\n",
              "      <td>1.91</td>\n",
              "      <td>0.65</td>\n",
              "      <td>4.91</td>\n",
              "      <td>2.06</td>\n",
              "      <td>0.0</td>\n",
              "      <td>0.00</td>\n",
              "      <td>0.00</td>\n",
              "      <td>0.00</td>\n",
              "      <td>183.03</td>\n",
              "      <td>118.68</td>\n",
              "      <td>37.99</td>\n",
              "      <td>83.03</td>\n",
              "      <td>26.23</td>\n",
              "      <td>14.89</td>\n",
              "      <td>289.58</td>\n",
              "      <td>226.21</td>\n",
              "      <td>2.99</td>\n",
              "      <td>1.73</td>\n",
              "      <td>6.53</td>\n",
              "      <td>9.99</td>\n",
              "      <td>0.00</td>\n",
              "      <td>0.00</td>\n",
              "      <td>0.00</td>\n",
              "      <td>0.0</td>\n",
              "      <td>0.0</td>\n",
              "      <td>0.0</td>\n",
              "      <td>0.0</td>\n",
              "      <td>0.0</td>\n",
              "      <td>29.23</td>\n",
              "      <td>16.63</td>\n",
              "      <td>296.11</td>\n",
              "      <td>236.21</td>\n",
              "      <td>0.0</td>\n",
              "      <td>0.0</td>\n",
              "      <td>0.0</td>\n",
              "      <td>0.0</td>\n",
              "      <td>10.96</td>\n",
              "      <td>0.00</td>\n",
              "      <td>18.09</td>\n",
              "      <td>43.29</td>\n",
              "      <td>0.00</td>\n",
              "      <td>0.0</td>\n",
              "      <td>0.0</td>\n",
              "      <td>0.0</td>\n",
              "      <td>223.23</td>\n",
              "      <td>135.31</td>\n",
              "      <td>352.21</td>\n",
              "      <td>362.54</td>\n",
              "      <td>62.08</td>\n",
              "      <td>19.98</td>\n",
              "      <td>8.04</td>\n",
              "      <td>41.73</td>\n",
              "      <td>113.96</td>\n",
              "      <td>64.51</td>\n",
              "      <td>20.28</td>\n",
              "      <td>52.86</td>\n",
              "      <td>57.43</td>\n",
              "      <td>27.09</td>\n",
              "      <td>19.84</td>\n",
              "      <td>65.59</td>\n",
              "      <td>233.48</td>\n",
              "      <td>111.59</td>\n",
              "      <td>48.18</td>\n",
              "      <td>160.19</td>\n",
              "      <td>43.48</td>\n",
              "      <td>66.44</td>\n",
              "      <td>0.00</td>\n",
              "      <td>129.84</td>\n",
              "      <td>1.33</td>\n",
              "      <td>38.56</td>\n",
              "      <td>4.94</td>\n",
              "      <td>13.98</td>\n",
              "      <td>1.18</td>\n",
              "      <td>0.00</td>\n",
              "      <td>0.00</td>\n",
              "      <td>0.00</td>\n",
              "      <td>0.0</td>\n",
              "      <td>0.0</td>\n",
              "      <td>0.0</td>\n",
              "      <td>0.0</td>\n",
              "      <td>45.99</td>\n",
              "      <td>105.01</td>\n",
              "      <td>4.94</td>\n",
              "      <td>143.83</td>\n",
              "      <td>280.08</td>\n",
              "      <td>216.61</td>\n",
              "      <td>53.13</td>\n",
              "      <td>305.38</td>\n",
              "      <td>0.59</td>\n",
              "      <td>0.0</td>\n",
              "      <td>0.0</td>\n",
              "      <td>0.55</td>\n",
              "      <td>0.00</td>\n",
              "      <td>0.00</td>\n",
              "      <td>0.0</td>\n",
              "      <td>0.00</td>\n",
              "      <td>0.00</td>\n",
              "      <td>0.00</td>\n",
              "      <td>0.0</td>\n",
              "      <td>0.80</td>\n",
              "      <td>10</td>\n",
              "      <td>11</td>\n",
              "      <td>18</td>\n",
              "      <td>14</td>\n",
              "      <td>230</td>\n",
              "      <td>310</td>\n",
              "      <td>601</td>\n",
              "      <td>410</td>\n",
              "      <td>60</td>\n",
              "      <td>50</td>\n",
              "      <td>50</td>\n",
              "      <td>50</td>\n",
              "      <td>6/28/2014</td>\n",
              "      <td>7/31/2014</td>\n",
              "      <td>8/31/2014</td>\n",
              "      <td>9/30/2014</td>\n",
              "      <td>30</td>\n",
              "      <td>50</td>\n",
              "      <td>50</td>\n",
              "      <td>30</td>\n",
              "      <td>NaN</td>\n",
              "      <td>NaN</td>\n",
              "      <td>NaN</td>\n",
              "      <td>NaN</td>\n",
              "      <td>NaN</td>\n",
              "      <td>NaN</td>\n",
              "      <td>NaN</td>\n",
              "      <td>NaN</td>\n",
              "      <td>NaN</td>\n",
              "      <td>NaN</td>\n",
              "      <td>NaN</td>\n",
              "      <td>NaN</td>\n",
              "      <td>NaN</td>\n",
              "      <td>NaN</td>\n",
              "      <td>NaN</td>\n",
              "      <td>NaN</td>\n",
              "      <td>NaN</td>\n",
              "      <td>NaN</td>\n",
              "      <td>NaN</td>\n",
              "      <td>NaN</td>\n",
              "      <td>NaN</td>\n",
              "      <td>NaN</td>\n",
              "      <td>NaN</td>\n",
              "      <td>NaN</td>\n",
              "      <td>0.00</td>\n",
              "      <td>0.00</td>\n",
              "      <td>0.00</td>\n",
              "      <td>0.0</td>\n",
              "      <td>0.00</td>\n",
              "      <td>0.00</td>\n",
              "      <td>0.00</td>\n",
              "      <td>0.00</td>\n",
              "      <td>NaN</td>\n",
              "      <td>NaN</td>\n",
              "      <td>NaN</td>\n",
              "      <td>NaN</td>\n",
              "      <td>NaN</td>\n",
              "      <td>NaN</td>\n",
              "      <td>NaN</td>\n",
              "      <td>NaN</td>\n",
              "      <td>NaN</td>\n",
              "      <td>NaN</td>\n",
              "      <td>NaN</td>\n",
              "      <td>NaN</td>\n",
              "      <td>0</td>\n",
              "      <td>0</td>\n",
              "      <td>0</td>\n",
              "      <td>0</td>\n",
              "      <td>0</td>\n",
              "      <td>0</td>\n",
              "      <td>0</td>\n",
              "      <td>0</td>\n",
              "      <td>0</td>\n",
              "      <td>0</td>\n",
              "      <td>0</td>\n",
              "      <td>0</td>\n",
              "      <td>0</td>\n",
              "      <td>0</td>\n",
              "      <td>0</td>\n",
              "      <td>0</td>\n",
              "      <td>NaN</td>\n",
              "      <td>NaN</td>\n",
              "      <td>NaN</td>\n",
              "      <td>NaN</td>\n",
              "      <td>2491</td>\n",
              "      <td>0.0</td>\n",
              "      <td>0.0</td>\n",
              "      <td>0.00</td>\n",
              "      <td>0.00</td>\n",
              "    </tr>\n",
              "    <tr>\n",
              "      <th>4</th>\n",
              "      <td>7000142493</td>\n",
              "      <td>109</td>\n",
              "      <td>0.0</td>\n",
              "      <td>0.0</td>\n",
              "      <td>0.0</td>\n",
              "      <td>6/30/2014</td>\n",
              "      <td>7/31/2014</td>\n",
              "      <td>8/31/2014</td>\n",
              "      <td>9/30/2014</td>\n",
              "      <td>261.636</td>\n",
              "      <td>309.876</td>\n",
              "      <td>238.174</td>\n",
              "      <td>163.426</td>\n",
              "      <td>50.31</td>\n",
              "      <td>149.44</td>\n",
              "      <td>83.89</td>\n",
              "      <td>58.78</td>\n",
              "      <td>76.96</td>\n",
              "      <td>91.88</td>\n",
              "      <td>124.26</td>\n",
              "      <td>45.81</td>\n",
              "      <td>0.0</td>\n",
              "      <td>0.00</td>\n",
              "      <td>0.00</td>\n",
              "      <td>0.00</td>\n",
              "      <td>0.0</td>\n",
              "      <td>0.00</td>\n",
              "      <td>0.00</td>\n",
              "      <td>0.00</td>\n",
              "      <td>50.31</td>\n",
              "      <td>149.44</td>\n",
              "      <td>83.89</td>\n",
              "      <td>58.78</td>\n",
              "      <td>67.64</td>\n",
              "      <td>91.88</td>\n",
              "      <td>124.26</td>\n",
              "      <td>37.89</td>\n",
              "      <td>0.00</td>\n",
              "      <td>0.00</td>\n",
              "      <td>0.00</td>\n",
              "      <td>1.93</td>\n",
              "      <td>0.0</td>\n",
              "      <td>0.00</td>\n",
              "      <td>0.00</td>\n",
              "      <td>0.00</td>\n",
              "      <td>117.96</td>\n",
              "      <td>241.33</td>\n",
              "      <td>208.16</td>\n",
              "      <td>98.61</td>\n",
              "      <td>0.00</td>\n",
              "      <td>0.00</td>\n",
              "      <td>0.00</td>\n",
              "      <td>0.00</td>\n",
              "      <td>9.31</td>\n",
              "      <td>0.00</td>\n",
              "      <td>0.00</td>\n",
              "      <td>0.00</td>\n",
              "      <td>0.00</td>\n",
              "      <td>0.00</td>\n",
              "      <td>0.00</td>\n",
              "      <td>0.0</td>\n",
              "      <td>0.0</td>\n",
              "      <td>0.0</td>\n",
              "      <td>0.0</td>\n",
              "      <td>0.0</td>\n",
              "      <td>9.31</td>\n",
              "      <td>0.00</td>\n",
              "      <td>0.00</td>\n",
              "      <td>0.00</td>\n",
              "      <td>0.0</td>\n",
              "      <td>0.0</td>\n",
              "      <td>0.0</td>\n",
              "      <td>0.0</td>\n",
              "      <td>0.00</td>\n",
              "      <td>0.00</td>\n",
              "      <td>0.00</td>\n",
              "      <td>5.98</td>\n",
              "      <td>0.00</td>\n",
              "      <td>0.0</td>\n",
              "      <td>0.0</td>\n",
              "      <td>0.0</td>\n",
              "      <td>127.28</td>\n",
              "      <td>241.33</td>\n",
              "      <td>208.16</td>\n",
              "      <td>104.59</td>\n",
              "      <td>105.68</td>\n",
              "      <td>88.49</td>\n",
              "      <td>233.81</td>\n",
              "      <td>154.56</td>\n",
              "      <td>106.84</td>\n",
              "      <td>109.54</td>\n",
              "      <td>104.13</td>\n",
              "      <td>48.24</td>\n",
              "      <td>1.50</td>\n",
              "      <td>0.00</td>\n",
              "      <td>0.00</td>\n",
              "      <td>0.00</td>\n",
              "      <td>214.03</td>\n",
              "      <td>198.04</td>\n",
              "      <td>337.94</td>\n",
              "      <td>202.81</td>\n",
              "      <td>0.00</td>\n",
              "      <td>0.00</td>\n",
              "      <td>0.86</td>\n",
              "      <td>2.31</td>\n",
              "      <td>1.93</td>\n",
              "      <td>0.25</td>\n",
              "      <td>0.00</td>\n",
              "      <td>0.00</td>\n",
              "      <td>0.00</td>\n",
              "      <td>0.00</td>\n",
              "      <td>0.00</td>\n",
              "      <td>0.00</td>\n",
              "      <td>0.0</td>\n",
              "      <td>0.0</td>\n",
              "      <td>0.0</td>\n",
              "      <td>0.0</td>\n",
              "      <td>1.93</td>\n",
              "      <td>0.25</td>\n",
              "      <td>0.86</td>\n",
              "      <td>2.31</td>\n",
              "      <td>216.44</td>\n",
              "      <td>198.29</td>\n",
              "      <td>338.81</td>\n",
              "      <td>205.31</td>\n",
              "      <td>0.00</td>\n",
              "      <td>0.0</td>\n",
              "      <td>0.0</td>\n",
              "      <td>0.18</td>\n",
              "      <td>0.00</td>\n",
              "      <td>0.00</td>\n",
              "      <td>0.0</td>\n",
              "      <td>0.00</td>\n",
              "      <td>0.48</td>\n",
              "      <td>0.00</td>\n",
              "      <td>0.0</td>\n",
              "      <td>0.00</td>\n",
              "      <td>5</td>\n",
              "      <td>6</td>\n",
              "      <td>3</td>\n",
              "      <td>4</td>\n",
              "      <td>196</td>\n",
              "      <td>350</td>\n",
              "      <td>287</td>\n",
              "      <td>200</td>\n",
              "      <td>56</td>\n",
              "      <td>110</td>\n",
              "      <td>110</td>\n",
              "      <td>50</td>\n",
              "      <td>6/26/2014</td>\n",
              "      <td>7/28/2014</td>\n",
              "      <td>8/9/2014</td>\n",
              "      <td>9/28/2014</td>\n",
              "      <td>50</td>\n",
              "      <td>110</td>\n",
              "      <td>110</td>\n",
              "      <td>50</td>\n",
              "      <td>6/4/2014</td>\n",
              "      <td>NaN</td>\n",
              "      <td>NaN</td>\n",
              "      <td>NaN</td>\n",
              "      <td>1.0</td>\n",
              "      <td>NaN</td>\n",
              "      <td>NaN</td>\n",
              "      <td>NaN</td>\n",
              "      <td>56.0</td>\n",
              "      <td>NaN</td>\n",
              "      <td>NaN</td>\n",
              "      <td>NaN</td>\n",
              "      <td>1.0</td>\n",
              "      <td>NaN</td>\n",
              "      <td>NaN</td>\n",
              "      <td>NaN</td>\n",
              "      <td>0.0</td>\n",
              "      <td>NaN</td>\n",
              "      <td>NaN</td>\n",
              "      <td>NaN</td>\n",
              "      <td>56.0</td>\n",
              "      <td>NaN</td>\n",
              "      <td>NaN</td>\n",
              "      <td>NaN</td>\n",
              "      <td>0.00</td>\n",
              "      <td>0.00</td>\n",
              "      <td>0.00</td>\n",
              "      <td>0.0</td>\n",
              "      <td>0.00</td>\n",
              "      <td>0.00</td>\n",
              "      <td>0.00</td>\n",
              "      <td>0.00</td>\n",
              "      <td>0.00</td>\n",
              "      <td>NaN</td>\n",
              "      <td>NaN</td>\n",
              "      <td>NaN</td>\n",
              "      <td>0.00</td>\n",
              "      <td>NaN</td>\n",
              "      <td>NaN</td>\n",
              "      <td>NaN</td>\n",
              "      <td>0.0</td>\n",
              "      <td>NaN</td>\n",
              "      <td>NaN</td>\n",
              "      <td>NaN</td>\n",
              "      <td>0</td>\n",
              "      <td>0</td>\n",
              "      <td>0</td>\n",
              "      <td>0</td>\n",
              "      <td>1</td>\n",
              "      <td>0</td>\n",
              "      <td>0</td>\n",
              "      <td>0</td>\n",
              "      <td>0</td>\n",
              "      <td>0</td>\n",
              "      <td>0</td>\n",
              "      <td>0</td>\n",
              "      <td>0</td>\n",
              "      <td>0</td>\n",
              "      <td>0</td>\n",
              "      <td>0</td>\n",
              "      <td>0.0</td>\n",
              "      <td>NaN</td>\n",
              "      <td>NaN</td>\n",
              "      <td>NaN</td>\n",
              "      <td>1526</td>\n",
              "      <td>0.0</td>\n",
              "      <td>0.0</td>\n",
              "      <td>0.00</td>\n",
              "      <td>0.00</td>\n",
              "    </tr>\n",
              "  </tbody>\n",
              "</table>\n",
              "</div>"
            ],
            "text/plain": [
              "   mobile_number  circle_id  loc_og_t2o_mou  std_og_t2o_mou  loc_ic_t2o_mou  \\\n",
              "0     7000842753        109             0.0             0.0             0.0   \n",
              "1     7001865778        109             0.0             0.0             0.0   \n",
              "2     7001625959        109             0.0             0.0             0.0   \n",
              "3     7001204172        109             0.0             0.0             0.0   \n",
              "4     7000142493        109             0.0             0.0             0.0   \n",
              "\n",
              "  last_date_of_month_6 last_date_of_month_7 last_date_of_month_8  \\\n",
              "0            6/30/2014            7/31/2014            8/31/2014   \n",
              "1            6/30/2014            7/31/2014            8/31/2014   \n",
              "2            6/30/2014            7/31/2014            8/31/2014   \n",
              "3            6/30/2014            7/31/2014            8/31/2014   \n",
              "4            6/30/2014            7/31/2014            8/31/2014   \n",
              "\n",
              "  last_date_of_month_9   arpu_6   arpu_7   arpu_8   arpu_9  onnet_mou_6  \\\n",
              "0            9/30/2014  197.385  214.816  213.803   21.100          NaN   \n",
              "1            9/30/2014   34.047  355.074  268.321   86.285        24.11   \n",
              "2            9/30/2014  167.690  189.058  210.226  290.714        11.54   \n",
              "3            9/30/2014  221.338  251.102  508.054  389.500        99.91   \n",
              "4            9/30/2014  261.636  309.876  238.174  163.426        50.31   \n",
              "\n",
              "   onnet_mou_7  onnet_mou_8  onnet_mou_9  offnet_mou_6  offnet_mou_7  \\\n",
              "0          NaN         0.00          NaN           NaN           NaN   \n",
              "1        78.68         7.68        18.34         15.74         99.84   \n",
              "2        55.24        37.26        74.81        143.33        220.59   \n",
              "3        54.39       310.98       241.71        123.31        109.01   \n",
              "4       149.44        83.89        58.78         76.96         91.88   \n",
              "\n",
              "   offnet_mou_8  offnet_mou_9  roam_ic_mou_6  roam_ic_mou_7  roam_ic_mou_8  \\\n",
              "0          0.00           NaN            NaN            NaN           0.00   \n",
              "1        304.76         53.76            0.0           0.00           0.00   \n",
              "2        208.36        118.91            0.0           0.00           0.00   \n",
              "3         71.68        113.54            0.0          54.86          44.38   \n",
              "4        124.26         45.81            0.0           0.00           0.00   \n",
              "\n",
              "   roam_ic_mou_9  roam_og_mou_6  roam_og_mou_7  roam_og_mou_8  roam_og_mou_9  \\\n",
              "0            NaN            NaN            NaN           0.00            NaN   \n",
              "1           0.00            0.0           0.00           0.00           0.00   \n",
              "2          38.49            0.0           0.00           0.00          70.94   \n",
              "3           0.00            0.0          28.09          39.04           0.00   \n",
              "4           0.00            0.0           0.00           0.00           0.00   \n",
              "\n",
              "   loc_og_t2t_mou_6  loc_og_t2t_mou_7  loc_og_t2t_mou_8  loc_og_t2t_mou_9  \\\n",
              "0               NaN               NaN              0.00               NaN   \n",
              "1             23.88             74.56              7.68             18.34   \n",
              "2              7.19             28.74             13.58             14.39   \n",
              "3             73.68             34.81             10.61             15.49   \n",
              "4             50.31            149.44             83.89             58.78   \n",
              "\n",
              "   loc_og_t2m_mou_6  loc_og_t2m_mou_7  loc_og_t2m_mou_8  loc_og_t2m_mou_9  \\\n",
              "0               NaN               NaN              0.00               NaN   \n",
              "1             11.51             75.94            291.86             53.76   \n",
              "2             29.34             16.86             38.46             28.16   \n",
              "3            107.43             83.21             22.46             65.46   \n",
              "4             67.64             91.88            124.26             37.89   \n",
              "\n",
              "   loc_og_t2f_mou_6  loc_og_t2f_mou_7  loc_og_t2f_mou_8  loc_og_t2f_mou_9  \\\n",
              "0               NaN               NaN              0.00               NaN   \n",
              "1              0.00              0.00              0.00              0.00   \n",
              "2             24.11             21.79             15.61             22.24   \n",
              "3              1.91              0.65              4.91              2.06   \n",
              "4              0.00              0.00              0.00              1.93   \n",
              "\n",
              "   loc_og_t2c_mou_6  loc_og_t2c_mou_7  loc_og_t2c_mou_8  loc_og_t2c_mou_9  \\\n",
              "0               NaN               NaN              0.00               NaN   \n",
              "1               0.0              2.91              0.00              0.00   \n",
              "2               0.0            135.54             45.76              0.48   \n",
              "3               0.0              0.00              0.00              0.00   \n",
              "4               0.0              0.00              0.00              0.00   \n",
              "\n",
              "   loc_og_mou_6  loc_og_mou_7  loc_og_mou_8  loc_og_mou_9  std_og_t2t_mou_6  \\\n",
              "0           NaN           NaN          0.00           NaN               NaN   \n",
              "1         35.39        150.51        299.54         72.11              0.23   \n",
              "2         60.66         67.41         67.66         64.81              4.34   \n",
              "3        183.03        118.68         37.99         83.03             26.23   \n",
              "4        117.96        241.33        208.16         98.61              0.00   \n",
              "\n",
              "   std_og_t2t_mou_7  std_og_t2t_mou_8  std_og_t2t_mou_9  std_og_t2m_mou_6  \\\n",
              "0               NaN              0.00               NaN               NaN   \n",
              "1              4.11              0.00              0.00              0.00   \n",
              "2             26.49             22.58              8.76             41.81   \n",
              "3             14.89            289.58            226.21              2.99   \n",
              "4              0.00              0.00              0.00              9.31   \n",
              "\n",
              "   std_og_t2m_mou_7  std_og_t2m_mou_8  std_og_t2m_mou_9  std_og_t2f_mou_6  \\\n",
              "0               NaN              0.00               NaN               NaN   \n",
              "1              0.46              0.13              0.00              0.00   \n",
              "2             67.41             75.53              9.28              1.48   \n",
              "3              1.73              6.53              9.99              0.00   \n",
              "4              0.00              0.00              0.00              0.00   \n",
              "\n",
              "   std_og_t2f_mou_7  std_og_t2f_mou_8  std_og_t2f_mou_9  std_og_t2c_mou_6  \\\n",
              "0               NaN              0.00               NaN               NaN   \n",
              "1              0.00              0.00               0.0               0.0   \n",
              "2             14.76             22.83               0.0               0.0   \n",
              "3              0.00              0.00               0.0               0.0   \n",
              "4              0.00              0.00               0.0               0.0   \n",
              "\n",
              "   std_og_t2c_mou_7  std_og_t2c_mou_8  std_og_t2c_mou_9  std_og_mou_6  \\\n",
              "0               NaN               0.0               NaN           NaN   \n",
              "1               0.0               0.0               0.0          0.23   \n",
              "2               0.0               0.0               0.0         47.64   \n",
              "3               0.0               0.0               0.0         29.23   \n",
              "4               0.0               0.0               0.0          9.31   \n",
              "\n",
              "   std_og_mou_7  std_og_mou_8  std_og_mou_9  isd_og_mou_6  isd_og_mou_7  \\\n",
              "0           NaN          0.00           NaN           NaN           NaN   \n",
              "1          4.58          0.13          0.00           0.0           0.0   \n",
              "2        108.68        120.94         18.04           0.0           0.0   \n",
              "3         16.63        296.11        236.21           0.0           0.0   \n",
              "4          0.00          0.00          0.00           0.0           0.0   \n",
              "\n",
              "   isd_og_mou_8  isd_og_mou_9  spl_og_mou_6  spl_og_mou_7  spl_og_mou_8  \\\n",
              "0           0.0           NaN           NaN           NaN          0.00   \n",
              "1           0.0           0.0          4.68         23.43         12.76   \n",
              "2           0.0           0.0         46.56        236.84         96.84   \n",
              "3           0.0           0.0         10.96          0.00         18.09   \n",
              "4           0.0           0.0          0.00          0.00          0.00   \n",
              "\n",
              "   spl_og_mou_9  og_others_6  og_others_7  og_others_8  og_others_9  \\\n",
              "0           NaN          NaN          NaN          0.0          NaN   \n",
              "1          0.00         0.00          0.0          0.0          0.0   \n",
              "2         42.08         0.45          0.0          0.0          0.0   \n",
              "3         43.29         0.00          0.0          0.0          0.0   \n",
              "4          5.98         0.00          0.0          0.0          0.0   \n",
              "\n",
              "   total_og_mou_6  total_og_mou_7  total_og_mou_8  total_og_mou_9  \\\n",
              "0            0.00            0.00            0.00            0.00   \n",
              "1           40.31          178.53          312.44           72.11   \n",
              "2          155.33          412.94          285.46          124.94   \n",
              "3          223.23          135.31          352.21          362.54   \n",
              "4          127.28          241.33          208.16          104.59   \n",
              "\n",
              "   loc_ic_t2t_mou_6  loc_ic_t2t_mou_7  loc_ic_t2t_mou_8  loc_ic_t2t_mou_9  \\\n",
              "0               NaN               NaN              0.16               NaN   \n",
              "1              1.61             29.91             29.23            116.09   \n",
              "2            115.69             71.11             67.46            148.23   \n",
              "3             62.08             19.98              8.04             41.73   \n",
              "4            105.68             88.49            233.81            154.56   \n",
              "\n",
              "   loc_ic_t2m_mou_6  loc_ic_t2m_mou_7  loc_ic_t2m_mou_8  loc_ic_t2m_mou_9  \\\n",
              "0               NaN               NaN              4.13               NaN   \n",
              "1             17.48             65.38            375.58             56.93   \n",
              "2             14.38             15.44             38.89             38.98   \n",
              "3            113.96             64.51             20.28             52.86   \n",
              "4            106.84            109.54            104.13             48.24   \n",
              "\n",
              "   loc_ic_t2f_mou_6  loc_ic_t2f_mou_7  loc_ic_t2f_mou_8  loc_ic_t2f_mou_9  \\\n",
              "0               NaN               NaN              1.15               NaN   \n",
              "1              0.00              8.93              3.61              0.00   \n",
              "2             99.48            122.29             49.63            158.19   \n",
              "3             57.43             27.09             19.84             65.59   \n",
              "4              1.50              0.00              0.00              0.00   \n",
              "\n",
              "   loc_ic_mou_6  loc_ic_mou_7  loc_ic_mou_8  loc_ic_mou_9  std_ic_t2t_mou_6  \\\n",
              "0           NaN           NaN          5.44           NaN               NaN   \n",
              "1         19.09        104.23        408.43        173.03              0.00   \n",
              "2        229.56        208.86        155.99        345.41             72.41   \n",
              "3        233.48        111.59         48.18        160.19             43.48   \n",
              "4        214.03        198.04        337.94        202.81              0.00   \n",
              "\n",
              "   std_ic_t2t_mou_7  std_ic_t2t_mou_8  std_ic_t2t_mou_9  std_ic_t2m_mou_6  \\\n",
              "0               NaN              0.00               NaN               NaN   \n",
              "1              0.00              2.35              0.00              5.90   \n",
              "2             71.29             28.69             49.44             45.18   \n",
              "3             66.44              0.00            129.84              1.33   \n",
              "4              0.00              0.86              2.31              1.93   \n",
              "\n",
              "   std_ic_t2m_mou_7  std_ic_t2m_mou_8  std_ic_t2m_mou_9  std_ic_t2f_mou_6  \\\n",
              "0               NaN              0.00               NaN               NaN   \n",
              "1              0.00             12.49             15.01              0.00   \n",
              "2            177.01            167.09            118.18             21.73   \n",
              "3             38.56              4.94             13.98              1.18   \n",
              "4              0.25              0.00              0.00              0.00   \n",
              "\n",
              "   std_ic_t2f_mou_7  std_ic_t2f_mou_8  std_ic_t2f_mou_9  std_ic_t2o_mou_6  \\\n",
              "0               NaN              0.00               NaN               NaN   \n",
              "1              0.00              0.00              0.00               0.0   \n",
              "2             58.34             43.23              3.86               0.0   \n",
              "3              0.00              0.00              0.00               0.0   \n",
              "4              0.00              0.00              0.00               0.0   \n",
              "\n",
              "   std_ic_t2o_mou_7  std_ic_t2o_mou_8  std_ic_t2o_mou_9  std_ic_mou_6  \\\n",
              "0               NaN               0.0               NaN           NaN   \n",
              "1               0.0               0.0               0.0          5.90   \n",
              "2               0.0               0.0               0.0        139.33   \n",
              "3               0.0               0.0               0.0         45.99   \n",
              "4               0.0               0.0               0.0          1.93   \n",
              "\n",
              "   std_ic_mou_7  std_ic_mou_8  std_ic_mou_9  total_ic_mou_6  total_ic_mou_7  \\\n",
              "0           NaN          0.00           NaN            0.00            0.00   \n",
              "1          0.00         14.84         15.01           26.83          104.23   \n",
              "2        306.66        239.03        171.49          370.04          519.53   \n",
              "3        105.01          4.94        143.83          280.08          216.61   \n",
              "4          0.25          0.86          2.31          216.44          198.29   \n",
              "\n",
              "   total_ic_mou_8  total_ic_mou_9  spl_ic_mou_6  spl_ic_mou_7  spl_ic_mou_8  \\\n",
              "0            5.44            0.00           NaN           NaN           0.0   \n",
              "1          423.28          188.04          0.00           0.0           0.0   \n",
              "2          395.03          517.74          0.21           0.0           0.0   \n",
              "3           53.13          305.38          0.59           0.0           0.0   \n",
              "4          338.81          205.31          0.00           0.0           0.0   \n",
              "\n",
              "   spl_ic_mou_9  isd_ic_mou_6  isd_ic_mou_7  isd_ic_mou_8  isd_ic_mou_9  \\\n",
              "0           NaN           NaN           NaN           0.0           NaN   \n",
              "1          0.00          1.83          0.00           0.0          0.00   \n",
              "2          0.45          0.00          0.85           0.0          0.01   \n",
              "3          0.55          0.00          0.00           0.0          0.00   \n",
              "4          0.18          0.00          0.00           0.0          0.00   \n",
              "\n",
              "   ic_others_6  ic_others_7  ic_others_8  ic_others_9  total_rech_num_6  \\\n",
              "0          NaN          NaN          0.0          NaN                 4   \n",
              "1         0.00         0.00          0.0         0.00                 4   \n",
              "2         0.93         3.14          0.0         0.36                 5   \n",
              "3         0.00         0.00          0.0         0.80                10   \n",
              "4         0.48         0.00          0.0         0.00                 5   \n",
              "\n",
              "   total_rech_num_7  total_rech_num_8  total_rech_num_9  total_rech_amt_6  \\\n",
              "0                 3                 2                 6               362   \n",
              "1                 9                11                 5                74   \n",
              "2                 4                 2                 7               168   \n",
              "3                11                18                14               230   \n",
              "4                 6                 3                 4               196   \n",
              "\n",
              "   total_rech_amt_7  total_rech_amt_8  total_rech_amt_9  max_rech_amt_6  \\\n",
              "0               252               252                 0             252   \n",
              "1               384               283               121              44   \n",
              "2               315               116               358              86   \n",
              "3               310               601               410              60   \n",
              "4               350               287               200              56   \n",
              "\n",
              "   max_rech_amt_7  max_rech_amt_8  max_rech_amt_9 date_of_last_rech_6  \\\n",
              "0             252             252               0           6/21/2014   \n",
              "1             154              65              50           6/29/2014   \n",
              "2             200              86             100           6/17/2014   \n",
              "3              50              50              50           6/28/2014   \n",
              "4             110             110              50           6/26/2014   \n",
              "\n",
              "  date_of_last_rech_7 date_of_last_rech_8 date_of_last_rech_9  \\\n",
              "0           7/16/2014            8/8/2014           9/28/2014   \n",
              "1           7/31/2014           8/28/2014           9/30/2014   \n",
              "2           7/24/2014           8/14/2014           9/29/2014   \n",
              "3           7/31/2014           8/31/2014           9/30/2014   \n",
              "4           7/28/2014            8/9/2014           9/28/2014   \n",
              "\n",
              "   last_day_rch_amt_6  last_day_rch_amt_7  last_day_rch_amt_8  \\\n",
              "0                 252                 252                 252   \n",
              "1                  44                  23                  30   \n",
              "2                   0                 200                  86   \n",
              "3                  30                  50                  50   \n",
              "4                  50                 110                 110   \n",
              "\n",
              "   last_day_rch_amt_9 date_of_last_rech_data_6 date_of_last_rech_data_7  \\\n",
              "0                   0                6/21/2014                7/16/2014   \n",
              "1                   0                      NaN                7/25/2014   \n",
              "2                   0                      NaN                      NaN   \n",
              "3                  30                      NaN                      NaN   \n",
              "4                  50                 6/4/2014                      NaN   \n",
              "\n",
              "  date_of_last_rech_data_8 date_of_last_rech_data_9  total_rech_data_6  \\\n",
              "0                 8/8/2014                      NaN                1.0   \n",
              "1                8/10/2014                      NaN                NaN   \n",
              "2                      NaN                9/17/2014                NaN   \n",
              "3                      NaN                      NaN                NaN   \n",
              "4                      NaN                      NaN                1.0   \n",
              "\n",
              "   total_rech_data_7  total_rech_data_8  total_rech_data_9  max_rech_data_6  \\\n",
              "0                1.0                1.0                NaN            252.0   \n",
              "1                1.0                2.0                NaN              NaN   \n",
              "2                NaN                NaN                1.0              NaN   \n",
              "3                NaN                NaN                NaN              NaN   \n",
              "4                NaN                NaN                NaN             56.0   \n",
              "\n",
              "   max_rech_data_7  max_rech_data_8  max_rech_data_9  count_rech_2g_6  \\\n",
              "0            252.0            252.0              NaN              0.0   \n",
              "1            154.0             25.0              NaN              NaN   \n",
              "2              NaN              NaN             46.0              NaN   \n",
              "3              NaN              NaN              NaN              NaN   \n",
              "4              NaN              NaN              NaN              1.0   \n",
              "\n",
              "   count_rech_2g_7  count_rech_2g_8  count_rech_2g_9  count_rech_3g_6  \\\n",
              "0              0.0              0.0              NaN              1.0   \n",
              "1              1.0              2.0              NaN              NaN   \n",
              "2              NaN              NaN              1.0              NaN   \n",
              "3              NaN              NaN              NaN              NaN   \n",
              "4              NaN              NaN              NaN              0.0   \n",
              "\n",
              "   count_rech_3g_7  count_rech_3g_8  count_rech_3g_9  av_rech_amt_data_6  \\\n",
              "0              1.0              1.0              NaN               252.0   \n",
              "1              0.0              0.0              NaN                 NaN   \n",
              "2              NaN              NaN              0.0                 NaN   \n",
              "3              NaN              NaN              NaN                 NaN   \n",
              "4              NaN              NaN              NaN                56.0   \n",
              "\n",
              "   av_rech_amt_data_7  av_rech_amt_data_8  av_rech_amt_data_9  vol_2g_mb_6  \\\n",
              "0               252.0               252.0                 NaN        30.13   \n",
              "1               154.0                50.0                 NaN         0.00   \n",
              "2                 NaN                 NaN                46.0         0.00   \n",
              "3                 NaN                 NaN                 NaN         0.00   \n",
              "4                 NaN                 NaN                 NaN         0.00   \n",
              "\n",
              "   vol_2g_mb_7  vol_2g_mb_8  vol_2g_mb_9  vol_3g_mb_6  vol_3g_mb_7  \\\n",
              "0         1.32         5.75          0.0        83.57       150.76   \n",
              "1       108.07       365.47          0.0         0.00         0.00   \n",
              "2         0.00         0.00          0.0         0.00         0.00   \n",
              "3         0.00         0.00          0.0         0.00         0.00   \n",
              "4         0.00         0.00          0.0         0.00         0.00   \n",
              "\n",
              "   vol_3g_mb_8  vol_3g_mb_9  arpu_3g_6  arpu_3g_7  arpu_3g_8  arpu_3g_9  \\\n",
              "0       109.61         0.00     212.17     212.17     212.17        NaN   \n",
              "1         0.00         0.00        NaN       0.00       0.00        NaN   \n",
              "2         0.00         8.42        NaN        NaN        NaN       2.84   \n",
              "3         0.00         0.00        NaN        NaN        NaN        NaN   \n",
              "4         0.00         0.00       0.00        NaN        NaN        NaN   \n",
              "\n",
              "   arpu_2g_6  arpu_2g_7  arpu_2g_8  arpu_2g_9  night_pck_user_6  \\\n",
              "0     212.17     212.17     212.17        NaN               0.0   \n",
              "1        NaN      28.61       7.60        NaN               NaN   \n",
              "2        NaN        NaN        NaN        0.0               NaN   \n",
              "3        NaN        NaN        NaN        NaN               NaN   \n",
              "4       0.00        NaN        NaN        NaN               0.0   \n",
              "\n",
              "   night_pck_user_7  night_pck_user_8  night_pck_user_9  monthly_2g_6  \\\n",
              "0               0.0               0.0               NaN             0   \n",
              "1               0.0               0.0               NaN             0   \n",
              "2               NaN               NaN               0.0             0   \n",
              "3               NaN               NaN               NaN             0   \n",
              "4               NaN               NaN               NaN             0   \n",
              "\n",
              "   monthly_2g_7  monthly_2g_8  monthly_2g_9  sachet_2g_6  sachet_2g_7  \\\n",
              "0             0             0             0            0            0   \n",
              "1             1             0             0            0            0   \n",
              "2             0             0             0            0            0   \n",
              "3             0             0             0            0            0   \n",
              "4             0             0             0            1            0   \n",
              "\n",
              "   sachet_2g_8  sachet_2g_9  monthly_3g_6  monthly_3g_7  monthly_3g_8  \\\n",
              "0            0            0             1             1             1   \n",
              "1            2            0             0             0             0   \n",
              "2            0            1             0             0             0   \n",
              "3            0            0             0             0             0   \n",
              "4            0            0             0             0             0   \n",
              "\n",
              "   monthly_3g_9  sachet_3g_6  sachet_3g_7  sachet_3g_8  sachet_3g_9  \\\n",
              "0             0            0            0            0            0   \n",
              "1             0            0            0            0            0   \n",
              "2             0            0            0            0            0   \n",
              "3             0            0            0            0            0   \n",
              "4             0            0            0            0            0   \n",
              "\n",
              "   fb_user_6  fb_user_7  fb_user_8  fb_user_9   aon  aug_vbc_3g  jul_vbc_3g  \\\n",
              "0        1.0        1.0        1.0        NaN   968        30.4         0.0   \n",
              "1        NaN        1.0        1.0        NaN  1006         0.0         0.0   \n",
              "2        NaN        NaN        NaN        1.0  1103         0.0         0.0   \n",
              "3        NaN        NaN        NaN        NaN  2491         0.0         0.0   \n",
              "4        0.0        NaN        NaN        NaN  1526         0.0         0.0   \n",
              "\n",
              "   jun_vbc_3g  sep_vbc_3g  \n",
              "0      101.20        3.58  \n",
              "1        0.00        0.00  \n",
              "2        4.17        0.00  \n",
              "3        0.00        0.00  \n",
              "4        0.00        0.00  "
            ]
          },
          "metadata": {
            "tags": []
          },
          "execution_count": 7
        }
      ]
    },
    {
      "cell_type": "code",
      "metadata": {
        "colab": {
          "base_uri": "https://localhost:8080/"
        },
        "id": "2J2gqo-4r_4B",
        "outputId": "e9f631be-61aa-4da2-fa93-1452cd8590af"
      },
      "source": [
        "df.shape"
      ],
      "execution_count": 8,
      "outputs": [
        {
          "output_type": "execute_result",
          "data": {
            "text/plain": [
              "(99999, 226)"
            ]
          },
          "metadata": {
            "tags": []
          },
          "execution_count": 8
        }
      ]
    },
    {
      "cell_type": "code",
      "metadata": {
        "colab": {
          "base_uri": "https://localhost:8080/"
        },
        "id": "lw_f39dur_4B",
        "outputId": "c6bf321f-44d9-4dd6-8da2-01b47c69fcfc"
      },
      "source": [
        "df.columns"
      ],
      "execution_count": 9,
      "outputs": [
        {
          "output_type": "execute_result",
          "data": {
            "text/plain": [
              "Index(['mobile_number', 'circle_id', 'loc_og_t2o_mou', 'std_og_t2o_mou',\n",
              "       'loc_ic_t2o_mou', 'last_date_of_month_6', 'last_date_of_month_7',\n",
              "       'last_date_of_month_8', 'last_date_of_month_9', 'arpu_6',\n",
              "       ...\n",
              "       'sachet_3g_9', 'fb_user_6', 'fb_user_7', 'fb_user_8', 'fb_user_9',\n",
              "       'aon', 'aug_vbc_3g', 'jul_vbc_3g', 'jun_vbc_3g', 'sep_vbc_3g'],\n",
              "      dtype='object', length=226)"
            ]
          },
          "metadata": {
            "tags": []
          },
          "execution_count": 9
        }
      ]
    },
    {
      "cell_type": "code",
      "metadata": {
        "colab": {
          "base_uri": "https://localhost:8080/"
        },
        "id": "ALt7zr7Jr_4B",
        "outputId": "e19c0d2b-85f4-4bbd-df2a-dca989895988"
      },
      "source": [
        "df.isnull().sum()"
      ],
      "execution_count": 10,
      "outputs": [
        {
          "output_type": "execute_result",
          "data": {
            "text/plain": [
              "mobile_number        0\n",
              "circle_id            0\n",
              "loc_og_t2o_mou    1018\n",
              "std_og_t2o_mou    1018\n",
              "loc_ic_t2o_mou    1018\n",
              "                  ... \n",
              "aon                  0\n",
              "aug_vbc_3g           0\n",
              "jul_vbc_3g           0\n",
              "jun_vbc_3g           0\n",
              "sep_vbc_3g           0\n",
              "Length: 226, dtype: int64"
            ]
          },
          "metadata": {
            "tags": []
          },
          "execution_count": 10
        }
      ]
    },
    {
      "cell_type": "code",
      "metadata": {
        "collapsed": true,
        "id": "LAgiTzDQr_4C"
      },
      "source": [
        "columns_null = df.columns[(df.isnull().sum())>0]\n",
        "d={}\n",
        "for col in columns_null:\n",
        "  d[col] = df[col].isnull().sum()"
      ],
      "execution_count": 11,
      "outputs": []
    },
    {
      "cell_type": "code",
      "metadata": {
        "colab": {
          "base_uri": "https://localhost:8080/"
        },
        "id": "lSGY_53mr_4D",
        "outputId": "0876b246-911a-4869-9a3e-6a7017311d8a"
      },
      "source": [
        "#storing the null columns in a saparate dictionary.\n",
        "for k,v in d.items():\n",
        "  print(k,\" \",v)"
      ],
      "execution_count": 12,
      "outputs": [
        {
          "output_type": "stream",
          "text": [
            "loc_og_t2o_mou   1018\n",
            "std_og_t2o_mou   1018\n",
            "loc_ic_t2o_mou   1018\n",
            "last_date_of_month_7   601\n",
            "last_date_of_month_8   1100\n",
            "last_date_of_month_9   1659\n",
            "onnet_mou_6   3937\n",
            "onnet_mou_7   3859\n",
            "onnet_mou_8   5378\n",
            "onnet_mou_9   7745\n",
            "offnet_mou_6   3937\n",
            "offnet_mou_7   3859\n",
            "offnet_mou_8   5378\n",
            "offnet_mou_9   7745\n",
            "roam_ic_mou_6   3937\n",
            "roam_ic_mou_7   3859\n",
            "roam_ic_mou_8   5378\n",
            "roam_ic_mou_9   7745\n",
            "roam_og_mou_6   3937\n",
            "roam_og_mou_7   3859\n",
            "roam_og_mou_8   5378\n",
            "roam_og_mou_9   7745\n",
            "loc_og_t2t_mou_6   3937\n",
            "loc_og_t2t_mou_7   3859\n",
            "loc_og_t2t_mou_8   5378\n",
            "loc_og_t2t_mou_9   7745\n",
            "loc_og_t2m_mou_6   3937\n",
            "loc_og_t2m_mou_7   3859\n",
            "loc_og_t2m_mou_8   5378\n",
            "loc_og_t2m_mou_9   7745\n",
            "loc_og_t2f_mou_6   3937\n",
            "loc_og_t2f_mou_7   3859\n",
            "loc_og_t2f_mou_8   5378\n",
            "loc_og_t2f_mou_9   7745\n",
            "loc_og_t2c_mou_6   3937\n",
            "loc_og_t2c_mou_7   3859\n",
            "loc_og_t2c_mou_8   5378\n",
            "loc_og_t2c_mou_9   7745\n",
            "loc_og_mou_6   3937\n",
            "loc_og_mou_7   3859\n",
            "loc_og_mou_8   5378\n",
            "loc_og_mou_9   7745\n",
            "std_og_t2t_mou_6   3937\n",
            "std_og_t2t_mou_7   3859\n",
            "std_og_t2t_mou_8   5378\n",
            "std_og_t2t_mou_9   7745\n",
            "std_og_t2m_mou_6   3937\n",
            "std_og_t2m_mou_7   3859\n",
            "std_og_t2m_mou_8   5378\n",
            "std_og_t2m_mou_9   7745\n",
            "std_og_t2f_mou_6   3937\n",
            "std_og_t2f_mou_7   3859\n",
            "std_og_t2f_mou_8   5378\n",
            "std_og_t2f_mou_9   7745\n",
            "std_og_t2c_mou_6   3937\n",
            "std_og_t2c_mou_7   3859\n",
            "std_og_t2c_mou_8   5378\n",
            "std_og_t2c_mou_9   7745\n",
            "std_og_mou_6   3937\n",
            "std_og_mou_7   3859\n",
            "std_og_mou_8   5378\n",
            "std_og_mou_9   7745\n",
            "isd_og_mou_6   3937\n",
            "isd_og_mou_7   3859\n",
            "isd_og_mou_8   5378\n",
            "isd_og_mou_9   7745\n",
            "spl_og_mou_6   3937\n",
            "spl_og_mou_7   3859\n",
            "spl_og_mou_8   5378\n",
            "spl_og_mou_9   7745\n",
            "og_others_6   3937\n",
            "og_others_7   3859\n",
            "og_others_8   5378\n",
            "og_others_9   7745\n",
            "loc_ic_t2t_mou_6   3937\n",
            "loc_ic_t2t_mou_7   3859\n",
            "loc_ic_t2t_mou_8   5378\n",
            "loc_ic_t2t_mou_9   7745\n",
            "loc_ic_t2m_mou_6   3937\n",
            "loc_ic_t2m_mou_7   3859\n",
            "loc_ic_t2m_mou_8   5378\n",
            "loc_ic_t2m_mou_9   7745\n",
            "loc_ic_t2f_mou_6   3937\n",
            "loc_ic_t2f_mou_7   3859\n",
            "loc_ic_t2f_mou_8   5378\n",
            "loc_ic_t2f_mou_9   7745\n",
            "loc_ic_mou_6   3937\n",
            "loc_ic_mou_7   3859\n",
            "loc_ic_mou_8   5378\n",
            "loc_ic_mou_9   7745\n",
            "std_ic_t2t_mou_6   3937\n",
            "std_ic_t2t_mou_7   3859\n",
            "std_ic_t2t_mou_8   5378\n",
            "std_ic_t2t_mou_9   7745\n",
            "std_ic_t2m_mou_6   3937\n",
            "std_ic_t2m_mou_7   3859\n",
            "std_ic_t2m_mou_8   5378\n",
            "std_ic_t2m_mou_9   7745\n",
            "std_ic_t2f_mou_6   3937\n",
            "std_ic_t2f_mou_7   3859\n",
            "std_ic_t2f_mou_8   5378\n",
            "std_ic_t2f_mou_9   7745\n",
            "std_ic_t2o_mou_6   3937\n",
            "std_ic_t2o_mou_7   3859\n",
            "std_ic_t2o_mou_8   5378\n",
            "std_ic_t2o_mou_9   7745\n",
            "std_ic_mou_6   3937\n",
            "std_ic_mou_7   3859\n",
            "std_ic_mou_8   5378\n",
            "std_ic_mou_9   7745\n",
            "spl_ic_mou_6   3937\n",
            "spl_ic_mou_7   3859\n",
            "spl_ic_mou_8   5378\n",
            "spl_ic_mou_9   7745\n",
            "isd_ic_mou_6   3937\n",
            "isd_ic_mou_7   3859\n",
            "isd_ic_mou_8   5378\n",
            "isd_ic_mou_9   7745\n",
            "ic_others_6   3937\n",
            "ic_others_7   3859\n",
            "ic_others_8   5378\n",
            "ic_others_9   7745\n",
            "date_of_last_rech_6   1607\n",
            "date_of_last_rech_7   1767\n",
            "date_of_last_rech_8   3622\n",
            "date_of_last_rech_9   4760\n",
            "date_of_last_rech_data_6   74846\n",
            "date_of_last_rech_data_7   74428\n",
            "date_of_last_rech_data_8   73660\n",
            "date_of_last_rech_data_9   74077\n",
            "total_rech_data_6   74846\n",
            "total_rech_data_7   74428\n",
            "total_rech_data_8   73660\n",
            "total_rech_data_9   74077\n",
            "max_rech_data_6   74846\n",
            "max_rech_data_7   74428\n",
            "max_rech_data_8   73660\n",
            "max_rech_data_9   74077\n",
            "count_rech_2g_6   74846\n",
            "count_rech_2g_7   74428\n",
            "count_rech_2g_8   73660\n",
            "count_rech_2g_9   74077\n",
            "count_rech_3g_6   74846\n",
            "count_rech_3g_7   74428\n",
            "count_rech_3g_8   73660\n",
            "count_rech_3g_9   74077\n",
            "av_rech_amt_data_6   74846\n",
            "av_rech_amt_data_7   74428\n",
            "av_rech_amt_data_8   73660\n",
            "av_rech_amt_data_9   74077\n",
            "arpu_3g_6   74846\n",
            "arpu_3g_7   74428\n",
            "arpu_3g_8   73660\n",
            "arpu_3g_9   74077\n",
            "arpu_2g_6   74846\n",
            "arpu_2g_7   74428\n",
            "arpu_2g_8   73660\n",
            "arpu_2g_9   74077\n",
            "night_pck_user_6   74846\n",
            "night_pck_user_7   74428\n",
            "night_pck_user_8   73660\n",
            "night_pck_user_9   74077\n",
            "fb_user_6   74846\n",
            "fb_user_7   74428\n",
            "fb_user_8   73660\n",
            "fb_user_9   74077\n"
          ],
          "name": "stdout"
        }
      ]
    },
    {
      "cell_type": "code",
      "metadata": {
        "colab": {
          "base_uri": "https://localhost:8080/"
        },
        "id": "0d-FzXxNr_4D",
        "outputId": "8790c5c3-6457-4437-88f6-0503e987bfc1"
      },
      "source": [
        "### RECHARGE COLUMNS LIST\n",
        "rech_columns = df.columns[(df.columns.str.contains('rech_amt|rech_data'))]\n",
        "print(rech_columns)"
      ],
      "execution_count": 13,
      "outputs": [
        {
          "output_type": "stream",
          "text": [
            "Index(['total_rech_amt_6', 'total_rech_amt_7', 'total_rech_amt_8',\n",
            "       'total_rech_amt_9', 'max_rech_amt_6', 'max_rech_amt_7',\n",
            "       'max_rech_amt_8', 'max_rech_amt_9', 'date_of_last_rech_data_6',\n",
            "       'date_of_last_rech_data_7', 'date_of_last_rech_data_8',\n",
            "       'date_of_last_rech_data_9', 'total_rech_data_6', 'total_rech_data_7',\n",
            "       'total_rech_data_8', 'total_rech_data_9', 'max_rech_data_6',\n",
            "       'max_rech_data_7', 'max_rech_data_8', 'max_rech_data_9',\n",
            "       'av_rech_amt_data_6', 'av_rech_amt_data_7', 'av_rech_amt_data_8',\n",
            "       'av_rech_amt_data_9'],\n",
            "      dtype='object')\n"
          ],
          "name": "stdout"
        }
      ]
    },
    {
      "cell_type": "code",
      "metadata": {
        "collapsed": true,
        "id": "IophAPsyr_4D"
      },
      "source": [
        "null_rech_columns = set(rech_columns).intersection(set(columns_null))"
      ],
      "execution_count": 14,
      "outputs": []
    },
    {
      "cell_type": "code",
      "metadata": {
        "colab": {
          "base_uri": "https://localhost:8080/"
        },
        "id": "52zKzPLLr_4E",
        "outputId": "f8f0d820-83a2-42cd-871c-c1fa6b695668"
      },
      "source": [
        "### RECHARGE COLUMNS WITH NULL VALUES\n",
        "null_rech_columns"
      ],
      "execution_count": 15,
      "outputs": [
        {
          "output_type": "execute_result",
          "data": {
            "text/plain": [
              "{'av_rech_amt_data_6',\n",
              " 'av_rech_amt_data_7',\n",
              " 'av_rech_amt_data_8',\n",
              " 'av_rech_amt_data_9',\n",
              " 'date_of_last_rech_data_6',\n",
              " 'date_of_last_rech_data_7',\n",
              " 'date_of_last_rech_data_8',\n",
              " 'date_of_last_rech_data_9',\n",
              " 'max_rech_data_6',\n",
              " 'max_rech_data_7',\n",
              " 'max_rech_data_8',\n",
              " 'max_rech_data_9',\n",
              " 'total_rech_data_6',\n",
              " 'total_rech_data_7',\n",
              " 'total_rech_data_8',\n",
              " 'total_rech_data_9'}"
            ]
          },
          "metadata": {
            "tags": []
          },
          "execution_count": 15
        }
      ]
    },
    {
      "cell_type": "code",
      "metadata": {
        "colab": {
          "base_uri": "https://localhost:8080/"
        },
        "id": "PEw3srC4r_4F",
        "outputId": "5524d7d3-f426-4006-965b-cdb0e54aae37"
      },
      "source": [
        "## ANALYZING TOTAL NO. OF DATA RECHARGES OVER MONTHS\n",
        "lst_data_recharges_months = [df['total_rech_data_6'].sum(), df['total_rech_data_7'].sum(), df['total_rech_data_8'].sum(), df['total_rech_data_9'].sum()]\n",
        "lst_data_recharges_months"
      ],
      "execution_count": 16,
      "outputs": [
        {
          "output_type": "execute_result",
          "data": {
            "text/plain": [
              "[61972.0, 68183.0, 69851.0, 63280.0]"
            ]
          },
          "metadata": {
            "tags": []
          },
          "execution_count": 16
        }
      ]
    },
    {
      "cell_type": "code",
      "metadata": {
        "colab": {
          "base_uri": "https://localhost:8080/"
        },
        "id": "0bNigIZdr_4F",
        "outputId": "380c94a8-20bc-4853-a4f5-ced93e175131"
      },
      "source": [
        "## ANALYZING TOTAL RECHARGE AMOUNT OVER MONTHS\n",
        "lst_rech_amt_sum = [df['total_rech_amt_6'].sum(), df['total_rech_amt_7'].sum(), df['total_rech_amt_8'].sum(), df['total_rech_amt_9'].sum() ]\n",
        "lst_rech_amt_sum"
      ],
      "execution_count": 17,
      "outputs": [
        {
          "output_type": "execute_result",
          "data": {
            "text/plain": [
              "[32751134, 32295974, 32415388, 30334264]"
            ]
          },
          "metadata": {
            "tags": []
          },
          "execution_count": 17
        }
      ]
    },
    {
      "cell_type": "code",
      "metadata": {
        "colab": {
          "base_uri": "https://localhost:8080/"
        },
        "id": "ZaM0v_Nvr_4G",
        "outputId": "7438b81a-9413-43e1-9c8d-1c8b028669e7"
      },
      "source": [
        "df['total_rech_data_6']"
      ],
      "execution_count": 18,
      "outputs": [
        {
          "output_type": "execute_result",
          "data": {
            "text/plain": [
              "0        1.0\n",
              "1        NaN\n",
              "2        NaN\n",
              "3        NaN\n",
              "4        1.0\n",
              "        ... \n",
              "99994    NaN\n",
              "99995    NaN\n",
              "99996    2.0\n",
              "99997    3.0\n",
              "99998    1.0\n",
              "Name: total_rech_data_6, Length: 99999, dtype: float64"
            ]
          },
          "metadata": {
            "tags": []
          },
          "execution_count": 18
        }
      ]
    },
    {
      "cell_type": "code",
      "metadata": {
        "colab": {
          "base_uri": "https://localhost:8080/"
        },
        "id": "WMgjzjF7r_4G",
        "outputId": "14d716e4-f47e-4806-ae53-18304dd7f450"
      },
      "source": [
        "df['av_rech_amt_data_6']\n",
        "### NULL VALUES REPRESENT NO RECHARGE FOR DATA"
      ],
      "execution_count": 19,
      "outputs": [
        {
          "output_type": "execute_result",
          "data": {
            "text/plain": [
              "0        252.0\n",
              "1          NaN\n",
              "2          NaN\n",
              "3          NaN\n",
              "4         56.0\n",
              "         ...  \n",
              "99994      NaN\n",
              "99995      NaN\n",
              "99996     39.0\n",
              "99997    583.0\n",
              "99998    154.0\n",
              "Name: av_rech_amt_data_6, Length: 99999, dtype: float64"
            ]
          },
          "metadata": {
            "tags": []
          },
          "execution_count": 19
        }
      ]
    },
    {
      "cell_type": "code",
      "metadata": {
        "collapsed": true,
        "id": "h0MxOAonr_4G"
      },
      "source": [
        "df['total_rech_data_6'] = df['total_rech_data_6'].fillna(0, inplace = False)\n",
        "df['total_rech_data_7'] = df['total_rech_data_7'].fillna(0, inplace = False)\n",
        "df['total_rech_data_8'] = df['total_rech_data_8'].fillna(0, inplace = False)"
      ],
      "execution_count": 20,
      "outputs": []
    },
    {
      "cell_type": "code",
      "metadata": {
        "collapsed": true,
        "id": "TktYn07Er_4H"
      },
      "source": [
        "df['av_rech_amt_data_6'] = df['av_rech_amt_data_6'].fillna(0, inplace = False)\n",
        "df['av_rech_amt_data_7'] = df['av_rech_amt_data_7'].fillna(0, inplace = False)\n",
        "df['av_rech_amt_data_8'] = df['av_rech_amt_data_8'].fillna(0, inplace = False)"
      ],
      "execution_count": 21,
      "outputs": []
    },
    {
      "cell_type": "code",
      "metadata": {
        "collapsed": true,
        "id": "RUOdH3fmr_4I"
      },
      "source": [
        "### DERIVING NEW COLUMN\n",
        "df['total_rech_amt_data_6'] = df['total_rech_data_6']*df['av_rech_amt_data_6']\n",
        "df['total_rech_amt_data_7'] = df['total_rech_data_7']*df['av_rech_amt_data_7']\n",
        "df['total_rech_amt_data_8'] = df['total_rech_data_8']*df['av_rech_amt_data_8']"
      ],
      "execution_count": 22,
      "outputs": []
    },
    {
      "cell_type": "code",
      "metadata": {
        "colab": {
          "base_uri": "https://localhost:8080/"
        },
        "id": "twcYdSmyr_4I",
        "outputId": "3dec8591-1b28-4f6f-a128-9ebf0a4c055d"
      },
      "source": [
        "df['total_rech_amt_data_6']"
      ],
      "execution_count": 23,
      "outputs": [
        {
          "output_type": "execute_result",
          "data": {
            "text/plain": [
              "0         252.0\n",
              "1           0.0\n",
              "2           0.0\n",
              "3           0.0\n",
              "4          56.0\n",
              "          ...  \n",
              "99994       0.0\n",
              "99995       0.0\n",
              "99996      78.0\n",
              "99997    1749.0\n",
              "99998     154.0\n",
              "Name: total_rech_amt_data_6, Length: 99999, dtype: float64"
            ]
          },
          "metadata": {
            "tags": []
          },
          "execution_count": 23
        }
      ]
    },
    {
      "cell_type": "code",
      "metadata": {
        "colab": {
          "base_uri": "https://localhost:8080/"
        },
        "id": "ksMk3IA3r_4I",
        "outputId": "a2c16997-b94c-439b-87cb-9480e0326acb"
      },
      "source": [
        "df['total_rech_amt_6']"
      ],
      "execution_count": 24,
      "outputs": [
        {
          "output_type": "execute_result",
          "data": {
            "text/plain": [
              "0        362\n",
              "1         74\n",
              "2        168\n",
              "3        230\n",
              "4        196\n",
              "        ... \n",
              "99994     60\n",
              "99995    110\n",
              "99996    119\n",
              "99997    381\n",
              "99998    710\n",
              "Name: total_rech_amt_6, Length: 99999, dtype: int64"
            ]
          },
          "metadata": {
            "tags": []
          },
          "execution_count": 24
        }
      ]
    },
    {
      "cell_type": "code",
      "metadata": {
        "collapsed": true,
        "id": "xOWXcvAor_4J"
      },
      "source": [
        "df['total_avg_rchg_amount_6_7'] = (df['total_rech_amt_6'] + df['total_rech_amt_data_6']+ df['total_rech_amt_7'] + df['total_rech_amt_data_7'] )/2"
      ],
      "execution_count": 25,
      "outputs": []
    },
    {
      "cell_type": "code",
      "metadata": {
        "colab": {
          "base_uri": "https://localhost:8080/"
        },
        "id": "p0cMkxrRr_4J",
        "outputId": "e7f343c0-6eaf-4b0e-f016-790a65c75d44"
      },
      "source": [
        "### DEFINING HIGH VALUE CUSTOMERS CRITERIA\n",
        "filter_amount = df['total_avg_rchg_amount_6_7'].quantile(0.7)\n",
        "filter_amount"
      ],
      "execution_count": 26,
      "outputs": [
        {
          "output_type": "execute_result",
          "data": {
            "text/plain": [
              "478.0"
            ]
          },
          "metadata": {
            "tags": []
          },
          "execution_count": 26
        }
      ]
    },
    {
      "cell_type": "code",
      "metadata": {
        "colab": {
          "base_uri": "https://localhost:8080/"
        },
        "id": "M9YOE0b-r_4K",
        "outputId": "488f706c-9ce3-4c36-afc4-606c9621eff5"
      },
      "source": [
        "df_high_value = df[df['total_avg_rchg_amount_6_7']>filter_amount]\n",
        "df_high_value.shape"
      ],
      "execution_count": 27,
      "outputs": [
        {
          "output_type": "execute_result",
          "data": {
            "text/plain": [
              "(29953, 230)"
            ]
          },
          "metadata": {
            "tags": []
          },
          "execution_count": 27
        }
      ]
    },
    {
      "cell_type": "code",
      "metadata": {
        "collapsed": true,
        "id": "yDFu6HxPr_4K"
      },
      "source": [
        "nunique = df_high_value.apply(pd.Series.nunique)\n",
        "cols_to_drop = nunique[nunique == 1].index"
      ],
      "execution_count": 28,
      "outputs": []
    },
    {
      "cell_type": "code",
      "metadata": {
        "colab": {
          "base_uri": "https://localhost:8080/"
        },
        "id": "NWXiQkvXr_4L",
        "outputId": "46100251-f39c-4bec-cb5a-56a1d8a106c1"
      },
      "source": [
        "cols_to_drop"
      ],
      "execution_count": 29,
      "outputs": [
        {
          "output_type": "execute_result",
          "data": {
            "text/plain": [
              "Index(['circle_id', 'loc_og_t2o_mou', 'std_og_t2o_mou', 'loc_ic_t2o_mou',\n",
              "       'last_date_of_month_6', 'last_date_of_month_7', 'last_date_of_month_8',\n",
              "       'last_date_of_month_9', 'std_og_t2c_mou_6', 'std_og_t2c_mou_7',\n",
              "       'std_og_t2c_mou_8', 'std_og_t2c_mou_9', 'std_ic_t2o_mou_6',\n",
              "       'std_ic_t2o_mou_7', 'std_ic_t2o_mou_8', 'std_ic_t2o_mou_9'],\n",
              "      dtype='object')"
            ]
          },
          "metadata": {
            "tags": []
          },
          "execution_count": 29
        }
      ]
    },
    {
      "cell_type": "code",
      "metadata": {
        "colab": {
          "base_uri": "https://localhost:8080/"
        },
        "id": "TS2VM_T7r_4M",
        "outputId": "05461596-8285-40f4-f6f7-c6b5965e4f4b"
      },
      "source": [
        "for col in cols_to_drop:\n",
        "  print(df_high_value[col].value_counts())"
      ],
      "execution_count": 30,
      "outputs": [
        {
          "output_type": "stream",
          "text": [
            "109    29953\n",
            "Name: circle_id, dtype: int64\n",
            "0.0    29730\n",
            "Name: loc_og_t2o_mou, dtype: int64\n",
            "0.0    29730\n",
            "Name: std_og_t2o_mou, dtype: int64\n",
            "0.0    29730\n",
            "Name: loc_ic_t2o_mou, dtype: int64\n",
            "6/30/2014    29953\n",
            "Name: last_date_of_month_6, dtype: int64\n",
            "7/31/2014    29926\n",
            "Name: last_date_of_month_7, dtype: int64\n",
            "8/31/2014    29788\n",
            "Name: last_date_of_month_8, dtype: int64\n",
            "9/30/2014    29588\n",
            "Name: last_date_of_month_9, dtype: int64\n",
            "0.0    29411\n",
            "Name: std_og_t2c_mou_6, dtype: int64\n",
            "0.0    29417\n",
            "Name: std_og_t2c_mou_7, dtype: int64\n",
            "0.0    28781\n",
            "Name: std_og_t2c_mou_8, dtype: int64\n",
            "0.0    28055\n",
            "Name: std_og_t2c_mou_9, dtype: int64\n",
            "0.0    29411\n",
            "Name: std_ic_t2o_mou_6, dtype: int64\n",
            "0.0    29417\n",
            "Name: std_ic_t2o_mou_7, dtype: int64\n",
            "0.0    28781\n",
            "Name: std_ic_t2o_mou_8, dtype: int64\n",
            "0.0    28055\n",
            "Name: std_ic_t2o_mou_9, dtype: int64\n"
          ],
          "name": "stdout"
        }
      ]
    },
    {
      "cell_type": "code",
      "metadata": {
        "id": "d8vMmL1jr_4M"
      },
      "source": [
        "### REMOVING COLUMNS WITH 1 UNIQUE VALUE\n",
        "for col in cols_to_drop:\n",
        "    df_high_value = df_high_value.drop(col, axis = 1)"
      ],
      "execution_count": 31,
      "outputs": []
    },
    {
      "cell_type": "code",
      "metadata": {
        "colab": {
          "base_uri": "https://localhost:8080/"
        },
        "id": "LVdUCRYKr_4N",
        "outputId": "afef0ebe-78f8-4135-8f4c-541080081941"
      },
      "source": [
        "df_high_value.shape"
      ],
      "execution_count": 32,
      "outputs": [
        {
          "output_type": "execute_result",
          "data": {
            "text/plain": [
              "(29953, 214)"
            ]
          },
          "metadata": {
            "tags": []
          },
          "execution_count": 32
        }
      ]
    },
    {
      "cell_type": "code",
      "metadata": {
        "collapsed": true,
        "id": "62wvoioNr_4N"
      },
      "source": [
        "### CHECKING ATTRIBUTES OF MONTH 9 TO FIND CHURN CUSTOMERS\n",
        "attr = ['total_ic_mou_9', 'total_og_mou_9', 'vol_2g_mb_9', 'vol_3g_mb_9']"
      ],
      "execution_count": 33,
      "outputs": []
    },
    {
      "cell_type": "code",
      "metadata": {
        "colab": {
          "base_uri": "https://localhost:8080/"
        },
        "id": "biAhQEoFr_4N",
        "outputId": "c443ce5c-56a2-45d6-ae03-40eccf53b25b"
      },
      "source": [
        "for col in attr:\n",
        "    print(df_high_value[col].isnull().sum())"
      ],
      "execution_count": 34,
      "outputs": [
        {
          "output_type": "stream",
          "text": [
            "0\n",
            "0\n",
            "0\n",
            "0\n"
          ],
          "name": "stdout"
        }
      ]
    },
    {
      "cell_type": "code",
      "metadata": {
        "collapsed": true,
        "id": "vWyZDATcr_4N"
      },
      "source": [
        "df_high_value['churn'] = 0"
      ],
      "execution_count": 35,
      "outputs": []
    },
    {
      "cell_type": "code",
      "metadata": {
        "id": "WGrqwEL2r_4O"
      },
      "source": [
        "### WHEREVER THESE VALUES ARE 0 WILL TAG CUSTOMER AS CHURN \n",
        "is_churned = (df_high_value.total_ic_mou_9 == 0) & \\\n",
        "             (df_high_value.total_og_mou_9 == 0) & \\\n",
        "             (df_high_value.vol_2g_mb_9 ==0) & \\\n",
        "             (df_high_value.vol_3g_mb_9 ==0)"
      ],
      "execution_count": 36,
      "outputs": []
    },
    {
      "cell_type": "code",
      "metadata": {
        "collapsed": true,
        "id": "eUm2fsIkr_4O"
      },
      "source": [
        "df_high_value.loc[is_churned,'churn']=1"
      ],
      "execution_count": 37,
      "outputs": []
    },
    {
      "cell_type": "code",
      "metadata": {
        "colab": {
          "base_uri": "https://localhost:8080/"
        },
        "id": "m6-cQjU9r_4P",
        "outputId": "9af68e78-39cd-472b-fcaa-4e392f06e86b"
      },
      "source": [
        "df_high_value.churn.value_counts()"
      ],
      "execution_count": 38,
      "outputs": [
        {
          "output_type": "execute_result",
          "data": {
            "text/plain": [
              "0    27520\n",
              "1     2433\n",
              "Name: churn, dtype: int64"
            ]
          },
          "metadata": {
            "tags": []
          },
          "execution_count": 38
        }
      ]
    },
    {
      "cell_type": "code",
      "metadata": {
        "colab": {
          "base_uri": "https://localhost:8080/"
        },
        "id": "u3sTLs6nr_4P",
        "outputId": "6082627a-f078-4411-d0de-b2ee0bccd889"
      },
      "source": [
        "## PERCENTAGE CHURN \n",
        "(2433/29953)*100"
      ],
      "execution_count": 39,
      "outputs": [
        {
          "output_type": "execute_result",
          "data": {
            "text/plain": [
              "8.122725603445398"
            ]
          },
          "metadata": {
            "tags": []
          },
          "execution_count": 39
        }
      ]
    },
    {
      "cell_type": "code",
      "metadata": {
        "collapsed": true,
        "id": "dJVGaDP8r_4Q"
      },
      "source": [
        "### DROPPING 4TH MONTH COLUMNS SO AS TO MAKE SURE NO DATA LEAKAGE \n",
        "churn_columns = df_high_value.columns[df_high_value.columns.str.contains('_9')]"
      ],
      "execution_count": 40,
      "outputs": []
    },
    {
      "cell_type": "code",
      "metadata": {
        "collapsed": true,
        "id": "Y4ZEaNefr_4Q"
      },
      "source": [
        "df_high_value.drop(churn_columns, axis = 1, inplace = True)"
      ],
      "execution_count": 41,
      "outputs": []
    },
    {
      "cell_type": "code",
      "metadata": {
        "colab": {
          "base_uri": "https://localhost:8080/"
        },
        "id": "aiexT2a1r_4Q",
        "outputId": "1bb294ca-1272-49a4-e870-fbe18393f54b"
      },
      "source": [
        "df_high_value.shape"
      ],
      "execution_count": 42,
      "outputs": [
        {
          "output_type": "execute_result",
          "data": {
            "text/plain": [
              "(29953, 164)"
            ]
          },
          "metadata": {
            "tags": []
          },
          "execution_count": 42
        }
      ]
    },
    {
      "cell_type": "code",
      "metadata": {
        "colab": {
          "base_uri": "https://localhost:8080/"
        },
        "id": "2qcNHN3jr_4R",
        "outputId": "1c23fb4d-4e64-4f1d-893f-841aa07899cc"
      },
      "source": [
        "## DATE COLUMNS\n",
        "date_columns = df_high_value.columns[df_high_value.columns.str.contains('date')]\n",
        "date_columns"
      ],
      "execution_count": 43,
      "outputs": [
        {
          "output_type": "execute_result",
          "data": {
            "text/plain": [
              "Index(['date_of_last_rech_6', 'date_of_last_rech_7', 'date_of_last_rech_8',\n",
              "       'date_of_last_rech_data_6', 'date_of_last_rech_data_7',\n",
              "       'date_of_last_rech_data_8'],\n",
              "      dtype='object')"
            ]
          },
          "metadata": {
            "tags": []
          },
          "execution_count": 43
        }
      ]
    },
    {
      "cell_type": "code",
      "metadata": {
        "collapsed": true,
        "id": "EQXuqqY5r_4R"
      },
      "source": [
        "### CONVERTING TO DATETYPE\n",
        "for col in date_columns:\n",
        "    df_high_value[col] = pd.to_datetime(df_high_value[col])"
      ],
      "execution_count": 44,
      "outputs": []
    },
    {
      "cell_type": "code",
      "metadata": {
        "colab": {
          "base_uri": "https://localhost:8080/"
        },
        "id": "sqWP3vqfr_4S",
        "outputId": "7e86fc59-6549-4bfb-cb04-842afaafe04c"
      },
      "source": [
        "df_high_value.info()"
      ],
      "execution_count": 45,
      "outputs": [
        {
          "output_type": "stream",
          "text": [
            "<class 'pandas.core.frame.DataFrame'>\n",
            "Int64Index: 29953 entries, 0 to 99997\n",
            "Columns: 164 entries, mobile_number to churn\n",
            "dtypes: datetime64[ns](6), float64(131), int64(27)\n",
            "memory usage: 37.7 MB\n"
          ],
          "name": "stdout"
        }
      ]
    },
    {
      "cell_type": "code",
      "metadata": {
        "collapsed": true,
        "id": "MoFuBuMvr_4S"
      },
      "source": [
        "columns_null = df_high_value.columns[(df_high_value.isnull().sum())>0]\n",
        "d={}\n",
        "for col in columns_null:\n",
        "    d[col] = df_high_value[col].isnull().sum()"
      ],
      "execution_count": 46,
      "outputs": []
    },
    {
      "cell_type": "code",
      "metadata": {
        "colab": {
          "base_uri": "https://localhost:8080/"
        },
        "id": "FRLlJSp4r_4S",
        "outputId": "62571feb-a104-4cbb-e941-2c717a3ea39f"
      },
      "source": [
        "for k,v in d.items():\n",
        "  print(k,\" \",v)"
      ],
      "execution_count": 47,
      "outputs": [
        {
          "output_type": "stream",
          "text": [
            "onnet_mou_6   542\n",
            "onnet_mou_7   536\n",
            "onnet_mou_8   1172\n",
            "offnet_mou_6   542\n",
            "offnet_mou_7   536\n",
            "offnet_mou_8   1172\n",
            "roam_ic_mou_6   542\n",
            "roam_ic_mou_7   536\n",
            "roam_ic_mou_8   1172\n",
            "roam_og_mou_6   542\n",
            "roam_og_mou_7   536\n",
            "roam_og_mou_8   1172\n",
            "loc_og_t2t_mou_6   542\n",
            "loc_og_t2t_mou_7   536\n",
            "loc_og_t2t_mou_8   1172\n",
            "loc_og_t2m_mou_6   542\n",
            "loc_og_t2m_mou_7   536\n",
            "loc_og_t2m_mou_8   1172\n",
            "loc_og_t2f_mou_6   542\n",
            "loc_og_t2f_mou_7   536\n",
            "loc_og_t2f_mou_8   1172\n",
            "loc_og_t2c_mou_6   542\n",
            "loc_og_t2c_mou_7   536\n",
            "loc_og_t2c_mou_8   1172\n",
            "loc_og_mou_6   542\n",
            "loc_og_mou_7   536\n",
            "loc_og_mou_8   1172\n",
            "std_og_t2t_mou_6   542\n",
            "std_og_t2t_mou_7   536\n",
            "std_og_t2t_mou_8   1172\n",
            "std_og_t2m_mou_6   542\n",
            "std_og_t2m_mou_7   536\n",
            "std_og_t2m_mou_8   1172\n",
            "std_og_t2f_mou_6   542\n",
            "std_og_t2f_mou_7   536\n",
            "std_og_t2f_mou_8   1172\n",
            "std_og_mou_6   542\n",
            "std_og_mou_7   536\n",
            "std_og_mou_8   1172\n",
            "isd_og_mou_6   542\n",
            "isd_og_mou_7   536\n",
            "isd_og_mou_8   1172\n",
            "spl_og_mou_6   542\n",
            "spl_og_mou_7   536\n",
            "spl_og_mou_8   1172\n",
            "og_others_6   542\n",
            "og_others_7   536\n",
            "og_others_8   1172\n",
            "loc_ic_t2t_mou_6   542\n",
            "loc_ic_t2t_mou_7   536\n",
            "loc_ic_t2t_mou_8   1172\n",
            "loc_ic_t2m_mou_6   542\n",
            "loc_ic_t2m_mou_7   536\n",
            "loc_ic_t2m_mou_8   1172\n",
            "loc_ic_t2f_mou_6   542\n",
            "loc_ic_t2f_mou_7   536\n",
            "loc_ic_t2f_mou_8   1172\n",
            "loc_ic_mou_6   542\n",
            "loc_ic_mou_7   536\n",
            "loc_ic_mou_8   1172\n",
            "std_ic_t2t_mou_6   542\n",
            "std_ic_t2t_mou_7   536\n",
            "std_ic_t2t_mou_8   1172\n",
            "std_ic_t2m_mou_6   542\n",
            "std_ic_t2m_mou_7   536\n",
            "std_ic_t2m_mou_8   1172\n",
            "std_ic_t2f_mou_6   542\n",
            "std_ic_t2f_mou_7   536\n",
            "std_ic_t2f_mou_8   1172\n",
            "std_ic_mou_6   542\n",
            "std_ic_mou_7   536\n",
            "std_ic_mou_8   1172\n",
            "spl_ic_mou_6   542\n",
            "spl_ic_mou_7   536\n",
            "spl_ic_mou_8   1172\n",
            "isd_ic_mou_6   542\n",
            "isd_ic_mou_7   536\n",
            "isd_ic_mou_8   1172\n",
            "ic_others_6   542\n",
            "ic_others_7   536\n",
            "ic_others_8   1172\n",
            "date_of_last_rech_6   73\n",
            "date_of_last_rech_7   98\n",
            "date_of_last_rech_8   582\n",
            "date_of_last_rech_data_6   13213\n",
            "date_of_last_rech_data_7   12915\n",
            "date_of_last_rech_data_8   14018\n",
            "max_rech_data_6   13213\n",
            "max_rech_data_7   12915\n",
            "max_rech_data_8   14018\n",
            "count_rech_2g_6   13213\n",
            "count_rech_2g_7   12915\n",
            "count_rech_2g_8   14018\n",
            "count_rech_3g_6   13213\n",
            "count_rech_3g_7   12915\n",
            "count_rech_3g_8   14018\n",
            "arpu_3g_6   13213\n",
            "arpu_3g_7   12915\n",
            "arpu_3g_8   14018\n",
            "arpu_2g_6   13213\n",
            "arpu_2g_7   12915\n",
            "arpu_2g_8   14018\n",
            "night_pck_user_6   13213\n",
            "night_pck_user_7   12915\n",
            "night_pck_user_8   14018\n",
            "fb_user_6   13213\n",
            "fb_user_7   12915\n",
            "fb_user_8   14018\n"
          ],
          "name": "stdout"
        }
      ]
    },
    {
      "cell_type": "code",
      "metadata": {
        "colab": {
          "base_uri": "https://localhost:8080/",
          "height": 224
        },
        "id": "oUHmtjTXr_4T",
        "outputId": "2bb045fb-b791-44c6-932c-d22881db16e1"
      },
      "source": [
        "df_high_value.head(5)"
      ],
      "execution_count": 48,
      "outputs": [
        {
          "output_type": "execute_result",
          "data": {
            "text/html": [
              "<div>\n",
              "<style scoped>\n",
              "    .dataframe tbody tr th:only-of-type {\n",
              "        vertical-align: middle;\n",
              "    }\n",
              "\n",
              "    .dataframe tbody tr th {\n",
              "        vertical-align: top;\n",
              "    }\n",
              "\n",
              "    .dataframe thead th {\n",
              "        text-align: right;\n",
              "    }\n",
              "</style>\n",
              "<table border=\"1\" class=\"dataframe\">\n",
              "  <thead>\n",
              "    <tr style=\"text-align: right;\">\n",
              "      <th></th>\n",
              "      <th>mobile_number</th>\n",
              "      <th>arpu_6</th>\n",
              "      <th>arpu_7</th>\n",
              "      <th>arpu_8</th>\n",
              "      <th>onnet_mou_6</th>\n",
              "      <th>onnet_mou_7</th>\n",
              "      <th>onnet_mou_8</th>\n",
              "      <th>offnet_mou_6</th>\n",
              "      <th>offnet_mou_7</th>\n",
              "      <th>offnet_mou_8</th>\n",
              "      <th>roam_ic_mou_6</th>\n",
              "      <th>roam_ic_mou_7</th>\n",
              "      <th>roam_ic_mou_8</th>\n",
              "      <th>roam_og_mou_6</th>\n",
              "      <th>roam_og_mou_7</th>\n",
              "      <th>roam_og_mou_8</th>\n",
              "      <th>loc_og_t2t_mou_6</th>\n",
              "      <th>loc_og_t2t_mou_7</th>\n",
              "      <th>loc_og_t2t_mou_8</th>\n",
              "      <th>loc_og_t2m_mou_6</th>\n",
              "      <th>loc_og_t2m_mou_7</th>\n",
              "      <th>loc_og_t2m_mou_8</th>\n",
              "      <th>loc_og_t2f_mou_6</th>\n",
              "      <th>loc_og_t2f_mou_7</th>\n",
              "      <th>loc_og_t2f_mou_8</th>\n",
              "      <th>loc_og_t2c_mou_6</th>\n",
              "      <th>loc_og_t2c_mou_7</th>\n",
              "      <th>loc_og_t2c_mou_8</th>\n",
              "      <th>loc_og_mou_6</th>\n",
              "      <th>loc_og_mou_7</th>\n",
              "      <th>loc_og_mou_8</th>\n",
              "      <th>std_og_t2t_mou_6</th>\n",
              "      <th>std_og_t2t_mou_7</th>\n",
              "      <th>std_og_t2t_mou_8</th>\n",
              "      <th>std_og_t2m_mou_6</th>\n",
              "      <th>std_og_t2m_mou_7</th>\n",
              "      <th>std_og_t2m_mou_8</th>\n",
              "      <th>std_og_t2f_mou_6</th>\n",
              "      <th>std_og_t2f_mou_7</th>\n",
              "      <th>std_og_t2f_mou_8</th>\n",
              "      <th>std_og_mou_6</th>\n",
              "      <th>std_og_mou_7</th>\n",
              "      <th>std_og_mou_8</th>\n",
              "      <th>isd_og_mou_6</th>\n",
              "      <th>isd_og_mou_7</th>\n",
              "      <th>isd_og_mou_8</th>\n",
              "      <th>spl_og_mou_6</th>\n",
              "      <th>spl_og_mou_7</th>\n",
              "      <th>spl_og_mou_8</th>\n",
              "      <th>og_others_6</th>\n",
              "      <th>og_others_7</th>\n",
              "      <th>og_others_8</th>\n",
              "      <th>total_og_mou_6</th>\n",
              "      <th>total_og_mou_7</th>\n",
              "      <th>total_og_mou_8</th>\n",
              "      <th>loc_ic_t2t_mou_6</th>\n",
              "      <th>loc_ic_t2t_mou_7</th>\n",
              "      <th>loc_ic_t2t_mou_8</th>\n",
              "      <th>loc_ic_t2m_mou_6</th>\n",
              "      <th>loc_ic_t2m_mou_7</th>\n",
              "      <th>loc_ic_t2m_mou_8</th>\n",
              "      <th>loc_ic_t2f_mou_6</th>\n",
              "      <th>loc_ic_t2f_mou_7</th>\n",
              "      <th>loc_ic_t2f_mou_8</th>\n",
              "      <th>loc_ic_mou_6</th>\n",
              "      <th>loc_ic_mou_7</th>\n",
              "      <th>loc_ic_mou_8</th>\n",
              "      <th>std_ic_t2t_mou_6</th>\n",
              "      <th>std_ic_t2t_mou_7</th>\n",
              "      <th>std_ic_t2t_mou_8</th>\n",
              "      <th>std_ic_t2m_mou_6</th>\n",
              "      <th>std_ic_t2m_mou_7</th>\n",
              "      <th>std_ic_t2m_mou_8</th>\n",
              "      <th>std_ic_t2f_mou_6</th>\n",
              "      <th>std_ic_t2f_mou_7</th>\n",
              "      <th>std_ic_t2f_mou_8</th>\n",
              "      <th>std_ic_mou_6</th>\n",
              "      <th>std_ic_mou_7</th>\n",
              "      <th>std_ic_mou_8</th>\n",
              "      <th>total_ic_mou_6</th>\n",
              "      <th>total_ic_mou_7</th>\n",
              "      <th>total_ic_mou_8</th>\n",
              "      <th>spl_ic_mou_6</th>\n",
              "      <th>spl_ic_mou_7</th>\n",
              "      <th>spl_ic_mou_8</th>\n",
              "      <th>isd_ic_mou_6</th>\n",
              "      <th>isd_ic_mou_7</th>\n",
              "      <th>isd_ic_mou_8</th>\n",
              "      <th>ic_others_6</th>\n",
              "      <th>ic_others_7</th>\n",
              "      <th>ic_others_8</th>\n",
              "      <th>total_rech_num_6</th>\n",
              "      <th>total_rech_num_7</th>\n",
              "      <th>total_rech_num_8</th>\n",
              "      <th>total_rech_amt_6</th>\n",
              "      <th>total_rech_amt_7</th>\n",
              "      <th>total_rech_amt_8</th>\n",
              "      <th>max_rech_amt_6</th>\n",
              "      <th>max_rech_amt_7</th>\n",
              "      <th>max_rech_amt_8</th>\n",
              "      <th>date_of_last_rech_6</th>\n",
              "      <th>date_of_last_rech_7</th>\n",
              "      <th>date_of_last_rech_8</th>\n",
              "      <th>last_day_rch_amt_6</th>\n",
              "      <th>last_day_rch_amt_7</th>\n",
              "      <th>last_day_rch_amt_8</th>\n",
              "      <th>date_of_last_rech_data_6</th>\n",
              "      <th>date_of_last_rech_data_7</th>\n",
              "      <th>date_of_last_rech_data_8</th>\n",
              "      <th>total_rech_data_6</th>\n",
              "      <th>total_rech_data_7</th>\n",
              "      <th>total_rech_data_8</th>\n",
              "      <th>max_rech_data_6</th>\n",
              "      <th>max_rech_data_7</th>\n",
              "      <th>max_rech_data_8</th>\n",
              "      <th>count_rech_2g_6</th>\n",
              "      <th>count_rech_2g_7</th>\n",
              "      <th>count_rech_2g_8</th>\n",
              "      <th>count_rech_3g_6</th>\n",
              "      <th>count_rech_3g_7</th>\n",
              "      <th>count_rech_3g_8</th>\n",
              "      <th>av_rech_amt_data_6</th>\n",
              "      <th>av_rech_amt_data_7</th>\n",
              "      <th>av_rech_amt_data_8</th>\n",
              "      <th>vol_2g_mb_6</th>\n",
              "      <th>vol_2g_mb_7</th>\n",
              "      <th>vol_2g_mb_8</th>\n",
              "      <th>vol_3g_mb_6</th>\n",
              "      <th>vol_3g_mb_7</th>\n",
              "      <th>vol_3g_mb_8</th>\n",
              "      <th>arpu_3g_6</th>\n",
              "      <th>arpu_3g_7</th>\n",
              "      <th>arpu_3g_8</th>\n",
              "      <th>arpu_2g_6</th>\n",
              "      <th>arpu_2g_7</th>\n",
              "      <th>arpu_2g_8</th>\n",
              "      <th>night_pck_user_6</th>\n",
              "      <th>night_pck_user_7</th>\n",
              "      <th>night_pck_user_8</th>\n",
              "      <th>monthly_2g_6</th>\n",
              "      <th>monthly_2g_7</th>\n",
              "      <th>monthly_2g_8</th>\n",
              "      <th>sachet_2g_6</th>\n",
              "      <th>sachet_2g_7</th>\n",
              "      <th>sachet_2g_8</th>\n",
              "      <th>monthly_3g_6</th>\n",
              "      <th>monthly_3g_7</th>\n",
              "      <th>monthly_3g_8</th>\n",
              "      <th>sachet_3g_6</th>\n",
              "      <th>sachet_3g_7</th>\n",
              "      <th>sachet_3g_8</th>\n",
              "      <th>fb_user_6</th>\n",
              "      <th>fb_user_7</th>\n",
              "      <th>fb_user_8</th>\n",
              "      <th>aon</th>\n",
              "      <th>aug_vbc_3g</th>\n",
              "      <th>jul_vbc_3g</th>\n",
              "      <th>jun_vbc_3g</th>\n",
              "      <th>sep_vbc_3g</th>\n",
              "      <th>total_rech_amt_data_6</th>\n",
              "      <th>total_rech_amt_data_7</th>\n",
              "      <th>total_rech_amt_data_8</th>\n",
              "      <th>total_avg_rchg_amount_6_7</th>\n",
              "      <th>churn</th>\n",
              "    </tr>\n",
              "  </thead>\n",
              "  <tbody>\n",
              "    <tr>\n",
              "      <th>0</th>\n",
              "      <td>7000842753</td>\n",
              "      <td>197.385</td>\n",
              "      <td>214.816</td>\n",
              "      <td>213.803</td>\n",
              "      <td>NaN</td>\n",
              "      <td>NaN</td>\n",
              "      <td>0.00</td>\n",
              "      <td>NaN</td>\n",
              "      <td>NaN</td>\n",
              "      <td>0.00</td>\n",
              "      <td>NaN</td>\n",
              "      <td>NaN</td>\n",
              "      <td>0.00</td>\n",
              "      <td>NaN</td>\n",
              "      <td>NaN</td>\n",
              "      <td>0.00</td>\n",
              "      <td>NaN</td>\n",
              "      <td>NaN</td>\n",
              "      <td>0.00</td>\n",
              "      <td>NaN</td>\n",
              "      <td>NaN</td>\n",
              "      <td>0.00</td>\n",
              "      <td>NaN</td>\n",
              "      <td>NaN</td>\n",
              "      <td>0.00</td>\n",
              "      <td>NaN</td>\n",
              "      <td>NaN</td>\n",
              "      <td>0.00</td>\n",
              "      <td>NaN</td>\n",
              "      <td>NaN</td>\n",
              "      <td>0.00</td>\n",
              "      <td>NaN</td>\n",
              "      <td>NaN</td>\n",
              "      <td>0.00</td>\n",
              "      <td>NaN</td>\n",
              "      <td>NaN</td>\n",
              "      <td>0.00</td>\n",
              "      <td>NaN</td>\n",
              "      <td>NaN</td>\n",
              "      <td>0.00</td>\n",
              "      <td>NaN</td>\n",
              "      <td>NaN</td>\n",
              "      <td>0.00</td>\n",
              "      <td>NaN</td>\n",
              "      <td>NaN</td>\n",
              "      <td>0.00</td>\n",
              "      <td>NaN</td>\n",
              "      <td>NaN</td>\n",
              "      <td>0.00</td>\n",
              "      <td>NaN</td>\n",
              "      <td>NaN</td>\n",
              "      <td>0.0</td>\n",
              "      <td>0.00</td>\n",
              "      <td>0.00</td>\n",
              "      <td>0.00</td>\n",
              "      <td>NaN</td>\n",
              "      <td>NaN</td>\n",
              "      <td>0.16</td>\n",
              "      <td>NaN</td>\n",
              "      <td>NaN</td>\n",
              "      <td>4.13</td>\n",
              "      <td>NaN</td>\n",
              "      <td>NaN</td>\n",
              "      <td>1.15</td>\n",
              "      <td>NaN</td>\n",
              "      <td>NaN</td>\n",
              "      <td>5.44</td>\n",
              "      <td>NaN</td>\n",
              "      <td>NaN</td>\n",
              "      <td>0.00</td>\n",
              "      <td>NaN</td>\n",
              "      <td>NaN</td>\n",
              "      <td>0.00</td>\n",
              "      <td>NaN</td>\n",
              "      <td>NaN</td>\n",
              "      <td>0.00</td>\n",
              "      <td>NaN</td>\n",
              "      <td>NaN</td>\n",
              "      <td>0.00</td>\n",
              "      <td>0.00</td>\n",
              "      <td>0.00</td>\n",
              "      <td>5.44</td>\n",
              "      <td>NaN</td>\n",
              "      <td>NaN</td>\n",
              "      <td>0.0</td>\n",
              "      <td>NaN</td>\n",
              "      <td>NaN</td>\n",
              "      <td>0.00</td>\n",
              "      <td>NaN</td>\n",
              "      <td>NaN</td>\n",
              "      <td>0.00</td>\n",
              "      <td>4</td>\n",
              "      <td>3</td>\n",
              "      <td>2</td>\n",
              "      <td>362</td>\n",
              "      <td>252</td>\n",
              "      <td>252</td>\n",
              "      <td>252</td>\n",
              "      <td>252</td>\n",
              "      <td>252</td>\n",
              "      <td>2014-06-21</td>\n",
              "      <td>2014-07-16</td>\n",
              "      <td>2014-08-08</td>\n",
              "      <td>252</td>\n",
              "      <td>252</td>\n",
              "      <td>252</td>\n",
              "      <td>2014-06-21</td>\n",
              "      <td>2014-07-16</td>\n",
              "      <td>2014-08-08</td>\n",
              "      <td>1.0</td>\n",
              "      <td>1.0</td>\n",
              "      <td>1.0</td>\n",
              "      <td>252.0</td>\n",
              "      <td>252.0</td>\n",
              "      <td>252.0</td>\n",
              "      <td>0.0</td>\n",
              "      <td>0.0</td>\n",
              "      <td>0.0</td>\n",
              "      <td>1.0</td>\n",
              "      <td>1.0</td>\n",
              "      <td>1.0</td>\n",
              "      <td>252.0</td>\n",
              "      <td>252.0</td>\n",
              "      <td>252.0</td>\n",
              "      <td>30.13</td>\n",
              "      <td>1.32</td>\n",
              "      <td>5.75</td>\n",
              "      <td>83.57</td>\n",
              "      <td>150.76</td>\n",
              "      <td>109.61</td>\n",
              "      <td>212.17</td>\n",
              "      <td>212.17</td>\n",
              "      <td>212.17</td>\n",
              "      <td>212.17</td>\n",
              "      <td>212.17</td>\n",
              "      <td>212.17</td>\n",
              "      <td>0.0</td>\n",
              "      <td>0.0</td>\n",
              "      <td>0.0</td>\n",
              "      <td>0</td>\n",
              "      <td>0</td>\n",
              "      <td>0</td>\n",
              "      <td>0</td>\n",
              "      <td>0</td>\n",
              "      <td>0</td>\n",
              "      <td>1</td>\n",
              "      <td>1</td>\n",
              "      <td>1</td>\n",
              "      <td>0</td>\n",
              "      <td>0</td>\n",
              "      <td>0</td>\n",
              "      <td>1.0</td>\n",
              "      <td>1.0</td>\n",
              "      <td>1.0</td>\n",
              "      <td>968</td>\n",
              "      <td>30.40</td>\n",
              "      <td>0.00</td>\n",
              "      <td>101.20</td>\n",
              "      <td>3.58</td>\n",
              "      <td>252.0</td>\n",
              "      <td>252.0</td>\n",
              "      <td>252.0</td>\n",
              "      <td>559.0</td>\n",
              "      <td>1</td>\n",
              "    </tr>\n",
              "    <tr>\n",
              "      <th>7</th>\n",
              "      <td>7000701601</td>\n",
              "      <td>1069.180</td>\n",
              "      <td>1349.850</td>\n",
              "      <td>3171.480</td>\n",
              "      <td>57.84</td>\n",
              "      <td>54.68</td>\n",
              "      <td>52.29</td>\n",
              "      <td>453.43</td>\n",
              "      <td>567.16</td>\n",
              "      <td>325.91</td>\n",
              "      <td>16.23</td>\n",
              "      <td>33.49</td>\n",
              "      <td>31.64</td>\n",
              "      <td>23.74</td>\n",
              "      <td>12.59</td>\n",
              "      <td>38.06</td>\n",
              "      <td>51.39</td>\n",
              "      <td>31.38</td>\n",
              "      <td>40.28</td>\n",
              "      <td>308.63</td>\n",
              "      <td>447.38</td>\n",
              "      <td>162.28</td>\n",
              "      <td>62.13</td>\n",
              "      <td>55.14</td>\n",
              "      <td>53.23</td>\n",
              "      <td>0.0</td>\n",
              "      <td>0.0</td>\n",
              "      <td>0.00</td>\n",
              "      <td>422.16</td>\n",
              "      <td>533.91</td>\n",
              "      <td>255.79</td>\n",
              "      <td>4.30</td>\n",
              "      <td>23.29</td>\n",
              "      <td>12.01</td>\n",
              "      <td>49.89</td>\n",
              "      <td>31.76</td>\n",
              "      <td>49.14</td>\n",
              "      <td>6.66</td>\n",
              "      <td>20.08</td>\n",
              "      <td>16.68</td>\n",
              "      <td>60.86</td>\n",
              "      <td>75.14</td>\n",
              "      <td>77.84</td>\n",
              "      <td>0.0</td>\n",
              "      <td>0.18</td>\n",
              "      <td>10.01</td>\n",
              "      <td>4.5</td>\n",
              "      <td>0.0</td>\n",
              "      <td>6.50</td>\n",
              "      <td>0.0</td>\n",
              "      <td>0.0</td>\n",
              "      <td>0.0</td>\n",
              "      <td>487.53</td>\n",
              "      <td>609.24</td>\n",
              "      <td>350.16</td>\n",
              "      <td>58.14</td>\n",
              "      <td>32.26</td>\n",
              "      <td>27.31</td>\n",
              "      <td>217.56</td>\n",
              "      <td>221.49</td>\n",
              "      <td>121.19</td>\n",
              "      <td>152.16</td>\n",
              "      <td>101.46</td>\n",
              "      <td>39.53</td>\n",
              "      <td>427.88</td>\n",
              "      <td>355.23</td>\n",
              "      <td>188.04</td>\n",
              "      <td>36.89</td>\n",
              "      <td>11.83</td>\n",
              "      <td>30.39</td>\n",
              "      <td>91.44</td>\n",
              "      <td>126.99</td>\n",
              "      <td>141.33</td>\n",
              "      <td>52.19</td>\n",
              "      <td>34.24</td>\n",
              "      <td>22.21</td>\n",
              "      <td>180.54</td>\n",
              "      <td>173.08</td>\n",
              "      <td>193.94</td>\n",
              "      <td>626.46</td>\n",
              "      <td>558.04</td>\n",
              "      <td>428.74</td>\n",
              "      <td>0.21</td>\n",
              "      <td>0.0</td>\n",
              "      <td>0.0</td>\n",
              "      <td>2.06</td>\n",
              "      <td>14.53</td>\n",
              "      <td>31.59</td>\n",
              "      <td>15.74</td>\n",
              "      <td>15.19</td>\n",
              "      <td>15.14</td>\n",
              "      <td>5</td>\n",
              "      <td>5</td>\n",
              "      <td>7</td>\n",
              "      <td>1580</td>\n",
              "      <td>790</td>\n",
              "      <td>3638</td>\n",
              "      <td>1580</td>\n",
              "      <td>790</td>\n",
              "      <td>1580</td>\n",
              "      <td>2014-06-27</td>\n",
              "      <td>2014-07-25</td>\n",
              "      <td>2014-08-26</td>\n",
              "      <td>0</td>\n",
              "      <td>0</td>\n",
              "      <td>779</td>\n",
              "      <td>NaT</td>\n",
              "      <td>NaT</td>\n",
              "      <td>NaT</td>\n",
              "      <td>0.0</td>\n",
              "      <td>0.0</td>\n",
              "      <td>0.0</td>\n",
              "      <td>NaN</td>\n",
              "      <td>NaN</td>\n",
              "      <td>NaN</td>\n",
              "      <td>NaN</td>\n",
              "      <td>NaN</td>\n",
              "      <td>NaN</td>\n",
              "      <td>NaN</td>\n",
              "      <td>NaN</td>\n",
              "      <td>NaN</td>\n",
              "      <td>0.0</td>\n",
              "      <td>0.0</td>\n",
              "      <td>0.0</td>\n",
              "      <td>0.00</td>\n",
              "      <td>0.00</td>\n",
              "      <td>0.00</td>\n",
              "      <td>0.00</td>\n",
              "      <td>0.00</td>\n",
              "      <td>0.00</td>\n",
              "      <td>NaN</td>\n",
              "      <td>NaN</td>\n",
              "      <td>NaN</td>\n",
              "      <td>NaN</td>\n",
              "      <td>NaN</td>\n",
              "      <td>NaN</td>\n",
              "      <td>NaN</td>\n",
              "      <td>NaN</td>\n",
              "      <td>NaN</td>\n",
              "      <td>0</td>\n",
              "      <td>0</td>\n",
              "      <td>0</td>\n",
              "      <td>0</td>\n",
              "      <td>0</td>\n",
              "      <td>0</td>\n",
              "      <td>0</td>\n",
              "      <td>0</td>\n",
              "      <td>0</td>\n",
              "      <td>0</td>\n",
              "      <td>0</td>\n",
              "      <td>0</td>\n",
              "      <td>NaN</td>\n",
              "      <td>NaN</td>\n",
              "      <td>NaN</td>\n",
              "      <td>802</td>\n",
              "      <td>57.74</td>\n",
              "      <td>19.38</td>\n",
              "      <td>18.74</td>\n",
              "      <td>0.00</td>\n",
              "      <td>0.0</td>\n",
              "      <td>0.0</td>\n",
              "      <td>0.0</td>\n",
              "      <td>1185.0</td>\n",
              "      <td>1</td>\n",
              "    </tr>\n",
              "    <tr>\n",
              "      <th>8</th>\n",
              "      <td>7001524846</td>\n",
              "      <td>378.721</td>\n",
              "      <td>492.223</td>\n",
              "      <td>137.362</td>\n",
              "      <td>413.69</td>\n",
              "      <td>351.03</td>\n",
              "      <td>35.08</td>\n",
              "      <td>94.66</td>\n",
              "      <td>80.63</td>\n",
              "      <td>136.48</td>\n",
              "      <td>0.00</td>\n",
              "      <td>0.00</td>\n",
              "      <td>0.00</td>\n",
              "      <td>0.00</td>\n",
              "      <td>0.00</td>\n",
              "      <td>0.00</td>\n",
              "      <td>297.13</td>\n",
              "      <td>217.59</td>\n",
              "      <td>12.49</td>\n",
              "      <td>80.96</td>\n",
              "      <td>70.58</td>\n",
              "      <td>50.54</td>\n",
              "      <td>0.00</td>\n",
              "      <td>0.00</td>\n",
              "      <td>0.00</td>\n",
              "      <td>0.0</td>\n",
              "      <td>0.0</td>\n",
              "      <td>7.15</td>\n",
              "      <td>378.09</td>\n",
              "      <td>288.18</td>\n",
              "      <td>63.04</td>\n",
              "      <td>116.56</td>\n",
              "      <td>133.43</td>\n",
              "      <td>22.58</td>\n",
              "      <td>13.69</td>\n",
              "      <td>10.04</td>\n",
              "      <td>75.69</td>\n",
              "      <td>0.00</td>\n",
              "      <td>0.00</td>\n",
              "      <td>0.00</td>\n",
              "      <td>130.26</td>\n",
              "      <td>143.48</td>\n",
              "      <td>98.28</td>\n",
              "      <td>0.0</td>\n",
              "      <td>0.00</td>\n",
              "      <td>0.00</td>\n",
              "      <td>0.0</td>\n",
              "      <td>0.0</td>\n",
              "      <td>10.23</td>\n",
              "      <td>0.0</td>\n",
              "      <td>0.0</td>\n",
              "      <td>0.0</td>\n",
              "      <td>508.36</td>\n",
              "      <td>431.66</td>\n",
              "      <td>171.56</td>\n",
              "      <td>23.84</td>\n",
              "      <td>9.84</td>\n",
              "      <td>0.31</td>\n",
              "      <td>57.58</td>\n",
              "      <td>13.98</td>\n",
              "      <td>15.48</td>\n",
              "      <td>0.00</td>\n",
              "      <td>0.00</td>\n",
              "      <td>0.00</td>\n",
              "      <td>81.43</td>\n",
              "      <td>23.83</td>\n",
              "      <td>15.79</td>\n",
              "      <td>0.00</td>\n",
              "      <td>0.58</td>\n",
              "      <td>0.10</td>\n",
              "      <td>22.43</td>\n",
              "      <td>4.08</td>\n",
              "      <td>0.65</td>\n",
              "      <td>0.00</td>\n",
              "      <td>0.00</td>\n",
              "      <td>0.00</td>\n",
              "      <td>22.43</td>\n",
              "      <td>4.66</td>\n",
              "      <td>0.75</td>\n",
              "      <td>103.86</td>\n",
              "      <td>28.49</td>\n",
              "      <td>16.54</td>\n",
              "      <td>0.00</td>\n",
              "      <td>0.0</td>\n",
              "      <td>0.0</td>\n",
              "      <td>0.00</td>\n",
              "      <td>0.00</td>\n",
              "      <td>0.00</td>\n",
              "      <td>0.00</td>\n",
              "      <td>0.00</td>\n",
              "      <td>0.00</td>\n",
              "      <td>19</td>\n",
              "      <td>21</td>\n",
              "      <td>14</td>\n",
              "      <td>437</td>\n",
              "      <td>601</td>\n",
              "      <td>120</td>\n",
              "      <td>90</td>\n",
              "      <td>154</td>\n",
              "      <td>30</td>\n",
              "      <td>2014-06-25</td>\n",
              "      <td>2014-07-31</td>\n",
              "      <td>2014-08-30</td>\n",
              "      <td>50</td>\n",
              "      <td>0</td>\n",
              "      <td>10</td>\n",
              "      <td>NaT</td>\n",
              "      <td>2014-07-31</td>\n",
              "      <td>2014-08-23</td>\n",
              "      <td>0.0</td>\n",
              "      <td>2.0</td>\n",
              "      <td>3.0</td>\n",
              "      <td>NaN</td>\n",
              "      <td>154.0</td>\n",
              "      <td>23.0</td>\n",
              "      <td>NaN</td>\n",
              "      <td>2.0</td>\n",
              "      <td>3.0</td>\n",
              "      <td>NaN</td>\n",
              "      <td>0.0</td>\n",
              "      <td>0.0</td>\n",
              "      <td>0.0</td>\n",
              "      <td>177.0</td>\n",
              "      <td>69.0</td>\n",
              "      <td>0.00</td>\n",
              "      <td>356.00</td>\n",
              "      <td>0.03</td>\n",
              "      <td>0.00</td>\n",
              "      <td>750.95</td>\n",
              "      <td>11.94</td>\n",
              "      <td>NaN</td>\n",
              "      <td>0.00</td>\n",
              "      <td>19.83</td>\n",
              "      <td>NaN</td>\n",
              "      <td>0.00</td>\n",
              "      <td>0.00</td>\n",
              "      <td>NaN</td>\n",
              "      <td>0.0</td>\n",
              "      <td>0.0</td>\n",
              "      <td>0</td>\n",
              "      <td>1</td>\n",
              "      <td>0</td>\n",
              "      <td>0</td>\n",
              "      <td>1</td>\n",
              "      <td>3</td>\n",
              "      <td>0</td>\n",
              "      <td>0</td>\n",
              "      <td>0</td>\n",
              "      <td>0</td>\n",
              "      <td>0</td>\n",
              "      <td>0</td>\n",
              "      <td>NaN</td>\n",
              "      <td>1.0</td>\n",
              "      <td>1.0</td>\n",
              "      <td>315</td>\n",
              "      <td>21.03</td>\n",
              "      <td>910.65</td>\n",
              "      <td>122.16</td>\n",
              "      <td>0.00</td>\n",
              "      <td>0.0</td>\n",
              "      <td>354.0</td>\n",
              "      <td>207.0</td>\n",
              "      <td>696.0</td>\n",
              "      <td>0</td>\n",
              "    </tr>\n",
              "    <tr>\n",
              "      <th>21</th>\n",
              "      <td>7002124215</td>\n",
              "      <td>514.453</td>\n",
              "      <td>597.753</td>\n",
              "      <td>637.760</td>\n",
              "      <td>102.41</td>\n",
              "      <td>132.11</td>\n",
              "      <td>85.14</td>\n",
              "      <td>757.93</td>\n",
              "      <td>896.68</td>\n",
              "      <td>983.39</td>\n",
              "      <td>0.00</td>\n",
              "      <td>0.00</td>\n",
              "      <td>0.00</td>\n",
              "      <td>0.00</td>\n",
              "      <td>0.00</td>\n",
              "      <td>0.00</td>\n",
              "      <td>4.48</td>\n",
              "      <td>6.16</td>\n",
              "      <td>23.34</td>\n",
              "      <td>91.81</td>\n",
              "      <td>87.93</td>\n",
              "      <td>104.81</td>\n",
              "      <td>0.75</td>\n",
              "      <td>0.00</td>\n",
              "      <td>1.58</td>\n",
              "      <td>0.0</td>\n",
              "      <td>0.0</td>\n",
              "      <td>0.00</td>\n",
              "      <td>97.04</td>\n",
              "      <td>94.09</td>\n",
              "      <td>129.74</td>\n",
              "      <td>97.93</td>\n",
              "      <td>125.94</td>\n",
              "      <td>61.79</td>\n",
              "      <td>665.36</td>\n",
              "      <td>808.74</td>\n",
              "      <td>876.99</td>\n",
              "      <td>0.00</td>\n",
              "      <td>0.00</td>\n",
              "      <td>0.00</td>\n",
              "      <td>763.29</td>\n",
              "      <td>934.69</td>\n",
              "      <td>938.79</td>\n",
              "      <td>0.0</td>\n",
              "      <td>0.00</td>\n",
              "      <td>0.00</td>\n",
              "      <td>0.0</td>\n",
              "      <td>0.0</td>\n",
              "      <td>0.00</td>\n",
              "      <td>0.0</td>\n",
              "      <td>0.0</td>\n",
              "      <td>0.0</td>\n",
              "      <td>860.34</td>\n",
              "      <td>1028.79</td>\n",
              "      <td>1068.54</td>\n",
              "      <td>2.48</td>\n",
              "      <td>10.19</td>\n",
              "      <td>19.54</td>\n",
              "      <td>118.23</td>\n",
              "      <td>74.63</td>\n",
              "      <td>129.16</td>\n",
              "      <td>4.61</td>\n",
              "      <td>2.84</td>\n",
              "      <td>10.39</td>\n",
              "      <td>125.33</td>\n",
              "      <td>87.68</td>\n",
              "      <td>159.11</td>\n",
              "      <td>14.06</td>\n",
              "      <td>5.98</td>\n",
              "      <td>0.18</td>\n",
              "      <td>67.69</td>\n",
              "      <td>38.23</td>\n",
              "      <td>101.74</td>\n",
              "      <td>0.00</td>\n",
              "      <td>0.00</td>\n",
              "      <td>0.00</td>\n",
              "      <td>81.76</td>\n",
              "      <td>44.21</td>\n",
              "      <td>101.93</td>\n",
              "      <td>207.09</td>\n",
              "      <td>131.89</td>\n",
              "      <td>261.04</td>\n",
              "      <td>0.00</td>\n",
              "      <td>0.0</td>\n",
              "      <td>0.0</td>\n",
              "      <td>0.00</td>\n",
              "      <td>0.00</td>\n",
              "      <td>0.00</td>\n",
              "      <td>0.00</td>\n",
              "      <td>0.00</td>\n",
              "      <td>0.00</td>\n",
              "      <td>22</td>\n",
              "      <td>26</td>\n",
              "      <td>27</td>\n",
              "      <td>600</td>\n",
              "      <td>680</td>\n",
              "      <td>718</td>\n",
              "      <td>50</td>\n",
              "      <td>50</td>\n",
              "      <td>50</td>\n",
              "      <td>2014-06-30</td>\n",
              "      <td>2014-07-31</td>\n",
              "      <td>2014-08-31</td>\n",
              "      <td>30</td>\n",
              "      <td>20</td>\n",
              "      <td>50</td>\n",
              "      <td>NaT</td>\n",
              "      <td>NaT</td>\n",
              "      <td>NaT</td>\n",
              "      <td>0.0</td>\n",
              "      <td>0.0</td>\n",
              "      <td>0.0</td>\n",
              "      <td>NaN</td>\n",
              "      <td>NaN</td>\n",
              "      <td>NaN</td>\n",
              "      <td>NaN</td>\n",
              "      <td>NaN</td>\n",
              "      <td>NaN</td>\n",
              "      <td>NaN</td>\n",
              "      <td>NaN</td>\n",
              "      <td>NaN</td>\n",
              "      <td>0.0</td>\n",
              "      <td>0.0</td>\n",
              "      <td>0.0</td>\n",
              "      <td>0.00</td>\n",
              "      <td>0.00</td>\n",
              "      <td>0.00</td>\n",
              "      <td>0.00</td>\n",
              "      <td>0.00</td>\n",
              "      <td>0.00</td>\n",
              "      <td>NaN</td>\n",
              "      <td>NaN</td>\n",
              "      <td>NaN</td>\n",
              "      <td>NaN</td>\n",
              "      <td>NaN</td>\n",
              "      <td>NaN</td>\n",
              "      <td>NaN</td>\n",
              "      <td>NaN</td>\n",
              "      <td>NaN</td>\n",
              "      <td>0</td>\n",
              "      <td>0</td>\n",
              "      <td>0</td>\n",
              "      <td>0</td>\n",
              "      <td>0</td>\n",
              "      <td>0</td>\n",
              "      <td>0</td>\n",
              "      <td>0</td>\n",
              "      <td>0</td>\n",
              "      <td>0</td>\n",
              "      <td>0</td>\n",
              "      <td>0</td>\n",
              "      <td>NaN</td>\n",
              "      <td>NaN</td>\n",
              "      <td>NaN</td>\n",
              "      <td>720</td>\n",
              "      <td>0.00</td>\n",
              "      <td>0.00</td>\n",
              "      <td>0.00</td>\n",
              "      <td>0.00</td>\n",
              "      <td>0.0</td>\n",
              "      <td>0.0</td>\n",
              "      <td>0.0</td>\n",
              "      <td>640.0</td>\n",
              "      <td>0</td>\n",
              "    </tr>\n",
              "    <tr>\n",
              "      <th>23</th>\n",
              "      <td>7000887461</td>\n",
              "      <td>74.350</td>\n",
              "      <td>193.897</td>\n",
              "      <td>366.966</td>\n",
              "      <td>48.96</td>\n",
              "      <td>50.66</td>\n",
              "      <td>33.58</td>\n",
              "      <td>85.41</td>\n",
              "      <td>89.36</td>\n",
              "      <td>205.89</td>\n",
              "      <td>0.00</td>\n",
              "      <td>0.00</td>\n",
              "      <td>0.00</td>\n",
              "      <td>0.00</td>\n",
              "      <td>0.00</td>\n",
              "      <td>0.00</td>\n",
              "      <td>48.96</td>\n",
              "      <td>50.66</td>\n",
              "      <td>33.58</td>\n",
              "      <td>82.94</td>\n",
              "      <td>83.01</td>\n",
              "      <td>148.56</td>\n",
              "      <td>0.00</td>\n",
              "      <td>0.00</td>\n",
              "      <td>0.00</td>\n",
              "      <td>0.0</td>\n",
              "      <td>0.0</td>\n",
              "      <td>17.71</td>\n",
              "      <td>131.91</td>\n",
              "      <td>133.68</td>\n",
              "      <td>182.14</td>\n",
              "      <td>0.00</td>\n",
              "      <td>0.00</td>\n",
              "      <td>0.00</td>\n",
              "      <td>2.36</td>\n",
              "      <td>6.35</td>\n",
              "      <td>39.61</td>\n",
              "      <td>0.00</td>\n",
              "      <td>0.00</td>\n",
              "      <td>0.00</td>\n",
              "      <td>2.36</td>\n",
              "      <td>6.35</td>\n",
              "      <td>39.61</td>\n",
              "      <td>0.0</td>\n",
              "      <td>0.01</td>\n",
              "      <td>0.00</td>\n",
              "      <td>0.1</td>\n",
              "      <td>0.0</td>\n",
              "      <td>17.71</td>\n",
              "      <td>0.0</td>\n",
              "      <td>0.0</td>\n",
              "      <td>0.0</td>\n",
              "      <td>134.38</td>\n",
              "      <td>140.04</td>\n",
              "      <td>239.48</td>\n",
              "      <td>20.71</td>\n",
              "      <td>61.04</td>\n",
              "      <td>76.64</td>\n",
              "      <td>95.91</td>\n",
              "      <td>113.36</td>\n",
              "      <td>146.84</td>\n",
              "      <td>0.00</td>\n",
              "      <td>0.00</td>\n",
              "      <td>0.71</td>\n",
              "      <td>116.63</td>\n",
              "      <td>174.41</td>\n",
              "      <td>224.21</td>\n",
              "      <td>0.51</td>\n",
              "      <td>0.00</td>\n",
              "      <td>13.38</td>\n",
              "      <td>2.43</td>\n",
              "      <td>14.89</td>\n",
              "      <td>43.91</td>\n",
              "      <td>0.00</td>\n",
              "      <td>0.00</td>\n",
              "      <td>0.00</td>\n",
              "      <td>2.94</td>\n",
              "      <td>14.89</td>\n",
              "      <td>57.29</td>\n",
              "      <td>119.58</td>\n",
              "      <td>222.89</td>\n",
              "      <td>298.33</td>\n",
              "      <td>0.00</td>\n",
              "      <td>0.0</td>\n",
              "      <td>0.0</td>\n",
              "      <td>0.00</td>\n",
              "      <td>28.23</td>\n",
              "      <td>3.74</td>\n",
              "      <td>0.00</td>\n",
              "      <td>5.35</td>\n",
              "      <td>13.06</td>\n",
              "      <td>3</td>\n",
              "      <td>5</td>\n",
              "      <td>4</td>\n",
              "      <td>0</td>\n",
              "      <td>454</td>\n",
              "      <td>439</td>\n",
              "      <td>0</td>\n",
              "      <td>179</td>\n",
              "      <td>179</td>\n",
              "      <td>2014-06-18</td>\n",
              "      <td>2014-07-07</td>\n",
              "      <td>2014-08-24</td>\n",
              "      <td>0</td>\n",
              "      <td>179</td>\n",
              "      <td>0</td>\n",
              "      <td>NaT</td>\n",
              "      <td>2014-07-07</td>\n",
              "      <td>2014-08-06</td>\n",
              "      <td>0.0</td>\n",
              "      <td>2.0</td>\n",
              "      <td>2.0</td>\n",
              "      <td>NaN</td>\n",
              "      <td>179.0</td>\n",
              "      <td>179.0</td>\n",
              "      <td>NaN</td>\n",
              "      <td>0.0</td>\n",
              "      <td>0.0</td>\n",
              "      <td>NaN</td>\n",
              "      <td>2.0</td>\n",
              "      <td>2.0</td>\n",
              "      <td>0.0</td>\n",
              "      <td>356.0</td>\n",
              "      <td>270.0</td>\n",
              "      <td>0.00</td>\n",
              "      <td>0.48</td>\n",
              "      <td>0.01</td>\n",
              "      <td>0.00</td>\n",
              "      <td>599.09</td>\n",
              "      <td>1009.92</td>\n",
              "      <td>NaN</td>\n",
              "      <td>306.57</td>\n",
              "      <td>197.27</td>\n",
              "      <td>NaN</td>\n",
              "      <td>301.78</td>\n",
              "      <td>150.67</td>\n",
              "      <td>NaN</td>\n",
              "      <td>0.0</td>\n",
              "      <td>0.0</td>\n",
              "      <td>0</td>\n",
              "      <td>0</td>\n",
              "      <td>0</td>\n",
              "      <td>0</td>\n",
              "      <td>0</td>\n",
              "      <td>0</td>\n",
              "      <td>0</td>\n",
              "      <td>2</td>\n",
              "      <td>1</td>\n",
              "      <td>0</td>\n",
              "      <td>0</td>\n",
              "      <td>1</td>\n",
              "      <td>NaN</td>\n",
              "      <td>1.0</td>\n",
              "      <td>1.0</td>\n",
              "      <td>604</td>\n",
              "      <td>40.45</td>\n",
              "      <td>51.86</td>\n",
              "      <td>0.00</td>\n",
              "      <td>0.00</td>\n",
              "      <td>0.0</td>\n",
              "      <td>712.0</td>\n",
              "      <td>540.0</td>\n",
              "      <td>583.0</td>\n",
              "      <td>0</td>\n",
              "    </tr>\n",
              "  </tbody>\n",
              "</table>\n",
              "</div>"
            ],
            "text/plain": [
              "    mobile_number    arpu_6    arpu_7    arpu_8  onnet_mou_6  onnet_mou_7  \\\n",
              "0      7000842753   197.385   214.816   213.803          NaN          NaN   \n",
              "7      7000701601  1069.180  1349.850  3171.480        57.84        54.68   \n",
              "8      7001524846   378.721   492.223   137.362       413.69       351.03   \n",
              "21     7002124215   514.453   597.753   637.760       102.41       132.11   \n",
              "23     7000887461    74.350   193.897   366.966        48.96        50.66   \n",
              "\n",
              "    onnet_mou_8  offnet_mou_6  offnet_mou_7  offnet_mou_8  roam_ic_mou_6  \\\n",
              "0          0.00           NaN           NaN          0.00            NaN   \n",
              "7         52.29        453.43        567.16        325.91          16.23   \n",
              "8         35.08         94.66         80.63        136.48           0.00   \n",
              "21        85.14        757.93        896.68        983.39           0.00   \n",
              "23        33.58         85.41         89.36        205.89           0.00   \n",
              "\n",
              "    roam_ic_mou_7  roam_ic_mou_8  roam_og_mou_6  roam_og_mou_7  roam_og_mou_8  \\\n",
              "0             NaN           0.00            NaN            NaN           0.00   \n",
              "7           33.49          31.64          23.74          12.59          38.06   \n",
              "8            0.00           0.00           0.00           0.00           0.00   \n",
              "21           0.00           0.00           0.00           0.00           0.00   \n",
              "23           0.00           0.00           0.00           0.00           0.00   \n",
              "\n",
              "    loc_og_t2t_mou_6  loc_og_t2t_mou_7  loc_og_t2t_mou_8  loc_og_t2m_mou_6  \\\n",
              "0                NaN               NaN              0.00               NaN   \n",
              "7              51.39             31.38             40.28            308.63   \n",
              "8             297.13            217.59             12.49             80.96   \n",
              "21              4.48              6.16             23.34             91.81   \n",
              "23             48.96             50.66             33.58             82.94   \n",
              "\n",
              "    loc_og_t2m_mou_7  loc_og_t2m_mou_8  loc_og_t2f_mou_6  loc_og_t2f_mou_7  \\\n",
              "0                NaN              0.00               NaN               NaN   \n",
              "7             447.38            162.28             62.13             55.14   \n",
              "8              70.58             50.54              0.00              0.00   \n",
              "21             87.93            104.81              0.75              0.00   \n",
              "23             83.01            148.56              0.00              0.00   \n",
              "\n",
              "    loc_og_t2f_mou_8  loc_og_t2c_mou_6  loc_og_t2c_mou_7  loc_og_t2c_mou_8  \\\n",
              "0               0.00               NaN               NaN              0.00   \n",
              "7              53.23               0.0               0.0              0.00   \n",
              "8               0.00               0.0               0.0              7.15   \n",
              "21              1.58               0.0               0.0              0.00   \n",
              "23              0.00               0.0               0.0             17.71   \n",
              "\n",
              "    loc_og_mou_6  loc_og_mou_7  loc_og_mou_8  std_og_t2t_mou_6  \\\n",
              "0            NaN           NaN          0.00               NaN   \n",
              "7         422.16        533.91        255.79              4.30   \n",
              "8         378.09        288.18         63.04            116.56   \n",
              "21         97.04         94.09        129.74             97.93   \n",
              "23        131.91        133.68        182.14              0.00   \n",
              "\n",
              "    std_og_t2t_mou_7  std_og_t2t_mou_8  std_og_t2m_mou_6  std_og_t2m_mou_7  \\\n",
              "0                NaN              0.00               NaN               NaN   \n",
              "7              23.29             12.01             49.89             31.76   \n",
              "8             133.43             22.58             13.69             10.04   \n",
              "21            125.94             61.79            665.36            808.74   \n",
              "23              0.00              0.00              2.36              6.35   \n",
              "\n",
              "    std_og_t2m_mou_8  std_og_t2f_mou_6  std_og_t2f_mou_7  std_og_t2f_mou_8  \\\n",
              "0               0.00               NaN               NaN              0.00   \n",
              "7              49.14              6.66             20.08             16.68   \n",
              "8              75.69              0.00              0.00              0.00   \n",
              "21            876.99              0.00              0.00              0.00   \n",
              "23             39.61              0.00              0.00              0.00   \n",
              "\n",
              "    std_og_mou_6  std_og_mou_7  std_og_mou_8  isd_og_mou_6  isd_og_mou_7  \\\n",
              "0            NaN           NaN          0.00           NaN           NaN   \n",
              "7          60.86         75.14         77.84           0.0          0.18   \n",
              "8         130.26        143.48         98.28           0.0          0.00   \n",
              "21        763.29        934.69        938.79           0.0          0.00   \n",
              "23          2.36          6.35         39.61           0.0          0.01   \n",
              "\n",
              "    isd_og_mou_8  spl_og_mou_6  spl_og_mou_7  spl_og_mou_8  og_others_6  \\\n",
              "0           0.00           NaN           NaN          0.00          NaN   \n",
              "7          10.01           4.5           0.0          6.50          0.0   \n",
              "8           0.00           0.0           0.0         10.23          0.0   \n",
              "21          0.00           0.0           0.0          0.00          0.0   \n",
              "23          0.00           0.1           0.0         17.71          0.0   \n",
              "\n",
              "    og_others_7  og_others_8  total_og_mou_6  total_og_mou_7  total_og_mou_8  \\\n",
              "0           NaN          0.0            0.00            0.00            0.00   \n",
              "7           0.0          0.0          487.53          609.24          350.16   \n",
              "8           0.0          0.0          508.36          431.66          171.56   \n",
              "21          0.0          0.0          860.34         1028.79         1068.54   \n",
              "23          0.0          0.0          134.38          140.04          239.48   \n",
              "\n",
              "    loc_ic_t2t_mou_6  loc_ic_t2t_mou_7  loc_ic_t2t_mou_8  loc_ic_t2m_mou_6  \\\n",
              "0                NaN               NaN              0.16               NaN   \n",
              "7              58.14             32.26             27.31            217.56   \n",
              "8              23.84              9.84              0.31             57.58   \n",
              "21              2.48             10.19             19.54            118.23   \n",
              "23             20.71             61.04             76.64             95.91   \n",
              "\n",
              "    loc_ic_t2m_mou_7  loc_ic_t2m_mou_8  loc_ic_t2f_mou_6  loc_ic_t2f_mou_7  \\\n",
              "0                NaN              4.13               NaN               NaN   \n",
              "7             221.49            121.19            152.16            101.46   \n",
              "8              13.98             15.48              0.00              0.00   \n",
              "21             74.63            129.16              4.61              2.84   \n",
              "23            113.36            146.84              0.00              0.00   \n",
              "\n",
              "    loc_ic_t2f_mou_8  loc_ic_mou_6  loc_ic_mou_7  loc_ic_mou_8  \\\n",
              "0               1.15           NaN           NaN          5.44   \n",
              "7              39.53        427.88        355.23        188.04   \n",
              "8               0.00         81.43         23.83         15.79   \n",
              "21             10.39        125.33         87.68        159.11   \n",
              "23              0.71        116.63        174.41        224.21   \n",
              "\n",
              "    std_ic_t2t_mou_6  std_ic_t2t_mou_7  std_ic_t2t_mou_8  std_ic_t2m_mou_6  \\\n",
              "0                NaN               NaN              0.00               NaN   \n",
              "7              36.89             11.83             30.39             91.44   \n",
              "8               0.00              0.58              0.10             22.43   \n",
              "21             14.06              5.98              0.18             67.69   \n",
              "23              0.51              0.00             13.38              2.43   \n",
              "\n",
              "    std_ic_t2m_mou_7  std_ic_t2m_mou_8  std_ic_t2f_mou_6  std_ic_t2f_mou_7  \\\n",
              "0                NaN              0.00               NaN               NaN   \n",
              "7             126.99            141.33             52.19             34.24   \n",
              "8               4.08              0.65              0.00              0.00   \n",
              "21             38.23            101.74              0.00              0.00   \n",
              "23             14.89             43.91              0.00              0.00   \n",
              "\n",
              "    std_ic_t2f_mou_8  std_ic_mou_6  std_ic_mou_7  std_ic_mou_8  \\\n",
              "0               0.00           NaN           NaN          0.00   \n",
              "7              22.21        180.54        173.08        193.94   \n",
              "8               0.00         22.43          4.66          0.75   \n",
              "21              0.00         81.76         44.21        101.93   \n",
              "23              0.00          2.94         14.89         57.29   \n",
              "\n",
              "    total_ic_mou_6  total_ic_mou_7  total_ic_mou_8  spl_ic_mou_6  \\\n",
              "0             0.00            0.00            5.44           NaN   \n",
              "7           626.46          558.04          428.74          0.21   \n",
              "8           103.86           28.49           16.54          0.00   \n",
              "21          207.09          131.89          261.04          0.00   \n",
              "23          119.58          222.89          298.33          0.00   \n",
              "\n",
              "    spl_ic_mou_7  spl_ic_mou_8  isd_ic_mou_6  isd_ic_mou_7  isd_ic_mou_8  \\\n",
              "0            NaN           0.0           NaN           NaN          0.00   \n",
              "7            0.0           0.0          2.06         14.53         31.59   \n",
              "8            0.0           0.0          0.00          0.00          0.00   \n",
              "21           0.0           0.0          0.00          0.00          0.00   \n",
              "23           0.0           0.0          0.00         28.23          3.74   \n",
              "\n",
              "    ic_others_6  ic_others_7  ic_others_8  total_rech_num_6  total_rech_num_7  \\\n",
              "0           NaN          NaN         0.00                 4                 3   \n",
              "7         15.74        15.19        15.14                 5                 5   \n",
              "8          0.00         0.00         0.00                19                21   \n",
              "21         0.00         0.00         0.00                22                26   \n",
              "23         0.00         5.35        13.06                 3                 5   \n",
              "\n",
              "    total_rech_num_8  total_rech_amt_6  total_rech_amt_7  total_rech_amt_8  \\\n",
              "0                  2               362               252               252   \n",
              "7                  7              1580               790              3638   \n",
              "8                 14               437               601               120   \n",
              "21                27               600               680               718   \n",
              "23                 4                 0               454               439   \n",
              "\n",
              "    max_rech_amt_6  max_rech_amt_7  max_rech_amt_8 date_of_last_rech_6  \\\n",
              "0              252             252             252          2014-06-21   \n",
              "7             1580             790            1580          2014-06-27   \n",
              "8               90             154              30          2014-06-25   \n",
              "21              50              50              50          2014-06-30   \n",
              "23               0             179             179          2014-06-18   \n",
              "\n",
              "   date_of_last_rech_7 date_of_last_rech_8  last_day_rch_amt_6  \\\n",
              "0           2014-07-16          2014-08-08                 252   \n",
              "7           2014-07-25          2014-08-26                   0   \n",
              "8           2014-07-31          2014-08-30                  50   \n",
              "21          2014-07-31          2014-08-31                  30   \n",
              "23          2014-07-07          2014-08-24                   0   \n",
              "\n",
              "    last_day_rch_amt_7  last_day_rch_amt_8 date_of_last_rech_data_6  \\\n",
              "0                  252                 252               2014-06-21   \n",
              "7                    0                 779                      NaT   \n",
              "8                    0                  10                      NaT   \n",
              "21                  20                  50                      NaT   \n",
              "23                 179                   0                      NaT   \n",
              "\n",
              "   date_of_last_rech_data_7 date_of_last_rech_data_8  total_rech_data_6  \\\n",
              "0                2014-07-16               2014-08-08                1.0   \n",
              "7                       NaT                      NaT                0.0   \n",
              "8                2014-07-31               2014-08-23                0.0   \n",
              "21                      NaT                      NaT                0.0   \n",
              "23               2014-07-07               2014-08-06                0.0   \n",
              "\n",
              "    total_rech_data_7  total_rech_data_8  max_rech_data_6  max_rech_data_7  \\\n",
              "0                 1.0                1.0            252.0            252.0   \n",
              "7                 0.0                0.0              NaN              NaN   \n",
              "8                 2.0                3.0              NaN            154.0   \n",
              "21                0.0                0.0              NaN              NaN   \n",
              "23                2.0                2.0              NaN            179.0   \n",
              "\n",
              "    max_rech_data_8  count_rech_2g_6  count_rech_2g_7  count_rech_2g_8  \\\n",
              "0             252.0              0.0              0.0              0.0   \n",
              "7               NaN              NaN              NaN              NaN   \n",
              "8              23.0              NaN              2.0              3.0   \n",
              "21              NaN              NaN              NaN              NaN   \n",
              "23            179.0              NaN              0.0              0.0   \n",
              "\n",
              "    count_rech_3g_6  count_rech_3g_7  count_rech_3g_8  av_rech_amt_data_6  \\\n",
              "0               1.0              1.0              1.0               252.0   \n",
              "7               NaN              NaN              NaN                 0.0   \n",
              "8               NaN              0.0              0.0                 0.0   \n",
              "21              NaN              NaN              NaN                 0.0   \n",
              "23              NaN              2.0              2.0                 0.0   \n",
              "\n",
              "    av_rech_amt_data_7  av_rech_amt_data_8  vol_2g_mb_6  vol_2g_mb_7  \\\n",
              "0                252.0               252.0        30.13         1.32   \n",
              "7                  0.0                 0.0         0.00         0.00   \n",
              "8                177.0                69.0         0.00       356.00   \n",
              "21                 0.0                 0.0         0.00         0.00   \n",
              "23               356.0               270.0         0.00         0.48   \n",
              "\n",
              "    vol_2g_mb_8  vol_3g_mb_6  vol_3g_mb_7  vol_3g_mb_8  arpu_3g_6  arpu_3g_7  \\\n",
              "0          5.75        83.57       150.76       109.61     212.17     212.17   \n",
              "7          0.00         0.00         0.00         0.00        NaN        NaN   \n",
              "8          0.03         0.00       750.95        11.94        NaN       0.00   \n",
              "21         0.00         0.00         0.00         0.00        NaN        NaN   \n",
              "23         0.01         0.00       599.09      1009.92        NaN     306.57   \n",
              "\n",
              "    arpu_3g_8  arpu_2g_6  arpu_2g_7  arpu_2g_8  night_pck_user_6  \\\n",
              "0      212.17     212.17     212.17     212.17               0.0   \n",
              "7         NaN        NaN        NaN        NaN               NaN   \n",
              "8       19.83        NaN       0.00       0.00               NaN   \n",
              "21        NaN        NaN        NaN        NaN               NaN   \n",
              "23     197.27        NaN     301.78     150.67               NaN   \n",
              "\n",
              "    night_pck_user_7  night_pck_user_8  monthly_2g_6  monthly_2g_7  \\\n",
              "0                0.0               0.0             0             0   \n",
              "7                NaN               NaN             0             0   \n",
              "8                0.0               0.0             0             1   \n",
              "21               NaN               NaN             0             0   \n",
              "23               0.0               0.0             0             0   \n",
              "\n",
              "    monthly_2g_8  sachet_2g_6  sachet_2g_7  sachet_2g_8  monthly_3g_6  \\\n",
              "0              0            0            0            0             1   \n",
              "7              0            0            0            0             0   \n",
              "8              0            0            1            3             0   \n",
              "21             0            0            0            0             0   \n",
              "23             0            0            0            0             0   \n",
              "\n",
              "    monthly_3g_7  monthly_3g_8  sachet_3g_6  sachet_3g_7  sachet_3g_8  \\\n",
              "0              1             1            0            0            0   \n",
              "7              0             0            0            0            0   \n",
              "8              0             0            0            0            0   \n",
              "21             0             0            0            0            0   \n",
              "23             2             1            0            0            1   \n",
              "\n",
              "    fb_user_6  fb_user_7  fb_user_8  aon  aug_vbc_3g  jul_vbc_3g  jun_vbc_3g  \\\n",
              "0         1.0        1.0        1.0  968       30.40        0.00      101.20   \n",
              "7         NaN        NaN        NaN  802       57.74       19.38       18.74   \n",
              "8         NaN        1.0        1.0  315       21.03      910.65      122.16   \n",
              "21        NaN        NaN        NaN  720        0.00        0.00        0.00   \n",
              "23        NaN        1.0        1.0  604       40.45       51.86        0.00   \n",
              "\n",
              "    sep_vbc_3g  total_rech_amt_data_6  total_rech_amt_data_7  \\\n",
              "0         3.58                  252.0                  252.0   \n",
              "7         0.00                    0.0                    0.0   \n",
              "8         0.00                    0.0                  354.0   \n",
              "21        0.00                    0.0                    0.0   \n",
              "23        0.00                    0.0                  712.0   \n",
              "\n",
              "    total_rech_amt_data_8  total_avg_rchg_amount_6_7  churn  \n",
              "0                   252.0                      559.0      1  \n",
              "7                     0.0                     1185.0      1  \n",
              "8                   207.0                      696.0      0  \n",
              "21                    0.0                      640.0      0  \n",
              "23                  540.0                      583.0      0  "
            ]
          },
          "metadata": {
            "tags": []
          },
          "execution_count": 48
        }
      ]
    },
    {
      "cell_type": "markdown",
      "metadata": {
        "id": "Pt0bTbvoFs1A"
      },
      "source": [
        "### Data Preparation and Data Visualization"
      ]
    },
    {
      "cell_type": "code",
      "metadata": {
        "colab": {
          "base_uri": "https://localhost:8080/",
          "height": 279
        },
        "id": "q210dXwcr_4U",
        "outputId": "7a875c27-8ca6-41d8-ac1a-ac380fce8753"
      },
      "source": [
        "plt.figure(figsize =(6,4))\n",
        "sn.boxplot(df_high_value['churn'], df_high_value['total_rech_amt_data_6'], showfliers = False)\n",
        "plt.show()"
      ],
      "execution_count": 49,
      "outputs": [
        {
          "output_type": "display_data",
          "data": {
            "image/png": "[encoded data removed]",
            "text/plain": [
              "<Figure size 432x288 with 1 Axes>"
            ]
          },
          "metadata": {
            "tags": [],
            "needs_background": "light"
          }
        }
      ]
    },
    {
      "cell_type": "code",
      "metadata": {
        "colab": {
          "base_uri": "https://localhost:8080/",
          "height": 279
        },
        "id": "ErA7wqI6r_4V",
        "outputId": "f84e4ba6-acfa-4a52-c975-afcec7839423"
      },
      "source": [
        "plt.figure(figsize =(6,4))\n",
        "sn.boxplot(df_high_value['churn'], df_high_value['total_rech_amt_data_7'], showfliers = False)\n",
        "plt.show()"
      ],
      "execution_count": 50,
      "outputs": [
        {
          "output_type": "display_data",
          "data": {
            "image/png": "[encoded data removed]",
            "text/plain": [
              "<Figure size 432x288 with 1 Axes>"
            ]
          },
          "metadata": {
            "tags": [],
            "needs_background": "light"
          }
        }
      ]
    },
    {
      "cell_type": "code",
      "metadata": {
        "colab": {
          "base_uri": "https://localhost:8080/",
          "height": 279
        },
        "id": "8-NUHNCnr_4V",
        "outputId": "a3cd59a6-0756-41c3-e6e6-02457d405882"
      },
      "source": [
        "plt.figure(figsize =(6,4))\n",
        "sn.boxplot(df_high_value['churn'], df_high_value['total_rech_amt_data_8'], showfliers = False)\n",
        "plt.show()"
      ],
      "execution_count": 51,
      "outputs": [
        {
          "output_type": "display_data",
          "data": {
            "image/png": "[encoded data removed]",
            "text/plain": [
              "<Figure size 432x288 with 1 Axes>"
            ]
          },
          "metadata": {
            "tags": [],
            "needs_background": "light"
          }
        }
      ]
    },
    {
      "cell_type": "code",
      "metadata": {
        "collapsed": true,
        "id": "FE4YnKiEr_4V"
      },
      "source": [
        "### DATA RECHARGE AMOUNT SHOWS DECREASE"
      ],
      "execution_count": 52,
      "outputs": []
    },
    {
      "cell_type": "code",
      "metadata": {
        "colab": {
          "base_uri": "https://localhost:8080/",
          "height": 279
        },
        "id": "0yfI7tTIr_4X",
        "outputId": "ab055fe7-70a3-4b48-b337-1b3e887cc789"
      },
      "source": [
        "plt.figure(figsize =(6,4))\n",
        "sn.boxplot(df_high_value['churn'], df_high_value['arpu_6'], showfliers = False)\n",
        "plt.show()"
      ],
      "execution_count": 53,
      "outputs": [
        {
          "output_type": "display_data",
          "data": {
            "image/png": "[encoded data removed]",
            "text/plain": [
              "<Figure size 432x288 with 1 Axes>"
            ]
          },
          "metadata": {
            "tags": [],
            "needs_background": "light"
          }
        }
      ]
    },
    {
      "cell_type": "code",
      "metadata": {
        "colab": {
          "base_uri": "https://localhost:8080/",
          "height": 279
        },
        "id": "mpUU9QE8r_4Y",
        "outputId": "21a76264-6475-4a68-d8bf-9e3ee9094ffd"
      },
      "source": [
        "plt.figure(figsize =(6,4))\n",
        "sn.boxplot(df_high_value['churn'], df_high_value['arpu_7'], showfliers = False)\n",
        "plt.show()"
      ],
      "execution_count": 54,
      "outputs": [
        {
          "output_type": "display_data",
          "data": {
            "image/png": "[encoded data removed]",
            "text/plain": [
              "<Figure size 432x288 with 1 Axes>"
            ]
          },
          "metadata": {
            "tags": [],
            "needs_background": "light"
          }
        }
      ]
    },
    {
      "cell_type": "code",
      "metadata": {
        "colab": {
          "base_uri": "https://localhost:8080/",
          "height": 279
        },
        "id": "ouJuC-dDr_4Y",
        "outputId": "8fc7fab9-ea0f-43a9-8ec1-e4e316b7a208"
      },
      "source": [
        "plt.figure(figsize =(6,4))\n",
        "sn.boxplot(df_high_value['churn'], df_high_value['arpu_8'], showfliers = False)\n",
        "plt.show()"
      ],
      "execution_count": 55,
      "outputs": [
        {
          "output_type": "display_data",
          "data": {
            "image/png": "[encoded data removed]",
            "text/plain": [
              "<Figure size 432x288 with 1 Axes>"
            ]
          },
          "metadata": {
            "tags": [],
            "needs_background": "light"
          }
        }
      ]
    },
    {
      "cell_type": "code",
      "metadata": {
        "collapsed": true,
        "id": "Zw6Rhon0r_4Z"
      },
      "source": [
        "### WE SEE ARPU DECREASE ALSO IN 8TH MONTH "
      ],
      "execution_count": 56,
      "outputs": []
    },
    {
      "cell_type": "code",
      "metadata": {
        "colab": {
          "base_uri": "https://localhost:8080/",
          "height": 279
        },
        "id": "G1Y8DZkhr_4Z",
        "outputId": "aff1b5af-47a2-4f69-adca-bba1a75f9677"
      },
      "source": [
        "plt.figure(figsize =(6,4))\n",
        "sn.boxplot(df_high_value['churn'], df_high_value['onnet_mou_6'], showfliers = False)\n",
        "plt.show()"
      ],
      "execution_count": 57,
      "outputs": [
        {
          "output_type": "display_data",
          "data": {
            "image/png": "[encoded data removed]",
            "text/plain": [
              "<Figure size 432x288 with 1 Axes>"
            ]
          },
          "metadata": {
            "tags": [],
            "needs_background": "light"
          }
        }
      ]
    },
    {
      "cell_type": "code",
      "metadata": {
        "colab": {
          "base_uri": "https://localhost:8080/",
          "height": 279
        },
        "id": "UaRCRfzBr_4Z",
        "outputId": "8dd62341-6ae7-43bf-c201-3e19b2213e40"
      },
      "source": [
        "plt.figure(figsize =(6,4))\n",
        "sn.boxplot(df_high_value['churn'], df_high_value['onnet_mou_7'], showfliers = False)\n",
        "plt.show()"
      ],
      "execution_count": 58,
      "outputs": [
        {
          "output_type": "display_data",
          "data": {
            "image/png": "[encoded data removed]",
            "text/plain": [
              "<Figure size 432x288 with 1 Axes>"
            ]
          },
          "metadata": {
            "tags": [],
            "needs_background": "light"
          }
        }
      ]
    },
    {
      "cell_type": "code",
      "metadata": {
        "colab": {
          "base_uri": "https://localhost:8080/",
          "height": 279
        },
        "id": "-_8HDYHpr_4b",
        "outputId": "8cc96997-71d5-4a07-9adb-31c3c4678abf"
      },
      "source": [
        "plt.figure(figsize =(6,4))\n",
        "sn.boxplot(df_high_value['churn'], df_high_value['onnet_mou_8'], showfliers = False)\n",
        "plt.show()"
      ],
      "execution_count": 59,
      "outputs": [
        {
          "output_type": "display_data",
          "data": {
            "image/png": "[encoded data removed]",
            "text/plain": [
              "<Figure size 432x288 with 1 Axes>"
            ]
          },
          "metadata": {
            "tags": [],
            "needs_background": "light"
          }
        }
      ]
    },
    {
      "cell_type": "code",
      "metadata": {
        "collapsed": true,
        "id": "VZTXdJewr_4b"
      },
      "source": [
        "### THE ONNET MOU FOR NON CHURN CUSTOMERS INCREASED WHILE FOR CHURNED CUSTOMERS IT DECREASED"
      ],
      "execution_count": 60,
      "outputs": []
    },
    {
      "cell_type": "code",
      "metadata": {
        "colab": {
          "base_uri": "https://localhost:8080/",
          "height": 279
        },
        "id": "c89Naxz0r_4c",
        "outputId": "6639c5f7-5b90-42c8-c92e-5d0bfe72850c"
      },
      "source": [
        "plt.figure(figsize =(6,4))\n",
        "sn.boxplot(df_high_value['churn'], df_high_value['offnet_mou_6'], showfliers = False)\n",
        "plt.show()"
      ],
      "execution_count": 61,
      "outputs": [
        {
          "output_type": "display_data",
          "data": {
            "image/png": "[encoded data removed]",
            "text/plain": [
              "<Figure size 432x288 with 1 Axes>"
            ]
          },
          "metadata": {
            "tags": [],
            "needs_background": "light"
          }
        }
      ]
    },
    {
      "cell_type": "code",
      "metadata": {
        "colab": {
          "base_uri": "https://localhost:8080/",
          "height": 279
        },
        "id": "rs3gi7O2r_4c",
        "outputId": "ed472e5c-50a4-4ef0-d867-ffcecfae3a61"
      },
      "source": [
        "plt.figure(figsize =(6,4))\n",
        "sn.boxplot(df_high_value['churn'], df_high_value['offnet_mou_8'], showfliers = False)\n",
        "plt.show()"
      ],
      "execution_count": 62,
      "outputs": [
        {
          "output_type": "display_data",
          "data": {
            "image/png": "[encoded data removed]",
            "text/plain": [
              "<Figure size 432x288 with 1 Axes>"
            ]
          },
          "metadata": {
            "tags": [],
            "needs_background": "light"
          }
        }
      ]
    },
    {
      "cell_type": "code",
      "metadata": {
        "collapsed": true,
        "id": "Bs0igHpQr_4g"
      },
      "source": [
        "### SIMILAR TREND IN OFFNET MOU "
      ],
      "execution_count": 63,
      "outputs": []
    },
    {
      "cell_type": "code",
      "metadata": {
        "colab": {
          "base_uri": "https://localhost:8080/",
          "height": 279
        },
        "id": "9u8HoRFhr_4h",
        "outputId": "6a717e6d-ef86-47cb-d390-6e5f5052b78a"
      },
      "source": [
        "plt.figure(figsize =(6,4))\n",
        "sn.boxplot(df_high_value['churn'], df_high_value['total_rech_amt_6'], showfliers = False)\n",
        "plt.show()"
      ],
      "execution_count": 64,
      "outputs": [
        {
          "output_type": "display_data",
          "data": {
            "image/png": "[encoded data removed]",
            "text/plain": [
              "<Figure size 432x288 with 1 Axes>"
            ]
          },
          "metadata": {
            "tags": [],
            "needs_background": "light"
          }
        }
      ]
    },
    {
      "cell_type": "code",
      "metadata": {
        "colab": {
          "base_uri": "https://localhost:8080/",
          "height": 279
        },
        "id": "qqWozuK2r_4i",
        "outputId": "e27c62a4-5d30-4ad0-9b0a-f6ede6503217"
      },
      "source": [
        "plt.figure(figsize =(6,4))\n",
        "sn.boxplot(df_high_value['churn'], df_high_value['total_rech_amt_8'], showfliers = False)\n",
        "plt.show()"
      ],
      "execution_count": 65,
      "outputs": [
        {
          "output_type": "display_data",
          "data": {
            "image/png": "[encoded data removed]",
            "text/plain": [
              "<Figure size 432x288 with 1 Axes>"
            ]
          },
          "metadata": {
            "tags": [],
            "needs_background": "light"
          }
        }
      ]
    },
    {
      "cell_type": "code",
      "metadata": {
        "collapsed": true,
        "id": "9tXg2Xyrr_4j"
      },
      "source": [
        "### TOT RECH AMOUNT REMAINS SAME FOR NON CHURN AND DROPS FOR CHURN CUSTOMERS "
      ],
      "execution_count": 66,
      "outputs": []
    },
    {
      "cell_type": "code",
      "metadata": {
        "colab": {
          "base_uri": "https://localhost:8080/",
          "height": 279
        },
        "id": "6XJZpF4fr_4j",
        "outputId": "1eead8e3-5e4b-4d29-a25c-6743429282b2"
      },
      "source": [
        "plt.figure(figsize =(6,4))\n",
        "sn.boxplot(df_high_value['churn'], df_high_value['total_rech_num_6'], showfliers = False)\n",
        "plt.show()"
      ],
      "execution_count": 67,
      "outputs": [
        {
          "output_type": "display_data",
          "data": {
            "image/png": "[encoded data removed]",
            "text/plain": [
              "<Figure size 432x288 with 1 Axes>"
            ]
          },
          "metadata": {
            "tags": [],
            "needs_background": "light"
          }
        }
      ]
    },
    {
      "cell_type": "code",
      "metadata": {
        "colab": {
          "base_uri": "https://localhost:8080/",
          "height": 279
        },
        "id": "l01xkB5Er_4j",
        "outputId": "ed460200-c05d-49cc-aa88-4061ee2ce737"
      },
      "source": [
        "plt.figure(figsize =(6,4))\n",
        "sn.boxplot(df_high_value['churn'], df_high_value['total_rech_num_8'], showfliers = False)\n",
        "plt.show()"
      ],
      "execution_count": 68,
      "outputs": [
        {
          "output_type": "display_data",
          "data": {
            "image/png": "[encoded data removed]",
            "text/plain": [
              "<Figure size 432x288 with 1 Axes>"
            ]
          },
          "metadata": {
            "tags": [],
            "needs_background": "light"
          }
        }
      ]
    },
    {
      "cell_type": "code",
      "metadata": {
        "collapsed": true,
        "id": "XdZgR0ear_4k"
      },
      "source": [
        "### THE TOT NUM OF RECHARGES FOR NON CHURN CUSTOMERS INCREASED WHILE FOR CHURNED CUSTOMERS IT DECREASED"
      ],
      "execution_count": 69,
      "outputs": []
    },
    {
      "cell_type": "code",
      "metadata": {
        "id": "nsGh4M_9r_4l"
      },
      "source": [
        "### IMPUTING MISSING RECHARGE COLUMNS \n",
        "import re\n",
        "for k,v in d.items():\n",
        "    if k.find('max_rech') !=-1:\n",
        "        df_high_value[k] = df_high_value[k].fillna(0, inplace= False)"
      ],
      "execution_count": 70,
      "outputs": []
    },
    {
      "cell_type": "code",
      "metadata": {
        "colab": {
          "base_uri": "https://localhost:8080/",
          "height": 279
        },
        "id": "GxiuN-W5r_4l",
        "outputId": "bdff08cf-bf05-484b-9443-266cf7882e64"
      },
      "source": [
        "plt.figure(figsize =(6,4))\n",
        "sn.boxplot(df_high_value['churn'], df_high_value['max_rech_data_6'], showfliers = False)\n",
        "plt.show()"
      ],
      "execution_count": 71,
      "outputs": [
        {
          "output_type": "display_data",
          "data": {
            "image/png": "[encoded data removed]",
            "text/plain": [
              "<Figure size 432x288 with 1 Axes>"
            ]
          },
          "metadata": {
            "tags": [],
            "needs_background": "light"
          }
        }
      ]
    },
    {
      "cell_type": "code",
      "metadata": {
        "colab": {
          "base_uri": "https://localhost:8080/",
          "height": 279
        },
        "id": "lptUWreRr_4m",
        "outputId": "626ad0ce-2dd9-48aa-992e-b0a114299c26"
      },
      "source": [
        "plt.figure(figsize =(6,4))\n",
        "sn.boxplot(df_high_value['churn'], df_high_value['max_rech_data_8'], showfliers = False)\n",
        "plt.show()"
      ],
      "execution_count": 72,
      "outputs": [
        {
          "output_type": "display_data",
          "data": {
            "image/png": "[encoded data removed]",
            "text/plain": [
              "<Figure size 432x288 with 1 Axes>"
            ]
          },
          "metadata": {
            "tags": [],
            "needs_background": "light"
          }
        }
      ]
    },
    {
      "cell_type": "code",
      "metadata": {
        "colab": {
          "base_uri": "https://localhost:8080/"
        },
        "id": "ZO0Ia8B7r_4n",
        "outputId": "3a285454-f247-4eca-a44d-fe2e90fa86da"
      },
      "source": [
        "for k,v in d.items():\n",
        "    if k.find('rech') !=-1:\n",
        "        print(k,v)       "
      ],
      "execution_count": 73,
      "outputs": [
        {
          "output_type": "stream",
          "text": [
            "date_of_last_rech_6 73\n",
            "date_of_last_rech_7 98\n",
            "date_of_last_rech_8 582\n",
            "date_of_last_rech_data_6 13213\n",
            "date_of_last_rech_data_7 12915\n",
            "date_of_last_rech_data_8 14018\n",
            "max_rech_data_6 13213\n",
            "max_rech_data_7 12915\n",
            "max_rech_data_8 14018\n",
            "count_rech_2g_6 13213\n",
            "count_rech_2g_7 12915\n",
            "count_rech_2g_8 14018\n",
            "count_rech_3g_6 13213\n",
            "count_rech_3g_7 12915\n",
            "count_rech_3g_8 14018\n"
          ],
          "name": "stdout"
        }
      ]
    },
    {
      "cell_type": "code",
      "metadata": {
        "id": "esvDsm-Tr_4o"
      },
      "source": [
        "### DROPPING COUNT RECH COLUMNS \n",
        "for k,v in d.items():\n",
        "    if k.find('count') !=-1:\n",
        "        df_high_value.drop(k, axis = 1, inplace= True)"
      ],
      "execution_count": 74,
      "outputs": []
    },
    {
      "cell_type": "code",
      "metadata": {
        "colab": {
          "base_uri": "https://localhost:8080/"
        },
        "id": "4XcLq2DAr_4o",
        "outputId": "d61bf168-65e6-4210-f46e-caaa6ace23c4"
      },
      "source": [
        "df_high_value.columns[df_high_value.columns.str.contains('count')]"
      ],
      "execution_count": 75,
      "outputs": [
        {
          "output_type": "execute_result",
          "data": {
            "text/plain": [
              "Index([], dtype='object')"
            ]
          },
          "metadata": {
            "tags": []
          },
          "execution_count": 75
        }
      ]
    },
    {
      "cell_type": "code",
      "metadata": {
        "collapsed": true,
        "id": "ichS8CO1r_4p"
      },
      "source": [
        "### REMOVING 2G 3G ARPU\n",
        "for k,v in d.items():\n",
        "    if k.find('arpu') !=-1:\n",
        "        df_high_value.drop(k, axis = 1, inplace= True)"
      ],
      "execution_count": 76,
      "outputs": []
    },
    {
      "cell_type": "code",
      "metadata": {
        "colab": {
          "base_uri": "https://localhost:8080/"
        },
        "id": "4ZXd5GQUr_4p",
        "outputId": "81f6d92c-7af0-4f94-a365-0ef8c5819c85"
      },
      "source": [
        "df_high_value.columns[df_high_value.columns.str.contains('arpu')]"
      ],
      "execution_count": 77,
      "outputs": [
        {
          "output_type": "execute_result",
          "data": {
            "text/plain": [
              "Index(['arpu_6', 'arpu_7', 'arpu_8'], dtype='object')"
            ]
          },
          "metadata": {
            "tags": []
          },
          "execution_count": 77
        }
      ]
    },
    {
      "cell_type": "code",
      "metadata": {
        "colab": {
          "base_uri": "https://localhost:8080/",
          "height": 279
        },
        "id": "RllCPow2r_4q",
        "outputId": "12467e6d-c654-42dd-e1a8-5f065e484615"
      },
      "source": [
        "plt.figure(figsize =(6,4))\n",
        "sn.boxplot(df_high_value['churn'], df_high_value['vol_2g_mb_6'], showfliers = False)\n",
        "plt.show()"
      ],
      "execution_count": 78,
      "outputs": [
        {
          "output_type": "display_data",
          "data": {
            "image/png": "[encoded data removed]",
            "text/plain": [
              "<Figure size 432x288 with 1 Axes>"
            ]
          },
          "metadata": {
            "tags": [],
            "needs_background": "light"
          }
        }
      ]
    },
    {
      "cell_type": "code",
      "metadata": {
        "colab": {
          "base_uri": "https://localhost:8080/",
          "height": 279
        },
        "id": "nhwzUSr-r_4q",
        "outputId": "45d5d26a-822e-43f5-e450-54693833bb9e"
      },
      "source": [
        "plt.figure(figsize =(6,4))\n",
        "sn.boxplot(df_high_value['churn'], df_high_value['vol_2g_mb_8'], showfliers = False)\n",
        "plt.show()"
      ],
      "execution_count": 79,
      "outputs": [
        {
          "output_type": "display_data",
          "data": {
            "image/png": "[encoded data removed]",
            "text/plain": [
              "<Figure size 432x288 with 1 Axes>"
            ]
          },
          "metadata": {
            "tags": [],
            "needs_background": "light"
          }
        }
      ]
    },
    {
      "cell_type": "code",
      "metadata": {
        "colab": {
          "base_uri": "https://localhost:8080/",
          "height": 279
        },
        "id": "TJy1htDKr_4r",
        "outputId": "b45c9cdf-731c-41f9-9bd2-d628ed7f935b"
      },
      "source": [
        "plt.figure(figsize =(6,4))\n",
        "sn.boxplot(df_high_value['churn'], df_high_value['vol_3g_mb_6'], showfliers = False)\n",
        "plt.show()"
      ],
      "execution_count": 80,
      "outputs": [
        {
          "output_type": "display_data",
          "data": {
            "image/png": "[encoded data removed]",
            "text/plain": [
              "<Figure size 432x288 with 1 Axes>"
            ]
          },
          "metadata": {
            "tags": [],
            "needs_background": "light"
          }
        }
      ]
    },
    {
      "cell_type": "code",
      "metadata": {
        "colab": {
          "base_uri": "https://localhost:8080/",
          "height": 279
        },
        "id": "bFU-qX-Br_4r",
        "outputId": "fda43147-2aba-40d3-d599-cd5a4b238011"
      },
      "source": [
        "plt.figure(figsize =(6,4))\n",
        "sn.boxplot(df_high_value['churn'], df_high_value['vol_3g_mb_8'], showfliers = False)\n",
        "plt.show()"
      ],
      "execution_count": 81,
      "outputs": [
        {
          "output_type": "display_data",
          "data": {
            "image/png": "[encoded data removed]",
            "text/plain": [
              "<Figure size 432x288 with 1 Axes>"
            ]
          },
          "metadata": {
            "tags": [],
            "needs_background": "light"
          }
        }
      ]
    },
    {
      "cell_type": "code",
      "metadata": {
        "collapsed": true,
        "id": "Q5nYzor7r_4s"
      },
      "source": [
        "### VOLUME OF DATA USAGE DROPS IN MONTH 8"
      ],
      "execution_count": 82,
      "outputs": []
    },
    {
      "cell_type": "code",
      "metadata": {
        "colab": {
          "base_uri": "https://localhost:8080/"
        },
        "id": "7mxEhb_gr_4s",
        "outputId": "fc61c828-f59f-4ee9-f08d-204e15d40cb8"
      },
      "source": [
        "monthly = df_high_value.columns[df_high_value.columns.str.contains('monthly')].tolist()\n",
        "monthly"
      ],
      "execution_count": 83,
      "outputs": [
        {
          "output_type": "execute_result",
          "data": {
            "text/plain": [
              "['monthly_2g_6',\n",
              " 'monthly_2g_7',\n",
              " 'monthly_2g_8',\n",
              " 'monthly_3g_6',\n",
              " 'monthly_3g_7',\n",
              " 'monthly_3g_8']"
            ]
          },
          "metadata": {
            "tags": []
          },
          "execution_count": 83
        }
      ]
    },
    {
      "cell_type": "code",
      "metadata": {
        "id": "dcqAwydyr_4t"
      },
      "source": [
        "def plotbar(column):\n",
        "    sn.barplot(df_high_value['churn'], df_high_value[column])\n",
        "    plt.show()"
      ],
      "execution_count": 84,
      "outputs": []
    },
    {
      "cell_type": "code",
      "metadata": {
        "colab": {
          "base_uri": "https://localhost:8080/",
          "height": 1000
        },
        "id": "jK9sx_30r_4t",
        "outputId": "1a046bfc-dccb-42b6-de10-bc2820cbc71d"
      },
      "source": [
        "for col in monthly:\n",
        "    plotbar(col)"
      ],
      "execution_count": 85,
      "outputs": [
        {
          "output_type": "display_data",
          "data": {
            "image/png": "[encoded data removed]",
            "text/plain": [
              "<Figure size 432x288 with 1 Axes>"
            ]
          },
          "metadata": {
            "tags": [],
            "needs_background": "light"
          }
        },
        {
          "output_type": "display_data",
          "data": {
            "image/png": "[encoded data removed]",
            "text/plain": [
              "<Figure size 432x288 with 1 Axes>"
            ]
          },
          "metadata": {
            "tags": [],
            "needs_background": "light"
          }
        },
        {
          "output_type": "display_data",
          "data": {
            "image/png": "[encoded data removed]",
            "text/plain": [
              "<Figure size 432x288 with 1 Axes>"
            ]
          },
          "metadata": {
            "tags": [],
            "needs_background": "light"
          }
        },
        {
          "output_type": "display_data",
          "data": {
            "image/png": "[encoded data removed]",
            "text/plain": [
              "<Figure size 432x288 with 1 Axes>"
            ]
          },
          "metadata": {
            "tags": [],
            "needs_background": "light"
          }
        },
        {
          "output_type": "display_data",
          "data": {
            "image/png": "[encoded data removed]",
            "text/plain": [
              "<Figure size 432x288 with 1 Axes>"
            ]
          },
          "metadata": {
            "tags": [],
            "needs_background": "light"
          }
        },
        {
          "output_type": "display_data",
          "data": {
            "image/png": "[encoded data removed]",
            "text/plain": [
              "<Figure size 432x288 with 1 Axes>"
            ]
          },
          "metadata": {
            "tags": [],
            "needs_background": "light"
          }
        }
      ]
    },
    {
      "cell_type": "code",
      "metadata": {
        "collapsed": true,
        "id": "0Zsz3eLNr_4t"
      },
      "source": [
        "### 8th MONTH AGAIN SHOWS DECREASE IN VALUES FOR CHURN CUSTOMERS "
      ],
      "execution_count": 86,
      "outputs": []
    },
    {
      "cell_type": "code",
      "metadata": {
        "colab": {
          "base_uri": "https://localhost:8080/"
        },
        "id": "qOJA4FHlr_4t",
        "outputId": "908a353d-7cc6-463e-dafb-7a409bac7609"
      },
      "source": [
        "df_high_value.columns[df_high_value.columns.str.contains('vbc')]"
      ],
      "execution_count": 87,
      "outputs": [
        {
          "output_type": "execute_result",
          "data": {
            "text/plain": [
              "Index(['aug_vbc_3g', 'jul_vbc_3g', 'jun_vbc_3g', 'sep_vbc_3g'], dtype='object')"
            ]
          },
          "metadata": {
            "tags": []
          },
          "execution_count": 87
        }
      ]
    },
    {
      "cell_type": "code",
      "metadata": {
        "id": "ghX_a7Btr_4u"
      },
      "source": [
        "### COLUMN RENAMING \n",
        "df_high_value = df_high_value.rename(columns = {'aug_vbc_3g':'vbc_3g_8', 'jul_vbc_3g':'vbc_3g_7',\n",
        "                                               'jun_vbc_3g':'vbc_3g_6', 'sep_vbc_3g':'vbc_3g_9'})"
      ],
      "execution_count": 88,
      "outputs": []
    },
    {
      "cell_type": "code",
      "metadata": {
        "collapsed": true,
        "id": "J6yFFxEBr_4u"
      },
      "source": [
        "df_high_value.drop('vbc_3g_9',axis =1 , inplace = True)"
      ],
      "execution_count": 89,
      "outputs": []
    },
    {
      "cell_type": "code",
      "metadata": {
        "colab": {
          "base_uri": "https://localhost:8080/",
          "height": 806
        },
        "id": "BUAtGWD5r_4v",
        "outputId": "6a64ce5b-6bcf-4917-f001-93961112c22f"
      },
      "source": [
        "vbc_columns = df_high_value.columns[df_high_value.columns.str.contains('vbc')]\n",
        "for col in vbc_columns:\n",
        "    plotbar(col)"
      ],
      "execution_count": 90,
      "outputs": [
        {
          "output_type": "display_data",
          "data": {
            "image/png": "[encoded data removed]",
            "text/plain": [
              "<Figure size 432x288 with 1 Axes>"
            ]
          },
          "metadata": {
            "tags": [],
            "needs_background": "light"
          }
        },
        {
          "output_type": "display_data",
          "data": {
            "image/png": "[encoded data removed]",
            "text/plain": [
              "<Figure size 432x288 with 1 Axes>"
            ]
          },
          "metadata": {
            "tags": [],
            "needs_background": "light"
          }
        },
        {
          "output_type": "display_data",
          "data": {
            "image/png": "[encoded data removed]",
            "text/plain": [
              "<Figure size 432x288 with 1 Axes>"
            ]
          },
          "metadata": {
            "tags": [],
            "needs_background": "light"
          }
        }
      ]
    },
    {
      "cell_type": "code",
      "metadata": {
        "collapsed": true,
        "id": "cNZpkUXur_4v"
      },
      "source": [
        "### VBC SIGNIFICANTLY DECREASES OVER MONTHS "
      ],
      "execution_count": 91,
      "outputs": []
    },
    {
      "cell_type": "code",
      "metadata": {
        "colab": {
          "base_uri": "https://localhost:8080/"
        },
        "id": "ES78Jwt0r_4w",
        "outputId": "fcf57398-8e7e-41a9-c362-d7b214075d54"
      },
      "source": [
        "sachet_columns = df_high_value.columns[df_high_value.columns.str.contains('sachet')]\n",
        "sachet_columns"
      ],
      "execution_count": 92,
      "outputs": [
        {
          "output_type": "execute_result",
          "data": {
            "text/plain": [
              "Index(['sachet_2g_6', 'sachet_2g_7', 'sachet_2g_8', 'sachet_3g_6',\n",
              "       'sachet_3g_7', 'sachet_3g_8'],\n",
              "      dtype='object')"
            ]
          },
          "metadata": {
            "tags": []
          },
          "execution_count": 92
        }
      ]
    },
    {
      "cell_type": "code",
      "metadata": {
        "colab": {
          "base_uri": "https://localhost:8080/",
          "height": 1000
        },
        "id": "GAygQXUur_4w",
        "outputId": "65d36ae5-c061-49f8-a158-14247e5a5856"
      },
      "source": [
        "for col in sachet_columns:\n",
        "    plotbar(col)"
      ],
      "execution_count": 93,
      "outputs": [
        {
          "output_type": "display_data",
          "data": {
            "image/png": "[encoded data removed]",
            "text/plain": [
              "<Figure size 432x288 with 1 Axes>"
            ]
          },
          "metadata": {
            "tags": [],
            "needs_background": "light"
          }
        },
        {
          "output_type": "display_data",
          "data": {
            "image/png": "[encoded data removed]",
            "text/plain": [
              "<Figure size 432x288 with 1 Axes>"
            ]
          },
          "metadata": {
            "tags": [],
            "needs_background": "light"
          }
        },
        {
          "output_type": "display_data",
          "data": {
            "image/png": "[encoded data removed]",
            "text/plain": [
              "<Figure size 432x288 with 1 Axes>"
            ]
          },
          "metadata": {
            "tags": [],
            "needs_background": "light"
          }
        },
        {
          "output_type": "display_data",
          "data": {
            "image/png": "[encoded data removed]",
            "text/plain": [
              "<Figure size 432x288 with 1 Axes>"
            ]
          },
          "metadata": {
            "tags": [],
            "needs_background": "light"
          }
        },
        {
          "output_type": "display_data",
          "data": {
            "image/png": "[encoded data removed]",
            "text/plain": [
              "<Figure size 432x288 with 1 Axes>"
            ]
          },
          "metadata": {
            "tags": [],
            "needs_background": "light"
          }
        },
        {
          "output_type": "display_data",
          "data": {
            "image/png": "[encoded data removed]",
            "text/plain": [
              "<Figure size 432x288 with 1 Axes>"
            ]
          },
          "metadata": {
            "tags": [],
            "needs_background": "light"
          }
        }
      ]
    },
    {
      "cell_type": "code",
      "metadata": {
        "collapsed": true,
        "id": "Qo4S8gW8r_4w"
      },
      "source": [
        "### 8TH MONTH SHOWS REDUCTION IN SACHET USAGE AS WELL"
      ],
      "execution_count": 94,
      "outputs": []
    },
    {
      "cell_type": "code",
      "metadata": {
        "colab": {
          "base_uri": "https://localhost:8080/"
        },
        "id": "l2d_t8q0r_4x",
        "outputId": "11fabac6-80e3-4275-d5da-100cafef2a7e"
      },
      "source": [
        "arpu_columns = df_high_value.columns[df_high_value.columns.str.contains('arpu')]\n",
        "arpu_columns"
      ],
      "execution_count": 95,
      "outputs": [
        {
          "output_type": "execute_result",
          "data": {
            "text/plain": [
              "Index(['arpu_6', 'arpu_7', 'arpu_8'], dtype='object')"
            ]
          },
          "metadata": {
            "tags": []
          },
          "execution_count": 95
        }
      ]
    },
    {
      "cell_type": "code",
      "metadata": {
        "colab": {
          "base_uri": "https://localhost:8080/",
          "height": 803
        },
        "id": "qzK1NbZDr_4x",
        "outputId": "8b8e2e0a-dcf6-43db-8e2d-0fbfaf1b7cf6"
      },
      "source": [
        "for col in arpu_columns:\n",
        "    plotbar(col)"
      ],
      "execution_count": 96,
      "outputs": [
        {
          "output_type": "display_data",
          "data": {
            "image/png": "[encoded data removed]",
            "text/plain": [
              "<Figure size 432x288 with 1 Axes>"
            ]
          },
          "metadata": {
            "tags": [],
            "needs_background": "light"
          }
        },
        {
          "output_type": "display_data",
          "data": {
            "image/png": "[encoded data removed]",
            "text/plain": [
              "<Figure size 432x288 with 1 Axes>"
            ]
          },
          "metadata": {
            "tags": [],
            "needs_background": "light"
          }
        },
        {
          "output_type": "display_data",
          "data": {
            "image/png": "[encoded data removed]",
            "text/plain": [
              "<Figure size 432x288 with 1 Axes>"
            ]
          },
          "metadata": {
            "tags": [],
            "needs_background": "light"
          }
        }
      ]
    },
    {
      "cell_type": "code",
      "metadata": {
        "collapsed": true,
        "id": "s4m6xqcSr_4y"
      },
      "source": [
        "### VERY LESS ARPU FOR 8TH MONTH "
      ],
      "execution_count": 97,
      "outputs": []
    },
    {
      "cell_type": "code",
      "metadata": {
        "colab": {
          "base_uri": "https://localhost:8080/"
        },
        "id": "fvN34ERmr_4y",
        "outputId": "5ad38929-dfda-4d5a-9806-3a177bf96082"
      },
      "source": [
        "for k,v in d.items():\n",
        "    if k.find('mou') !=-1:\n",
        "        print(k,v)       "
      ],
      "execution_count": 98,
      "outputs": [
        {
          "output_type": "stream",
          "text": [
            "onnet_mou_6 542\n",
            "onnet_mou_7 536\n",
            "onnet_mou_8 1172\n",
            "offnet_mou_6 542\n",
            "offnet_mou_7 536\n",
            "offnet_mou_8 1172\n",
            "roam_ic_mou_6 542\n",
            "roam_ic_mou_7 536\n",
            "roam_ic_mou_8 1172\n",
            "roam_og_mou_6 542\n",
            "roam_og_mou_7 536\n",
            "roam_og_mou_8 1172\n",
            "loc_og_t2t_mou_6 542\n",
            "loc_og_t2t_mou_7 536\n",
            "loc_og_t2t_mou_8 1172\n",
            "loc_og_t2m_mou_6 542\n",
            "loc_og_t2m_mou_7 536\n",
            "loc_og_t2m_mou_8 1172\n",
            "loc_og_t2f_mou_6 542\n",
            "loc_og_t2f_mou_7 536\n",
            "loc_og_t2f_mou_8 1172\n",
            "loc_og_t2c_mou_6 542\n",
            "loc_og_t2c_mou_7 536\n",
            "loc_og_t2c_mou_8 1172\n",
            "loc_og_mou_6 542\n",
            "loc_og_mou_7 536\n",
            "loc_og_mou_8 1172\n",
            "std_og_t2t_mou_6 542\n",
            "std_og_t2t_mou_7 536\n",
            "std_og_t2t_mou_8 1172\n",
            "std_og_t2m_mou_6 542\n",
            "std_og_t2m_mou_7 536\n",
            "std_og_t2m_mou_8 1172\n",
            "std_og_t2f_mou_6 542\n",
            "std_og_t2f_mou_7 536\n",
            "std_og_t2f_mou_8 1172\n",
            "std_og_mou_6 542\n",
            "std_og_mou_7 536\n",
            "std_og_mou_8 1172\n",
            "isd_og_mou_6 542\n",
            "isd_og_mou_7 536\n",
            "isd_og_mou_8 1172\n",
            "spl_og_mou_6 542\n",
            "spl_og_mou_7 536\n",
            "spl_og_mou_8 1172\n",
            "loc_ic_t2t_mou_6 542\n",
            "loc_ic_t2t_mou_7 536\n",
            "loc_ic_t2t_mou_8 1172\n",
            "loc_ic_t2m_mou_6 542\n",
            "loc_ic_t2m_mou_7 536\n",
            "loc_ic_t2m_mou_8 1172\n",
            "loc_ic_t2f_mou_6 542\n",
            "loc_ic_t2f_mou_7 536\n",
            "loc_ic_t2f_mou_8 1172\n",
            "loc_ic_mou_6 542\n",
            "loc_ic_mou_7 536\n",
            "loc_ic_mou_8 1172\n",
            "std_ic_t2t_mou_6 542\n",
            "std_ic_t2t_mou_7 536\n",
            "std_ic_t2t_mou_8 1172\n",
            "std_ic_t2m_mou_6 542\n",
            "std_ic_t2m_mou_7 536\n",
            "std_ic_t2m_mou_8 1172\n",
            "std_ic_t2f_mou_6 542\n",
            "std_ic_t2f_mou_7 536\n",
            "std_ic_t2f_mou_8 1172\n",
            "std_ic_mou_6 542\n",
            "std_ic_mou_7 536\n",
            "std_ic_mou_8 1172\n",
            "spl_ic_mou_6 542\n",
            "spl_ic_mou_7 536\n",
            "spl_ic_mou_8 1172\n",
            "isd_ic_mou_6 542\n",
            "isd_ic_mou_7 536\n",
            "isd_ic_mou_8 1172\n"
          ],
          "name": "stdout"
        }
      ]
    },
    {
      "cell_type": "code",
      "metadata": {
        "collapsed": true,
        "id": "Z1GEl9Mjr_4z"
      },
      "source": [
        "for k,v in d.items():\n",
        "    if k.find('mou') !=-1:\n",
        "        df_high_value[k] = df_high_value[k].fillna(0, inplace= False)"
      ],
      "execution_count": 99,
      "outputs": []
    },
    {
      "cell_type": "code",
      "metadata": {
        "colab": {
          "base_uri": "https://localhost:8080/"
        },
        "id": "7r8own9yr_4z",
        "outputId": "f211fed1-0bd9-4bb6-d55e-5208d53330da"
      },
      "source": [
        "df_high_value.columns[df_high_value.isnull().sum()>0]"
      ],
      "execution_count": 100,
      "outputs": [
        {
          "output_type": "execute_result",
          "data": {
            "text/plain": [
              "Index(['og_others_6', 'og_others_7', 'og_others_8', 'ic_others_6',\n",
              "       'ic_others_7', 'ic_others_8', 'date_of_last_rech_6',\n",
              "       'date_of_last_rech_7', 'date_of_last_rech_8',\n",
              "       'date_of_last_rech_data_6', 'date_of_last_rech_data_7',\n",
              "       'date_of_last_rech_data_8', 'night_pck_user_6', 'night_pck_user_7',\n",
              "       'night_pck_user_8', 'fb_user_6', 'fb_user_7', 'fb_user_8'],\n",
              "      dtype='object')"
            ]
          },
          "metadata": {
            "tags": []
          },
          "execution_count": 100
        }
      ]
    },
    {
      "cell_type": "code",
      "metadata": {
        "collapsed": true,
        "id": "-CMaPcDTr_40"
      },
      "source": [
        "og_mou_6 = df_high_value.columns[df_high_value.columns.str.contains('.*_og_.*mou_6')]"
      ],
      "execution_count": 101,
      "outputs": []
    },
    {
      "cell_type": "code",
      "metadata": {
        "colab": {
          "base_uri": "https://localhost:8080/",
          "height": 464
        },
        "id": "6ZOEhs0Br_40",
        "outputId": "dad6bb33-cd28-49e5-f84d-872170dd6cb5"
      },
      "source": [
        "plt.figure(figsize=(8,6))\n",
        "sn.heatmap(df_high_value.filter(og_mou_6).corr())\n",
        "plt.show()"
      ],
      "execution_count": 102,
      "outputs": [
        {
          "output_type": "display_data",
          "data": {
            "image/png": "[encoded data removed]",
            "text/plain": [
              "<Figure size 576x432 with 2 Axes>"
            ]
          },
          "metadata": {
            "tags": [],
            "needs_background": "light"
          }
        }
      ]
    },
    {
      "cell_type": "code",
      "metadata": {
        "id": "dXxoKvUer_41"
      },
      "source": [
        "### STD LOC AD TOT OG MOU HAVE CORRELATION WITH OTHER VARIABLES \n",
        "col_to_drop = ['total_og_mou_6', 'std_og_mou_6', 'loc_og_mou_6',\n",
        "              'total_og_mou_7', 'std_og_mou_7', 'loc_og_mou_7',\n",
        "              'total_og_mou_8', 'std_og_mou_8', 'loc_og_mou_8']\n",
        "for col in col_to_drop:\n",
        "    df_high_value.drop(col, axis = 1, inplace = True)"
      ],
      "execution_count": 103,
      "outputs": []
    },
    {
      "cell_type": "code",
      "metadata": {
        "collapsed": true,
        "id": "1bDCK1gJr_42"
      },
      "source": [
        "ic_mou_6 = df_high_value.columns[df_high_value.columns.str.contains('.*_ic_.*mou_6')]"
      ],
      "execution_count": 104,
      "outputs": []
    },
    {
      "cell_type": "code",
      "metadata": {
        "colab": {
          "base_uri": "https://localhost:8080/",
          "height": 460
        },
        "id": "o7fpDsYbr_42",
        "outputId": "7f51c0b4-390e-4f3d-dacc-bddf34bc08f7"
      },
      "source": [
        "plt.figure(figsize=(8,6))\n",
        "sn.heatmap(df_high_value.filter(ic_mou_6).corr())\n",
        "plt.show()"
      ],
      "execution_count": 105,
      "outputs": [
        {
          "output_type": "display_data",
          "data": {
            "image/png": "[encoded data removed]",
            "text/plain": [
              "<Figure size 576x432 with 2 Axes>"
            ]
          },
          "metadata": {
            "tags": [],
            "needs_background": "light"
          }
        }
      ]
    },
    {
      "cell_type": "code",
      "metadata": {
        "collapsed": true,
        "id": "7pbHbzlEr_43"
      },
      "source": [
        "### AGAIN TOT STD AND LOC IC MOU HAVE CORRELATION WITH OTHER COLUMNS \n",
        "col_to_drop = ['total_ic_mou_6', 'std_ic_mou_6', 'loc_ic_mou_6',\n",
        "              'total_ic_mou_7', 'std_ic_mou_7', 'loc_ic_mou_7',\n",
        "              'total_ic_mou_8', 'std_ic_mou_8', 'loc_ic_mou_8']\n",
        "for col in col_to_drop:\n",
        "    df_high_value.drop(col, axis = 1, inplace = True)"
      ],
      "execution_count": 106,
      "outputs": []
    },
    {
      "cell_type": "code",
      "metadata": {
        "id": "0Xpl8lq_r_43"
      },
      "source": [
        "offnet_col = df_high_value.columns[df_high_value.columns.str.contains('offnet')]"
      ],
      "execution_count": 107,
      "outputs": []
    },
    {
      "cell_type": "code",
      "metadata": {
        "colab": {
          "base_uri": "https://localhost:8080/",
          "height": 803
        },
        "id": "6jVDpJq6r_43",
        "outputId": "f54e9904-6041-4ced-911a-3dcb1d6cb142"
      },
      "source": [
        "for col in offnet_col:\n",
        "    plotbar(col)"
      ],
      "execution_count": 108,
      "outputs": [
        {
          "output_type": "display_data",
          "data": {
            "image/png": "[encoded data removed]",
            "text/plain": [
              "<Figure size 432x288 with 1 Axes>"
            ]
          },
          "metadata": {
            "tags": [],
            "needs_background": "light"
          }
        },
        {
          "output_type": "display_data",
          "data": {
            "image/png": "[encoded data removed]",
            "text/plain": [
              "<Figure size 432x288 with 1 Axes>"
            ]
          },
          "metadata": {
            "tags": [],
            "needs_background": "light"
          }
        },
        {
          "output_type": "display_data",
          "data": {
            "image/png": "[encoded data removed]",
            "text/plain": [
              "<Figure size 432x288 with 1 Axes>"
            ]
          },
          "metadata": {
            "tags": [],
            "needs_background": "light"
          }
        }
      ]
    },
    {
      "cell_type": "code",
      "metadata": {
        "colab": {
          "base_uri": "https://localhost:8080/"
        },
        "id": "_TZ9WxiMr_43",
        "outputId": "bec0a745-d164-4a2b-9a96-83f73c380c17"
      },
      "source": [
        "onnet_col = df_high_value.columns[df_high_value.columns.str.contains('onnet')]\n",
        "onnet_col"
      ],
      "execution_count": 109,
      "outputs": [
        {
          "output_type": "execute_result",
          "data": {
            "text/plain": [
              "Index(['onnet_mou_6', 'onnet_mou_7', 'onnet_mou_8'], dtype='object')"
            ]
          },
          "metadata": {
            "tags": []
          },
          "execution_count": 109
        }
      ]
    },
    {
      "cell_type": "code",
      "metadata": {
        "colab": {
          "base_uri": "https://localhost:8080/",
          "height": 803
        },
        "id": "hRwBcfeIr_45",
        "outputId": "dbf13eb6-47c9-4c93-f5b7-36a5958008b9"
      },
      "source": [
        "for col in onnet_col:\n",
        "    plotbar(col)"
      ],
      "execution_count": 110,
      "outputs": [
        {
          "output_type": "display_data",
          "data": {
            "image/png": "[encoded data removed]",
            "text/plain": [
              "<Figure size 432x288 with 1 Axes>"
            ]
          },
          "metadata": {
            "tags": [],
            "needs_background": "light"
          }
        },
        {
          "output_type": "display_data",
          "data": {
            "image/png": "[encoded data removed]",
            "text/plain": [
              "<Figure size 432x288 with 1 Axes>"
            ]
          },
          "metadata": {
            "tags": [],
            "needs_background": "light"
          }
        },
        {
          "output_type": "display_data",
          "data": {
            "image/png": "[encoded data removed]",
            "text/plain": [
              "<Figure size 432x288 with 1 Axes>"
            ]
          },
          "metadata": {
            "tags": [],
            "needs_background": "light"
          }
        }
      ]
    },
    {
      "cell_type": "code",
      "metadata": {
        "colab": {
          "base_uri": "https://localhost:8080/"
        },
        "id": "w76NbfXFr_45",
        "outputId": "09797784-6f65-4c91-a892-47c877818fd1"
      },
      "source": [
        "df_high_value.columns[df_high_value.columns.str.contains('aon')]"
      ],
      "execution_count": 111,
      "outputs": [
        {
          "output_type": "execute_result",
          "data": {
            "text/plain": [
              "Index(['aon'], dtype='object')"
            ]
          },
          "metadata": {
            "tags": []
          },
          "execution_count": 111
        }
      ]
    },
    {
      "cell_type": "code",
      "metadata": {
        "colab": {
          "base_uri": "https://localhost:8080/",
          "height": 388
        },
        "id": "kiaqPvIWr_45",
        "outputId": "663c0524-3a52-4a05-e9b0-6ac9163f08c8"
      },
      "source": [
        "plt.figure(figsize=(8,6))\n",
        "sn.distplot(df_high_value['aon'])\n",
        "plt.show()"
      ],
      "execution_count": 112,
      "outputs": [
        {
          "output_type": "display_data",
          "data": {
            "image/png": "[encoded data removed]",
            "text/plain": [
              "<Figure size 576x432 with 1 Axes>"
            ]
          },
          "metadata": {
            "tags": [],
            "needs_background": "light"
          }
        }
      ]
    },
    {
      "cell_type": "code",
      "metadata": {
        "id": "kUzpNjFzr_46"
      },
      "source": [
        "df_high_value['tenure'] = df_high_value['aon']/30"
      ],
      "execution_count": 113,
      "outputs": []
    },
    {
      "cell_type": "code",
      "metadata": {
        "colab": {
          "base_uri": "https://localhost:8080/"
        },
        "id": "aIW_a_eGr_46",
        "outputId": "2a20d479-3862-40a3-848f-a4491806fd91"
      },
      "source": [
        "df_high_value['tenure_yr'] = df_high_value['tenure']/12\n",
        "df_high_value['tenure_yr'] = df_high_value['tenure_yr'].apply(lambda x: int(x))\n",
        "df_high_value['tenure_yr']"
      ],
      "execution_count": 114,
      "outputs": [
        {
          "output_type": "execute_result",
          "data": {
            "text/plain": [
              "0        2\n",
              "7        2\n",
              "8        0\n",
              "21       2\n",
              "23       1\n",
              "        ..\n",
              "99981    1\n",
              "99984    2\n",
              "99986    7\n",
              "99988    0\n",
              "99997    1\n",
              "Name: tenure_yr, Length: 29953, dtype: int64"
            ]
          },
          "metadata": {
            "tags": []
          },
          "execution_count": 114
        }
      ]
    },
    {
      "cell_type": "code",
      "metadata": {
        "colab": {
          "base_uri": "https://localhost:8080/",
          "height": 173
        },
        "id": "RRMqADmhr_46",
        "outputId": "7f973be5-f212-4a19-a077-749f8354d6d2"
      },
      "source": [
        "df_aon = df_high_value.groupby(['churn','tenure_yr'])[['mobile_number']].count().unstack()\n",
        "df_aon"
      ],
      "execution_count": 115,
      "outputs": [
        {
          "output_type": "execute_result",
          "data": {
            "text/html": [
              "<div>\n",
              "<style scoped>\n",
              "    .dataframe tbody tr th:only-of-type {\n",
              "        vertical-align: middle;\n",
              "    }\n",
              "\n",
              "    .dataframe tbody tr th {\n",
              "        vertical-align: top;\n",
              "    }\n",
              "\n",
              "    .dataframe thead tr th {\n",
              "        text-align: left;\n",
              "    }\n",
              "\n",
              "    .dataframe thead tr:last-of-type th {\n",
              "        text-align: right;\n",
              "    }\n",
              "</style>\n",
              "<table border=\"1\" class=\"dataframe\">\n",
              "  <thead>\n",
              "    <tr>\n",
              "      <th></th>\n",
              "      <th colspan=\"13\" halign=\"left\">mobile_number</th>\n",
              "    </tr>\n",
              "    <tr>\n",
              "      <th>tenure_yr</th>\n",
              "      <th>0</th>\n",
              "      <th>1</th>\n",
              "      <th>2</th>\n",
              "      <th>3</th>\n",
              "      <th>4</th>\n",
              "      <th>5</th>\n",
              "      <th>6</th>\n",
              "      <th>7</th>\n",
              "      <th>8</th>\n",
              "      <th>9</th>\n",
              "      <th>10</th>\n",
              "      <th>11</th>\n",
              "      <th>12</th>\n",
              "    </tr>\n",
              "    <tr>\n",
              "      <th>churn</th>\n",
              "      <th></th>\n",
              "      <th></th>\n",
              "      <th></th>\n",
              "      <th></th>\n",
              "      <th></th>\n",
              "      <th></th>\n",
              "      <th></th>\n",
              "      <th></th>\n",
              "      <th></th>\n",
              "      <th></th>\n",
              "      <th></th>\n",
              "      <th></th>\n",
              "      <th></th>\n",
              "    </tr>\n",
              "  </thead>\n",
              "  <tbody>\n",
              "    <tr>\n",
              "      <th>0</th>\n",
              "      <td>4497.0</td>\n",
              "      <td>7153.0</td>\n",
              "      <td>4168.0</td>\n",
              "      <td>2857.0</td>\n",
              "      <td>1807.0</td>\n",
              "      <td>1175.0</td>\n",
              "      <td>1700.0</td>\n",
              "      <td>1630.0</td>\n",
              "      <td>1414.0</td>\n",
              "      <td>557.0</td>\n",
              "      <td>536.0</td>\n",
              "      <td>25.0</td>\n",
              "      <td>1.0</td>\n",
              "    </tr>\n",
              "    <tr>\n",
              "      <th>1</th>\n",
              "      <td>619.0</td>\n",
              "      <td>801.0</td>\n",
              "      <td>449.0</td>\n",
              "      <td>189.0</td>\n",
              "      <td>108.0</td>\n",
              "      <td>52.0</td>\n",
              "      <td>54.0</td>\n",
              "      <td>72.0</td>\n",
              "      <td>50.0</td>\n",
              "      <td>26.0</td>\n",
              "      <td>13.0</td>\n",
              "      <td>NaN</td>\n",
              "      <td>NaN</td>\n",
              "    </tr>\n",
              "  </tbody>\n",
              "</table>\n",
              "</div>"
            ],
            "text/plain": [
              "          mobile_number                                                  \\\n",
              "tenure_yr            0       1       2       3       4       5       6    \n",
              "churn                                                                     \n",
              "0                4497.0  7153.0  4168.0  2857.0  1807.0  1175.0  1700.0   \n",
              "1                 619.0   801.0   449.0   189.0   108.0    52.0    54.0   \n",
              "\n",
              "                                                    \n",
              "tenure_yr      7       8      9      10    11   12  \n",
              "churn                                               \n",
              "0          1630.0  1414.0  557.0  536.0  25.0  1.0  \n",
              "1            72.0    50.0   26.0   13.0   NaN  NaN  "
            ]
          },
          "metadata": {
            "tags": []
          },
          "execution_count": 115
        }
      ]
    },
    {
      "cell_type": "code",
      "metadata": {
        "collapsed": true,
        "id": "mW2IeD-Kr_47"
      },
      "source": [
        "?plt.style.available()"
      ],
      "execution_count": 116,
      "outputs": []
    },
    {
      "cell_type": "code",
      "metadata": {
        "colab": {
          "base_uri": "https://localhost:8080/",
          "height": 507
        },
        "id": "gwTvJ6Mbr_47",
        "outputId": "0a3e572e-8b11-4ee6-f38a-3760e683b433"
      },
      "source": [
        "df_aon.plot(kind='bar',stacked='True',figsize=(16,8))\n",
        "plt.title('Customer distribution across years for different churns')\n",
        "plt.ylabel('No. of customers')\n",
        "plt.style.use('seaborn-darkgrid')\n",
        "plt.show()"
      ],
      "execution_count": 117,
      "outputs": [
        {
          "output_type": "display_data",
          "data": {
            "image/png": "[encoded data removed]",
            "text/plain": [
              "<Figure size 1152x576 with 1 Axes>"
            ]
          },
          "metadata": {
            "tags": [],
            "needs_background": "light"
          }
        }
      ]
    },
    {
      "cell_type": "code",
      "metadata": {
        "collapsed": true,
        "id": "Rf_ubU8ur_48"
      },
      "source": [
        "### MAXIMUM NO. OF CUSTOMERS IN 1-3 YR RANGE"
      ],
      "execution_count": 118,
      "outputs": []
    },
    {
      "cell_type": "code",
      "metadata": {
        "id": "wyxNxwZPr_48"
      },
      "source": [
        "df_high_value.drop(['tenure','tenure_yr'],axis = 1, inplace = True)"
      ],
      "execution_count": 119,
      "outputs": []
    },
    {
      "cell_type": "code",
      "metadata": {
        "colab": {
          "base_uri": "https://localhost:8080/"
        },
        "id": "Cfv2U8MLr_48",
        "outputId": "0f2912f0-fefe-4684-aad7-635d9520fd89"
      },
      "source": [
        "df_high_value.shape"
      ],
      "execution_count": 120,
      "outputs": [
        {
          "output_type": "execute_result",
          "data": {
            "text/plain": [
              "(29953, 133)"
            ]
          },
          "metadata": {
            "tags": []
          },
          "execution_count": 120
        }
      ]
    },
    {
      "cell_type": "code",
      "metadata": {
        "colab": {
          "base_uri": "https://localhost:8080/"
        },
        "id": "ZAnE0E6hr_49",
        "outputId": "31a3fe92-8557-4a8d-c527-f818c394a244"
      },
      "source": [
        ".3*29953"
      ],
      "execution_count": 121,
      "outputs": [
        {
          "output_type": "execute_result",
          "data": {
            "text/plain": [
              "8985.9"
            ]
          },
          "metadata": {
            "tags": []
          },
          "execution_count": 121
        }
      ]
    },
    {
      "cell_type": "code",
      "metadata": {
        "id": "bks5Z1Agr_4-"
      },
      "source": [
        "columns_null = df_high_value.columns[(df_high_value.isnull().sum())>0]\n",
        "d={}\n",
        "for col in columns_null:\n",
        "    d[col] = df_high_value[col].isnull().sum()\n",
        "for k,v in d.items():\n",
        "    if v>8985.9:\n",
        "        df_high_value.drop(k, axis=1, inplace = True)"
      ],
      "execution_count": 122,
      "outputs": []
    },
    {
      "cell_type": "code",
      "metadata": {
        "colab": {
          "base_uri": "https://localhost:8080/"
        },
        "id": "TIev3qoBr_4-",
        "outputId": "89e977ea-5c4c-4663-c40d-2966f30929b6"
      },
      "source": [
        "df_high_value.shape"
      ],
      "execution_count": 123,
      "outputs": [
        {
          "output_type": "execute_result",
          "data": {
            "text/plain": [
              "(29953, 124)"
            ]
          },
          "metadata": {
            "tags": []
          },
          "execution_count": 123
        }
      ]
    },
    {
      "cell_type": "code",
      "metadata": {
        "colab": {
          "base_uri": "https://localhost:8080/"
        },
        "id": "TzGlhZIgr_4_",
        "outputId": "6e03ded7-db1d-4985-cc6a-317706d11c9e"
      },
      "source": [
        "for k,v in d.items():\n",
        "    print(k,v)"
      ],
      "execution_count": 124,
      "outputs": [
        {
          "output_type": "stream",
          "text": [
            "og_others_6 542\n",
            "og_others_7 536\n",
            "og_others_8 1172\n",
            "ic_others_6 542\n",
            "ic_others_7 536\n",
            "ic_others_8 1172\n",
            "date_of_last_rech_6 73\n",
            "date_of_last_rech_7 98\n",
            "date_of_last_rech_8 582\n",
            "date_of_last_rech_data_6 13213\n",
            "date_of_last_rech_data_7 12915\n",
            "date_of_last_rech_data_8 14018\n",
            "night_pck_user_6 13213\n",
            "night_pck_user_7 12915\n",
            "night_pck_user_8 14018\n",
            "fb_user_6 13213\n",
            "fb_user_7 12915\n",
            "fb_user_8 14018\n"
          ],
          "name": "stdout"
        }
      ]
    },
    {
      "cell_type": "code",
      "metadata": {
        "collapsed": true,
        "id": "Ms40Ww3nr_5A"
      },
      "source": [
        "for k,v in d.items():\n",
        "    if k.find('others')!=-1:\n",
        "        df_high_value[k] = df_high_value[k].fillna(0,inplace = False)"
      ],
      "execution_count": 125,
      "outputs": []
    },
    {
      "cell_type": "code",
      "metadata": {
        "colab": {
          "base_uri": "https://localhost:8080/"
        },
        "id": "eohYZMw9r_5A",
        "outputId": "c46b53bb-ea65-428e-9eb0-22b6d8fc91d6"
      },
      "source": [
        "### ONLY DATE COLUMNS REMAIN\n",
        "df_high_value.columns[(df_high_value.isnull().sum())>0]"
      ],
      "execution_count": 126,
      "outputs": [
        {
          "output_type": "execute_result",
          "data": {
            "text/plain": [
              "Index(['date_of_last_rech_6', 'date_of_last_rech_7', 'date_of_last_rech_8'], dtype='object')"
            ]
          },
          "metadata": {
            "tags": []
          },
          "execution_count": 126
        }
      ]
    },
    {
      "cell_type": "code",
      "metadata": {
        "colab": {
          "base_uri": "https://localhost:8080/"
        },
        "id": "HQHGCO5kr_5A",
        "outputId": "d722a087-33b9-461f-a563-69f6d6f0ba25"
      },
      "source": [
        "df_high_value.shape"
      ],
      "execution_count": 127,
      "outputs": [
        {
          "output_type": "execute_result",
          "data": {
            "text/plain": [
              "(29953, 124)"
            ]
          },
          "metadata": {
            "tags": []
          },
          "execution_count": 127
        }
      ]
    },
    {
      "cell_type": "code",
      "metadata": {
        "colab": {
          "base_uri": "https://localhost:8080/",
          "height": 179
        },
        "id": "cCnH71S_r_5B",
        "outputId": "c9f573a8-a973-4aba-e40f-774f4e2ea766"
      },
      "source": [
        "df_final = df_high_value.copy()\n",
        "print(df_final.shape)\n",
        "df_final.head(3)"
      ],
      "execution_count": 128,
      "outputs": [
        {
          "output_type": "stream",
          "text": [
            "(29953, 124)\n"
          ],
          "name": "stdout"
        },
        {
          "output_type": "execute_result",
          "data": {
            "text/html": [
              "<div>\n",
              "<style scoped>\n",
              "    .dataframe tbody tr th:only-of-type {\n",
              "        vertical-align: middle;\n",
              "    }\n",
              "\n",
              "    .dataframe tbody tr th {\n",
              "        vertical-align: top;\n",
              "    }\n",
              "\n",
              "    .dataframe thead th {\n",
              "        text-align: right;\n",
              "    }\n",
              "</style>\n",
              "<table border=\"1\" class=\"dataframe\">\n",
              "  <thead>\n",
              "    <tr style=\"text-align: right;\">\n",
              "      <th></th>\n",
              "      <th>mobile_number</th>\n",
              "      <th>arpu_6</th>\n",
              "      <th>arpu_7</th>\n",
              "      <th>arpu_8</th>\n",
              "      <th>onnet_mou_6</th>\n",
              "      <th>onnet_mou_7</th>\n",
              "      <th>onnet_mou_8</th>\n",
              "      <th>offnet_mou_6</th>\n",
              "      <th>offnet_mou_7</th>\n",
              "      <th>offnet_mou_8</th>\n",
              "      <th>roam_ic_mou_6</th>\n",
              "      <th>roam_ic_mou_7</th>\n",
              "      <th>roam_ic_mou_8</th>\n",
              "      <th>roam_og_mou_6</th>\n",
              "      <th>roam_og_mou_7</th>\n",
              "      <th>roam_og_mou_8</th>\n",
              "      <th>loc_og_t2t_mou_6</th>\n",
              "      <th>loc_og_t2t_mou_7</th>\n",
              "      <th>loc_og_t2t_mou_8</th>\n",
              "      <th>loc_og_t2m_mou_6</th>\n",
              "      <th>loc_og_t2m_mou_7</th>\n",
              "      <th>loc_og_t2m_mou_8</th>\n",
              "      <th>loc_og_t2f_mou_6</th>\n",
              "      <th>loc_og_t2f_mou_7</th>\n",
              "      <th>loc_og_t2f_mou_8</th>\n",
              "      <th>loc_og_t2c_mou_6</th>\n",
              "      <th>loc_og_t2c_mou_7</th>\n",
              "      <th>loc_og_t2c_mou_8</th>\n",
              "      <th>std_og_t2t_mou_6</th>\n",
              "      <th>std_og_t2t_mou_7</th>\n",
              "      <th>std_og_t2t_mou_8</th>\n",
              "      <th>std_og_t2m_mou_6</th>\n",
              "      <th>std_og_t2m_mou_7</th>\n",
              "      <th>std_og_t2m_mou_8</th>\n",
              "      <th>std_og_t2f_mou_6</th>\n",
              "      <th>std_og_t2f_mou_7</th>\n",
              "      <th>std_og_t2f_mou_8</th>\n",
              "      <th>isd_og_mou_6</th>\n",
              "      <th>isd_og_mou_7</th>\n",
              "      <th>isd_og_mou_8</th>\n",
              "      <th>spl_og_mou_6</th>\n",
              "      <th>spl_og_mou_7</th>\n",
              "      <th>spl_og_mou_8</th>\n",
              "      <th>og_others_6</th>\n",
              "      <th>og_others_7</th>\n",
              "      <th>og_others_8</th>\n",
              "      <th>loc_ic_t2t_mou_6</th>\n",
              "      <th>loc_ic_t2t_mou_7</th>\n",
              "      <th>loc_ic_t2t_mou_8</th>\n",
              "      <th>loc_ic_t2m_mou_6</th>\n",
              "      <th>loc_ic_t2m_mou_7</th>\n",
              "      <th>loc_ic_t2m_mou_8</th>\n",
              "      <th>loc_ic_t2f_mou_6</th>\n",
              "      <th>loc_ic_t2f_mou_7</th>\n",
              "      <th>loc_ic_t2f_mou_8</th>\n",
              "      <th>std_ic_t2t_mou_6</th>\n",
              "      <th>std_ic_t2t_mou_7</th>\n",
              "      <th>std_ic_t2t_mou_8</th>\n",
              "      <th>std_ic_t2m_mou_6</th>\n",
              "      <th>std_ic_t2m_mou_7</th>\n",
              "      <th>std_ic_t2m_mou_8</th>\n",
              "      <th>std_ic_t2f_mou_6</th>\n",
              "      <th>std_ic_t2f_mou_7</th>\n",
              "      <th>std_ic_t2f_mou_8</th>\n",
              "      <th>spl_ic_mou_6</th>\n",
              "      <th>spl_ic_mou_7</th>\n",
              "      <th>spl_ic_mou_8</th>\n",
              "      <th>isd_ic_mou_6</th>\n",
              "      <th>isd_ic_mou_7</th>\n",
              "      <th>isd_ic_mou_8</th>\n",
              "      <th>ic_others_6</th>\n",
              "      <th>ic_others_7</th>\n",
              "      <th>ic_others_8</th>\n",
              "      <th>total_rech_num_6</th>\n",
              "      <th>total_rech_num_7</th>\n",
              "      <th>total_rech_num_8</th>\n",
              "      <th>total_rech_amt_6</th>\n",
              "      <th>total_rech_amt_7</th>\n",
              "      <th>total_rech_amt_8</th>\n",
              "      <th>max_rech_amt_6</th>\n",
              "      <th>max_rech_amt_7</th>\n",
              "      <th>max_rech_amt_8</th>\n",
              "      <th>date_of_last_rech_6</th>\n",
              "      <th>date_of_last_rech_7</th>\n",
              "      <th>date_of_last_rech_8</th>\n",
              "      <th>last_day_rch_amt_6</th>\n",
              "      <th>last_day_rch_amt_7</th>\n",
              "      <th>last_day_rch_amt_8</th>\n",
              "      <th>total_rech_data_6</th>\n",
              "      <th>total_rech_data_7</th>\n",
              "      <th>total_rech_data_8</th>\n",
              "      <th>max_rech_data_6</th>\n",
              "      <th>max_rech_data_7</th>\n",
              "      <th>max_rech_data_8</th>\n",
              "      <th>av_rech_amt_data_6</th>\n",
              "      <th>av_rech_amt_data_7</th>\n",
              "      <th>av_rech_amt_data_8</th>\n",
              "      <th>vol_2g_mb_6</th>\n",
              "      <th>vol_2g_mb_7</th>\n",
              "      <th>vol_2g_mb_8</th>\n",
              "      <th>vol_3g_mb_6</th>\n",
              "      <th>vol_3g_mb_7</th>\n",
              "      <th>vol_3g_mb_8</th>\n",
              "      <th>monthly_2g_6</th>\n",
              "      <th>monthly_2g_7</th>\n",
              "      <th>monthly_2g_8</th>\n",
              "      <th>sachet_2g_6</th>\n",
              "      <th>sachet_2g_7</th>\n",
              "      <th>sachet_2g_8</th>\n",
              "      <th>monthly_3g_6</th>\n",
              "      <th>monthly_3g_7</th>\n",
              "      <th>monthly_3g_8</th>\n",
              "      <th>sachet_3g_6</th>\n",
              "      <th>sachet_3g_7</th>\n",
              "      <th>sachet_3g_8</th>\n",
              "      <th>aon</th>\n",
              "      <th>vbc_3g_8</th>\n",
              "      <th>vbc_3g_7</th>\n",
              "      <th>vbc_3g_6</th>\n",
              "      <th>total_rech_amt_data_6</th>\n",
              "      <th>total_rech_amt_data_7</th>\n",
              "      <th>total_rech_amt_data_8</th>\n",
              "      <th>total_avg_rchg_amount_6_7</th>\n",
              "      <th>churn</th>\n",
              "    </tr>\n",
              "  </thead>\n",
              "  <tbody>\n",
              "    <tr>\n",
              "      <th>0</th>\n",
              "      <td>7000842753</td>\n",
              "      <td>197.385</td>\n",
              "      <td>214.816</td>\n",
              "      <td>213.803</td>\n",
              "      <td>0.00</td>\n",
              "      <td>0.00</td>\n",
              "      <td>0.00</td>\n",
              "      <td>0.00</td>\n",
              "      <td>0.00</td>\n",
              "      <td>0.00</td>\n",
              "      <td>0.00</td>\n",
              "      <td>0.00</td>\n",
              "      <td>0.00</td>\n",
              "      <td>0.00</td>\n",
              "      <td>0.00</td>\n",
              "      <td>0.00</td>\n",
              "      <td>0.00</td>\n",
              "      <td>0.00</td>\n",
              "      <td>0.00</td>\n",
              "      <td>0.00</td>\n",
              "      <td>0.00</td>\n",
              "      <td>0.00</td>\n",
              "      <td>0.00</td>\n",
              "      <td>0.00</td>\n",
              "      <td>0.00</td>\n",
              "      <td>0.0</td>\n",
              "      <td>0.0</td>\n",
              "      <td>0.00</td>\n",
              "      <td>0.00</td>\n",
              "      <td>0.00</td>\n",
              "      <td>0.00</td>\n",
              "      <td>0.00</td>\n",
              "      <td>0.00</td>\n",
              "      <td>0.00</td>\n",
              "      <td>0.00</td>\n",
              "      <td>0.00</td>\n",
              "      <td>0.00</td>\n",
              "      <td>0.0</td>\n",
              "      <td>0.00</td>\n",
              "      <td>0.00</td>\n",
              "      <td>0.0</td>\n",
              "      <td>0.0</td>\n",
              "      <td>0.00</td>\n",
              "      <td>0.0</td>\n",
              "      <td>0.0</td>\n",
              "      <td>0.0</td>\n",
              "      <td>0.00</td>\n",
              "      <td>0.00</td>\n",
              "      <td>0.16</td>\n",
              "      <td>0.00</td>\n",
              "      <td>0.00</td>\n",
              "      <td>4.13</td>\n",
              "      <td>0.00</td>\n",
              "      <td>0.00</td>\n",
              "      <td>1.15</td>\n",
              "      <td>0.00</td>\n",
              "      <td>0.00</td>\n",
              "      <td>0.00</td>\n",
              "      <td>0.00</td>\n",
              "      <td>0.00</td>\n",
              "      <td>0.00</td>\n",
              "      <td>0.00</td>\n",
              "      <td>0.00</td>\n",
              "      <td>0.00</td>\n",
              "      <td>0.00</td>\n",
              "      <td>0.0</td>\n",
              "      <td>0.0</td>\n",
              "      <td>0.00</td>\n",
              "      <td>0.00</td>\n",
              "      <td>0.00</td>\n",
              "      <td>0.00</td>\n",
              "      <td>0.00</td>\n",
              "      <td>0.00</td>\n",
              "      <td>4</td>\n",
              "      <td>3</td>\n",
              "      <td>2</td>\n",
              "      <td>362</td>\n",
              "      <td>252</td>\n",
              "      <td>252</td>\n",
              "      <td>252</td>\n",
              "      <td>252</td>\n",
              "      <td>252</td>\n",
              "      <td>2014-06-21</td>\n",
              "      <td>2014-07-16</td>\n",
              "      <td>2014-08-08</td>\n",
              "      <td>252</td>\n",
              "      <td>252</td>\n",
              "      <td>252</td>\n",
              "      <td>1.0</td>\n",
              "      <td>1.0</td>\n",
              "      <td>1.0</td>\n",
              "      <td>252.0</td>\n",
              "      <td>252.0</td>\n",
              "      <td>252.0</td>\n",
              "      <td>252.0</td>\n",
              "      <td>252.0</td>\n",
              "      <td>252.0</td>\n",
              "      <td>30.13</td>\n",
              "      <td>1.32</td>\n",
              "      <td>5.75</td>\n",
              "      <td>83.57</td>\n",
              "      <td>150.76</td>\n",
              "      <td>109.61</td>\n",
              "      <td>0</td>\n",
              "      <td>0</td>\n",
              "      <td>0</td>\n",
              "      <td>0</td>\n",
              "      <td>0</td>\n",
              "      <td>0</td>\n",
              "      <td>1</td>\n",
              "      <td>1</td>\n",
              "      <td>1</td>\n",
              "      <td>0</td>\n",
              "      <td>0</td>\n",
              "      <td>0</td>\n",
              "      <td>968</td>\n",
              "      <td>30.40</td>\n",
              "      <td>0.00</td>\n",
              "      <td>101.20</td>\n",
              "      <td>252.0</td>\n",
              "      <td>252.0</td>\n",
              "      <td>252.0</td>\n",
              "      <td>559.0</td>\n",
              "      <td>1</td>\n",
              "    </tr>\n",
              "    <tr>\n",
              "      <th>7</th>\n",
              "      <td>7000701601</td>\n",
              "      <td>1069.180</td>\n",
              "      <td>1349.850</td>\n",
              "      <td>3171.480</td>\n",
              "      <td>57.84</td>\n",
              "      <td>54.68</td>\n",
              "      <td>52.29</td>\n",
              "      <td>453.43</td>\n",
              "      <td>567.16</td>\n",
              "      <td>325.91</td>\n",
              "      <td>16.23</td>\n",
              "      <td>33.49</td>\n",
              "      <td>31.64</td>\n",
              "      <td>23.74</td>\n",
              "      <td>12.59</td>\n",
              "      <td>38.06</td>\n",
              "      <td>51.39</td>\n",
              "      <td>31.38</td>\n",
              "      <td>40.28</td>\n",
              "      <td>308.63</td>\n",
              "      <td>447.38</td>\n",
              "      <td>162.28</td>\n",
              "      <td>62.13</td>\n",
              "      <td>55.14</td>\n",
              "      <td>53.23</td>\n",
              "      <td>0.0</td>\n",
              "      <td>0.0</td>\n",
              "      <td>0.00</td>\n",
              "      <td>4.30</td>\n",
              "      <td>23.29</td>\n",
              "      <td>12.01</td>\n",
              "      <td>49.89</td>\n",
              "      <td>31.76</td>\n",
              "      <td>49.14</td>\n",
              "      <td>6.66</td>\n",
              "      <td>20.08</td>\n",
              "      <td>16.68</td>\n",
              "      <td>0.0</td>\n",
              "      <td>0.18</td>\n",
              "      <td>10.01</td>\n",
              "      <td>4.5</td>\n",
              "      <td>0.0</td>\n",
              "      <td>6.50</td>\n",
              "      <td>0.0</td>\n",
              "      <td>0.0</td>\n",
              "      <td>0.0</td>\n",
              "      <td>58.14</td>\n",
              "      <td>32.26</td>\n",
              "      <td>27.31</td>\n",
              "      <td>217.56</td>\n",
              "      <td>221.49</td>\n",
              "      <td>121.19</td>\n",
              "      <td>152.16</td>\n",
              "      <td>101.46</td>\n",
              "      <td>39.53</td>\n",
              "      <td>36.89</td>\n",
              "      <td>11.83</td>\n",
              "      <td>30.39</td>\n",
              "      <td>91.44</td>\n",
              "      <td>126.99</td>\n",
              "      <td>141.33</td>\n",
              "      <td>52.19</td>\n",
              "      <td>34.24</td>\n",
              "      <td>22.21</td>\n",
              "      <td>0.21</td>\n",
              "      <td>0.0</td>\n",
              "      <td>0.0</td>\n",
              "      <td>2.06</td>\n",
              "      <td>14.53</td>\n",
              "      <td>31.59</td>\n",
              "      <td>15.74</td>\n",
              "      <td>15.19</td>\n",
              "      <td>15.14</td>\n",
              "      <td>5</td>\n",
              "      <td>5</td>\n",
              "      <td>7</td>\n",
              "      <td>1580</td>\n",
              "      <td>790</td>\n",
              "      <td>3638</td>\n",
              "      <td>1580</td>\n",
              "      <td>790</td>\n",
              "      <td>1580</td>\n",
              "      <td>2014-06-27</td>\n",
              "      <td>2014-07-25</td>\n",
              "      <td>2014-08-26</td>\n",
              "      <td>0</td>\n",
              "      <td>0</td>\n",
              "      <td>779</td>\n",
              "      <td>0.0</td>\n",
              "      <td>0.0</td>\n",
              "      <td>0.0</td>\n",
              "      <td>0.0</td>\n",
              "      <td>0.0</td>\n",
              "      <td>0.0</td>\n",
              "      <td>0.0</td>\n",
              "      <td>0.0</td>\n",
              "      <td>0.0</td>\n",
              "      <td>0.00</td>\n",
              "      <td>0.00</td>\n",
              "      <td>0.00</td>\n",
              "      <td>0.00</td>\n",
              "      <td>0.00</td>\n",
              "      <td>0.00</td>\n",
              "      <td>0</td>\n",
              "      <td>0</td>\n",
              "      <td>0</td>\n",
              "      <td>0</td>\n",
              "      <td>0</td>\n",
              "      <td>0</td>\n",
              "      <td>0</td>\n",
              "      <td>0</td>\n",
              "      <td>0</td>\n",
              "      <td>0</td>\n",
              "      <td>0</td>\n",
              "      <td>0</td>\n",
              "      <td>802</td>\n",
              "      <td>57.74</td>\n",
              "      <td>19.38</td>\n",
              "      <td>18.74</td>\n",
              "      <td>0.0</td>\n",
              "      <td>0.0</td>\n",
              "      <td>0.0</td>\n",
              "      <td>1185.0</td>\n",
              "      <td>1</td>\n",
              "    </tr>\n",
              "    <tr>\n",
              "      <th>8</th>\n",
              "      <td>7001524846</td>\n",
              "      <td>378.721</td>\n",
              "      <td>492.223</td>\n",
              "      <td>137.362</td>\n",
              "      <td>413.69</td>\n",
              "      <td>351.03</td>\n",
              "      <td>35.08</td>\n",
              "      <td>94.66</td>\n",
              "      <td>80.63</td>\n",
              "      <td>136.48</td>\n",
              "      <td>0.00</td>\n",
              "      <td>0.00</td>\n",
              "      <td>0.00</td>\n",
              "      <td>0.00</td>\n",
              "      <td>0.00</td>\n",
              "      <td>0.00</td>\n",
              "      <td>297.13</td>\n",
              "      <td>217.59</td>\n",
              "      <td>12.49</td>\n",
              "      <td>80.96</td>\n",
              "      <td>70.58</td>\n",
              "      <td>50.54</td>\n",
              "      <td>0.00</td>\n",
              "      <td>0.00</td>\n",
              "      <td>0.00</td>\n",
              "      <td>0.0</td>\n",
              "      <td>0.0</td>\n",
              "      <td>7.15</td>\n",
              "      <td>116.56</td>\n",
              "      <td>133.43</td>\n",
              "      <td>22.58</td>\n",
              "      <td>13.69</td>\n",
              "      <td>10.04</td>\n",
              "      <td>75.69</td>\n",
              "      <td>0.00</td>\n",
              "      <td>0.00</td>\n",
              "      <td>0.00</td>\n",
              "      <td>0.0</td>\n",
              "      <td>0.00</td>\n",
              "      <td>0.00</td>\n",
              "      <td>0.0</td>\n",
              "      <td>0.0</td>\n",
              "      <td>10.23</td>\n",
              "      <td>0.0</td>\n",
              "      <td>0.0</td>\n",
              "      <td>0.0</td>\n",
              "      <td>23.84</td>\n",
              "      <td>9.84</td>\n",
              "      <td>0.31</td>\n",
              "      <td>57.58</td>\n",
              "      <td>13.98</td>\n",
              "      <td>15.48</td>\n",
              "      <td>0.00</td>\n",
              "      <td>0.00</td>\n",
              "      <td>0.00</td>\n",
              "      <td>0.00</td>\n",
              "      <td>0.58</td>\n",
              "      <td>0.10</td>\n",
              "      <td>22.43</td>\n",
              "      <td>4.08</td>\n",
              "      <td>0.65</td>\n",
              "      <td>0.00</td>\n",
              "      <td>0.00</td>\n",
              "      <td>0.00</td>\n",
              "      <td>0.00</td>\n",
              "      <td>0.0</td>\n",
              "      <td>0.0</td>\n",
              "      <td>0.00</td>\n",
              "      <td>0.00</td>\n",
              "      <td>0.00</td>\n",
              "      <td>0.00</td>\n",
              "      <td>0.00</td>\n",
              "      <td>0.00</td>\n",
              "      <td>19</td>\n",
              "      <td>21</td>\n",
              "      <td>14</td>\n",
              "      <td>437</td>\n",
              "      <td>601</td>\n",
              "      <td>120</td>\n",
              "      <td>90</td>\n",
              "      <td>154</td>\n",
              "      <td>30</td>\n",
              "      <td>2014-06-25</td>\n",
              "      <td>2014-07-31</td>\n",
              "      <td>2014-08-30</td>\n",
              "      <td>50</td>\n",
              "      <td>0</td>\n",
              "      <td>10</td>\n",
              "      <td>0.0</td>\n",
              "      <td>2.0</td>\n",
              "      <td>3.0</td>\n",
              "      <td>0.0</td>\n",
              "      <td>154.0</td>\n",
              "      <td>23.0</td>\n",
              "      <td>0.0</td>\n",
              "      <td>177.0</td>\n",
              "      <td>69.0</td>\n",
              "      <td>0.00</td>\n",
              "      <td>356.00</td>\n",
              "      <td>0.03</td>\n",
              "      <td>0.00</td>\n",
              "      <td>750.95</td>\n",
              "      <td>11.94</td>\n",
              "      <td>0</td>\n",
              "      <td>1</td>\n",
              "      <td>0</td>\n",
              "      <td>0</td>\n",
              "      <td>1</td>\n",
              "      <td>3</td>\n",
              "      <td>0</td>\n",
              "      <td>0</td>\n",
              "      <td>0</td>\n",
              "      <td>0</td>\n",
              "      <td>0</td>\n",
              "      <td>0</td>\n",
              "      <td>315</td>\n",
              "      <td>21.03</td>\n",
              "      <td>910.65</td>\n",
              "      <td>122.16</td>\n",
              "      <td>0.0</td>\n",
              "      <td>354.0</td>\n",
              "      <td>207.0</td>\n",
              "      <td>696.0</td>\n",
              "      <td>0</td>\n",
              "    </tr>\n",
              "  </tbody>\n",
              "</table>\n",
              "</div>"
            ],
            "text/plain": [
              "   mobile_number    arpu_6    arpu_7    arpu_8  onnet_mou_6  onnet_mou_7  \\\n",
              "0     7000842753   197.385   214.816   213.803         0.00         0.00   \n",
              "7     7000701601  1069.180  1349.850  3171.480        57.84        54.68   \n",
              "8     7001524846   378.721   492.223   137.362       413.69       351.03   \n",
              "\n",
              "   onnet_mou_8  offnet_mou_6  offnet_mou_7  offnet_mou_8  roam_ic_mou_6  \\\n",
              "0         0.00          0.00          0.00          0.00           0.00   \n",
              "7        52.29        453.43        567.16        325.91          16.23   \n",
              "8        35.08         94.66         80.63        136.48           0.00   \n",
              "\n",
              "   roam_ic_mou_7  roam_ic_mou_8  roam_og_mou_6  roam_og_mou_7  roam_og_mou_8  \\\n",
              "0           0.00           0.00           0.00           0.00           0.00   \n",
              "7          33.49          31.64          23.74          12.59          38.06   \n",
              "8           0.00           0.00           0.00           0.00           0.00   \n",
              "\n",
              "   loc_og_t2t_mou_6  loc_og_t2t_mou_7  loc_og_t2t_mou_8  loc_og_t2m_mou_6  \\\n",
              "0              0.00              0.00              0.00              0.00   \n",
              "7             51.39             31.38             40.28            308.63   \n",
              "8            297.13            217.59             12.49             80.96   \n",
              "\n",
              "   loc_og_t2m_mou_7  loc_og_t2m_mou_8  loc_og_t2f_mou_6  loc_og_t2f_mou_7  \\\n",
              "0              0.00              0.00              0.00              0.00   \n",
              "7            447.38            162.28             62.13             55.14   \n",
              "8             70.58             50.54              0.00              0.00   \n",
              "\n",
              "   loc_og_t2f_mou_8  loc_og_t2c_mou_6  loc_og_t2c_mou_7  loc_og_t2c_mou_8  \\\n",
              "0              0.00               0.0               0.0              0.00   \n",
              "7             53.23               0.0               0.0              0.00   \n",
              "8              0.00               0.0               0.0              7.15   \n",
              "\n",
              "   std_og_t2t_mou_6  std_og_t2t_mou_7  std_og_t2t_mou_8  std_og_t2m_mou_6  \\\n",
              "0              0.00              0.00              0.00              0.00   \n",
              "7              4.30             23.29             12.01             49.89   \n",
              "8            116.56            133.43             22.58             13.69   \n",
              "\n",
              "   std_og_t2m_mou_7  std_og_t2m_mou_8  std_og_t2f_mou_6  std_og_t2f_mou_7  \\\n",
              "0              0.00              0.00              0.00              0.00   \n",
              "7             31.76             49.14              6.66             20.08   \n",
              "8             10.04             75.69              0.00              0.00   \n",
              "\n",
              "   std_og_t2f_mou_8  isd_og_mou_6  isd_og_mou_7  isd_og_mou_8  spl_og_mou_6  \\\n",
              "0              0.00           0.0          0.00          0.00           0.0   \n",
              "7             16.68           0.0          0.18         10.01           4.5   \n",
              "8              0.00           0.0          0.00          0.00           0.0   \n",
              "\n",
              "   spl_og_mou_7  spl_og_mou_8  og_others_6  og_others_7  og_others_8  \\\n",
              "0           0.0          0.00          0.0          0.0          0.0   \n",
              "7           0.0          6.50          0.0          0.0          0.0   \n",
              "8           0.0         10.23          0.0          0.0          0.0   \n",
              "\n",
              "   loc_ic_t2t_mou_6  loc_ic_t2t_mou_7  loc_ic_t2t_mou_8  loc_ic_t2m_mou_6  \\\n",
              "0              0.00              0.00              0.16              0.00   \n",
              "7             58.14             32.26             27.31            217.56   \n",
              "8             23.84              9.84              0.31             57.58   \n",
              "\n",
              "   loc_ic_t2m_mou_7  loc_ic_t2m_mou_8  loc_ic_t2f_mou_6  loc_ic_t2f_mou_7  \\\n",
              "0              0.00              4.13              0.00              0.00   \n",
              "7            221.49            121.19            152.16            101.46   \n",
              "8             13.98             15.48              0.00              0.00   \n",
              "\n",
              "   loc_ic_t2f_mou_8  std_ic_t2t_mou_6  std_ic_t2t_mou_7  std_ic_t2t_mou_8  \\\n",
              "0              1.15              0.00              0.00              0.00   \n",
              "7             39.53             36.89             11.83             30.39   \n",
              "8              0.00              0.00              0.58              0.10   \n",
              "\n",
              "   std_ic_t2m_mou_6  std_ic_t2m_mou_7  std_ic_t2m_mou_8  std_ic_t2f_mou_6  \\\n",
              "0              0.00              0.00              0.00              0.00   \n",
              "7             91.44            126.99            141.33             52.19   \n",
              "8             22.43              4.08              0.65              0.00   \n",
              "\n",
              "   std_ic_t2f_mou_7  std_ic_t2f_mou_8  spl_ic_mou_6  spl_ic_mou_7  \\\n",
              "0              0.00              0.00          0.00           0.0   \n",
              "7             34.24             22.21          0.21           0.0   \n",
              "8              0.00              0.00          0.00           0.0   \n",
              "\n",
              "   spl_ic_mou_8  isd_ic_mou_6  isd_ic_mou_7  isd_ic_mou_8  ic_others_6  \\\n",
              "0           0.0          0.00          0.00          0.00         0.00   \n",
              "7           0.0          2.06         14.53         31.59        15.74   \n",
              "8           0.0          0.00          0.00          0.00         0.00   \n",
              "\n",
              "   ic_others_7  ic_others_8  total_rech_num_6  total_rech_num_7  \\\n",
              "0         0.00         0.00                 4                 3   \n",
              "7        15.19        15.14                 5                 5   \n",
              "8         0.00         0.00                19                21   \n",
              "\n",
              "   total_rech_num_8  total_rech_amt_6  total_rech_amt_7  total_rech_amt_8  \\\n",
              "0                 2               362               252               252   \n",
              "7                 7              1580               790              3638   \n",
              "8                14               437               601               120   \n",
              "\n",
              "   max_rech_amt_6  max_rech_amt_7  max_rech_amt_8 date_of_last_rech_6  \\\n",
              "0             252             252             252          2014-06-21   \n",
              "7            1580             790            1580          2014-06-27   \n",
              "8              90             154              30          2014-06-25   \n",
              "\n",
              "  date_of_last_rech_7 date_of_last_rech_8  last_day_rch_amt_6  \\\n",
              "0          2014-07-16          2014-08-08                 252   \n",
              "7          2014-07-25          2014-08-26                   0   \n",
              "8          2014-07-31          2014-08-30                  50   \n",
              "\n",
              "   last_day_rch_amt_7  last_day_rch_amt_8  total_rech_data_6  \\\n",
              "0                 252                 252                1.0   \n",
              "7                   0                 779                0.0   \n",
              "8                   0                  10                0.0   \n",
              "\n",
              "   total_rech_data_7  total_rech_data_8  max_rech_data_6  max_rech_data_7  \\\n",
              "0                1.0                1.0            252.0            252.0   \n",
              "7                0.0                0.0              0.0              0.0   \n",
              "8                2.0                3.0              0.0            154.0   \n",
              "\n",
              "   max_rech_data_8  av_rech_amt_data_6  av_rech_amt_data_7  \\\n",
              "0            252.0               252.0               252.0   \n",
              "7              0.0                 0.0                 0.0   \n",
              "8             23.0                 0.0               177.0   \n",
              "\n",
              "   av_rech_amt_data_8  vol_2g_mb_6  vol_2g_mb_7  vol_2g_mb_8  vol_3g_mb_6  \\\n",
              "0               252.0        30.13         1.32         5.75        83.57   \n",
              "7                 0.0         0.00         0.00         0.00         0.00   \n",
              "8                69.0         0.00       356.00         0.03         0.00   \n",
              "\n",
              "   vol_3g_mb_7  vol_3g_mb_8  monthly_2g_6  monthly_2g_7  monthly_2g_8  \\\n",
              "0       150.76       109.61             0             0             0   \n",
              "7         0.00         0.00             0             0             0   \n",
              "8       750.95        11.94             0             1             0   \n",
              "\n",
              "   sachet_2g_6  sachet_2g_7  sachet_2g_8  monthly_3g_6  monthly_3g_7  \\\n",
              "0            0            0            0             1             1   \n",
              "7            0            0            0             0             0   \n",
              "8            0            1            3             0             0   \n",
              "\n",
              "   monthly_3g_8  sachet_3g_6  sachet_3g_7  sachet_3g_8  aon  vbc_3g_8  \\\n",
              "0             1            0            0            0  968     30.40   \n",
              "7             0            0            0            0  802     57.74   \n",
              "8             0            0            0            0  315     21.03   \n",
              "\n",
              "   vbc_3g_7  vbc_3g_6  total_rech_amt_data_6  total_rech_amt_data_7  \\\n",
              "0      0.00    101.20                  252.0                  252.0   \n",
              "7     19.38     18.74                    0.0                    0.0   \n",
              "8    910.65    122.16                    0.0                  354.0   \n",
              "\n",
              "   total_rech_amt_data_8  total_avg_rchg_amount_6_7  churn  \n",
              "0                  252.0                      559.0      1  \n",
              "7                    0.0                     1185.0      1  \n",
              "8                  207.0                      696.0      0  "
            ]
          },
          "metadata": {
            "tags": []
          },
          "execution_count": 128
        }
      ]
    },
    {
      "cell_type": "code",
      "metadata": {
        "colab": {
          "base_uri": "https://localhost:8080/"
        },
        "id": "lRfCjKRnr_5C",
        "outputId": "93f78ca9-b8c0-4cf2-d49b-24b973568a5e"
      },
      "source": [
        "df_final.drop([\"total_avg_rchg_amount_6_7\"],axis=1,inplace=True)\n",
        "df_final.drop(df_high_value.filter(regex='date_').columns,axis=1,inplace=True)\n",
        "print (df_final.shape)\n",
        "\n",
        "col_list = df_final.filter(regex='_6|_7').columns.str[:-2]\n",
        "for idx, col in enumerate(col_list.unique()):\n",
        "    print(col)\n",
        "    avg_col_name = \"avg_\"+col+\"_av67\"\n",
        "    col_6 = col+\"_6\"\n",
        "    col_7 = col+\"_7\"\n",
        "    df_final[avg_col_name] = (df_final[col_6]  + df_final[col_7])/ 2"
      ],
      "execution_count": 129,
      "outputs": [
        {
          "output_type": "stream",
          "text": [
            "(29953, 120)\n",
            "arpu\n",
            "onnet_mou\n",
            "offnet_mou\n",
            "roam_ic_mou\n",
            "roam_og_mou\n",
            "loc_og_t2t_mou\n",
            "loc_og_t2m_mou\n",
            "loc_og_t2f_mou\n",
            "loc_og_t2c_mou\n",
            "std_og_t2t_mou\n",
            "std_og_t2m_mou\n",
            "std_og_t2f_mou\n",
            "isd_og_mou\n",
            "spl_og_mou\n",
            "og_others\n",
            "loc_ic_t2t_mou\n",
            "loc_ic_t2m_mou\n",
            "loc_ic_t2f_mou\n",
            "std_ic_t2t_mou\n",
            "std_ic_t2m_mou\n",
            "std_ic_t2f_mou\n",
            "spl_ic_mou\n",
            "isd_ic_mou\n",
            "ic_others\n",
            "total_rech_num\n",
            "total_rech_amt\n",
            "max_rech_amt\n",
            "last_day_rch_amt\n",
            "total_rech_data\n",
            "max_rech_data\n",
            "av_rech_amt_data\n",
            "vol_2g_mb\n",
            "vol_3g_mb\n",
            "monthly_2g\n",
            "sachet_2g\n",
            "monthly_3g\n",
            "sachet_3g\n",
            "vbc_3g\n",
            "total_rech_amt_data\n"
          ],
          "name": "stdout"
        }
      ]
    },
    {
      "cell_type": "code",
      "metadata": {
        "colab": {
          "base_uri": "https://localhost:8080/"
        },
        "id": "5gcDmhArr_5C",
        "outputId": "47b4b03e-c9c6-4147-abfa-22f10418cc4c"
      },
      "source": [
        "col_list_to_drop = df_final.filter(regex='_6|_7')\n",
        "df_final.drop(col_list_to_drop,axis=1,inplace=True)\n",
        "print(df_final.shape)"
      ],
      "execution_count": 130,
      "outputs": [
        {
          "output_type": "stream",
          "text": [
            "(29953, 81)\n"
          ],
          "name": "stdout"
        }
      ]
    },
    {
      "cell_type": "markdown",
      "metadata": {
        "id": "p1_-iynttSU4"
      },
      "source": [
        "### PCA : Principal Component Analysis"
      ]
    },
    {
      "cell_type": "code",
      "metadata": {
        "collapsed": true,
        "id": "ybcqtoR2r_5D"
      },
      "source": [
        "telecom_df_pca = df_final.copy()"
      ],
      "execution_count": 131,
      "outputs": []
    },
    {
      "cell_type": "code",
      "metadata": {
        "collapsed": true,
        "id": "i7IS6Ehqr_5D"
      },
      "source": [
        "from imblearn.over_sampling import SMOTE\r\n",
        "from sklearn.decomposition import PCA\r\n",
        "from sklearn.preprocessing import StandardScaler\r\n",
        "from sklearn.decomposition import IncrementalPCA\r\n"
      ],
      "execution_count": 132,
      "outputs": []
    },
    {
      "cell_type": "code",
      "metadata": {
        "collapsed": true,
        "id": "pqiPOi_Nr_5D"
      },
      "source": [
        "Y = telecom_df_pca[\"churn\"]\r\n",
        "X = telecom_df_pca.drop([\"churn\",\"mobile_number\"],axis=1)\r\n"
      ],
      "execution_count": 133,
      "outputs": []
    },
    {
      "cell_type": "code",
      "metadata": {
        "collapsed": true,
        "colab": {
          "base_uri": "https://localhost:8080/",
          "height": 224
        },
        "id": "v9VcrkBzr_5E",
        "outputId": "87cc1917-cb52-494f-8846-d0bbdf8f5fbd"
      },
      "source": [
        "X.head()"
      ],
      "execution_count": 134,
      "outputs": [
        {
          "output_type": "execute_result",
          "data": {
            "text/html": [
              "<div>\n",
              "<style scoped>\n",
              "    .dataframe tbody tr th:only-of-type {\n",
              "        vertical-align: middle;\n",
              "    }\n",
              "\n",
              "    .dataframe tbody tr th {\n",
              "        vertical-align: top;\n",
              "    }\n",
              "\n",
              "    .dataframe thead th {\n",
              "        text-align: right;\n",
              "    }\n",
              "</style>\n",
              "<table border=\"1\" class=\"dataframe\">\n",
              "  <thead>\n",
              "    <tr style=\"text-align: right;\">\n",
              "      <th></th>\n",
              "      <th>arpu_8</th>\n",
              "      <th>onnet_mou_8</th>\n",
              "      <th>offnet_mou_8</th>\n",
              "      <th>roam_ic_mou_8</th>\n",
              "      <th>roam_og_mou_8</th>\n",
              "      <th>loc_og_t2t_mou_8</th>\n",
              "      <th>loc_og_t2m_mou_8</th>\n",
              "      <th>loc_og_t2f_mou_8</th>\n",
              "      <th>loc_og_t2c_mou_8</th>\n",
              "      <th>std_og_t2t_mou_8</th>\n",
              "      <th>std_og_t2m_mou_8</th>\n",
              "      <th>std_og_t2f_mou_8</th>\n",
              "      <th>isd_og_mou_8</th>\n",
              "      <th>spl_og_mou_8</th>\n",
              "      <th>og_others_8</th>\n",
              "      <th>loc_ic_t2t_mou_8</th>\n",
              "      <th>loc_ic_t2m_mou_8</th>\n",
              "      <th>loc_ic_t2f_mou_8</th>\n",
              "      <th>std_ic_t2t_mou_8</th>\n",
              "      <th>std_ic_t2m_mou_8</th>\n",
              "      <th>std_ic_t2f_mou_8</th>\n",
              "      <th>spl_ic_mou_8</th>\n",
              "      <th>isd_ic_mou_8</th>\n",
              "      <th>ic_others_8</th>\n",
              "      <th>total_rech_num_8</th>\n",
              "      <th>total_rech_amt_8</th>\n",
              "      <th>max_rech_amt_8</th>\n",
              "      <th>last_day_rch_amt_8</th>\n",
              "      <th>total_rech_data_8</th>\n",
              "      <th>max_rech_data_8</th>\n",
              "      <th>av_rech_amt_data_8</th>\n",
              "      <th>vol_2g_mb_8</th>\n",
              "      <th>vol_3g_mb_8</th>\n",
              "      <th>monthly_2g_8</th>\n",
              "      <th>sachet_2g_8</th>\n",
              "      <th>monthly_3g_8</th>\n",
              "      <th>sachet_3g_8</th>\n",
              "      <th>aon</th>\n",
              "      <th>vbc_3g_8</th>\n",
              "      <th>total_rech_amt_data_8</th>\n",
              "      <th>avg_arpu_av67</th>\n",
              "      <th>avg_onnet_mou_av67</th>\n",
              "      <th>avg_offnet_mou_av67</th>\n",
              "      <th>avg_roam_ic_mou_av67</th>\n",
              "      <th>avg_roam_og_mou_av67</th>\n",
              "      <th>avg_loc_og_t2t_mou_av67</th>\n",
              "      <th>avg_loc_og_t2m_mou_av67</th>\n",
              "      <th>avg_loc_og_t2f_mou_av67</th>\n",
              "      <th>avg_loc_og_t2c_mou_av67</th>\n",
              "      <th>avg_std_og_t2t_mou_av67</th>\n",
              "      <th>avg_std_og_t2m_mou_av67</th>\n",
              "      <th>avg_std_og_t2f_mou_av67</th>\n",
              "      <th>avg_isd_og_mou_av67</th>\n",
              "      <th>avg_spl_og_mou_av67</th>\n",
              "      <th>avg_og_others_av67</th>\n",
              "      <th>avg_loc_ic_t2t_mou_av67</th>\n",
              "      <th>avg_loc_ic_t2m_mou_av67</th>\n",
              "      <th>avg_loc_ic_t2f_mou_av67</th>\n",
              "      <th>avg_std_ic_t2t_mou_av67</th>\n",
              "      <th>avg_std_ic_t2m_mou_av67</th>\n",
              "      <th>avg_std_ic_t2f_mou_av67</th>\n",
              "      <th>avg_spl_ic_mou_av67</th>\n",
              "      <th>avg_isd_ic_mou_av67</th>\n",
              "      <th>avg_ic_others_av67</th>\n",
              "      <th>avg_total_rech_num_av67</th>\n",
              "      <th>avg_total_rech_amt_av67</th>\n",
              "      <th>avg_max_rech_amt_av67</th>\n",
              "      <th>avg_last_day_rch_amt_av67</th>\n",
              "      <th>avg_total_rech_data_av67</th>\n",
              "      <th>avg_max_rech_data_av67</th>\n",
              "      <th>avg_av_rech_amt_data_av67</th>\n",
              "      <th>avg_vol_2g_mb_av67</th>\n",
              "      <th>avg_vol_3g_mb_av67</th>\n",
              "      <th>avg_monthly_2g_av67</th>\n",
              "      <th>avg_sachet_2g_av67</th>\n",
              "      <th>avg_monthly_3g_av67</th>\n",
              "      <th>avg_sachet_3g_av67</th>\n",
              "      <th>avg_vbc_3g_av67</th>\n",
              "      <th>avg_total_rech_amt_data_av67</th>\n",
              "    </tr>\n",
              "  </thead>\n",
              "  <tbody>\n",
              "    <tr>\n",
              "      <th>0</th>\n",
              "      <td>213.803</td>\n",
              "      <td>0.00</td>\n",
              "      <td>0.00</td>\n",
              "      <td>0.00</td>\n",
              "      <td>0.00</td>\n",
              "      <td>0.00</td>\n",
              "      <td>0.00</td>\n",
              "      <td>0.00</td>\n",
              "      <td>0.00</td>\n",
              "      <td>0.00</td>\n",
              "      <td>0.00</td>\n",
              "      <td>0.00</td>\n",
              "      <td>0.00</td>\n",
              "      <td>0.00</td>\n",
              "      <td>0.0</td>\n",
              "      <td>0.16</td>\n",
              "      <td>4.13</td>\n",
              "      <td>1.15</td>\n",
              "      <td>0.00</td>\n",
              "      <td>0.00</td>\n",
              "      <td>0.00</td>\n",
              "      <td>0.0</td>\n",
              "      <td>0.00</td>\n",
              "      <td>0.00</td>\n",
              "      <td>2</td>\n",
              "      <td>252</td>\n",
              "      <td>252</td>\n",
              "      <td>252</td>\n",
              "      <td>1.0</td>\n",
              "      <td>252.0</td>\n",
              "      <td>252.0</td>\n",
              "      <td>5.75</td>\n",
              "      <td>109.61</td>\n",
              "      <td>0</td>\n",
              "      <td>0</td>\n",
              "      <td>1</td>\n",
              "      <td>0</td>\n",
              "      <td>968</td>\n",
              "      <td>30.40</td>\n",
              "      <td>252.0</td>\n",
              "      <td>206.1005</td>\n",
              "      <td>0.00</td>\n",
              "      <td>0.000</td>\n",
              "      <td>0.00</td>\n",
              "      <td>0.000</td>\n",
              "      <td>0.000</td>\n",
              "      <td>0.000</td>\n",
              "      <td>0.000</td>\n",
              "      <td>0.0</td>\n",
              "      <td>0.000</td>\n",
              "      <td>0.000</td>\n",
              "      <td>0.00</td>\n",
              "      <td>0.000</td>\n",
              "      <td>0.00</td>\n",
              "      <td>0.0</td>\n",
              "      <td>0.000</td>\n",
              "      <td>0.000</td>\n",
              "      <td>0.000</td>\n",
              "      <td>0.000</td>\n",
              "      <td>0.000</td>\n",
              "      <td>0.000</td>\n",
              "      <td>0.000</td>\n",
              "      <td>0.000</td>\n",
              "      <td>0.000</td>\n",
              "      <td>3.5</td>\n",
              "      <td>307.0</td>\n",
              "      <td>252.0</td>\n",
              "      <td>252.0</td>\n",
              "      <td>1.0</td>\n",
              "      <td>252.0</td>\n",
              "      <td>252.0</td>\n",
              "      <td>15.725</td>\n",
              "      <td>117.165</td>\n",
              "      <td>0.0</td>\n",
              "      <td>0.0</td>\n",
              "      <td>1.0</td>\n",
              "      <td>0.0</td>\n",
              "      <td>50.600</td>\n",
              "      <td>252.0</td>\n",
              "    </tr>\n",
              "    <tr>\n",
              "      <th>7</th>\n",
              "      <td>3171.480</td>\n",
              "      <td>52.29</td>\n",
              "      <td>325.91</td>\n",
              "      <td>31.64</td>\n",
              "      <td>38.06</td>\n",
              "      <td>40.28</td>\n",
              "      <td>162.28</td>\n",
              "      <td>53.23</td>\n",
              "      <td>0.00</td>\n",
              "      <td>12.01</td>\n",
              "      <td>49.14</td>\n",
              "      <td>16.68</td>\n",
              "      <td>10.01</td>\n",
              "      <td>6.50</td>\n",
              "      <td>0.0</td>\n",
              "      <td>27.31</td>\n",
              "      <td>121.19</td>\n",
              "      <td>39.53</td>\n",
              "      <td>30.39</td>\n",
              "      <td>141.33</td>\n",
              "      <td>22.21</td>\n",
              "      <td>0.0</td>\n",
              "      <td>31.59</td>\n",
              "      <td>15.14</td>\n",
              "      <td>7</td>\n",
              "      <td>3638</td>\n",
              "      <td>1580</td>\n",
              "      <td>779</td>\n",
              "      <td>0.0</td>\n",
              "      <td>0.0</td>\n",
              "      <td>0.0</td>\n",
              "      <td>0.00</td>\n",
              "      <td>0.00</td>\n",
              "      <td>0</td>\n",
              "      <td>0</td>\n",
              "      <td>0</td>\n",
              "      <td>0</td>\n",
              "      <td>802</td>\n",
              "      <td>57.74</td>\n",
              "      <td>0.0</td>\n",
              "      <td>1209.5150</td>\n",
              "      <td>56.26</td>\n",
              "      <td>510.295</td>\n",
              "      <td>24.86</td>\n",
              "      <td>18.165</td>\n",
              "      <td>41.385</td>\n",
              "      <td>378.005</td>\n",
              "      <td>58.635</td>\n",
              "      <td>0.0</td>\n",
              "      <td>13.795</td>\n",
              "      <td>40.825</td>\n",
              "      <td>13.37</td>\n",
              "      <td>0.090</td>\n",
              "      <td>2.25</td>\n",
              "      <td>0.0</td>\n",
              "      <td>45.200</td>\n",
              "      <td>219.525</td>\n",
              "      <td>126.810</td>\n",
              "      <td>24.360</td>\n",
              "      <td>109.215</td>\n",
              "      <td>43.215</td>\n",
              "      <td>0.105</td>\n",
              "      <td>8.295</td>\n",
              "      <td>15.465</td>\n",
              "      <td>5.0</td>\n",
              "      <td>1185.0</td>\n",
              "      <td>1185.0</td>\n",
              "      <td>0.0</td>\n",
              "      <td>0.0</td>\n",
              "      <td>0.0</td>\n",
              "      <td>0.0</td>\n",
              "      <td>0.000</td>\n",
              "      <td>0.000</td>\n",
              "      <td>0.0</td>\n",
              "      <td>0.0</td>\n",
              "      <td>0.0</td>\n",
              "      <td>0.0</td>\n",
              "      <td>19.060</td>\n",
              "      <td>0.0</td>\n",
              "    </tr>\n",
              "    <tr>\n",
              "      <th>8</th>\n",
              "      <td>137.362</td>\n",
              "      <td>35.08</td>\n",
              "      <td>136.48</td>\n",
              "      <td>0.00</td>\n",
              "      <td>0.00</td>\n",
              "      <td>12.49</td>\n",
              "      <td>50.54</td>\n",
              "      <td>0.00</td>\n",
              "      <td>7.15</td>\n",
              "      <td>22.58</td>\n",
              "      <td>75.69</td>\n",
              "      <td>0.00</td>\n",
              "      <td>0.00</td>\n",
              "      <td>10.23</td>\n",
              "      <td>0.0</td>\n",
              "      <td>0.31</td>\n",
              "      <td>15.48</td>\n",
              "      <td>0.00</td>\n",
              "      <td>0.10</td>\n",
              "      <td>0.65</td>\n",
              "      <td>0.00</td>\n",
              "      <td>0.0</td>\n",
              "      <td>0.00</td>\n",
              "      <td>0.00</td>\n",
              "      <td>14</td>\n",
              "      <td>120</td>\n",
              "      <td>30</td>\n",
              "      <td>10</td>\n",
              "      <td>3.0</td>\n",
              "      <td>23.0</td>\n",
              "      <td>69.0</td>\n",
              "      <td>0.03</td>\n",
              "      <td>11.94</td>\n",
              "      <td>0</td>\n",
              "      <td>3</td>\n",
              "      <td>0</td>\n",
              "      <td>0</td>\n",
              "      <td>315</td>\n",
              "      <td>21.03</td>\n",
              "      <td>207.0</td>\n",
              "      <td>435.4720</td>\n",
              "      <td>382.36</td>\n",
              "      <td>87.645</td>\n",
              "      <td>0.00</td>\n",
              "      <td>0.000</td>\n",
              "      <td>257.360</td>\n",
              "      <td>75.770</td>\n",
              "      <td>0.000</td>\n",
              "      <td>0.0</td>\n",
              "      <td>124.995</td>\n",
              "      <td>11.865</td>\n",
              "      <td>0.00</td>\n",
              "      <td>0.000</td>\n",
              "      <td>0.00</td>\n",
              "      <td>0.0</td>\n",
              "      <td>16.840</td>\n",
              "      <td>35.780</td>\n",
              "      <td>0.000</td>\n",
              "      <td>0.290</td>\n",
              "      <td>13.255</td>\n",
              "      <td>0.000</td>\n",
              "      <td>0.000</td>\n",
              "      <td>0.000</td>\n",
              "      <td>0.000</td>\n",
              "      <td>20.0</td>\n",
              "      <td>519.0</td>\n",
              "      <td>122.0</td>\n",
              "      <td>25.0</td>\n",
              "      <td>1.0</td>\n",
              "      <td>77.0</td>\n",
              "      <td>88.5</td>\n",
              "      <td>178.000</td>\n",
              "      <td>375.475</td>\n",
              "      <td>0.5</td>\n",
              "      <td>0.5</td>\n",
              "      <td>0.0</td>\n",
              "      <td>0.0</td>\n",
              "      <td>516.405</td>\n",
              "      <td>177.0</td>\n",
              "    </tr>\n",
              "    <tr>\n",
              "      <th>21</th>\n",
              "      <td>637.760</td>\n",
              "      <td>85.14</td>\n",
              "      <td>983.39</td>\n",
              "      <td>0.00</td>\n",
              "      <td>0.00</td>\n",
              "      <td>23.34</td>\n",
              "      <td>104.81</td>\n",
              "      <td>1.58</td>\n",
              "      <td>0.00</td>\n",
              "      <td>61.79</td>\n",
              "      <td>876.99</td>\n",
              "      <td>0.00</td>\n",
              "      <td>0.00</td>\n",
              "      <td>0.00</td>\n",
              "      <td>0.0</td>\n",
              "      <td>19.54</td>\n",
              "      <td>129.16</td>\n",
              "      <td>10.39</td>\n",
              "      <td>0.18</td>\n",
              "      <td>101.74</td>\n",
              "      <td>0.00</td>\n",
              "      <td>0.0</td>\n",
              "      <td>0.00</td>\n",
              "      <td>0.00</td>\n",
              "      <td>27</td>\n",
              "      <td>718</td>\n",
              "      <td>50</td>\n",
              "      <td>50</td>\n",
              "      <td>0.0</td>\n",
              "      <td>0.0</td>\n",
              "      <td>0.0</td>\n",
              "      <td>0.00</td>\n",
              "      <td>0.00</td>\n",
              "      <td>0</td>\n",
              "      <td>0</td>\n",
              "      <td>0</td>\n",
              "      <td>0</td>\n",
              "      <td>720</td>\n",
              "      <td>0.00</td>\n",
              "      <td>0.0</td>\n",
              "      <td>556.1030</td>\n",
              "      <td>117.26</td>\n",
              "      <td>827.305</td>\n",
              "      <td>0.00</td>\n",
              "      <td>0.000</td>\n",
              "      <td>5.320</td>\n",
              "      <td>89.870</td>\n",
              "      <td>0.375</td>\n",
              "      <td>0.0</td>\n",
              "      <td>111.935</td>\n",
              "      <td>737.050</td>\n",
              "      <td>0.00</td>\n",
              "      <td>0.000</td>\n",
              "      <td>0.00</td>\n",
              "      <td>0.0</td>\n",
              "      <td>6.335</td>\n",
              "      <td>96.430</td>\n",
              "      <td>3.725</td>\n",
              "      <td>10.020</td>\n",
              "      <td>52.960</td>\n",
              "      <td>0.000</td>\n",
              "      <td>0.000</td>\n",
              "      <td>0.000</td>\n",
              "      <td>0.000</td>\n",
              "      <td>24.0</td>\n",
              "      <td>640.0</td>\n",
              "      <td>50.0</td>\n",
              "      <td>25.0</td>\n",
              "      <td>0.0</td>\n",
              "      <td>0.0</td>\n",
              "      <td>0.0</td>\n",
              "      <td>0.000</td>\n",
              "      <td>0.000</td>\n",
              "      <td>0.0</td>\n",
              "      <td>0.0</td>\n",
              "      <td>0.0</td>\n",
              "      <td>0.0</td>\n",
              "      <td>0.000</td>\n",
              "      <td>0.0</td>\n",
              "    </tr>\n",
              "    <tr>\n",
              "      <th>23</th>\n",
              "      <td>366.966</td>\n",
              "      <td>33.58</td>\n",
              "      <td>205.89</td>\n",
              "      <td>0.00</td>\n",
              "      <td>0.00</td>\n",
              "      <td>33.58</td>\n",
              "      <td>148.56</td>\n",
              "      <td>0.00</td>\n",
              "      <td>17.71</td>\n",
              "      <td>0.00</td>\n",
              "      <td>39.61</td>\n",
              "      <td>0.00</td>\n",
              "      <td>0.00</td>\n",
              "      <td>17.71</td>\n",
              "      <td>0.0</td>\n",
              "      <td>76.64</td>\n",
              "      <td>146.84</td>\n",
              "      <td>0.71</td>\n",
              "      <td>13.38</td>\n",
              "      <td>43.91</td>\n",
              "      <td>0.00</td>\n",
              "      <td>0.0</td>\n",
              "      <td>3.74</td>\n",
              "      <td>13.06</td>\n",
              "      <td>4</td>\n",
              "      <td>439</td>\n",
              "      <td>179</td>\n",
              "      <td>0</td>\n",
              "      <td>2.0</td>\n",
              "      <td>179.0</td>\n",
              "      <td>270.0</td>\n",
              "      <td>0.01</td>\n",
              "      <td>1009.92</td>\n",
              "      <td>0</td>\n",
              "      <td>0</td>\n",
              "      <td>1</td>\n",
              "      <td>1</td>\n",
              "      <td>604</td>\n",
              "      <td>40.45</td>\n",
              "      <td>540.0</td>\n",
              "      <td>134.1235</td>\n",
              "      <td>49.81</td>\n",
              "      <td>87.385</td>\n",
              "      <td>0.00</td>\n",
              "      <td>0.000</td>\n",
              "      <td>49.810</td>\n",
              "      <td>82.975</td>\n",
              "      <td>0.000</td>\n",
              "      <td>0.0</td>\n",
              "      <td>0.000</td>\n",
              "      <td>4.355</td>\n",
              "      <td>0.00</td>\n",
              "      <td>0.005</td>\n",
              "      <td>0.05</td>\n",
              "      <td>0.0</td>\n",
              "      <td>40.875</td>\n",
              "      <td>104.635</td>\n",
              "      <td>0.000</td>\n",
              "      <td>0.255</td>\n",
              "      <td>8.660</td>\n",
              "      <td>0.000</td>\n",
              "      <td>0.000</td>\n",
              "      <td>14.115</td>\n",
              "      <td>2.675</td>\n",
              "      <td>4.0</td>\n",
              "      <td>227.0</td>\n",
              "      <td>89.5</td>\n",
              "      <td>89.5</td>\n",
              "      <td>1.0</td>\n",
              "      <td>89.5</td>\n",
              "      <td>178.0</td>\n",
              "      <td>0.240</td>\n",
              "      <td>299.545</td>\n",
              "      <td>0.0</td>\n",
              "      <td>0.0</td>\n",
              "      <td>1.0</td>\n",
              "      <td>0.0</td>\n",
              "      <td>25.930</td>\n",
              "      <td>356.0</td>\n",
              "    </tr>\n",
              "  </tbody>\n",
              "</table>\n",
              "</div>"
            ],
            "text/plain": [
              "      arpu_8  onnet_mou_8  offnet_mou_8  roam_ic_mou_8  roam_og_mou_8  \\\n",
              "0    213.803         0.00          0.00           0.00           0.00   \n",
              "7   3171.480        52.29        325.91          31.64          38.06   \n",
              "8    137.362        35.08        136.48           0.00           0.00   \n",
              "21   637.760        85.14        983.39           0.00           0.00   \n",
              "23   366.966        33.58        205.89           0.00           0.00   \n",
              "\n",
              "    loc_og_t2t_mou_8  loc_og_t2m_mou_8  loc_og_t2f_mou_8  loc_og_t2c_mou_8  \\\n",
              "0               0.00              0.00              0.00              0.00   \n",
              "7              40.28            162.28             53.23              0.00   \n",
              "8              12.49             50.54              0.00              7.15   \n",
              "21             23.34            104.81              1.58              0.00   \n",
              "23             33.58            148.56              0.00             17.71   \n",
              "\n",
              "    std_og_t2t_mou_8  std_og_t2m_mou_8  std_og_t2f_mou_8  isd_og_mou_8  \\\n",
              "0               0.00              0.00              0.00          0.00   \n",
              "7              12.01             49.14             16.68         10.01   \n",
              "8              22.58             75.69              0.00          0.00   \n",
              "21             61.79            876.99              0.00          0.00   \n",
              "23              0.00             39.61              0.00          0.00   \n",
              "\n",
              "    spl_og_mou_8  og_others_8  loc_ic_t2t_mou_8  loc_ic_t2m_mou_8  \\\n",
              "0           0.00          0.0              0.16              4.13   \n",
              "7           6.50          0.0             27.31            121.19   \n",
              "8          10.23          0.0              0.31             15.48   \n",
              "21          0.00          0.0             19.54            129.16   \n",
              "23         17.71          0.0             76.64            146.84   \n",
              "\n",
              "    loc_ic_t2f_mou_8  std_ic_t2t_mou_8  std_ic_t2m_mou_8  std_ic_t2f_mou_8  \\\n",
              "0               1.15              0.00              0.00              0.00   \n",
              "7              39.53             30.39            141.33             22.21   \n",
              "8               0.00              0.10              0.65              0.00   \n",
              "21             10.39              0.18            101.74              0.00   \n",
              "23              0.71             13.38             43.91              0.00   \n",
              "\n",
              "    spl_ic_mou_8  isd_ic_mou_8  ic_others_8  total_rech_num_8  \\\n",
              "0            0.0          0.00         0.00                 2   \n",
              "7            0.0         31.59        15.14                 7   \n",
              "8            0.0          0.00         0.00                14   \n",
              "21           0.0          0.00         0.00                27   \n",
              "23           0.0          3.74        13.06                 4   \n",
              "\n",
              "    total_rech_amt_8  max_rech_amt_8  last_day_rch_amt_8  total_rech_data_8  \\\n",
              "0                252             252                 252                1.0   \n",
              "7               3638            1580                 779                0.0   \n",
              "8                120              30                  10                3.0   \n",
              "21               718              50                  50                0.0   \n",
              "23               439             179                   0                2.0   \n",
              "\n",
              "    max_rech_data_8  av_rech_amt_data_8  vol_2g_mb_8  vol_3g_mb_8  \\\n",
              "0             252.0               252.0         5.75       109.61   \n",
              "7               0.0                 0.0         0.00         0.00   \n",
              "8              23.0                69.0         0.03        11.94   \n",
              "21              0.0                 0.0         0.00         0.00   \n",
              "23            179.0               270.0         0.01      1009.92   \n",
              "\n",
              "    monthly_2g_8  sachet_2g_8  monthly_3g_8  sachet_3g_8  aon  vbc_3g_8  \\\n",
              "0              0            0             1            0  968     30.40   \n",
              "7              0            0             0            0  802     57.74   \n",
              "8              0            3             0            0  315     21.03   \n",
              "21             0            0             0            0  720      0.00   \n",
              "23             0            0             1            1  604     40.45   \n",
              "\n",
              "    total_rech_amt_data_8  avg_arpu_av67  avg_onnet_mou_av67  \\\n",
              "0                   252.0       206.1005                0.00   \n",
              "7                     0.0      1209.5150               56.26   \n",
              "8                   207.0       435.4720              382.36   \n",
              "21                    0.0       556.1030              117.26   \n",
              "23                  540.0       134.1235               49.81   \n",
              "\n",
              "    avg_offnet_mou_av67  avg_roam_ic_mou_av67  avg_roam_og_mou_av67  \\\n",
              "0                 0.000                  0.00                 0.000   \n",
              "7               510.295                 24.86                18.165   \n",
              "8                87.645                  0.00                 0.000   \n",
              "21              827.305                  0.00                 0.000   \n",
              "23               87.385                  0.00                 0.000   \n",
              "\n",
              "    avg_loc_og_t2t_mou_av67  avg_loc_og_t2m_mou_av67  avg_loc_og_t2f_mou_av67  \\\n",
              "0                     0.000                    0.000                    0.000   \n",
              "7                    41.385                  378.005                   58.635   \n",
              "8                   257.360                   75.770                    0.000   \n",
              "21                    5.320                   89.870                    0.375   \n",
              "23                   49.810                   82.975                    0.000   \n",
              "\n",
              "    avg_loc_og_t2c_mou_av67  avg_std_og_t2t_mou_av67  avg_std_og_t2m_mou_av67  \\\n",
              "0                       0.0                    0.000                    0.000   \n",
              "7                       0.0                   13.795                   40.825   \n",
              "8                       0.0                  124.995                   11.865   \n",
              "21                      0.0                  111.935                  737.050   \n",
              "23                      0.0                    0.000                    4.355   \n",
              "\n",
              "    avg_std_og_t2f_mou_av67  avg_isd_og_mou_av67  avg_spl_og_mou_av67  \\\n",
              "0                      0.00                0.000                 0.00   \n",
              "7                     13.37                0.090                 2.25   \n",
              "8                      0.00                0.000                 0.00   \n",
              "21                     0.00                0.000                 0.00   \n",
              "23                     0.00                0.005                 0.05   \n",
              "\n",
              "    avg_og_others_av67  avg_loc_ic_t2t_mou_av67  avg_loc_ic_t2m_mou_av67  \\\n",
              "0                  0.0                    0.000                    0.000   \n",
              "7                  0.0                   45.200                  219.525   \n",
              "8                  0.0                   16.840                   35.780   \n",
              "21                 0.0                    6.335                   96.430   \n",
              "23                 0.0                   40.875                  104.635   \n",
              "\n",
              "    avg_loc_ic_t2f_mou_av67  avg_std_ic_t2t_mou_av67  avg_std_ic_t2m_mou_av67  \\\n",
              "0                     0.000                    0.000                    0.000   \n",
              "7                   126.810                   24.360                  109.215   \n",
              "8                     0.000                    0.290                   13.255   \n",
              "21                    3.725                   10.020                   52.960   \n",
              "23                    0.000                    0.255                    8.660   \n",
              "\n",
              "    avg_std_ic_t2f_mou_av67  avg_spl_ic_mou_av67  avg_isd_ic_mou_av67  \\\n",
              "0                     0.000                0.000                0.000   \n",
              "7                    43.215                0.105                8.295   \n",
              "8                     0.000                0.000                0.000   \n",
              "21                    0.000                0.000                0.000   \n",
              "23                    0.000                0.000               14.115   \n",
              "\n",
              "    avg_ic_others_av67  avg_total_rech_num_av67  avg_total_rech_amt_av67  \\\n",
              "0                0.000                      3.5                    307.0   \n",
              "7               15.465                      5.0                   1185.0   \n",
              "8                0.000                     20.0                    519.0   \n",
              "21               0.000                     24.0                    640.0   \n",
              "23               2.675                      4.0                    227.0   \n",
              "\n",
              "    avg_max_rech_amt_av67  avg_last_day_rch_amt_av67  \\\n",
              "0                   252.0                      252.0   \n",
              "7                  1185.0                        0.0   \n",
              "8                   122.0                       25.0   \n",
              "21                   50.0                       25.0   \n",
              "23                   89.5                       89.5   \n",
              "\n",
              "    avg_total_rech_data_av67  avg_max_rech_data_av67  \\\n",
              "0                        1.0                   252.0   \n",
              "7                        0.0                     0.0   \n",
              "8                        1.0                    77.0   \n",
              "21                       0.0                     0.0   \n",
              "23                       1.0                    89.5   \n",
              "\n",
              "    avg_av_rech_amt_data_av67  avg_vol_2g_mb_av67  avg_vol_3g_mb_av67  \\\n",
              "0                       252.0              15.725             117.165   \n",
              "7                         0.0               0.000               0.000   \n",
              "8                        88.5             178.000             375.475   \n",
              "21                        0.0               0.000               0.000   \n",
              "23                      178.0               0.240             299.545   \n",
              "\n",
              "    avg_monthly_2g_av67  avg_sachet_2g_av67  avg_monthly_3g_av67  \\\n",
              "0                   0.0                 0.0                  1.0   \n",
              "7                   0.0                 0.0                  0.0   \n",
              "8                   0.5                 0.5                  0.0   \n",
              "21                  0.0                 0.0                  0.0   \n",
              "23                  0.0                 0.0                  1.0   \n",
              "\n",
              "    avg_sachet_3g_av67  avg_vbc_3g_av67  avg_total_rech_amt_data_av67  \n",
              "0                  0.0           50.600                         252.0  \n",
              "7                  0.0           19.060                           0.0  \n",
              "8                  0.0          516.405                         177.0  \n",
              "21                 0.0            0.000                           0.0  \n",
              "23                 0.0           25.930                         356.0  "
            ]
          },
          "metadata": {
            "tags": []
          },
          "execution_count": 134
        }
      ]
    },
    {
      "cell_type": "code",
      "metadata": {
        "collapsed": true,
        "colab": {
          "base_uri": "https://localhost:8080/"
        },
        "id": "Ty8VrKjvr_5E",
        "outputId": "4cfab0bc-d7ad-435a-8980-1e5325b03465"
      },
      "source": [
        "Y.head()"
      ],
      "execution_count": 135,
      "outputs": [
        {
          "output_type": "execute_result",
          "data": {
            "text/plain": [
              "0     1\n",
              "7     1\n",
              "8     0\n",
              "21    0\n",
              "23    0\n",
              "Name: churn, dtype: int64"
            ]
          },
          "metadata": {
            "tags": []
          },
          "execution_count": 135
        }
      ]
    },
    {
      "cell_type": "markdown",
      "metadata": {
        "id": "JD-t-BFMtsp4"
      },
      "source": [
        "### Percentage distribution of churn/non-churn cutomer data"
      ]
    },
    {
      "cell_type": "code",
      "metadata": {
        "collapsed": true,
        "colab": {
          "base_uri": "https://localhost:8080/"
        },
        "id": "pPTHEM_Qr_5F",
        "outputId": "7935066a-7ec5-4b91-cb18-abb4ead1b87c"
      },
      "source": [
        "print(\"Percenatge of Churned Customer data : \"+str(round(100*Y.sum()/len(Y),2)))"
      ],
      "execution_count": 136,
      "outputs": [
        {
          "output_type": "stream",
          "text": [
            "Percenatge of Churned Customer data : 8.12\n"
          ],
          "name": "stdout"
        }
      ]
    },
    {
      "cell_type": "markdown",
      "metadata": {
        "id": "vOmxKsdEtx6g"
      },
      "source": [
        "### Scale the data"
      ]
    },
    {
      "cell_type": "code",
      "metadata": {
        "collapsed": true,
        "colab": {
          "base_uri": "https://localhost:8080/",
          "height": 224
        },
        "id": "oNVmxlTMr_5F",
        "outputId": "982fa491-c51c-4aea-f868-309541f46b53"
      },
      "source": [
        "scaler = StandardScaler()\r\n",
        "X_col = X.columns\r\n",
        "X_scaled = scaler.fit_transform(X)\r\n",
        "X_after_scale = pd.DataFrame(X_scaled, columns=X_col)\r\n",
        "\r\n",
        "X_after_scale.head(5)"
      ],
      "execution_count": 137,
      "outputs": [
        {
          "output_type": "execute_result",
          "data": {
            "text/html": [
              "<div>\n",
              "<style scoped>\n",
              "    .dataframe tbody tr th:only-of-type {\n",
              "        vertical-align: middle;\n",
              "    }\n",
              "\n",
              "    .dataframe tbody tr th {\n",
              "        vertical-align: top;\n",
              "    }\n",
              "\n",
              "    .dataframe thead th {\n",
              "        text-align: right;\n",
              "    }\n",
              "</style>\n",
              "<table border=\"1\" class=\"dataframe\">\n",
              "  <thead>\n",
              "    <tr style=\"text-align: right;\">\n",
              "      <th></th>\n",
              "      <th>arpu_8</th>\n",
              "      <th>onnet_mou_8</th>\n",
              "      <th>offnet_mou_8</th>\n",
              "      <th>roam_ic_mou_8</th>\n",
              "      <th>roam_og_mou_8</th>\n",
              "      <th>loc_og_t2t_mou_8</th>\n",
              "      <th>loc_og_t2m_mou_8</th>\n",
              "      <th>loc_og_t2f_mou_8</th>\n",
              "      <th>loc_og_t2c_mou_8</th>\n",
              "      <th>std_og_t2t_mou_8</th>\n",
              "      <th>std_og_t2m_mou_8</th>\n",
              "      <th>std_og_t2f_mou_8</th>\n",
              "      <th>isd_og_mou_8</th>\n",
              "      <th>spl_og_mou_8</th>\n",
              "      <th>og_others_8</th>\n",
              "      <th>loc_ic_t2t_mou_8</th>\n",
              "      <th>loc_ic_t2m_mou_8</th>\n",
              "      <th>loc_ic_t2f_mou_8</th>\n",
              "      <th>std_ic_t2t_mou_8</th>\n",
              "      <th>std_ic_t2m_mou_8</th>\n",
              "      <th>std_ic_t2f_mou_8</th>\n",
              "      <th>spl_ic_mou_8</th>\n",
              "      <th>isd_ic_mou_8</th>\n",
              "      <th>ic_others_8</th>\n",
              "      <th>total_rech_num_8</th>\n",
              "      <th>total_rech_amt_8</th>\n",
              "      <th>max_rech_amt_8</th>\n",
              "      <th>last_day_rch_amt_8</th>\n",
              "      <th>total_rech_data_8</th>\n",
              "      <th>max_rech_data_8</th>\n",
              "      <th>av_rech_amt_data_8</th>\n",
              "      <th>vol_2g_mb_8</th>\n",
              "      <th>vol_3g_mb_8</th>\n",
              "      <th>monthly_2g_8</th>\n",
              "      <th>sachet_2g_8</th>\n",
              "      <th>monthly_3g_8</th>\n",
              "      <th>sachet_3g_8</th>\n",
              "      <th>aon</th>\n",
              "      <th>vbc_3g_8</th>\n",
              "      <th>total_rech_amt_data_8</th>\n",
              "      <th>avg_arpu_av67</th>\n",
              "      <th>avg_onnet_mou_av67</th>\n",
              "      <th>avg_offnet_mou_av67</th>\n",
              "      <th>avg_roam_ic_mou_av67</th>\n",
              "      <th>avg_roam_og_mou_av67</th>\n",
              "      <th>avg_loc_og_t2t_mou_av67</th>\n",
              "      <th>avg_loc_og_t2m_mou_av67</th>\n",
              "      <th>avg_loc_og_t2f_mou_av67</th>\n",
              "      <th>avg_loc_og_t2c_mou_av67</th>\n",
              "      <th>avg_std_og_t2t_mou_av67</th>\n",
              "      <th>avg_std_og_t2m_mou_av67</th>\n",
              "      <th>avg_std_og_t2f_mou_av67</th>\n",
              "      <th>avg_isd_og_mou_av67</th>\n",
              "      <th>avg_spl_og_mou_av67</th>\n",
              "      <th>avg_og_others_av67</th>\n",
              "      <th>avg_loc_ic_t2t_mou_av67</th>\n",
              "      <th>avg_loc_ic_t2m_mou_av67</th>\n",
              "      <th>avg_loc_ic_t2f_mou_av67</th>\n",
              "      <th>avg_std_ic_t2t_mou_av67</th>\n",
              "      <th>avg_std_ic_t2m_mou_av67</th>\n",
              "      <th>avg_std_ic_t2f_mou_av67</th>\n",
              "      <th>avg_spl_ic_mou_av67</th>\n",
              "      <th>avg_isd_ic_mou_av67</th>\n",
              "      <th>avg_ic_others_av67</th>\n",
              "      <th>avg_total_rech_num_av67</th>\n",
              "      <th>avg_total_rech_amt_av67</th>\n",
              "      <th>avg_max_rech_amt_av67</th>\n",
              "      <th>avg_last_day_rch_amt_av67</th>\n",
              "      <th>avg_total_rech_data_av67</th>\n",
              "      <th>avg_max_rech_data_av67</th>\n",
              "      <th>avg_av_rech_amt_data_av67</th>\n",
              "      <th>avg_vol_2g_mb_av67</th>\n",
              "      <th>avg_vol_3g_mb_av67</th>\n",
              "      <th>avg_monthly_2g_av67</th>\n",
              "      <th>avg_sachet_2g_av67</th>\n",
              "      <th>avg_monthly_3g_av67</th>\n",
              "      <th>avg_sachet_3g_av67</th>\n",
              "      <th>avg_vbc_3g_av67</th>\n",
              "      <th>avg_total_rech_amt_data_av67</th>\n",
              "    </tr>\n",
              "  </thead>\n",
              "  <tbody>\n",
              "    <tr>\n",
              "      <th>0</th>\n",
              "      <td>-0.587674</td>\n",
              "      <td>-0.510841</td>\n",
              "      <td>-0.695309</td>\n",
              "      <td>-0.168679</td>\n",
              "      <td>-0.189787</td>\n",
              "      <td>-0.343476</td>\n",
              "      <td>-0.649478</td>\n",
              "      <td>-0.301900</td>\n",
              "      <td>-0.238110</td>\n",
              "      <td>-0.373493</td>\n",
              "      <td>-0.384626</td>\n",
              "      <td>-0.145041</td>\n",
              "      <td>-0.043625</td>\n",
              "      <td>-0.322777</td>\n",
              "      <td>-0.01739</td>\n",
              "      <td>-0.393039</td>\n",
              "      <td>-0.661296</td>\n",
              "      <td>-0.306103</td>\n",
              "      <td>-0.194993</td>\n",
              "      <td>-0.270094</td>\n",
              "      <td>-0.128812</td>\n",
              "      <td>-0.239999</td>\n",
              "      <td>-0.155900</td>\n",
              "      <td>-0.095845</td>\n",
              "      <td>-0.859812</td>\n",
              "      <td>-0.544124</td>\n",
              "      <td>0.529591</td>\n",
              "      <td>1.098537</td>\n",
              "      <td>-0.207844</td>\n",
              "      <td>1.622450</td>\n",
              "      <td>0.663408</td>\n",
              "      <td>-0.319829</td>\n",
              "      <td>-0.263422</td>\n",
              "      <td>-0.377738</td>\n",
              "      <td>-0.416099</td>\n",
              "      <td>1.276531</td>\n",
              "      <td>-0.183926</td>\n",
              "      <td>-0.252008</td>\n",
              "      <td>-0.329779</td>\n",
              "      <td>-0.130336</td>\n",
              "      <td>-0.822740</td>\n",
              "      <td>-0.601302</td>\n",
              "      <td>-0.821237</td>\n",
              "      <td>-0.217580</td>\n",
              "      <td>-0.250490</td>\n",
              "      <td>-0.382885</td>\n",
              "      <td>-0.702523</td>\n",
              "      <td>-0.304606</td>\n",
              "      <td>-0.26747</td>\n",
              "      <td>-0.440961</td>\n",
              "      <td>-0.466159</td>\n",
              "      <td>-0.157504</td>\n",
              "      <td>-0.047861</td>\n",
              "      <td>-0.373455</td>\n",
              "      <td>-0.142827</td>\n",
              "      <td>-0.420301</td>\n",
              "      <td>-0.729516</td>\n",
              "      <td>-0.353064</td>\n",
              "      <td>-0.201905</td>\n",
              "      <td>-0.319361</td>\n",
              "      <td>-0.153462</td>\n",
              "      <td>-0.268081</td>\n",
              "      <td>-0.154826</td>\n",
              "      <td>-0.096699</td>\n",
              "      <td>-0.959891</td>\n",
              "      <td>-0.686829</td>\n",
              "      <td>0.526201</td>\n",
              "      <td>1.304802</td>\n",
              "      <td>-0.281673</td>\n",
              "      <td>1.675546</td>\n",
              "      <td>0.640631</td>\n",
              "      <td>-0.367143</td>\n",
              "      <td>-0.286068</td>\n",
              "      <td>-0.461204</td>\n",
              "      <td>-0.472415</td>\n",
              "      <td>1.358301</td>\n",
              "      <td>-0.230564</td>\n",
              "      <td>-0.301013</td>\n",
              "      <td>-0.194187</td>\n",
              "    </tr>\n",
              "    <tr>\n",
              "      <th>1</th>\n",
              "      <td>5.302613</td>\n",
              "      <td>-0.396856</td>\n",
              "      <td>-0.019115</td>\n",
              "      <td>0.257863</td>\n",
              "      <td>0.173388</td>\n",
              "      <td>-0.166450</td>\n",
              "      <td>0.044793</td>\n",
              "      <td>2.425615</td>\n",
              "      <td>-0.238110</td>\n",
              "      <td>-0.343304</td>\n",
              "      <td>-0.264487</td>\n",
              "      <td>1.379645</td>\n",
              "      <td>0.180077</td>\n",
              "      <td>-0.002416</td>\n",
              "      <td>-0.01739</td>\n",
              "      <td>-0.222309</td>\n",
              "      <td>-0.116813</td>\n",
              "      <td>0.579561</td>\n",
              "      <td>0.230718</td>\n",
              "      <td>1.097095</td>\n",
              "      <td>0.986581</td>\n",
              "      <td>-0.239999</td>\n",
              "      <td>0.291204</td>\n",
              "      <td>1.087598</td>\n",
              "      <td>-0.320785</td>\n",
              "      <td>4.993406</td>\n",
              "      <td>8.192812</td>\n",
              "      <td>4.726892</td>\n",
              "      <td>-0.541457</td>\n",
              "      <td>-0.655815</td>\n",
              "      <td>-0.624657</td>\n",
              "      <td>-0.338197</td>\n",
              "      <td>-0.382626</td>\n",
              "      <td>-0.377738</td>\n",
              "      <td>-0.416099</td>\n",
              "      <td>-0.341921</td>\n",
              "      <td>-0.183926</td>\n",
              "      <td>-0.425388</td>\n",
              "      <td>-0.264857</td>\n",
              "      <td>-0.285526</td>\n",
              "      <td>1.510046</td>\n",
              "      <td>-0.473392</td>\n",
              "      <td>0.293269</td>\n",
              "      <td>0.158438</td>\n",
              "      <td>-0.055836</td>\n",
              "      <td>-0.196834</td>\n",
              "      <td>0.924680</td>\n",
              "      <td>2.491601</td>\n",
              "      <td>-0.26747</td>\n",
              "      <td>-0.405208</td>\n",
              "      <td>-0.362562</td>\n",
              "      <td>1.001249</td>\n",
              "      <td>-0.045850</td>\n",
              "      <td>-0.243500</td>\n",
              "      <td>-0.142827</td>\n",
              "      <td>-0.132885</td>\n",
              "      <td>0.330406</td>\n",
              "      <td>2.504287</td>\n",
              "      <td>0.122424</td>\n",
              "      <td>0.842484</td>\n",
              "      <td>2.257838</td>\n",
              "      <td>0.428547</td>\n",
              "      <td>-0.041645</td>\n",
              "      <td>1.028963</td>\n",
              "      <td>-0.786191</td>\n",
              "      <td>1.016523</td>\n",
              "      <td>6.573427</td>\n",
              "      <td>-0.867797</td>\n",
              "      <td>-0.650953</td>\n",
              "      <td>-0.765285</td>\n",
              "      <td>-0.743309</td>\n",
              "      <td>-0.419584</td>\n",
              "      <td>-0.425468</td>\n",
              "      <td>-0.461204</td>\n",
              "      <td>-0.472415</td>\n",
              "      <td>-0.391449</td>\n",
              "      <td>-0.230564</td>\n",
              "      <td>-0.381270</td>\n",
              "      <td>-0.397513</td>\n",
              "    </tr>\n",
              "    <tr>\n",
              "      <th>2</th>\n",
              "      <td>-0.739908</td>\n",
              "      <td>-0.434372</td>\n",
              "      <td>-0.412142</td>\n",
              "      <td>-0.168679</td>\n",
              "      <td>-0.189787</td>\n",
              "      <td>-0.288584</td>\n",
              "      <td>-0.433257</td>\n",
              "      <td>-0.301900</td>\n",
              "      <td>0.762241</td>\n",
              "      <td>-0.316735</td>\n",
              "      <td>-0.199578</td>\n",
              "      <td>-0.145041</td>\n",
              "      <td>-0.043625</td>\n",
              "      <td>0.181421</td>\n",
              "      <td>-0.01739</td>\n",
              "      <td>-0.392096</td>\n",
              "      <td>-0.608504</td>\n",
              "      <td>-0.332641</td>\n",
              "      <td>-0.193592</td>\n",
              "      <td>-0.263806</td>\n",
              "      <td>-0.128812</td>\n",
              "      <td>-0.239999</td>\n",
              "      <td>-0.155900</td>\n",
              "      <td>-0.095845</td>\n",
              "      <td>0.433852</td>\n",
              "      <td>-0.760000</td>\n",
              "      <td>-0.751459</td>\n",
              "      <td>-0.567614</td>\n",
              "      <td>0.459382</td>\n",
              "      <td>-0.447878</td>\n",
              "      <td>-0.271972</td>\n",
              "      <td>-0.338101</td>\n",
              "      <td>-0.369641</td>\n",
              "      <td>-0.377738</td>\n",
              "      <td>0.766276</td>\n",
              "      <td>-0.341921</td>\n",
              "      <td>-0.183926</td>\n",
              "      <td>-0.934039</td>\n",
              "      <td>-0.352029</td>\n",
              "      <td>-0.158048</td>\n",
              "      <td>-0.289486</td>\n",
              "      <td>0.268015</td>\n",
              "      <td>-0.629816</td>\n",
              "      <td>-0.217580</td>\n",
              "      <td>-0.250490</td>\n",
              "      <td>0.774107</td>\n",
              "      <td>-0.376355</td>\n",
              "      <td>-0.304606</td>\n",
              "      <td>-0.26747</td>\n",
              "      <td>-0.117001</td>\n",
              "      <td>-0.436051</td>\n",
              "      <td>-0.157504</td>\n",
              "      <td>-0.047861</td>\n",
              "      <td>-0.373455</td>\n",
              "      <td>-0.142827</td>\n",
              "      <td>-0.313219</td>\n",
              "      <td>-0.556761</td>\n",
              "      <td>-0.353064</td>\n",
              "      <td>-0.198044</td>\n",
              "      <td>-0.178353</td>\n",
              "      <td>-0.153462</td>\n",
              "      <td>-0.268081</td>\n",
              "      <td>-0.154826</td>\n",
              "      <td>-0.096699</td>\n",
              "      <td>0.950807</td>\n",
              "      <td>-0.275541</td>\n",
              "      <td>-0.316392</td>\n",
              "      <td>-0.652262</td>\n",
              "      <td>-0.281673</td>\n",
              "      <td>-0.019475</td>\n",
              "      <td>-0.257283</td>\n",
              "      <td>0.174018</td>\n",
              "      <td>0.021262</td>\n",
              "      <td>0.828299</td>\n",
              "      <td>-0.265486</td>\n",
              "      <td>-0.391449</td>\n",
              "      <td>-0.230564</td>\n",
              "      <td>0.884275</td>\n",
              "      <td>-0.254701</td>\n",
              "    </tr>\n",
              "    <tr>\n",
              "      <th>3</th>\n",
              "      <td>0.256647</td>\n",
              "      <td>-0.325248</td>\n",
              "      <td>1.345016</td>\n",
              "      <td>-0.168679</td>\n",
              "      <td>-0.189787</td>\n",
              "      <td>-0.240899</td>\n",
              "      <td>-0.201077</td>\n",
              "      <td>-0.220941</td>\n",
              "      <td>-0.238110</td>\n",
              "      <td>-0.218176</td>\n",
              "      <td>1.759453</td>\n",
              "      <td>-0.145041</td>\n",
              "      <td>-0.043625</td>\n",
              "      <td>-0.322777</td>\n",
              "      <td>-0.01739</td>\n",
              "      <td>-0.271170</td>\n",
              "      <td>-0.079742</td>\n",
              "      <td>-0.092879</td>\n",
              "      <td>-0.192471</td>\n",
              "      <td>0.714112</td>\n",
              "      <td>-0.128812</td>\n",
              "      <td>-0.239999</td>\n",
              "      <td>-0.155900</td>\n",
              "      <td>-0.095845</td>\n",
              "      <td>1.835322</td>\n",
              "      <td>0.217981</td>\n",
              "      <td>-0.636049</td>\n",
              "      <td>-0.292217</td>\n",
              "      <td>-0.541457</td>\n",
              "      <td>-0.655815</td>\n",
              "      <td>-0.624657</td>\n",
              "      <td>-0.338197</td>\n",
              "      <td>-0.382626</td>\n",
              "      <td>-0.377738</td>\n",
              "      <td>-0.416099</td>\n",
              "      <td>-0.341921</td>\n",
              "      <td>-0.183926</td>\n",
              "      <td>-0.511034</td>\n",
              "      <td>-0.401967</td>\n",
              "      <td>-0.285526</td>\n",
              "      <td>-0.009037</td>\n",
              "      <td>-0.334705</td>\n",
              "      <td>0.985633</td>\n",
              "      <td>-0.217580</td>\n",
              "      <td>-0.250490</td>\n",
              "      <td>-0.358968</td>\n",
              "      <td>-0.315658</td>\n",
              "      <td>-0.286722</td>\n",
              "      <td>-0.26747</td>\n",
              "      <td>-0.150850</td>\n",
              "      <td>1.404182</td>\n",
              "      <td>-0.157504</td>\n",
              "      <td>-0.047861</td>\n",
              "      <td>-0.373455</td>\n",
              "      <td>-0.142827</td>\n",
              "      <td>-0.380018</td>\n",
              "      <td>-0.263928</td>\n",
              "      <td>-0.269131</td>\n",
              "      <td>-0.068498</td>\n",
              "      <td>0.244035</td>\n",
              "      <td>-0.153462</td>\n",
              "      <td>-0.268081</td>\n",
              "      <td>-0.154826</td>\n",
              "      <td>-0.096699</td>\n",
              "      <td>1.414007</td>\n",
              "      <td>-0.040797</td>\n",
              "      <td>-0.783059</td>\n",
              "      <td>-0.652262</td>\n",
              "      <td>-0.650953</td>\n",
              "      <td>-0.765285</td>\n",
              "      <td>-0.743309</td>\n",
              "      <td>-0.419584</td>\n",
              "      <td>-0.425468</td>\n",
              "      <td>-0.461204</td>\n",
              "      <td>-0.472415</td>\n",
              "      <td>-0.391449</td>\n",
              "      <td>-0.230564</td>\n",
              "      <td>-0.429770</td>\n",
              "      <td>-0.397513</td>\n",
              "    </tr>\n",
              "    <tr>\n",
              "      <th>4</th>\n",
              "      <td>-0.282646</td>\n",
              "      <td>-0.437642</td>\n",
              "      <td>-0.268131</td>\n",
              "      <td>-0.168679</td>\n",
              "      <td>-0.189787</td>\n",
              "      <td>-0.195895</td>\n",
              "      <td>-0.013904</td>\n",
              "      <td>-0.301900</td>\n",
              "      <td>2.239684</td>\n",
              "      <td>-0.373493</td>\n",
              "      <td>-0.287786</td>\n",
              "      <td>-0.145041</td>\n",
              "      <td>-0.043625</td>\n",
              "      <td>0.550083</td>\n",
              "      <td>-0.01739</td>\n",
              "      <td>0.087897</td>\n",
              "      <td>0.002494</td>\n",
              "      <td>-0.316256</td>\n",
              "      <td>-0.007562</td>\n",
              "      <td>0.154680</td>\n",
              "      <td>-0.128812</td>\n",
              "      <td>-0.239999</td>\n",
              "      <td>-0.102967</td>\n",
              "      <td>0.925012</td>\n",
              "      <td>-0.644201</td>\n",
              "      <td>-0.238301</td>\n",
              "      <td>0.108345</td>\n",
              "      <td>-0.636463</td>\n",
              "      <td>0.125769</td>\n",
              "      <td>0.962476</td>\n",
              "      <td>0.755412</td>\n",
              "      <td>-0.338165</td>\n",
              "      <td>0.715694</td>\n",
              "      <td>-0.377738</td>\n",
              "      <td>-0.416099</td>\n",
              "      <td>1.276531</td>\n",
              "      <td>0.724573</td>\n",
              "      <td>-0.632191</td>\n",
              "      <td>-0.305914</td>\n",
              "      <td>0.047025</td>\n",
              "      <td>-0.990075</td>\n",
              "      <td>-0.488056</td>\n",
              "      <td>-0.630384</td>\n",
              "      <td>-0.217580</td>\n",
              "      <td>-0.250490</td>\n",
              "      <td>-0.158958</td>\n",
              "      <td>-0.345339</td>\n",
              "      <td>-0.304606</td>\n",
              "      <td>-0.26747</td>\n",
              "      <td>-0.440961</td>\n",
              "      <td>-0.455108</td>\n",
              "      <td>-0.157504</td>\n",
              "      <td>-0.047749</td>\n",
              "      <td>-0.370567</td>\n",
              "      <td>-0.142827</td>\n",
              "      <td>-0.160386</td>\n",
              "      <td>-0.224312</td>\n",
              "      <td>-0.353064</td>\n",
              "      <td>-0.198510</td>\n",
              "      <td>-0.227235</td>\n",
              "      <td>-0.153462</td>\n",
              "      <td>-0.268081</td>\n",
              "      <td>0.037767</td>\n",
              "      <td>0.098008</td>\n",
              "      <td>-0.901991</td>\n",
              "      <td>-0.842032</td>\n",
              "      <td>-0.527041</td>\n",
              "      <td>-0.096180</td>\n",
              "      <td>-0.281673</td>\n",
              "      <td>0.101597</td>\n",
              "      <td>0.234236</td>\n",
              "      <td>-0.418783</td>\n",
              "      <td>-0.069077</td>\n",
              "      <td>-0.461204</td>\n",
              "      <td>-0.472415</td>\n",
              "      <td>1.358301</td>\n",
              "      <td>-0.230564</td>\n",
              "      <td>-0.363788</td>\n",
              "      <td>-0.110275</td>\n",
              "    </tr>\n",
              "  </tbody>\n",
              "</table>\n",
              "</div>"
            ],
            "text/plain": [
              "     arpu_8  onnet_mou_8  offnet_mou_8  roam_ic_mou_8  roam_og_mou_8  \\\n",
              "0 -0.587674    -0.510841     -0.695309      -0.168679      -0.189787   \n",
              "1  5.302613    -0.396856     -0.019115       0.257863       0.173388   \n",
              "2 -0.739908    -0.434372     -0.412142      -0.168679      -0.189787   \n",
              "3  0.256647    -0.325248      1.345016      -0.168679      -0.189787   \n",
              "4 -0.282646    -0.437642     -0.268131      -0.168679      -0.189787   \n",
              "\n",
              "   loc_og_t2t_mou_8  loc_og_t2m_mou_8  loc_og_t2f_mou_8  loc_og_t2c_mou_8  \\\n",
              "0         -0.343476         -0.649478         -0.301900         -0.238110   \n",
              "1         -0.166450          0.044793          2.425615         -0.238110   \n",
              "2         -0.288584         -0.433257         -0.301900          0.762241   \n",
              "3         -0.240899         -0.201077         -0.220941         -0.238110   \n",
              "4         -0.195895         -0.013904         -0.301900          2.239684   \n",
              "\n",
              "   std_og_t2t_mou_8  std_og_t2m_mou_8  std_og_t2f_mou_8  isd_og_mou_8  \\\n",
              "0         -0.373493         -0.384626         -0.145041     -0.043625   \n",
              "1         -0.343304         -0.264487          1.379645      0.180077   \n",
              "2         -0.316735         -0.199578         -0.145041     -0.043625   \n",
              "3         -0.218176          1.759453         -0.145041     -0.043625   \n",
              "4         -0.373493         -0.287786         -0.145041     -0.043625   \n",
              "\n",
              "   spl_og_mou_8  og_others_8  loc_ic_t2t_mou_8  loc_ic_t2m_mou_8  \\\n",
              "0     -0.322777     -0.01739         -0.393039         -0.661296   \n",
              "1     -0.002416     -0.01739         -0.222309         -0.116813   \n",
              "2      0.181421     -0.01739         -0.392096         -0.608504   \n",
              "3     -0.322777     -0.01739         -0.271170         -0.079742   \n",
              "4      0.550083     -0.01739          0.087897          0.002494   \n",
              "\n",
              "   loc_ic_t2f_mou_8  std_ic_t2t_mou_8  std_ic_t2m_mou_8  std_ic_t2f_mou_8  \\\n",
              "0         -0.306103         -0.194993         -0.270094         -0.128812   \n",
              "1          0.579561          0.230718          1.097095          0.986581   \n",
              "2         -0.332641         -0.193592         -0.263806         -0.128812   \n",
              "3         -0.092879         -0.192471          0.714112         -0.128812   \n",
              "4         -0.316256         -0.007562          0.154680         -0.128812   \n",
              "\n",
              "   spl_ic_mou_8  isd_ic_mou_8  ic_others_8  total_rech_num_8  \\\n",
              "0     -0.239999     -0.155900    -0.095845         -0.859812   \n",
              "1     -0.239999      0.291204     1.087598         -0.320785   \n",
              "2     -0.239999     -0.155900    -0.095845          0.433852   \n",
              "3     -0.239999     -0.155900    -0.095845          1.835322   \n",
              "4     -0.239999     -0.102967     0.925012         -0.644201   \n",
              "\n",
              "   total_rech_amt_8  max_rech_amt_8  last_day_rch_amt_8  total_rech_data_8  \\\n",
              "0         -0.544124        0.529591            1.098537          -0.207844   \n",
              "1          4.993406        8.192812            4.726892          -0.541457   \n",
              "2         -0.760000       -0.751459           -0.567614           0.459382   \n",
              "3          0.217981       -0.636049           -0.292217          -0.541457   \n",
              "4         -0.238301        0.108345           -0.636463           0.125769   \n",
              "\n",
              "   max_rech_data_8  av_rech_amt_data_8  vol_2g_mb_8  vol_3g_mb_8  \\\n",
              "0         1.622450            0.663408    -0.319829    -0.263422   \n",
              "1        -0.655815           -0.624657    -0.338197    -0.382626   \n",
              "2        -0.447878           -0.271972    -0.338101    -0.369641   \n",
              "3        -0.655815           -0.624657    -0.338197    -0.382626   \n",
              "4         0.962476            0.755412    -0.338165     0.715694   \n",
              "\n",
              "   monthly_2g_8  sachet_2g_8  monthly_3g_8  sachet_3g_8       aon  vbc_3g_8  \\\n",
              "0     -0.377738    -0.416099      1.276531    -0.183926 -0.252008 -0.329779   \n",
              "1     -0.377738    -0.416099     -0.341921    -0.183926 -0.425388 -0.264857   \n",
              "2     -0.377738     0.766276     -0.341921    -0.183926 -0.934039 -0.352029   \n",
              "3     -0.377738    -0.416099     -0.341921    -0.183926 -0.511034 -0.401967   \n",
              "4     -0.377738    -0.416099      1.276531     0.724573 -0.632191 -0.305914   \n",
              "\n",
              "   total_rech_amt_data_8  avg_arpu_av67  avg_onnet_mou_av67  \\\n",
              "0              -0.130336      -0.822740           -0.601302   \n",
              "1              -0.285526       1.510046           -0.473392   \n",
              "2              -0.158048      -0.289486            0.268015   \n",
              "3              -0.285526      -0.009037           -0.334705   \n",
              "4               0.047025      -0.990075           -0.488056   \n",
              "\n",
              "   avg_offnet_mou_av67  avg_roam_ic_mou_av67  avg_roam_og_mou_av67  \\\n",
              "0            -0.821237             -0.217580             -0.250490   \n",
              "1             0.293269              0.158438             -0.055836   \n",
              "2            -0.629816             -0.217580             -0.250490   \n",
              "3             0.985633             -0.217580             -0.250490   \n",
              "4            -0.630384             -0.217580             -0.250490   \n",
              "\n",
              "   avg_loc_og_t2t_mou_av67  avg_loc_og_t2m_mou_av67  avg_loc_og_t2f_mou_av67  \\\n",
              "0                -0.382885                -0.702523                -0.304606   \n",
              "1                -0.196834                 0.924680                 2.491601   \n",
              "2                 0.774107                -0.376355                -0.304606   \n",
              "3                -0.358968                -0.315658                -0.286722   \n",
              "4                -0.158958                -0.345339                -0.304606   \n",
              "\n",
              "   avg_loc_og_t2c_mou_av67  avg_std_og_t2t_mou_av67  avg_std_og_t2m_mou_av67  \\\n",
              "0                 -0.26747                -0.440961                -0.466159   \n",
              "1                 -0.26747                -0.405208                -0.362562   \n",
              "2                 -0.26747                -0.117001                -0.436051   \n",
              "3                 -0.26747                -0.150850                 1.404182   \n",
              "4                 -0.26747                -0.440961                -0.455108   \n",
              "\n",
              "   avg_std_og_t2f_mou_av67  avg_isd_og_mou_av67  avg_spl_og_mou_av67  \\\n",
              "0                -0.157504            -0.047861            -0.373455   \n",
              "1                 1.001249            -0.045850            -0.243500   \n",
              "2                -0.157504            -0.047861            -0.373455   \n",
              "3                -0.157504            -0.047861            -0.373455   \n",
              "4                -0.157504            -0.047749            -0.370567   \n",
              "\n",
              "   avg_og_others_av67  avg_loc_ic_t2t_mou_av67  avg_loc_ic_t2m_mou_av67  \\\n",
              "0           -0.142827                -0.420301                -0.729516   \n",
              "1           -0.142827                -0.132885                 0.330406   \n",
              "2           -0.142827                -0.313219                -0.556761   \n",
              "3           -0.142827                -0.380018                -0.263928   \n",
              "4           -0.142827                -0.160386                -0.224312   \n",
              "\n",
              "   avg_loc_ic_t2f_mou_av67  avg_std_ic_t2t_mou_av67  avg_std_ic_t2m_mou_av67  \\\n",
              "0                -0.353064                -0.201905                -0.319361   \n",
              "1                 2.504287                 0.122424                 0.842484   \n",
              "2                -0.353064                -0.198044                -0.178353   \n",
              "3                -0.269131                -0.068498                 0.244035   \n",
              "4                -0.353064                -0.198510                -0.227235   \n",
              "\n",
              "   avg_std_ic_t2f_mou_av67  avg_spl_ic_mou_av67  avg_isd_ic_mou_av67  \\\n",
              "0                -0.153462            -0.268081            -0.154826   \n",
              "1                 2.257838             0.428547            -0.041645   \n",
              "2                -0.153462            -0.268081            -0.154826   \n",
              "3                -0.153462            -0.268081            -0.154826   \n",
              "4                -0.153462            -0.268081             0.037767   \n",
              "\n",
              "   avg_ic_others_av67  avg_total_rech_num_av67  avg_total_rech_amt_av67  \\\n",
              "0           -0.096699                -0.959891                -0.686829   \n",
              "1            1.028963                -0.786191                 1.016523   \n",
              "2           -0.096699                 0.950807                -0.275541   \n",
              "3           -0.096699                 1.414007                -0.040797   \n",
              "4            0.098008                -0.901991                -0.842032   \n",
              "\n",
              "   avg_max_rech_amt_av67  avg_last_day_rch_amt_av67  avg_total_rech_data_av67  \\\n",
              "0               0.526201                   1.304802                 -0.281673   \n",
              "1               6.573427                  -0.867797                 -0.650953   \n",
              "2              -0.316392                  -0.652262                 -0.281673   \n",
              "3              -0.783059                  -0.652262                 -0.650953   \n",
              "4              -0.527041                  -0.096180                 -0.281673   \n",
              "\n",
              "   avg_max_rech_data_av67  avg_av_rech_amt_data_av67  avg_vol_2g_mb_av67  \\\n",
              "0                1.675546                   0.640631           -0.367143   \n",
              "1               -0.765285                  -0.743309           -0.419584   \n",
              "2               -0.019475                  -0.257283            0.174018   \n",
              "3               -0.765285                  -0.743309           -0.419584   \n",
              "4                0.101597                   0.234236           -0.418783   \n",
              "\n",
              "   avg_vol_3g_mb_av67  avg_monthly_2g_av67  avg_sachet_2g_av67  \\\n",
              "0           -0.286068            -0.461204           -0.472415   \n",
              "1           -0.425468            -0.461204           -0.472415   \n",
              "2            0.021262             0.828299           -0.265486   \n",
              "3           -0.425468            -0.461204           -0.472415   \n",
              "4           -0.069077            -0.461204           -0.472415   \n",
              "\n",
              "   avg_monthly_3g_av67  avg_sachet_3g_av67  avg_vbc_3g_av67  \\\n",
              "0             1.358301           -0.230564        -0.301013   \n",
              "1            -0.391449           -0.230564        -0.381270   \n",
              "2            -0.391449           -0.230564         0.884275   \n",
              "3            -0.391449           -0.230564        -0.429770   \n",
              "4             1.358301           -0.230564        -0.363788   \n",
              "\n",
              "   avg_total_rech_amt_data_av67  \n",
              "0                     -0.194187  \n",
              "1                     -0.397513  \n",
              "2                     -0.254701  \n",
              "3                     -0.397513  \n",
              "4                     -0.110275  "
            ]
          },
          "metadata": {
            "tags": []
          },
          "execution_count": 137
        }
      ]
    },
    {
      "cell_type": "code",
      "metadata": {
        "collapsed": true,
        "colab": {
          "base_uri": "https://localhost:8080/",
          "height": 385
        },
        "id": "TPamnkmAr_5F",
        "outputId": "0be09803-aacd-4218-8d78-9ef6f2b26a20"
      },
      "source": [
        "# Apply PCA and plot the screeplot\r\n",
        "\r\n",
        "pca = PCA(svd_solver='randomized', random_state=101)\r\n",
        "pca.fit(X_after_scale)\r\n",
        "fig = plt.figure(figsize = (8,6))\r\n",
        "plt.plot(np.cumsum(pca.explained_variance_ratio_))\r\n",
        "plt.xlabel('number of components')\r\n",
        "plt.ylabel('cumulative explained variance')\r\n",
        "plt.show()"
      ],
      "execution_count": 138,
      "outputs": [
        {
          "output_type": "display_data",
          "data": {
            "image/png": "[encoded data removed]",
            "text/plain": [
              "<Figure size 576x432 with 1 Axes>"
            ]
          },
          "metadata": {
            "tags": []
          }
        }
      ]
    },
    {
      "cell_type": "code",
      "metadata": {
        "colab": {
          "base_uri": "https://localhost:8080/",
          "height": 359
        },
        "id": "ZNDkw3ZUt8f3",
        "outputId": "a39ad470-848b-4503-e682-559c523bf049"
      },
      "source": [
        "col = list(X_after_scale.columns)\r\n",
        "df_pca = pd.DataFrame({'PC1':pca.components_[0],'PC2':pca.components_[1], 'PC3':pca.components_[2],'Feature':col})\r\n",
        "df_pca.head(10)"
      ],
      "execution_count": 139,
      "outputs": [
        {
          "output_type": "execute_result",
          "data": {
            "text/html": [
              "<div>\n",
              "<style scoped>\n",
              "    .dataframe tbody tr th:only-of-type {\n",
              "        vertical-align: middle;\n",
              "    }\n",
              "\n",
              "    .dataframe tbody tr th {\n",
              "        vertical-align: top;\n",
              "    }\n",
              "\n",
              "    .dataframe thead th {\n",
              "        text-align: right;\n",
              "    }\n",
              "</style>\n",
              "<table border=\"1\" class=\"dataframe\">\n",
              "  <thead>\n",
              "    <tr style=\"text-align: right;\">\n",
              "      <th></th>\n",
              "      <th>PC1</th>\n",
              "      <th>PC2</th>\n",
              "      <th>PC3</th>\n",
              "      <th>Feature</th>\n",
              "    </tr>\n",
              "  </thead>\n",
              "  <tbody>\n",
              "    <tr>\n",
              "      <th>0</th>\n",
              "      <td>0.000556</td>\n",
              "      <td>0.294716</td>\n",
              "      <td>0.154905</td>\n",
              "      <td>arpu_8</td>\n",
              "    </tr>\n",
              "    <tr>\n",
              "      <th>1</th>\n",
              "      <td>-0.112810</td>\n",
              "      <td>0.114988</td>\n",
              "      <td>0.149637</td>\n",
              "      <td>onnet_mou_8</td>\n",
              "    </tr>\n",
              "    <tr>\n",
              "      <th>2</th>\n",
              "      <td>-0.104630</td>\n",
              "      <td>0.199573</td>\n",
              "      <td>0.114285</td>\n",
              "      <td>offnet_mou_8</td>\n",
              "    </tr>\n",
              "    <tr>\n",
              "      <th>3</th>\n",
              "      <td>-0.007768</td>\n",
              "      <td>0.050446</td>\n",
              "      <td>0.007028</td>\n",
              "      <td>roam_ic_mou_8</td>\n",
              "    </tr>\n",
              "    <tr>\n",
              "      <th>4</th>\n",
              "      <td>-0.022813</td>\n",
              "      <td>0.069574</td>\n",
              "      <td>0.029853</td>\n",
              "      <td>roam_og_mou_8</td>\n",
              "    </tr>\n",
              "    <tr>\n",
              "      <th>5</th>\n",
              "      <td>-0.030653</td>\n",
              "      <td>0.098338</td>\n",
              "      <td>0.024347</td>\n",
              "      <td>loc_og_t2t_mou_8</td>\n",
              "    </tr>\n",
              "    <tr>\n",
              "      <th>6</th>\n",
              "      <td>-0.031542</td>\n",
              "      <td>0.176698</td>\n",
              "      <td>-0.027159</td>\n",
              "      <td>loc_og_t2m_mou_8</td>\n",
              "    </tr>\n",
              "    <tr>\n",
              "      <th>7</th>\n",
              "      <td>0.009128</td>\n",
              "      <td>0.109241</td>\n",
              "      <td>-0.091910</td>\n",
              "      <td>loc_og_t2f_mou_8</td>\n",
              "    </tr>\n",
              "    <tr>\n",
              "      <th>8</th>\n",
              "      <td>-0.014519</td>\n",
              "      <td>0.015865</td>\n",
              "      <td>0.079296</td>\n",
              "      <td>loc_og_t2c_mou_8</td>\n",
              "    </tr>\n",
              "    <tr>\n",
              "      <th>9</th>\n",
              "      <td>-0.109851</td>\n",
              "      <td>0.069713</td>\n",
              "      <td>0.155442</td>\n",
              "      <td>std_og_t2t_mou_8</td>\n",
              "    </tr>\n",
              "  </tbody>\n",
              "</table>\n",
              "</div>"
            ],
            "text/plain": [
              "        PC1       PC2       PC3           Feature\n",
              "0  0.000556  0.294716  0.154905            arpu_8\n",
              "1 -0.112810  0.114988  0.149637       onnet_mou_8\n",
              "2 -0.104630  0.199573  0.114285      offnet_mou_8\n",
              "3 -0.007768  0.050446  0.007028     roam_ic_mou_8\n",
              "4 -0.022813  0.069574  0.029853     roam_og_mou_8\n",
              "5 -0.030653  0.098338  0.024347  loc_og_t2t_mou_8\n",
              "6 -0.031542  0.176698 -0.027159  loc_og_t2m_mou_8\n",
              "7  0.009128  0.109241 -0.091910  loc_og_t2f_mou_8\n",
              "8 -0.014519  0.015865  0.079296  loc_og_t2c_mou_8\n",
              "9 -0.109851  0.069713  0.155442  std_og_t2t_mou_8"
            ]
          },
          "metadata": {
            "tags": []
          },
          "execution_count": 139
        }
      ]
    },
    {
      "cell_type": "markdown",
      "metadata": {
        "id": "6zhG9zTRuGAA"
      },
      "source": [
        "We can see in the scree plot that the 60 components will provide 95% of expained variance. Hence we will use 60 components."
      ]
    },
    {
      "cell_type": "code",
      "metadata": {
        "id": "e7sa2QzPt_tn"
      },
      "source": [
        "# Train- Test Split \r\n",
        "\r\n",
        "from sklearn.model_selection import train_test_split\r\n",
        "\r\n",
        "x_train, x_test, y_train, y_test = train_test_split(X_after_scale, Y, test_size=0.3, train_size=0.7, random_state=1)"
      ],
      "execution_count": 141,
      "outputs": []
    },
    {
      "cell_type": "markdown",
      "metadata": {
        "id": "zr-xjgwFvGAM"
      },
      "source": [
        "As we have seen that the count of churned customers is very less and data is imbalanced. We need to balance the data using balancing techniques. We are using SMOTE to balance the data."
      ]
    },
    {
      "cell_type": "code",
      "metadata": {
        "colab": {
          "base_uri": "https://localhost:8080/"
        },
        "id": "a9bSjacZukHa",
        "outputId": "e65a4d70-638e-432c-8e2a-35adcbffd073"
      },
      "source": [
        "smote = SMOTE(kind = \"regular\")\r\n",
        "x_train_smt,y_train_smt = smote.fit_sample(x_train,y_train)\r\n",
        "\r\n",
        "#Lets chech the shape of training set after SMOTE\r\n",
        "x_train_smt.shape\r\n"
      ],
      "execution_count": 142,
      "outputs": [
        {
          "output_type": "execute_result",
          "data": {
            "text/plain": [
              "(38528, 79)"
            ]
          },
          "metadata": {
            "tags": []
          },
          "execution_count": 142
        }
      ]
    },
    {
      "cell_type": "code",
      "metadata": {
        "id": "CqTj0ZmCvJqF"
      },
      "source": [
        "# Applying PCA : Pricnipal Component Analysis\r\n",
        "pca = IncrementalPCA(n_components=60)    \r\n",
        "x_train_pca = pca.fit_transform(x_train_smt)\r\n",
        "x_test_pca = pca.transform(x_test)"
      ],
      "execution_count": 143,
      "outputs": []
    },
    {
      "cell_type": "code",
      "metadata": {
        "id": "RQ2q-v-TvPqw"
      },
      "source": [
        "x_train = x_train_pca\r\n",
        "y_train = y_train_smt\r\n",
        "x_test = x_test_pca"
      ],
      "execution_count": 144,
      "outputs": []
    },
    {
      "cell_type": "code",
      "metadata": {
        "colab": {
          "base_uri": "https://localhost:8080/"
        },
        "id": "Xp9013t5vSMR",
        "outputId": "769362f8-5d28-4ddd-8b71-c3cc0d0f35c6"
      },
      "source": [
        "x_train.shape"
      ],
      "execution_count": 145,
      "outputs": [
        {
          "output_type": "execute_result",
          "data": {
            "text/plain": [
              "(38528, 60)"
            ]
          },
          "metadata": {
            "tags": []
          },
          "execution_count": 145
        }
      ]
    },
    {
      "cell_type": "markdown",
      "metadata": {
        "id": "H1-c38arvh_v"
      },
      "source": [
        "We have got balanced data set after SMOTE"
      ]
    },
    {
      "cell_type": "markdown",
      "metadata": {
        "id": "lG6jO_YBvnk8"
      },
      "source": [
        "### Logistic Regression"
      ]
    },
    {
      "cell_type": "code",
      "metadata": {
        "id": "YrNOcTFTvUXW"
      },
      "source": [
        "from sklearn.preprocessing import scale\r\n",
        "from sklearn import svm\r\n",
        "from sklearn import metrics\r\n",
        "import itertools\r\n",
        "from sklearn.preprocessing import StandardScaler\r\n",
        "from sklearn.model_selection import KFold,GridSearchCV\r\n",
        "from sklearn.model_selection import train_test_split\r\n",
        "from sklearn.metrics import confusion_matrix, precision_recall_curve, auc, roc_auc_score, roc_curve, recall_score, classification_report\r\n",
        "from sklearn.metrics import recall_score,precision_score,roc_auc_score,f1_score,accuracy_score,confusion_matrix\r\n"
      ],
      "execution_count": 146,
      "outputs": []
    },
    {
      "cell_type": "code",
      "metadata": {
        "colab": {
          "base_uri": "https://localhost:8080/"
        },
        "id": "qEpbDSMevq5E",
        "outputId": "ef22642e-89ee-49e4-cb79-1db5f76909c0"
      },
      "source": [
        "#Training the model on the train data\r\n",
        "from sklearn.linear_model import LogisticRegression\r\n",
        "from sklearn import metrics\r\n",
        "\r\n",
        "lr = LogisticRegression()\r\n",
        "model = lr.fit(x_train,y_train)\r\n",
        "#Making prediction on the test data\r\n",
        "pred_probs_test = model.predict_proba(x_test)[:,1]\r\n",
        "print(\"Logistic Regression Accurancy : \"+\"{:2.2}\".format(metrics.roc_auc_score(y_test, pred_probs_test)))"
      ],
      "execution_count": 147,
      "outputs": [
        {
          "output_type": "stream",
          "text": [
            "Logistic Regression Accurancy : 0.89\n"
          ],
          "name": "stdout"
        }
      ]
    },
    {
      "cell_type": "markdown",
      "metadata": {
        "id": "h7nodcO6vyjd"
      },
      "source": [
        "### Using Tree Models \r\n",
        "\r\n",
        "Using Random Forest with default parameters "
      ]
    },
    {
      "cell_type": "code",
      "metadata": {
        "colab": {
          "base_uri": "https://localhost:8080/"
        },
        "id": "lHNi-bTIvuRD",
        "outputId": "f8fe27d8-e6f5-40c2-bf9a-b0ec810417bf"
      },
      "source": [
        "x_train.shape"
      ],
      "execution_count": 169,
      "outputs": [
        {
          "output_type": "execute_result",
          "data": {
            "text/plain": [
              "(38528, 60)"
            ]
          },
          "metadata": {
            "tags": []
          },
          "execution_count": 169
        }
      ]
    },
    {
      "cell_type": "code",
      "metadata": {
        "colab": {
          "base_uri": "https://localhost:8080/"
        },
        "id": "z8eJ9RTOv454",
        "outputId": "1cb1722d-1730-4916-dba8-d80c4e0e4714"
      },
      "source": [
        "y_train.shape"
      ],
      "execution_count": 170,
      "outputs": [
        {
          "output_type": "execute_result",
          "data": {
            "text/plain": [
              "(38528,)"
            ]
          },
          "metadata": {
            "tags": []
          },
          "execution_count": 170
        }
      ]
    },
    {
      "cell_type": "code",
      "metadata": {
        "id": "yuCb__O0v-27"
      },
      "source": [
        "# Importing random forest classifier from sklearn library\r\n",
        "from sklearn.ensemble import RandomForestClassifier\r\n",
        "from sklearn.metrics import classification_report,confusion_matrix, accuracy_score"
      ],
      "execution_count": 171,
      "outputs": []
    },
    {
      "cell_type": "code",
      "metadata": {
        "colab": {
          "base_uri": "https://localhost:8080/"
        },
        "id": "h5Z1semawAkr",
        "outputId": "4f2d7a13-8f83-4eb4-9119-511b58bc6c14"
      },
      "source": [
        "rfc = RandomForestClassifier()\r\n",
        "rfc.fit(x_train,y_train)"
      ],
      "execution_count": 172,
      "outputs": [
        {
          "output_type": "execute_result",
          "data": {
            "text/plain": [
              "RandomForestClassifier(bootstrap=True, ccp_alpha=0.0, class_weight=None,\n",
              "                       criterion='gini', max_depth=None, max_features='auto',\n",
              "                       max_leaf_nodes=None, max_samples=None,\n",
              "                       min_impurity_decrease=0.0, min_impurity_split=None,\n",
              "                       min_samples_leaf=1, min_samples_split=2,\n",
              "                       min_weight_fraction_leaf=0.0, n_estimators=100,\n",
              "                       n_jobs=None, oob_score=False, random_state=None,\n",
              "                       verbose=0, warm_start=False)"
            ]
          },
          "metadata": {
            "tags": []
          },
          "execution_count": 172
        }
      ]
    },
    {
      "cell_type": "code",
      "metadata": {
        "id": "FvRkyRK0wCk8"
      },
      "source": [
        "# Making predictions\r\n",
        "y_test_pred = rfc.predict(x_test)\r\n"
      ],
      "execution_count": 173,
      "outputs": []
    },
    {
      "cell_type": "code",
      "metadata": {
        "colab": {
          "base_uri": "https://localhost:8080/"
        },
        "id": "XKSVUG16wSWm",
        "outputId": "d0215b06-9518-441d-c10b-1c8814bbb6dd"
      },
      "source": [
        "#Get the summary \r\n",
        "confusion = metrics.confusion_matrix(y_test, y_test_pred )\r\n",
        "confusion\r\n"
      ],
      "execution_count": 174,
      "outputs": [
        {
          "output_type": "execute_result",
          "data": {
            "text/plain": [
              "array([[7786,  470],\n",
              "       [ 334,  396]])"
            ]
          },
          "metadata": {
            "tags": []
          },
          "execution_count": 174
        }
      ]
    },
    {
      "cell_type": "code",
      "metadata": {
        "colab": {
          "base_uri": "https://localhost:8080/",
          "height": 80
        },
        "id": "X9LnJ_TvwVIL",
        "outputId": "f39ebba3-2a7c-4982-bc17-1b8c8ddff979"
      },
      "source": [
        "accuracy = round(accuracy_score(y_test,y_test_pred),2)\r\n",
        "recall = round(recall_score(y_test,y_test_pred),2)\r\n",
        "precision = round(precision_score(y_test,y_test_pred),2)\r\n",
        "auc = round(roc_auc_score(y_test,y_test_pred),2)\r\n",
        "f1 = round(f1_score(y_test,y_test_pred),2)\r\n",
        "data = [[\"Random Forest(Default)\",accuracy,recall,precision,auc,f1]] \r\n",
        "df = pd.DataFrame(data, columns = ['Model', 'Accuracy','Precision','Recall','AUC','F1'])\r\n",
        "\r\n",
        "df"
      ],
      "execution_count": 175,
      "outputs": [
        {
          "output_type": "execute_result",
          "data": {
            "text/html": [
              "<div>\n",
              "<style scoped>\n",
              "    .dataframe tbody tr th:only-of-type {\n",
              "        vertical-align: middle;\n",
              "    }\n",
              "\n",
              "    .dataframe tbody tr th {\n",
              "        vertical-align: top;\n",
              "    }\n",
              "\n",
              "    .dataframe thead th {\n",
              "        text-align: right;\n",
              "    }\n",
              "</style>\n",
              "<table border=\"1\" class=\"dataframe\">\n",
              "  <thead>\n",
              "    <tr style=\"text-align: right;\">\n",
              "      <th></th>\n",
              "      <th>Model</th>\n",
              "      <th>Accuracy</th>\n",
              "      <th>Precision</th>\n",
              "      <th>Recall</th>\n",
              "      <th>AUC</th>\n",
              "      <th>F1</th>\n",
              "    </tr>\n",
              "  </thead>\n",
              "  <tbody>\n",
              "    <tr>\n",
              "      <th>0</th>\n",
              "      <td>Random Forest(Default)</td>\n",
              "      <td>0.91</td>\n",
              "      <td>0.54</td>\n",
              "      <td>0.46</td>\n",
              "      <td>0.74</td>\n",
              "      <td>0.5</td>\n",
              "    </tr>\n",
              "  </tbody>\n",
              "</table>\n",
              "</div>"
            ],
            "text/plain": [
              "                    Model  Accuracy  Precision  Recall   AUC   F1\n",
              "0  Random Forest(Default)      0.91       0.54    0.46  0.74  0.5"
            ]
          },
          "metadata": {
            "tags": []
          },
          "execution_count": 175
        }
      ]
    },
    {
      "cell_type": "markdown",
      "metadata": {
        "id": "GVjahxOI0OV1"
      },
      "source": [
        "Hyper parameter tuning using RandomizedSearchCV"
      ]
    },
    {
      "cell_type": "code",
      "metadata": {
        "colab": {
          "base_uri": "https://localhost:8080/"
        },
        "id": "_2mmgPXv0NrU",
        "outputId": "e87bc724-1871-4554-8397-91cd79df8830"
      },
      "source": [
        "from sklearn.model_selection import RandomizedSearchCV\r\n",
        "from sklearn.ensemble import RandomForestClassifier\r\n",
        "n_estimators = [200]\r\n",
        "max_features = ['auto', 'sqrt']\r\n",
        "max_depth = [12,18]\r\n",
        "max_depth.append(None)\r\n",
        "min_samples_split = [10,20,30]\r\n",
        "min_samples_leaf = [10, 20]\r\n",
        "\r\n",
        "bootstrap= [True, False]\r\n",
        "\r\n",
        "random_grid = {'n_estimators': n_estimators,\r\n",
        "               'max_features': max_features,\r\n",
        "               'max_depth' : max_depth,\r\n",
        "               'min_samples_split': min_samples_split,\r\n",
        "               'min_samples_leaf' : min_samples_leaf,\r\n",
        "               'bootstrap' : bootstrap\r\n",
        "               }\r\n",
        "\r\n",
        "rf = RandomForestClassifier()\r\n",
        "\r\n",
        "rf_random = RandomizedSearchCV(estimator = rf, param_distributions = random_grid, n_iter=5, cv =2, verbose =2, random_state=100)\r\n",
        "\r\n",
        "rf_random.fit(x_train, y_train)\r\n",
        "\r\n",
        "print(rf_random.best_params_)"
      ],
      "execution_count": 176,
      "outputs": [
        {
          "output_type": "stream",
          "text": [
            "Fitting 2 folds for each of 5 candidates, totalling 10 fits\n",
            "[CV] n_estimators=200, min_samples_split=20, min_samples_leaf=10, max_features=sqrt, max_depth=18, bootstrap=False \n"
          ],
          "name": "stdout"
        },
        {
          "output_type": "stream",
          "text": [
            "[Parallel(n_jobs=1)]: Using backend SequentialBackend with 1 concurrent workers.\n"
          ],
          "name": "stderr"
        },
        {
          "output_type": "stream",
          "text": [
            "[CV]  n_estimators=200, min_samples_split=20, min_samples_leaf=10, max_features=sqrt, max_depth=18, bootstrap=False, total=  57.3s\n",
            "[CV] n_estimators=200, min_samples_split=20, min_samples_leaf=10, max_features=sqrt, max_depth=18, bootstrap=False \n"
          ],
          "name": "stdout"
        },
        {
          "output_type": "stream",
          "text": [
            "[Parallel(n_jobs=1)]: Done   1 out of   1 | elapsed:   57.3s remaining:    0.0s\n"
          ],
          "name": "stderr"
        },
        {
          "output_type": "stream",
          "text": [
            "[CV]  n_estimators=200, min_samples_split=20, min_samples_leaf=10, max_features=sqrt, max_depth=18, bootstrap=False, total=  56.3s\n",
            "[CV] n_estimators=200, min_samples_split=30, min_samples_leaf=20, max_features=sqrt, max_depth=12, bootstrap=True \n",
            "[CV]  n_estimators=200, min_samples_split=30, min_samples_leaf=20, max_features=sqrt, max_depth=12, bootstrap=True, total=  28.8s\n",
            "[CV] n_estimators=200, min_samples_split=30, min_samples_leaf=20, max_features=sqrt, max_depth=12, bootstrap=True \n",
            "[CV]  n_estimators=200, min_samples_split=30, min_samples_leaf=20, max_features=sqrt, max_depth=12, bootstrap=True, total=  28.7s\n",
            "[CV] n_estimators=200, min_samples_split=30, min_samples_leaf=10, max_features=sqrt, max_depth=None, bootstrap=True \n",
            "[CV]  n_estimators=200, min_samples_split=30, min_samples_leaf=10, max_features=sqrt, max_depth=None, bootstrap=True, total=  36.7s\n",
            "[CV] n_estimators=200, min_samples_split=30, min_samples_leaf=10, max_features=sqrt, max_depth=None, bootstrap=True \n",
            "[CV]  n_estimators=200, min_samples_split=30, min_samples_leaf=10, max_features=sqrt, max_depth=None, bootstrap=True, total=  35.5s\n",
            "[CV] n_estimators=200, min_samples_split=30, min_samples_leaf=10, max_features=auto, max_depth=None, bootstrap=True \n",
            "[CV]  n_estimators=200, min_samples_split=30, min_samples_leaf=10, max_features=auto, max_depth=None, bootstrap=True, total=  36.9s\n",
            "[CV] n_estimators=200, min_samples_split=30, min_samples_leaf=10, max_features=auto, max_depth=None, bootstrap=True \n",
            "[CV]  n_estimators=200, min_samples_split=30, min_samples_leaf=10, max_features=auto, max_depth=None, bootstrap=True, total=  36.0s\n",
            "[CV] n_estimators=200, min_samples_split=20, min_samples_leaf=20, max_features=auto, max_depth=None, bootstrap=True \n",
            "[CV]  n_estimators=200, min_samples_split=20, min_samples_leaf=20, max_features=auto, max_depth=None, bootstrap=True, total=  34.0s\n",
            "[CV] n_estimators=200, min_samples_split=20, min_samples_leaf=20, max_features=auto, max_depth=None, bootstrap=True \n",
            "[CV]  n_estimators=200, min_samples_split=20, min_samples_leaf=20, max_features=auto, max_depth=None, bootstrap=True, total=  33.2s\n"
          ],
          "name": "stdout"
        },
        {
          "output_type": "stream",
          "text": [
            "[Parallel(n_jobs=1)]: Done  10 out of  10 | elapsed:  6.4min finished\n"
          ],
          "name": "stderr"
        },
        {
          "output_type": "stream",
          "text": [
            "{'n_estimators': 200, 'min_samples_split': 20, 'min_samples_leaf': 10, 'max_features': 'sqrt', 'max_depth': 18, 'bootstrap': False}\n"
          ],
          "name": "stdout"
        }
      ]
    },
    {
      "cell_type": "markdown",
      "metadata": {
        "id": "XZN2wkd50Zgh"
      },
      "source": [
        "Now fit the model with tunned parameters "
      ]
    },
    {
      "cell_type": "code",
      "metadata": {
        "id": "SQjMXvEQ0Noh"
      },
      "source": [
        "clf = RandomForestClassifier(**rf_random.best_params_)\r\n",
        "\r\n",
        "clf.fit(x_train, y_train)\r\n",
        "\r\n",
        "# Making predictions\r\n",
        "y_test_pred = clf.predict(x_test)"
      ],
      "execution_count": 177,
      "outputs": []
    },
    {
      "cell_type": "code",
      "metadata": {
        "colab": {
          "base_uri": "https://localhost:8080/"
        },
        "id": "m5r2KPwF0Nl5",
        "outputId": "fe7c98a0-6b35-49f7-d96d-31eeeea61b9a"
      },
      "source": [
        "#Get the summary \r\n",
        "confusion = metrics.confusion_matrix(y_test, y_test_pred )\r\n",
        "confusion\r\n"
      ],
      "execution_count": 178,
      "outputs": [
        {
          "output_type": "execute_result",
          "data": {
            "text/plain": [
              "array([[7687,  569],\n",
              "       [ 291,  439]])"
            ]
          },
          "metadata": {
            "tags": []
          },
          "execution_count": 178
        }
      ]
    },
    {
      "cell_type": "code",
      "metadata": {
        "colab": {
          "base_uri": "https://localhost:8080/",
          "height": 80
        },
        "id": "HqqAnvRw0NjA",
        "outputId": "cd0a7b90-4045-40e0-ed4d-5cdc3bdddb78"
      },
      "source": [
        "accuracy = round(accuracy_score(y_test,y_test_pred),2)\r\n",
        "recall = round(recall_score(y_test,y_test_pred),2)\r\n",
        "precision = round(precision_score(y_test,y_test_pred),2)\r\n",
        "auc = round(roc_auc_score(y_test,y_test_pred),2)\r\n",
        "f1 = round(f1_score(y_test,y_test_pred),2)\r\n",
        "data = [[\"Random Forest(Tunned)\",accuracy,recall,precision,auc,f1]] \r\n",
        "df = pd.DataFrame(data, columns = ['Model', 'Accuracy','Precision','Recall','AUC','F1'])\r\n",
        "\r\n",
        "df"
      ],
      "execution_count": 180,
      "outputs": [
        {
          "output_type": "execute_result",
          "data": {
            "text/html": [
              "<div>\n",
              "<style scoped>\n",
              "    .dataframe tbody tr th:only-of-type {\n",
              "        vertical-align: middle;\n",
              "    }\n",
              "\n",
              "    .dataframe tbody tr th {\n",
              "        vertical-align: top;\n",
              "    }\n",
              "\n",
              "    .dataframe thead th {\n",
              "        text-align: right;\n",
              "    }\n",
              "</style>\n",
              "<table border=\"1\" class=\"dataframe\">\n",
              "  <thead>\n",
              "    <tr style=\"text-align: right;\">\n",
              "      <th></th>\n",
              "      <th>Model</th>\n",
              "      <th>Accuracy</th>\n",
              "      <th>Precision</th>\n",
              "      <th>Recall</th>\n",
              "      <th>AUC</th>\n",
              "      <th>F1</th>\n",
              "    </tr>\n",
              "  </thead>\n",
              "  <tbody>\n",
              "    <tr>\n",
              "      <th>0</th>\n",
              "      <td>Random Forest(Tunned)</td>\n",
              "      <td>0.9</td>\n",
              "      <td>0.6</td>\n",
              "      <td>0.44</td>\n",
              "      <td>0.77</td>\n",
              "      <td>0.51</td>\n",
              "    </tr>\n",
              "  </tbody>\n",
              "</table>\n",
              "</div>"
            ],
            "text/plain": [
              "                   Model  Accuracy  Precision  Recall   AUC    F1\n",
              "0  Random Forest(Tunned)       0.9        0.6    0.44  0.77  0.51"
            ]
          },
          "metadata": {
            "tags": []
          },
          "execution_count": 180
        }
      ]
    },
    {
      "cell_type": "markdown",
      "metadata": {
        "id": "m-0S-QPMyvvp"
      },
      "source": [
        "### XGBOOST\r\n",
        "\r\n",
        "Let's finally try XGBoost "
      ]
    },
    {
      "cell_type": "code",
      "metadata": {
        "id": "GmAbDdcryCs6"
      },
      "source": [
        "import xgboost as xgb\r\n",
        "from xgboost import XGBClassifier\r\n",
        "from xgboost import plot_importance\r\n",
        "from imblearn.over_sampling import SMOTE"
      ],
      "execution_count": 181,
      "outputs": []
    },
    {
      "cell_type": "code",
      "metadata": {
        "colab": {
          "base_uri": "https://localhost:8080/"
        },
        "id": "Clq5jH9iyzQb",
        "outputId": "d7fcdb5b-b74c-4f56-df79-9c377d307f73"
      },
      "source": [
        "#Check if data set is intact. \r\n",
        "x_train.shape"
      ],
      "execution_count": 182,
      "outputs": [
        {
          "output_type": "execute_result",
          "data": {
            "text/plain": [
              "(38528, 60)"
            ]
          },
          "metadata": {
            "tags": []
          },
          "execution_count": 182
        }
      ]
    },
    {
      "cell_type": "code",
      "metadata": {
        "colab": {
          "base_uri": "https://localhost:8080/"
        },
        "id": "i3WzgiJAy3dD",
        "outputId": "057dae50-2585-448c-d724-b65b1a1c1b4c"
      },
      "source": [
        "# fit model on training data with default hyperparameters\r\n",
        "model = XGBClassifier()\r\n",
        "model.fit(x_train, y_train)"
      ],
      "execution_count": 183,
      "outputs": [
        {
          "output_type": "execute_result",
          "data": {
            "text/plain": [
              "XGBClassifier(base_score=0.5, booster='gbtree', colsample_bylevel=1,\n",
              "              colsample_bynode=1, colsample_bytree=1, gamma=0,\n",
              "              learning_rate=0.1, max_delta_step=0, max_depth=3,\n",
              "              min_child_weight=1, missing=None, n_estimators=100, n_jobs=1,\n",
              "              nthread=None, objective='binary:logistic', random_state=0,\n",
              "              reg_alpha=0, reg_lambda=1, scale_pos_weight=1, seed=None,\n",
              "              silent=None, subsample=1, verbosity=1)"
            ]
          },
          "metadata": {
            "tags": []
          },
          "execution_count": 183
        }
      ]
    },
    {
      "cell_type": "code",
      "metadata": {
        "id": "v2msfK-2zX68"
      },
      "source": [
        "# evaluate predictions\r\n",
        "y_test_pred = model.predict(x_test)"
      ],
      "execution_count": 184,
      "outputs": []
    },
    {
      "cell_type": "code",
      "metadata": {
        "colab": {
          "base_uri": "https://localhost:8080/"
        },
        "id": "RSdcW4cVziTX",
        "outputId": "d19ae2fe-3e4f-4d0c-ac8f-6ac7be48e6fd"
      },
      "source": [
        "#Get the summary \r\n",
        "confusion = metrics.confusion_matrix(y_test, y_test_pred )\r\n",
        "confusion\r\n"
      ],
      "execution_count": 185,
      "outputs": [
        {
          "output_type": "execute_result",
          "data": {
            "text/plain": [
              "array([[7076, 1180],\n",
              "       [ 171,  559]])"
            ]
          },
          "metadata": {
            "tags": []
          },
          "execution_count": 185
        }
      ]
    },
    {
      "cell_type": "code",
      "metadata": {
        "colab": {
          "base_uri": "https://localhost:8080/",
          "height": 80
        },
        "id": "FR5YZ5SczvCr",
        "outputId": "6f42e3c5-3a26-41e8-eb34-c58744780e8c"
      },
      "source": [
        "accuracy = round(accuracy_score(y_test,y_test_pred),2)\r\n",
        "recall = round(recall_score(y_test,y_test_pred),2)\r\n",
        "precision = round(precision_score(y_test,y_test_pred),2)\r\n",
        "auc = round(roc_auc_score(y_test,y_test_pred),2)\r\n",
        "f1 = round(f1_score(y_test,y_test_pred),2)\r\n",
        "data = [[\"XGBoost(Default)\",accuracy,recall,precision,auc,f1]] \r\n",
        "df = pd.DataFrame(data, columns = ['Model', 'Accuracy','Precision','Recall','AUC','F1'])\r\n",
        "\r\n",
        "df"
      ],
      "execution_count": 186,
      "outputs": [
        {
          "output_type": "execute_result",
          "data": {
            "text/html": [
              "<div>\n",
              "<style scoped>\n",
              "    .dataframe tbody tr th:only-of-type {\n",
              "        vertical-align: middle;\n",
              "    }\n",
              "\n",
              "    .dataframe tbody tr th {\n",
              "        vertical-align: top;\n",
              "    }\n",
              "\n",
              "    .dataframe thead th {\n",
              "        text-align: right;\n",
              "    }\n",
              "</style>\n",
              "<table border=\"1\" class=\"dataframe\">\n",
              "  <thead>\n",
              "    <tr style=\"text-align: right;\">\n",
              "      <th></th>\n",
              "      <th>Model</th>\n",
              "      <th>Accuracy</th>\n",
              "      <th>Precision</th>\n",
              "      <th>Recall</th>\n",
              "      <th>AUC</th>\n",
              "      <th>F1</th>\n",
              "    </tr>\n",
              "  </thead>\n",
              "  <tbody>\n",
              "    <tr>\n",
              "      <th>0</th>\n",
              "      <td>XGBoost(Default)</td>\n",
              "      <td>0.85</td>\n",
              "      <td>0.77</td>\n",
              "      <td>0.32</td>\n",
              "      <td>0.81</td>\n",
              "      <td>0.45</td>\n",
              "    </tr>\n",
              "  </tbody>\n",
              "</table>\n",
              "</div>"
            ],
            "text/plain": [
              "              Model  Accuracy  Precision  Recall   AUC    F1\n",
              "0  XGBoost(Default)      0.85       0.77    0.32  0.81  0.45"
            ]
          },
          "metadata": {
            "tags": []
          },
          "execution_count": 186
        }
      ]
    },
    {
      "cell_type": "code",
      "metadata": {
        "id": "eFtp6JDnzzSj"
      },
      "source": [
        "# Lets tune the hyperparameters\r\n",
        "\r\n",
        "# creating a KFold object \r\n",
        "folds = 5\r\n",
        "\r\n",
        "# specify range of hyperparameters\r\n",
        "param_grid = {'learning_rate': [0.1,0.2,0.3], \r\n",
        "             'subsample': [0.3,0.4,0.5]}          \r\n",
        "\r\n",
        "\r\n",
        "# specify model\r\n",
        "xgb_model = XGBClassifier(max_depth=2, n_estimators=200)\r\n",
        "\r\n",
        "# set up GridSearchCV()\r\n",
        "model_cv = GridSearchCV(estimator = xgb_model, \r\n",
        "                        param_grid = param_grid, \r\n",
        "                        scoring= 'accuracy', # accuracy\r\n",
        "                        cv = folds, \r\n",
        "                        n_jobs = -1,\r\n",
        "                        verbose = 1,\r\n",
        "                        return_train_score=True)    \r\n"
      ],
      "execution_count": 187,
      "outputs": []
    },
    {
      "cell_type": "code",
      "metadata": {
        "colab": {
          "base_uri": "https://localhost:8080/"
        },
        "id": "8WWlcfdc3wgF",
        "outputId": "346aef35-b99d-44a3-c57b-577472cb2cf8"
      },
      "source": [
        "# fit the model\r\n",
        "model_cv.fit(x_train, y_train) "
      ],
      "execution_count": 188,
      "outputs": [
        {
          "output_type": "stream",
          "text": [
            "Fitting 5 folds for each of 9 candidates, totalling 45 fits\n"
          ],
          "name": "stdout"
        },
        {
          "output_type": "stream",
          "text": [
            "[Parallel(n_jobs=-1)]: Using backend LokyBackend with 2 concurrent workers.\n",
            "[Parallel(n_jobs=-1)]: Done  45 out of  45 | elapsed:  7.7min finished\n"
          ],
          "name": "stderr"
        },
        {
          "output_type": "execute_result",
          "data": {
            "text/plain": [
              "GridSearchCV(cv=5, error_score=nan,\n",
              "             estimator=XGBClassifier(base_score=0.5, booster='gbtree',\n",
              "                                     colsample_bylevel=1, colsample_bynode=1,\n",
              "                                     colsample_bytree=1, gamma=0,\n",
              "                                     learning_rate=0.1, max_delta_step=0,\n",
              "                                     max_depth=2, min_child_weight=1,\n",
              "                                     missing=None, n_estimators=200, n_jobs=1,\n",
              "                                     nthread=None, objective='binary:logistic',\n",
              "                                     random_state=0, reg_alpha=0, reg_lambda=1,\n",
              "                                     scale_pos_weight=1, seed=None, silent=None,\n",
              "                                     subsample=1, verbosity=1),\n",
              "             iid='deprecated', n_jobs=-1,\n",
              "             param_grid={'learning_rate': [0.1, 0.2, 0.3],\n",
              "                         'subsample': [0.3, 0.4, 0.5]},\n",
              "             pre_dispatch='2*n_jobs', refit=True, return_train_score=True,\n",
              "             scoring='accuracy', verbose=1)"
            ]
          },
          "metadata": {
            "tags": []
          },
          "execution_count": 188
        }
      ]
    },
    {
      "cell_type": "code",
      "metadata": {
        "id": "K5x2cy0p30Ww"
      },
      "source": [
        "# cv results\r\n",
        "cv_results_xboost = pd.DataFrame(model_cv.cv_results_)\r\n",
        "cv_results_xboost['param_learning_rate'] = cv_results_xboost['param_learning_rate'].astype('float')"
      ],
      "execution_count": 189,
      "outputs": []
    },
    {
      "cell_type": "code",
      "metadata": {
        "colab": {
          "base_uri": "https://localhost:8080/"
        },
        "id": "0ZUV9t-U6Akr",
        "outputId": "a6b96e35-7dcf-4df9-e258-26fc9602456b"
      },
      "source": [
        "# Accuracy \r\n",
        "\r\n",
        "print('The accuracy after hyperparamter tunning **'+str(round(model_cv.best_score_,2))+'** using '+str(model_cv.best_params_))"
      ],
      "execution_count": 190,
      "outputs": [
        {
          "output_type": "stream",
          "text": [
            "The accuracy after hyperparamter tunning **0.88** using {'learning_rate': 0.3, 'subsample': 0.5}\n"
          ],
          "name": "stdout"
        }
      ]
    },
    {
      "cell_type": "code",
      "metadata": {
        "id": "nEU_bClm6OSj"
      },
      "source": [
        "def plot_for_xboost(param_grid,cv_results):\r\n",
        "    plt.figure(figsize=(18,5))\r\n",
        "    for n, subsample in enumerate(param_grid['subsample']):\r\n",
        "        # subplot 1/n\r\n",
        "        plt.subplot(1,len(param_grid['subsample']), n+1)\r\n",
        "        df = cv_results[cv_results['param_subsample']==subsample]\r\n",
        "\r\n",
        "        plt.plot(df[\"param_learning_rate\"], df[\"mean_test_score\"])\r\n",
        "        plt.plot(df[\"param_learning_rate\"], df[\"mean_train_score\"])\r\n",
        "        plt.xlabel('learning_rate')\r\n",
        "        plt.ylabel('AUC')\r\n",
        "        plt.title(\"subsample={0}\".format(subsample))\r\n",
        "        plt.ylim([0.60, 1])\r\n",
        "        plt.legend(['test score', 'train score'], loc='right left')\r\n",
        "        plt.xscale('log')"
      ],
      "execution_count": 191,
      "outputs": []
    },
    {
      "cell_type": "code",
      "metadata": {
        "colab": {
          "base_uri": "https://localhost:8080/",
          "height": 349
        },
        "id": "GD5ZETXU6SkN",
        "outputId": "4dc4f822-a6fb-448e-e120-3411d4f7215d"
      },
      "source": [
        "param_grid1 = {'learning_rate': [0.1,0.2,0.3], 'subsample': [0.3,0.4,0.5]}  \r\n",
        "plot_for_xboost(param_grid1,cv_results_xboost)"
      ],
      "execution_count": 192,
      "outputs": [
        {
          "output_type": "display_data",
          "data": {
            "image/png": "[encoded data removed]",
            "text/plain": [
              "<Figure size 1296x360 with 3 Axes>"
            ]
          },
          "metadata": {
            "tags": []
          }
        }
      ]
    },
    {
      "cell_type": "markdown",
      "metadata": {
        "id": "lTcdr3Co7Hey"
      },
      "source": [
        "The results shows that the sub sample 0.5 and learning rate .3 is optimium."
      ]
    },
    {
      "cell_type": "code",
      "metadata": {
        "colab": {
          "base_uri": "https://localhost:8080/"
        },
        "id": "miEJCU_66c9k",
        "outputId": "e6d398f1-476a-4df2-d67b-51e9a60a9d06"
      },
      "source": [
        "params = {'learning_rate': 0.3,\r\n",
        "          'max_depth': 2, \r\n",
        "          'n_estimators':200,\r\n",
        "          'subsample':0.5,\r\n",
        "         'objective':'binary:logistic'}\r\n",
        "\r\n",
        "# fit model on training data\r\n",
        "model = XGBClassifier(params = params,max_depth=2, n_estimators=200)\r\n",
        "model.fit(x_train, y_train)"
      ],
      "execution_count": 194,
      "outputs": [
        {
          "output_type": "execute_result",
          "data": {
            "text/plain": [
              "XGBClassifier(base_score=0.5, booster='gbtree', colsample_bylevel=1,\n",
              "              colsample_bynode=1, colsample_bytree=1, gamma=0,\n",
              "              learning_rate=0.1, max_delta_step=0, max_depth=2,\n",
              "              min_child_weight=1, missing=None, n_estimators=200, n_jobs=1,\n",
              "              nthread=None, objective='binary:logistic',\n",
              "              params={'learning_rate': 0.3, 'max_depth': 2, 'n_estimators': 200,\n",
              "                      'objective': 'binary:logistic', 'subsample': 0.5},\n",
              "              random_state=0, reg_alpha=0, reg_lambda=1, scale_pos_weight=1,\n",
              "              seed=None, silent=None, subsample=1, verbosity=1)"
            ]
          },
          "metadata": {
            "tags": []
          },
          "execution_count": 194
        }
      ]
    },
    {
      "cell_type": "code",
      "metadata": {
        "id": "qf10Wu4N7FTq"
      },
      "source": [
        "# predict\r\n",
        "y_test_pred = model.predict(x_test)"
      ],
      "execution_count": 196,
      "outputs": []
    },
    {
      "cell_type": "code",
      "metadata": {
        "colab": {
          "base_uri": "https://localhost:8080/"
        },
        "id": "WZ_2_0K17Qm8",
        "outputId": "c14c8dd0-58a5-4188-ecd8-a6d21d93e997"
      },
      "source": [
        "#Get the summary \r\n",
        "confusion = metrics.confusion_matrix(y_test, y_test_pred )\r\n",
        "confusion"
      ],
      "execution_count": 197,
      "outputs": [
        {
          "output_type": "execute_result",
          "data": {
            "text/plain": [
              "array([[7044, 1212],\n",
              "       [ 175,  555]])"
            ]
          },
          "metadata": {
            "tags": []
          },
          "execution_count": 197
        }
      ]
    },
    {
      "cell_type": "code",
      "metadata": {
        "colab": {
          "base_uri": "https://localhost:8080/",
          "height": 80
        },
        "id": "lSD7n8xI7WnV",
        "outputId": "fdc6ff53-2ed2-44af-b320-bf7770e14c26"
      },
      "source": [
        "accuracy = round(accuracy_score(y_test,y_test_pred),2)\r\n",
        "recall = round(recall_score(y_test,y_test_pred),2)\r\n",
        "precision = round(precision_score(y_test,y_test_pred),2)\r\n",
        "auc = round(roc_auc_score(y_test,y_test_pred),2)\r\n",
        "f1 = round(f1_score(y_test,y_test_pred),2)\r\n",
        "data = [[\"XGBoost(tunned)\",accuracy,recall,precision,auc,f1]] \r\n",
        "df = pd.DataFrame(data, columns = ['Model', 'Accuracy','Precision','Recall','AUC','F1'])\r\n",
        "\r\n",
        "df"
      ],
      "execution_count": 199,
      "outputs": [
        {
          "output_type": "execute_result",
          "data": {
            "text/html": [
              "<div>\n",
              "<style scoped>\n",
              "    .dataframe tbody tr th:only-of-type {\n",
              "        vertical-align: middle;\n",
              "    }\n",
              "\n",
              "    .dataframe tbody tr th {\n",
              "        vertical-align: top;\n",
              "    }\n",
              "\n",
              "    .dataframe thead th {\n",
              "        text-align: right;\n",
              "    }\n",
              "</style>\n",
              "<table border=\"1\" class=\"dataframe\">\n",
              "  <thead>\n",
              "    <tr style=\"text-align: right;\">\n",
              "      <th></th>\n",
              "      <th>Model</th>\n",
              "      <th>Accuracy</th>\n",
              "      <th>Precision</th>\n",
              "      <th>Recall</th>\n",
              "      <th>AUC</th>\n",
              "      <th>F1</th>\n",
              "    </tr>\n",
              "  </thead>\n",
              "  <tbody>\n",
              "    <tr>\n",
              "      <th>0</th>\n",
              "      <td>XGBoost(tunned)</td>\n",
              "      <td>0.85</td>\n",
              "      <td>0.76</td>\n",
              "      <td>0.31</td>\n",
              "      <td>0.81</td>\n",
              "      <td>0.44</td>\n",
              "    </tr>\n",
              "  </tbody>\n",
              "</table>\n",
              "</div>"
            ],
            "text/plain": [
              "             Model  Accuracy  Precision  Recall   AUC    F1\n",
              "0  XGBoost(tunned)      0.85       0.76    0.31  0.81  0.44"
            ]
          },
          "metadata": {
            "tags": []
          },
          "execution_count": 199
        }
      ]
    },
    {
      "cell_type": "markdown",
      "metadata": {
        "id": "MCEuCxw0-0Xc"
      },
      "source": [
        "### Important features ..."
      ]
    },
    {
      "cell_type": "code",
      "metadata": {
        "colab": {
          "base_uri": "https://localhost:8080/",
          "height": 262
        },
        "id": "VtDw6Dyn_34w",
        "outputId": "a16c955a-4959-46e0-fd02-9cb8d4164106"
      },
      "source": [
        "# plot\r\n",
        "plt.bar(range(len(model.feature_importances_)), model.feature_importances_)\r\n",
        "plt.show()"
      ],
      "execution_count": 201,
      "outputs": [
        {
          "output_type": "display_data",
          "data": {
            "image/png": "[encoded data removed]",
            "text/plain": [
              "<Figure size 432x288 with 1 Axes>"
            ]
          },
          "metadata": {
            "tags": []
          }
        }
      ]
    },
    {
      "cell_type": "code",
      "metadata": {
        "colab": {
          "base_uri": "https://localhost:8080/",
          "height": 514
        },
        "id": "UMnbv9Ed7jGO",
        "outputId": "3a9263b8-0ed3-421d-f680-35f00404e5a6"
      },
      "source": [
        "#Top 15 features are having high importance\r\n",
        "col = list(X_after_scale.columns)\r\n",
        "df_pca = pd.DataFrame({'PC1':pca.components_[0],'PC2':pca.components_[1], 'PC3':pca.components_[2],'Feature':col})\r\n",
        "df_pca.head(15)"
      ],
      "execution_count": 202,
      "outputs": [
        {
          "output_type": "execute_result",
          "data": {
            "text/html": [
              "<div>\n",
              "<style scoped>\n",
              "    .dataframe tbody tr th:only-of-type {\n",
              "        vertical-align: middle;\n",
              "    }\n",
              "\n",
              "    .dataframe tbody tr th {\n",
              "        vertical-align: top;\n",
              "    }\n",
              "\n",
              "    .dataframe thead th {\n",
              "        text-align: right;\n",
              "    }\n",
              "</style>\n",
              "<table border=\"1\" class=\"dataframe\">\n",
              "  <thead>\n",
              "    <tr style=\"text-align: right;\">\n",
              "      <th></th>\n",
              "      <th>PC1</th>\n",
              "      <th>PC2</th>\n",
              "      <th>PC3</th>\n",
              "      <th>Feature</th>\n",
              "    </tr>\n",
              "  </thead>\n",
              "  <tbody>\n",
              "    <tr>\n",
              "      <th>0</th>\n",
              "      <td>0.292495</td>\n",
              "      <td>0.025014</td>\n",
              "      <td>-0.095534</td>\n",
              "      <td>arpu_8</td>\n",
              "    </tr>\n",
              "    <tr>\n",
              "      <th>1</th>\n",
              "      <td>0.120938</td>\n",
              "      <td>-0.086469</td>\n",
              "      <td>-0.099205</td>\n",
              "      <td>onnet_mou_8</td>\n",
              "    </tr>\n",
              "    <tr>\n",
              "      <th>2</th>\n",
              "      <td>0.189409</td>\n",
              "      <td>-0.064994</td>\n",
              "      <td>-0.123546</td>\n",
              "      <td>offnet_mou_8</td>\n",
              "    </tr>\n",
              "    <tr>\n",
              "      <th>3</th>\n",
              "      <td>0.147558</td>\n",
              "      <td>-0.069671</td>\n",
              "      <td>0.353416</td>\n",
              "      <td>roam_ic_mou_8</td>\n",
              "    </tr>\n",
              "    <tr>\n",
              "      <th>4</th>\n",
              "      <td>0.205558</td>\n",
              "      <td>-0.086582</td>\n",
              "      <td>0.349079</td>\n",
              "      <td>roam_og_mou_8</td>\n",
              "    </tr>\n",
              "    <tr>\n",
              "      <th>5</th>\n",
              "      <td>0.076064</td>\n",
              "      <td>0.001001</td>\n",
              "      <td>-0.082269</td>\n",
              "      <td>loc_og_t2t_mou_8</td>\n",
              "    </tr>\n",
              "    <tr>\n",
              "      <th>6</th>\n",
              "      <td>0.143748</td>\n",
              "      <td>0.023615</td>\n",
              "      <td>-0.130816</td>\n",
              "      <td>loc_og_t2m_mou_8</td>\n",
              "    </tr>\n",
              "    <tr>\n",
              "      <th>7</th>\n",
              "      <td>0.081554</td>\n",
              "      <td>0.032649</td>\n",
              "      <td>-0.045311</td>\n",
              "      <td>loc_og_t2f_mou_8</td>\n",
              "    </tr>\n",
              "    <tr>\n",
              "      <th>8</th>\n",
              "      <td>0.029435</td>\n",
              "      <td>-0.011421</td>\n",
              "      <td>-0.052527</td>\n",
              "      <td>loc_og_t2c_mou_8</td>\n",
              "    </tr>\n",
              "    <tr>\n",
              "      <th>9</th>\n",
              "      <td>0.073058</td>\n",
              "      <td>-0.091261</td>\n",
              "      <td>-0.104763</td>\n",
              "      <td>std_og_t2t_mou_8</td>\n",
              "    </tr>\n",
              "    <tr>\n",
              "      <th>10</th>\n",
              "      <td>0.096694</td>\n",
              "      <td>-0.078664</td>\n",
              "      <td>-0.114909</td>\n",
              "      <td>std_og_t2m_mou_8</td>\n",
              "    </tr>\n",
              "    <tr>\n",
              "      <th>11</th>\n",
              "      <td>0.042991</td>\n",
              "      <td>0.010527</td>\n",
              "      <td>-0.008536</td>\n",
              "      <td>std_og_t2f_mou_8</td>\n",
              "    </tr>\n",
              "    <tr>\n",
              "      <th>12</th>\n",
              "      <td>0.073468</td>\n",
              "      <td>0.003727</td>\n",
              "      <td>-0.027653</td>\n",
              "      <td>isd_og_mou_8</td>\n",
              "    </tr>\n",
              "    <tr>\n",
              "      <th>13</th>\n",
              "      <td>0.044296</td>\n",
              "      <td>-0.015012</td>\n",
              "      <td>-0.090996</td>\n",
              "      <td>spl_og_mou_8</td>\n",
              "    </tr>\n",
              "    <tr>\n",
              "      <th>14</th>\n",
              "      <td>0.068046</td>\n",
              "      <td>-0.009916</td>\n",
              "      <td>-0.047307</td>\n",
              "      <td>og_others_8</td>\n",
              "    </tr>\n",
              "  </tbody>\n",
              "</table>\n",
              "</div>"
            ],
            "text/plain": [
              "         PC1       PC2       PC3           Feature\n",
              "0   0.292495  0.025014 -0.095534            arpu_8\n",
              "1   0.120938 -0.086469 -0.099205       onnet_mou_8\n",
              "2   0.189409 -0.064994 -0.123546      offnet_mou_8\n",
              "3   0.147558 -0.069671  0.353416     roam_ic_mou_8\n",
              "4   0.205558 -0.086582  0.349079     roam_og_mou_8\n",
              "5   0.076064  0.001001 -0.082269  loc_og_t2t_mou_8\n",
              "6   0.143748  0.023615 -0.130816  loc_og_t2m_mou_8\n",
              "7   0.081554  0.032649 -0.045311  loc_og_t2f_mou_8\n",
              "8   0.029435 -0.011421 -0.052527  loc_og_t2c_mou_8\n",
              "9   0.073058 -0.091261 -0.104763  std_og_t2t_mou_8\n",
              "10  0.096694 -0.078664 -0.114909  std_og_t2m_mou_8\n",
              "11  0.042991  0.010527 -0.008536  std_og_t2f_mou_8\n",
              "12  0.073468  0.003727 -0.027653      isd_og_mou_8\n",
              "13  0.044296 -0.015012 -0.090996      spl_og_mou_8\n",
              "14  0.068046 -0.009916 -0.047307       og_others_8"
            ]
          },
          "metadata": {
            "tags": []
          },
          "execution_count": 202
        }
      ]
    },
    {
      "cell_type": "code",
      "metadata": {
        "colab": {
          "base_uri": "https://localhost:8080/",
          "height": 504
        },
        "id": "9DlitTjL_WMG",
        "outputId": "1ce899c0-a282-4335-8c14-2a9f9eea45e0"
      },
      "source": [
        "df_aon.plot(kind='bar',stacked='True',figsize=(16,8))\r\n",
        "plt.title('Customer distribution across years for different churns')\r\n",
        "plt.ylabel('No. of customers')\r\n",
        "plt.style.use('seaborn-darkgrid')\r\n",
        "plt.show()"
      ],
      "execution_count": 203,
      "outputs": [
        {
          "output_type": "display_data",
          "data": {
            "image/png": "[encoded data removed]",
            "text/plain": [
              "<Figure size 1152x576 with 1 Axes>"
            ]
          },
          "metadata": {
            "tags": []
          }
        }
      ]
    },
    {
      "cell_type": "markdown",
      "metadata": {
        "id": "E_X4gtPfAMWR"
      },
      "source": [
        "**Recommendations to Business**"
      ]
    },
    {
      "cell_type": "markdown",
      "metadata": {
        "id": "hZDdE9KHAowJ"
      },
      "source": [
        "1. The customers who have tenure of less than 3-4 years are more likely to churn. Company should provide some schemes to retain the recently joined customers."
      ]
    },
    {
      "cell_type": "markdown",
      "metadata": {
        "id": "SuCE1bDMAutd"
      },
      "source": [
        "3. The churn prediction is highly depends on Average Revenue Per User. Company should check with customer for his/her problems."
      ]
    },
    {
      "cell_type": "markdown",
      "metadata": {
        "id": "LeZlEhoWAzY4"
      },
      "source": [
        "4. The churn behaviour is indecated by Incoming Outgoing and Roaming for the 8th Months. Compoany should relook the policy of roaming call charges."
      ]
    },
    {
      "cell_type": "markdown",
      "metadata": {
        "id": "VC-sz_h0A4T6"
      },
      "source": [
        "5. Local Outgoing calls made to landline , fixedline , mobile and call center provides a strong indicator of churn behaviour."
      ]
    },
    {
      "cell_type": "markdown",
      "metadata": {
        "id": "l-YGCAqGA9tN"
      },
      "source": [
        "6. The customers who are struggling with 2G/3G coverage are more likely to churn. Company should consider checking the network coverage of respective customers."
      ]
    },
    {
      "cell_type": "code",
      "metadata": {
        "id": "hCOfsMTcEJ_U"
      },
      "source": [
        ""
      ],
      "execution_count": null,
      "outputs": []
    }
  ]
}